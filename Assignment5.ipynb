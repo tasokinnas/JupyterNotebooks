{
 "cells": [
  {
   "cell_type": "markdown",
   "metadata": {},
   "source": [
    "# Assignment 4: Fun with words\n",
    "## CS 533: Intro to Data Science\n",
    "Kevin Kirchoff<br>\n",
    "Taso Kinnas"
   ]
  },
  {
   "cell_type": "markdown",
   "metadata": {},
   "source": [
    "## Load Libraries"
   ]
  },
  {
   "cell_type": "code",
   "execution_count": 1,
   "metadata": {},
   "outputs": [
    {
     "name": "stderr",
     "output_type": "stream",
     "text": [
      "Loading tidyverse: ggplot2\n",
      "Loading tidyverse: tibble\n",
      "Loading tidyverse: tidyr\n",
      "Loading tidyverse: readr\n",
      "Loading tidyverse: purrr\n",
      "Loading tidyverse: dplyr\n",
      "Conflicts with tidy packages ---------------------------------------------------\n",
      "filter(): dplyr, stats\n",
      "lag():    dplyr, stats\n",
      "\n",
      "Attaching package: 'dbplyr'\n",
      "\n",
      "The following objects are masked from 'package:dplyr':\n",
      "\n",
      "    ident, sql\n",
      "\n"
     ]
    }
   ],
   "source": [
    "library(tidyverse)\n",
    "library(dbplyr)\n",
    "library(tidytext)\n",
    "#install.packages(\"RSQLite\",repos = \"http://cran.us.r-project.org\")\n",
    "library(plotROC)"
   ]
  },
  {
   "cell_type": "markdown",
   "metadata": {},
   "source": [
    "## Load Data"
   ]
  },
  {
   "cell_type": "code",
   "execution_count": 2,
   "metadata": {},
   "outputs": [],
   "source": [
    "db = src_sqlite(\"data/academic-journals/ejc-trimmed.db\")\n",
    "data(stop_words)"
   ]
  },
  {
   "cell_type": "code",
   "execution_count": 3,
   "metadata": {},
   "outputs": [],
   "source": [
    "articles = db %>% tbl(\"articles\")\n",
    "journals = db %>% tbl(\"journals\")"
   ]
  },
  {
   "cell_type": "markdown",
   "metadata": {},
   "source": [
    "## Preliminary Exploration"
   ]
  },
  {
   "cell_type": "markdown",
   "metadata": {},
   "source": [
    "### 1. Plot a use-by-rank distribution of the words used in the corpus, separately for each journal. You should see a Ziph distribution, like in Text Mining."
   ]
  },
  {
   "cell_type": "code",
   "execution_count": 4,
   "metadata": {},
   "outputs": [
    {
     "name": "stderr",
     "output_type": "stream",
     "text": [
      "Joining, by = \"jnl_id\"\n",
      "Joining, by = \"word\"\n"
     ]
    },
    {
     "data": {
      "text/html": [
       "<table>\n",
       "<thead><tr><th scope=col>name</th><th scope=col>article_id</th><th scope=col>journal</th><th scope=col>year</th><th scope=col>word</th></tr></thead>\n",
       "<tbody>\n",
       "\t<tr><td>AmPhil                                            </td><td>635                                               </td><td>Transactions of the American Philosophical Society</td><td>1895                                              </td><td>american                                          </td></tr>\n",
       "\t<tr><td>AmPhil                                            </td><td>635                                               </td><td>Transactions of the American Philosophical Society</td><td>1895                                              </td><td>ph                                                </td></tr>\n",
       "\t<tr><td>AmPhil                                            </td><td>635                                               </td><td>Transactions of the American Philosophical Society</td><td>1895                                              </td><td>ilosoph                                           </td></tr>\n",
       "\t<tr><td>AmPhil                                            </td><td>635                                               </td><td>Transactions of the American Philosophical Society</td><td>1895                                              </td><td>ical                                              </td></tr>\n",
       "\t<tr><td>AmPhil                                            </td><td>635                                               </td><td>Transactions of the American Philosophical Society</td><td>1895                                              </td><td>society                                           </td></tr>\n",
       "\t<tr><td>AmPhil                                            </td><td>635                                               </td><td>Transactions of the American Philosophical Society</td><td>1895                                              </td><td>held                                              </td></tr>\n",
       "</tbody>\n",
       "</table>\n"
      ],
      "text/latex": [
       "\\begin{tabular}{r|lllll}\n",
       " name & article\\_id & journal & year & word\\\\\n",
       "\\hline\n",
       "\t AmPhil                                             & 635                                                & Transactions of the American Philosophical Society & 1895                                               & american                                          \\\\\n",
       "\t AmPhil                                             & 635                                                & Transactions of the American Philosophical Society & 1895                                               & ph                                                \\\\\n",
       "\t AmPhil                                             & 635                                                & Transactions of the American Philosophical Society & 1895                                               & ilosoph                                           \\\\\n",
       "\t AmPhil                                             & 635                                                & Transactions of the American Philosophical Society & 1895                                               & ical                                              \\\\\n",
       "\t AmPhil                                             & 635                                                & Transactions of the American Philosophical Society & 1895                                               & society                                           \\\\\n",
       "\t AmPhil                                             & 635                                                & Transactions of the American Philosophical Society & 1895                                               & held                                              \\\\\n",
       "\\end{tabular}\n"
      ],
      "text/markdown": [
       "\n",
       "name | article_id | journal | year | word | \n",
       "|---|---|---|---|---|---|\n",
       "| AmPhil                                             | 635                                                | Transactions of the American Philosophical Society | 1895                                               | american                                           | \n",
       "| AmPhil                                             | 635                                                | Transactions of the American Philosophical Society | 1895                                               | ph                                                 | \n",
       "| AmPhil                                             | 635                                                | Transactions of the American Philosophical Society | 1895                                               | ilosoph                                            | \n",
       "| AmPhil                                             | 635                                                | Transactions of the American Philosophical Society | 1895                                               | ical                                               | \n",
       "| AmPhil                                             | 635                                                | Transactions of the American Philosophical Society | 1895                                               | society                                            | \n",
       "| AmPhil                                             | 635                                                | Transactions of the American Philosophical Society | 1895                                               | held                                               | \n",
       "\n",
       "\n"
      ],
      "text/plain": [
       "  name   article_id journal                                            year\n",
       "1 AmPhil 635        Transactions of the American Philosophical Society 1895\n",
       "2 AmPhil 635        Transactions of the American Philosophical Society 1895\n",
       "3 AmPhil 635        Transactions of the American Philosophical Society 1895\n",
       "4 AmPhil 635        Transactions of the American Philosophical Society 1895\n",
       "5 AmPhil 635        Transactions of the American Philosophical Society 1895\n",
       "6 AmPhil 635        Transactions of the American Philosophical Society 1895\n",
       "  word    \n",
       "1 american\n",
       "2 ph      \n",
       "3 ilosoph \n",
       "4 ical    \n",
       "5 society \n",
       "6 held    "
      ]
     },
     "metadata": {},
     "output_type": "display_data"
    }
   ],
   "source": [
    "# Tokenize the words\n",
    "journal_df = db %>% tbl(\"journals\") %>%\n",
    "    inner_join(db %>% tbl(\"articles\")) %>%\n",
    "    filter(year >= 1895 && year <= 1905) %>%\n",
    "    select(name, article_id, journal, year, text) %>%\n",
    "    collect() %>%\n",
    "    unnest_tokens(word, text)\n",
    "\n",
    "# remove stop words\n",
    "# (common words that very likely won't tell us anything)\n",
    "journal_df = journal_df %>%\n",
    "    anti_join(stop_words)\n",
    "\n",
    "head(journal_df)"
   ]
  },
  {
   "cell_type": "code",
   "execution_count": 5,
   "metadata": {},
   "outputs": [
    {
     "data": {
      "text/html": [
       "<table>\n",
       "<thead><tr><th scope=col>name</th><th scope=col>journal</th><th scope=col>word</th><th scope=col>n</th></tr></thead>\n",
       "<tbody>\n",
       "\t<tr><td>Science   </td><td>Science   </td><td>science   </td><td>55848     </td></tr>\n",
       "\t<tr><td>Science   </td><td>Science   </td><td>professor </td><td>47311     </td></tr>\n",
       "\t<tr><td>Science   </td><td>Science   </td><td>university</td><td>41909     </td></tr>\n",
       "\t<tr><td>Science   </td><td>Science   </td><td>dr        </td><td>38139     </td></tr>\n",
       "\t<tr><td>Science   </td><td>Science   </td><td>time      </td><td>23584     </td></tr>\n",
       "\t<tr><td>Science   </td><td>Science   </td><td>scientific</td><td>21730     </td></tr>\n",
       "</tbody>\n",
       "</table>\n"
      ],
      "text/latex": [
       "\\begin{tabular}{r|llll}\n",
       " name & journal & word & n\\\\\n",
       "\\hline\n",
       "\t Science    & Science    & science    & 55848     \\\\\n",
       "\t Science    & Science    & professor  & 47311     \\\\\n",
       "\t Science    & Science    & university & 41909     \\\\\n",
       "\t Science    & Science    & dr         & 38139     \\\\\n",
       "\t Science    & Science    & time       & 23584     \\\\\n",
       "\t Science    & Science    & scientific & 21730     \\\\\n",
       "\\end{tabular}\n"
      ],
      "text/markdown": [
       "\n",
       "name | journal | word | n | \n",
       "|---|---|---|---|---|---|\n",
       "| Science    | Science    | science    | 55848      | \n",
       "| Science    | Science    | professor  | 47311      | \n",
       "| Science    | Science    | university | 41909      | \n",
       "| Science    | Science    | dr         | 38139      | \n",
       "| Science    | Science    | time       | 23584      | \n",
       "| Science    | Science    | scientific | 21730      | \n",
       "\n",
       "\n"
      ],
      "text/plain": [
       "  name    journal word       n    \n",
       "1 Science Science science    55848\n",
       "2 Science Science professor  47311\n",
       "3 Science Science university 41909\n",
       "4 Science Science dr         38139\n",
       "5 Science Science time       23584\n",
       "6 Science Science scientific 21730"
      ]
     },
     "metadata": {},
     "output_type": "display_data"
    },
    {
     "data": {
      "text/html": [
       "<table>\n",
       "<thead><tr><th scope=col>year</th><th scope=col>name</th><th scope=col>journal</th><th scope=col>word</th><th scope=col>n</th></tr></thead>\n",
       "<tbody>\n",
       "\t<tr><td>1902      </td><td>Science   </td><td>Science   </td><td>science   </td><td>6441      </td></tr>\n",
       "\t<tr><td>1901      </td><td>Science   </td><td>Science   </td><td>science   </td><td>6329      </td></tr>\n",
       "\t<tr><td>1901      </td><td>Science   </td><td>Science   </td><td>professor </td><td>6270      </td></tr>\n",
       "\t<tr><td>1901      </td><td>Science   </td><td>Science   </td><td>university</td><td>5685      </td></tr>\n",
       "\t<tr><td>1897      </td><td>Science   </td><td>Science   </td><td>science   </td><td>5446      </td></tr>\n",
       "\t<tr><td>1896      </td><td>Science   </td><td>Science   </td><td>science   </td><td>5329      </td></tr>\n",
       "</tbody>\n",
       "</table>\n"
      ],
      "text/latex": [
       "\\begin{tabular}{r|lllll}\n",
       " year & name & journal & word & n\\\\\n",
       "\\hline\n",
       "\t 1902       & Science    & Science    & science    & 6441      \\\\\n",
       "\t 1901       & Science    & Science    & science    & 6329      \\\\\n",
       "\t 1901       & Science    & Science    & professor  & 6270      \\\\\n",
       "\t 1901       & Science    & Science    & university & 5685      \\\\\n",
       "\t 1897       & Science    & Science    & science    & 5446      \\\\\n",
       "\t 1896       & Science    & Science    & science    & 5329      \\\\\n",
       "\\end{tabular}\n"
      ],
      "text/markdown": [
       "\n",
       "year | name | journal | word | n | \n",
       "|---|---|---|---|---|---|\n",
       "| 1902       | Science    | Science    | science    | 6441       | \n",
       "| 1901       | Science    | Science    | science    | 6329       | \n",
       "| 1901       | Science    | Science    | professor  | 6270       | \n",
       "| 1901       | Science    | Science    | university | 5685       | \n",
       "| 1897       | Science    | Science    | science    | 5446       | \n",
       "| 1896       | Science    | Science    | science    | 5329       | \n",
       "\n",
       "\n"
      ],
      "text/plain": [
       "  year name    journal word       n   \n",
       "1 1902 Science Science science    6441\n",
       "2 1901 Science Science science    6329\n",
       "3 1901 Science Science professor  6270\n",
       "4 1901 Science Science university 5685\n",
       "5 1897 Science Science science    5446\n",
       "6 1896 Science Science science    5329"
      ]
     },
     "metadata": {},
     "output_type": "display_data"
    }
   ],
   "source": [
    "# count of words by journal\n",
    "journal_words = journal_df %>% \n",
    "    count(name, journal, word, sort=TRUE) %>%\n",
    "    ungroup()\n",
    "head(journal_words)\n",
    "\n",
    "# count of words by journal and year\n",
    "journal_words2 = journal_df %>% \n",
    "    count(year, name, journal, word, sort=TRUE) %>%\n",
    "    ungroup()\n",
    "head(journal_words2)"
   ]
  },
  {
   "cell_type": "code",
   "execution_count": 6,
   "metadata": {},
   "outputs": [
    {
     "data": {
      "text/html": [
       "<table>\n",
       "<thead><tr><th scope=col>name</th><th scope=col>total</th></tr></thead>\n",
       "<tbody>\n",
       "\t<tr><td>AdvPeace</td><td>1191251 </td></tr>\n",
       "\t<tr><td>AmPhil  </td><td> 317543 </td></tr>\n",
       "\t<tr><td>AmRev   </td><td>3150211 </td></tr>\n",
       "\t<tr><td>Science </td><td>8368026 </td></tr>\n",
       "</tbody>\n",
       "</table>\n"
      ],
      "text/latex": [
       "\\begin{tabular}{r|ll}\n",
       " name & total\\\\\n",
       "\\hline\n",
       "\t AdvPeace & 1191251 \\\\\n",
       "\t AmPhil   &  317543 \\\\\n",
       "\t AmRev    & 3150211 \\\\\n",
       "\t Science  & 8368026 \\\\\n",
       "\\end{tabular}\n"
      ],
      "text/markdown": [
       "\n",
       "name | total | \n",
       "|---|---|---|---|\n",
       "| AdvPeace | 1191251  | \n",
       "| AmPhil   |  317543  | \n",
       "| AmRev    | 3150211  | \n",
       "| Science  | 8368026  | \n",
       "\n",
       "\n"
      ],
      "text/plain": [
       "  name     total  \n",
       "1 AdvPeace 1191251\n",
       "2 AmPhil    317543\n",
       "3 AmRev    3150211\n",
       "4 Science  8368026"
      ]
     },
     "metadata": {},
     "output_type": "display_data"
    }
   ],
   "source": [
    "# total words per journal\n",
    "total_words = journal_words %>%\n",
    "    group_by(name) %>%\n",
    "    summarize(total = sum(n))\n",
    "head(total_words)"
   ]
  },
  {
   "cell_type": "code",
   "execution_count": 7,
   "metadata": {},
   "outputs": [
    {
     "name": "stderr",
     "output_type": "stream",
     "text": [
      "Joining, by = \"name\"\n"
     ]
    },
    {
     "data": {
      "text/html": [
       "<table>\n",
       "<thead><tr><th scope=col>name</th><th scope=col>journal</th><th scope=col>word</th><th scope=col>n</th><th scope=col>total</th></tr></thead>\n",
       "<tbody>\n",
       "\t<tr><td>Science   </td><td>Science   </td><td>science   </td><td>55848     </td><td>8368026   </td></tr>\n",
       "\t<tr><td>Science   </td><td>Science   </td><td>professor </td><td>47311     </td><td>8368026   </td></tr>\n",
       "\t<tr><td>Science   </td><td>Science   </td><td>university</td><td>41909     </td><td>8368026   </td></tr>\n",
       "\t<tr><td>Science   </td><td>Science   </td><td>dr        </td><td>38139     </td><td>8368026   </td></tr>\n",
       "\t<tr><td>Science   </td><td>Science   </td><td>time      </td><td>23584     </td><td>8368026   </td></tr>\n",
       "\t<tr><td>Science   </td><td>Science   </td><td>scientific</td><td>21730     </td><td>8368026   </td></tr>\n",
       "</tbody>\n",
       "</table>\n"
      ],
      "text/latex": [
       "\\begin{tabular}{r|lllll}\n",
       " name & journal & word & n & total\\\\\n",
       "\\hline\n",
       "\t Science    & Science    & science    & 55848      & 8368026   \\\\\n",
       "\t Science    & Science    & professor  & 47311      & 8368026   \\\\\n",
       "\t Science    & Science    & university & 41909      & 8368026   \\\\\n",
       "\t Science    & Science    & dr         & 38139      & 8368026   \\\\\n",
       "\t Science    & Science    & time       & 23584      & 8368026   \\\\\n",
       "\t Science    & Science    & scientific & 21730      & 8368026   \\\\\n",
       "\\end{tabular}\n"
      ],
      "text/markdown": [
       "\n",
       "name | journal | word | n | total | \n",
       "|---|---|---|---|---|---|\n",
       "| Science    | Science    | science    | 55848      | 8368026    | \n",
       "| Science    | Science    | professor  | 47311      | 8368026    | \n",
       "| Science    | Science    | university | 41909      | 8368026    | \n",
       "| Science    | Science    | dr         | 38139      | 8368026    | \n",
       "| Science    | Science    | time       | 23584      | 8368026    | \n",
       "| Science    | Science    | scientific | 21730      | 8368026    | \n",
       "\n",
       "\n"
      ],
      "text/plain": [
       "  name    journal word       n     total  \n",
       "1 Science Science science    55848 8368026\n",
       "2 Science Science professor  47311 8368026\n",
       "3 Science Science university 41909 8368026\n",
       "4 Science Science dr         38139 8368026\n",
       "5 Science Science time       23584 8368026\n",
       "6 Science Science scientific 21730 8368026"
      ]
     },
     "metadata": {},
     "output_type": "display_data"
    },
    {
     "name": "stderr",
     "output_type": "stream",
     "text": [
      "Joining, by = \"name\"\n"
     ]
    },
    {
     "data": {
      "text/html": [
       "<table>\n",
       "<thead><tr><th scope=col>year</th><th scope=col>name</th><th scope=col>journal</th><th scope=col>word</th><th scope=col>n</th><th scope=col>total</th></tr></thead>\n",
       "<tbody>\n",
       "\t<tr><td>1902      </td><td>Science   </td><td>Science   </td><td>science   </td><td>6441      </td><td>8368026   </td></tr>\n",
       "\t<tr><td>1901      </td><td>Science   </td><td>Science   </td><td>science   </td><td>6329      </td><td>8368026   </td></tr>\n",
       "\t<tr><td>1901      </td><td>Science   </td><td>Science   </td><td>professor </td><td>6270      </td><td>8368026   </td></tr>\n",
       "\t<tr><td>1901      </td><td>Science   </td><td>Science   </td><td>university</td><td>5685      </td><td>8368026   </td></tr>\n",
       "\t<tr><td>1897      </td><td>Science   </td><td>Science   </td><td>science   </td><td>5446      </td><td>8368026   </td></tr>\n",
       "\t<tr><td>1896      </td><td>Science   </td><td>Science   </td><td>science   </td><td>5329      </td><td>8368026   </td></tr>\n",
       "</tbody>\n",
       "</table>\n"
      ],
      "text/latex": [
       "\\begin{tabular}{r|llllll}\n",
       " year & name & journal & word & n & total\\\\\n",
       "\\hline\n",
       "\t 1902       & Science    & Science    & science    & 6441       & 8368026   \\\\\n",
       "\t 1901       & Science    & Science    & science    & 6329       & 8368026   \\\\\n",
       "\t 1901       & Science    & Science    & professor  & 6270       & 8368026   \\\\\n",
       "\t 1901       & Science    & Science    & university & 5685       & 8368026   \\\\\n",
       "\t 1897       & Science    & Science    & science    & 5446       & 8368026   \\\\\n",
       "\t 1896       & Science    & Science    & science    & 5329       & 8368026   \\\\\n",
       "\\end{tabular}\n"
      ],
      "text/markdown": [
       "\n",
       "year | name | journal | word | n | total | \n",
       "|---|---|---|---|---|---|\n",
       "| 1902       | Science    | Science    | science    | 6441       | 8368026    | \n",
       "| 1901       | Science    | Science    | science    | 6329       | 8368026    | \n",
       "| 1901       | Science    | Science    | professor  | 6270       | 8368026    | \n",
       "| 1901       | Science    | Science    | university | 5685       | 8368026    | \n",
       "| 1897       | Science    | Science    | science    | 5446       | 8368026    | \n",
       "| 1896       | Science    | Science    | science    | 5329       | 8368026    | \n",
       "\n",
       "\n"
      ],
      "text/plain": [
       "  year name    journal word       n    total  \n",
       "1 1902 Science Science science    6441 8368026\n",
       "2 1901 Science Science science    6329 8368026\n",
       "3 1901 Science Science professor  6270 8368026\n",
       "4 1901 Science Science university 5685 8368026\n",
       "5 1897 Science Science science    5446 8368026\n",
       "6 1896 Science Science science    5329 8368026"
      ]
     },
     "metadata": {},
     "output_type": "display_data"
    }
   ],
   "source": [
    "# join the two count types to get the ratio of a word\n",
    "# within a journal against the total count of words\n",
    "# in the journal\n",
    "word_collection = left_join(journal_words, total_words)\n",
    "head(word_collection)\n",
    "\n",
    "# join the two count types to get the ratio of a word\n",
    "# within a journal against the total count of words\n",
    "# in the journal by year\n",
    "word_collection2 = left_join(journal_words2, total_words)\n",
    "head(word_collection2)"
   ]
  },
  {
   "cell_type": "code",
   "execution_count": 8,
   "metadata": {},
   "outputs": [
    {
     "data": {
      "text/html": [
       "<table>\n",
       "<thead><tr><th scope=col>name</th><th scope=col>journal</th><th scope=col>word</th><th scope=col>n</th><th scope=col>total</th><th scope=col>rank</th><th scope=col>term_frequency</th></tr></thead>\n",
       "<tbody>\n",
       "\t<tr><td>Science    </td><td>Science    </td><td>science    </td><td>55848      </td><td>8368026    </td><td>1          </td><td>0.006673975</td></tr>\n",
       "\t<tr><td>Science    </td><td>Science    </td><td>professor  </td><td>47311      </td><td>8368026    </td><td>2          </td><td>0.005653783</td></tr>\n",
       "\t<tr><td>Science    </td><td>Science    </td><td>university </td><td>41909      </td><td>8368026    </td><td>3          </td><td>0.005008230</td></tr>\n",
       "\t<tr><td>Science    </td><td>Science    </td><td>dr         </td><td>38139      </td><td>8368026    </td><td>4          </td><td>0.004557706</td></tr>\n",
       "\t<tr><td>Science    </td><td>Science    </td><td>time       </td><td>23584      </td><td>8368026    </td><td>5          </td><td>0.002818347</td></tr>\n",
       "\t<tr><td>Science    </td><td>Science    </td><td>scientific </td><td>21730      </td><td>8368026    </td><td>6          </td><td>0.002596789</td></tr>\n",
       "</tbody>\n",
       "</table>\n"
      ],
      "text/latex": [
       "\\begin{tabular}{r|lllllll}\n",
       " name & journal & word & n & total & rank & term\\_frequency\\\\\n",
       "\\hline\n",
       "\t Science     & Science     & science     & 55848       & 8368026     & 1           & 0.006673975\\\\\n",
       "\t Science     & Science     & professor   & 47311       & 8368026     & 2           & 0.005653783\\\\\n",
       "\t Science     & Science     & university  & 41909       & 8368026     & 3           & 0.005008230\\\\\n",
       "\t Science     & Science     & dr          & 38139       & 8368026     & 4           & 0.004557706\\\\\n",
       "\t Science     & Science     & time        & 23584       & 8368026     & 5           & 0.002818347\\\\\n",
       "\t Science     & Science     & scientific  & 21730       & 8368026     & 6           & 0.002596789\\\\\n",
       "\\end{tabular}\n"
      ],
      "text/markdown": [
       "\n",
       "name | journal | word | n | total | rank | term_frequency | \n",
       "|---|---|---|---|---|---|\n",
       "| Science     | Science     | science     | 55848       | 8368026     | 1           | 0.006673975 | \n",
       "| Science     | Science     | professor   | 47311       | 8368026     | 2           | 0.005653783 | \n",
       "| Science     | Science     | university  | 41909       | 8368026     | 3           | 0.005008230 | \n",
       "| Science     | Science     | dr          | 38139       | 8368026     | 4           | 0.004557706 | \n",
       "| Science     | Science     | time        | 23584       | 8368026     | 5           | 0.002818347 | \n",
       "| Science     | Science     | scientific  | 21730       | 8368026     | 6           | 0.002596789 | \n",
       "\n",
       "\n"
      ],
      "text/plain": [
       "  name    journal word       n     total   rank term_frequency\n",
       "1 Science Science science    55848 8368026 1    0.006673975   \n",
       "2 Science Science professor  47311 8368026 2    0.005653783   \n",
       "3 Science Science university 41909 8368026 3    0.005008230   \n",
       "4 Science Science dr         38139 8368026 4    0.004557706   \n",
       "5 Science Science time       23584 8368026 5    0.002818347   \n",
       "6 Science Science scientific 21730 8368026 6    0.002596789   "
      ]
     },
     "metadata": {},
     "output_type": "display_data"
    }
   ],
   "source": [
    "#frequency of a word by journal\n",
    "freq_by_rank = word_collection %>%\n",
    "    group_by(name) %>% \n",
    "    mutate(rank = row_number(), term_frequency = n/total) %>%\n",
    "    filter(journal != \"NA\")\n",
    "head(freq_by_rank)"
   ]
  },
  {
   "cell_type": "code",
   "execution_count": 9,
   "metadata": {},
   "outputs": [
    {
     "data": {},
     "metadata": {},
     "output_type": "display_data"
    },
    {
     "data": {
      "image/png": "[encoded data removed]",
      "text/plain": [
       "plot without title"
      ]
     },
     "metadata": {},
     "output_type": "display_data"
    }
   ],
   "source": [
    "# Zipf's law \n",
    "freq_by_rank %>% \n",
    "  ggplot(aes(rank, term_frequency, color = name)) + \n",
    "  geom_line(size = 1.2, alpha = 0.8) + \n",
    "  scale_x_log10() +\n",
    "  scale_y_log10()"
   ]
  },
  {
   "cell_type": "markdown",
   "metadata": {},
   "source": [
    "### 2. Show the 10 most common words in each journal."
   ]
  },
  {
   "cell_type": "code",
   "execution_count": 10,
   "metadata": {},
   "outputs": [
    {
     "data": {
      "text/html": [
       "<table>\n",
       "<thead><tr><th scope=col>name</th><th scope=col>journal</th><th scope=col>word</th><th scope=col>n</th><th scope=col>total</th><th scope=col>rank</th><th scope=col>term_frequency</th></tr></thead>\n",
       "<tbody>\n",
       "\t<tr><td>AdvPeace                         </td><td>The Advocate of Peace (1894-1920)</td><td>peace                            </td><td>17903                            </td><td>1191251                          </td><td> 1                               </td><td>0.015028739                      </td></tr>\n",
       "\t<tr><td>AdvPeace                         </td><td>The Advocate of Peace (1894-1920)</td><td>war                              </td><td>13543                            </td><td>1191251                          </td><td> 2                               </td><td>0.011368721                      </td></tr>\n",
       "\t<tr><td>AdvPeace                         </td><td>The Advocate of Peace (1894-1920)</td><td>mass                             </td><td> 6999                            </td><td>1191251                          </td><td> 3                               </td><td>0.005875336                      </td></tr>\n",
       "\t<tr><td>AdvPeace                         </td><td>The Advocate of Peace (1894-1920)</td><td>arbitration                      </td><td> 5557                            </td><td>1191251                          </td><td> 4                               </td><td>0.004664844                      </td></tr>\n",
       "\t<tr><td>AdvPeace                         </td><td>The Advocate of Peace (1894-1920)</td><td>society                          </td><td> 5315                            </td><td>1191251                          </td><td> 5                               </td><td>0.004461696                      </td></tr>\n",
       "\t<tr><td>AdvPeace                         </td><td>The Advocate of Peace (1894-1920)</td><td>international                    </td><td> 4932                            </td><td>1191251                          </td><td> 6                               </td><td>0.004140185                      </td></tr>\n",
       "\t<tr><td>AdvPeace                         </td><td>The Advocate of Peace (1894-1920)</td><td>boston                           </td><td> 4816                            </td><td>1191251                          </td><td> 7                               </td><td>0.004042809                      </td></tr>\n",
       "\t<tr><td>AdvPeace                         </td><td>The Advocate of Peace (1894-1920)</td><td>nations                          </td><td> 4754                            </td><td>1191251                          </td><td> 8                               </td><td>0.003990763                      </td></tr>\n",
       "\t<tr><td>AdvPeace                         </td><td>The Advocate of Peace (1894-1920)</td><td>world                            </td><td> 4501                            </td><td>1191251                          </td><td> 9                               </td><td>0.003778381                      </td></tr>\n",
       "\t<tr><td>AdvPeace                         </td><td>The Advocate of Peace (1894-1920)</td><td>rev                              </td><td> 4350                            </td><td>1191251                          </td><td>10                               </td><td>0.003651623                      </td></tr>\n",
       "</tbody>\n",
       "</table>\n"
      ],
      "text/latex": [
       "\\begin{tabular}{r|lllllll}\n",
       " name & journal & word & n & total & rank & term\\_frequency\\\\\n",
       "\\hline\n",
       "\t AdvPeace                          & The Advocate of Peace (1894-1920) & peace                             & 17903                             & 1191251                           &  1                                & 0.015028739                      \\\\\n",
       "\t AdvPeace                          & The Advocate of Peace (1894-1920) & war                               & 13543                             & 1191251                           &  2                                & 0.011368721                      \\\\\n",
       "\t AdvPeace                          & The Advocate of Peace (1894-1920) & mass                              &  6999                             & 1191251                           &  3                                & 0.005875336                      \\\\\n",
       "\t AdvPeace                          & The Advocate of Peace (1894-1920) & arbitration                       &  5557                             & 1191251                           &  4                                & 0.004664844                      \\\\\n",
       "\t AdvPeace                          & The Advocate of Peace (1894-1920) & society                           &  5315                             & 1191251                           &  5                                & 0.004461696                      \\\\\n",
       "\t AdvPeace                          & The Advocate of Peace (1894-1920) & international                     &  4932                             & 1191251                           &  6                                & 0.004140185                      \\\\\n",
       "\t AdvPeace                          & The Advocate of Peace (1894-1920) & boston                            &  4816                             & 1191251                           &  7                                & 0.004042809                      \\\\\n",
       "\t AdvPeace                          & The Advocate of Peace (1894-1920) & nations                           &  4754                             & 1191251                           &  8                                & 0.003990763                      \\\\\n",
       "\t AdvPeace                          & The Advocate of Peace (1894-1920) & world                             &  4501                             & 1191251                           &  9                                & 0.003778381                      \\\\\n",
       "\t AdvPeace                          & The Advocate of Peace (1894-1920) & rev                               &  4350                             & 1191251                           & 10                                & 0.003651623                      \\\\\n",
       "\\end{tabular}\n"
      ],
      "text/markdown": [
       "\n",
       "name | journal | word | n | total | rank | term_frequency | \n",
       "|---|---|---|---|---|---|---|---|---|---|\n",
       "| AdvPeace                          | The Advocate of Peace (1894-1920) | peace                             | 17903                             | 1191251                           |  1                                | 0.015028739                       | \n",
       "| AdvPeace                          | The Advocate of Peace (1894-1920) | war                               | 13543                             | 1191251                           |  2                                | 0.011368721                       | \n",
       "| AdvPeace                          | The Advocate of Peace (1894-1920) | mass                              |  6999                             | 1191251                           |  3                                | 0.005875336                       | \n",
       "| AdvPeace                          | The Advocate of Peace (1894-1920) | arbitration                       |  5557                             | 1191251                           |  4                                | 0.004664844                       | \n",
       "| AdvPeace                          | The Advocate of Peace (1894-1920) | society                           |  5315                             | 1191251                           |  5                                | 0.004461696                       | \n",
       "| AdvPeace                          | The Advocate of Peace (1894-1920) | international                     |  4932                             | 1191251                           |  6                                | 0.004140185                       | \n",
       "| AdvPeace                          | The Advocate of Peace (1894-1920) | boston                            |  4816                             | 1191251                           |  7                                | 0.004042809                       | \n",
       "| AdvPeace                          | The Advocate of Peace (1894-1920) | nations                           |  4754                             | 1191251                           |  8                                | 0.003990763                       | \n",
       "| AdvPeace                          | The Advocate of Peace (1894-1920) | world                             |  4501                             | 1191251                           |  9                                | 0.003778381                       | \n",
       "| AdvPeace                          | The Advocate of Peace (1894-1920) | rev                               |  4350                             | 1191251                           | 10                                | 0.003651623                       | \n",
       "\n",
       "\n"
      ],
      "text/plain": [
       "   name     journal                           word          n     total   rank\n",
       "1  AdvPeace The Advocate of Peace (1894-1920) peace         17903 1191251  1  \n",
       "2  AdvPeace The Advocate of Peace (1894-1920) war           13543 1191251  2  \n",
       "3  AdvPeace The Advocate of Peace (1894-1920) mass           6999 1191251  3  \n",
       "4  AdvPeace The Advocate of Peace (1894-1920) arbitration    5557 1191251  4  \n",
       "5  AdvPeace The Advocate of Peace (1894-1920) society        5315 1191251  5  \n",
       "6  AdvPeace The Advocate of Peace (1894-1920) international  4932 1191251  6  \n",
       "7  AdvPeace The Advocate of Peace (1894-1920) boston         4816 1191251  7  \n",
       "8  AdvPeace The Advocate of Peace (1894-1920) nations        4754 1191251  8  \n",
       "9  AdvPeace The Advocate of Peace (1894-1920) world          4501 1191251  9  \n",
       "10 AdvPeace The Advocate of Peace (1894-1920) rev            4350 1191251 10  \n",
       "   term_frequency\n",
       "1  0.015028739   \n",
       "2  0.011368721   \n",
       "3  0.005875336   \n",
       "4  0.004664844   \n",
       "5  0.004461696   \n",
       "6  0.004140185   \n",
       "7  0.004042809   \n",
       "8  0.003990763   \n",
       "9  0.003778381   \n",
       "10 0.003651623   "
      ]
     },
     "metadata": {},
     "output_type": "display_data"
    }
   ],
   "source": [
    "AdvPeace = arrange(filter(freq_by_rank, rank <11, name==\"AdvPeace\"), name)\n",
    "AdvPeace"
   ]
  },
  {
   "cell_type": "code",
   "execution_count": 11,
   "metadata": {},
   "outputs": [
    {
     "data": {
      "text/html": [
       "<table>\n",
       "<thead><tr><th scope=col>name</th><th scope=col>journal</th><th scope=col>word</th><th scope=col>n</th><th scope=col>total</th><th scope=col>rank</th><th scope=col>term_frequency</th></tr></thead>\n",
       "<tbody>\n",
       "\t<tr><td>AmPhil                                            </td><td>Transactions of the American Philosophical Society</td><td>2                                                 </td><td>5865                                              </td><td>317543                                            </td><td> 1                                                </td><td>0.018469940                                       </td></tr>\n",
       "\t<tr><td>AmPhil                                            </td><td>Transactions of the American Philosophical Society</td><td>40                                                </td><td>5676                                              </td><td>317543                                            </td><td> 2                                                </td><td>0.017874745                                       </td></tr>\n",
       "\t<tr><td>AmPhil                                            </td><td>Transactions of the American Philosophical Society</td><td>1                                                 </td><td>5317                                              </td><td>317543                                            </td><td> 3                                                </td><td>0.016744189                                       </td></tr>\n",
       "\t<tr><td>AmPhil                                            </td><td>Transactions of the American Philosophical Society</td><td>6                                                 </td><td>4762                                              </td><td>317543                                            </td><td> 4                                                </td><td>0.014996394                                       </td></tr>\n",
       "\t<tr><td>AmPhil                                            </td><td>Transactions of the American Philosophical Society</td><td>3                                                 </td><td>4666                                              </td><td>317543                                            </td><td> 5                                                </td><td>0.014694073                                       </td></tr>\n",
       "\t<tr><td>AmPhil                                            </td><td>Transactions of the American Philosophical Society</td><td>4                                                 </td><td>4532                                              </td><td>317543                                            </td><td> 6                                                </td><td>0.014272083                                       </td></tr>\n",
       "\t<tr><td>AmPhil                                            </td><td>Transactions of the American Philosophical Society</td><td>5                                                 </td><td>3549                                              </td><td>317543                                            </td><td> 7                                                </td><td>0.011176439                                       </td></tr>\n",
       "\t<tr><td>AmPhil                                            </td><td>Transactions of the American Philosophical Society</td><td>7                                                 </td><td>3501                                              </td><td>317543                                            </td><td> 8                                                </td><td>0.011025278                                       </td></tr>\n",
       "\t<tr><td>AmPhil                                            </td><td>Transactions of the American Philosophical Society</td><td>8                                                 </td><td>3313                                              </td><td>317543                                            </td><td> 9                                                </td><td>0.010433233                                       </td></tr>\n",
       "\t<tr><td>AmPhil                                            </td><td>Transactions of the American Philosophical Society</td><td>9                                                 </td><td>2845                                              </td><td>317543                                            </td><td>10                                                </td><td>0.008959417                                       </td></tr>\n",
       "</tbody>\n",
       "</table>\n"
      ],
      "text/latex": [
       "\\begin{tabular}{r|lllllll}\n",
       " name & journal & word & n & total & rank & term\\_frequency\\\\\n",
       "\\hline\n",
       "\t AmPhil                                             & Transactions of the American Philosophical Society & 2                                                  & 5865                                               & 317543                                             &  1                                                 & 0.018469940                                       \\\\\n",
       "\t AmPhil                                             & Transactions of the American Philosophical Society & 40                                                 & 5676                                               & 317543                                             &  2                                                 & 0.017874745                                       \\\\\n",
       "\t AmPhil                                             & Transactions of the American Philosophical Society & 1                                                  & 5317                                               & 317543                                             &  3                                                 & 0.016744189                                       \\\\\n",
       "\t AmPhil                                             & Transactions of the American Philosophical Society & 6                                                  & 4762                                               & 317543                                             &  4                                                 & 0.014996394                                       \\\\\n",
       "\t AmPhil                                             & Transactions of the American Philosophical Society & 3                                                  & 4666                                               & 317543                                             &  5                                                 & 0.014694073                                       \\\\\n",
       "\t AmPhil                                             & Transactions of the American Philosophical Society & 4                                                  & 4532                                               & 317543                                             &  6                                                 & 0.014272083                                       \\\\\n",
       "\t AmPhil                                             & Transactions of the American Philosophical Society & 5                                                  & 3549                                               & 317543                                             &  7                                                 & 0.011176439                                       \\\\\n",
       "\t AmPhil                                             & Transactions of the American Philosophical Society & 7                                                  & 3501                                               & 317543                                             &  8                                                 & 0.011025278                                       \\\\\n",
       "\t AmPhil                                             & Transactions of the American Philosophical Society & 8                                                  & 3313                                               & 317543                                             &  9                                                 & 0.010433233                                       \\\\\n",
       "\t AmPhil                                             & Transactions of the American Philosophical Society & 9                                                  & 2845                                               & 317543                                             & 10                                                 & 0.008959417                                       \\\\\n",
       "\\end{tabular}\n"
      ],
      "text/markdown": [
       "\n",
       "name | journal | word | n | total | rank | term_frequency | \n",
       "|---|---|---|---|---|---|---|---|---|---|\n",
       "| AmPhil                                             | Transactions of the American Philosophical Society | 2                                                  | 5865                                               | 317543                                             |  1                                                 | 0.018469940                                        | \n",
       "| AmPhil                                             | Transactions of the American Philosophical Society | 40                                                 | 5676                                               | 317543                                             |  2                                                 | 0.017874745                                        | \n",
       "| AmPhil                                             | Transactions of the American Philosophical Society | 1                                                  | 5317                                               | 317543                                             |  3                                                 | 0.016744189                                        | \n",
       "| AmPhil                                             | Transactions of the American Philosophical Society | 6                                                  | 4762                                               | 317543                                             |  4                                                 | 0.014996394                                        | \n",
       "| AmPhil                                             | Transactions of the American Philosophical Society | 3                                                  | 4666                                               | 317543                                             |  5                                                 | 0.014694073                                        | \n",
       "| AmPhil                                             | Transactions of the American Philosophical Society | 4                                                  | 4532                                               | 317543                                             |  6                                                 | 0.014272083                                        | \n",
       "| AmPhil                                             | Transactions of the American Philosophical Society | 5                                                  | 3549                                               | 317543                                             |  7                                                 | 0.011176439                                        | \n",
       "| AmPhil                                             | Transactions of the American Philosophical Society | 7                                                  | 3501                                               | 317543                                             |  8                                                 | 0.011025278                                        | \n",
       "| AmPhil                                             | Transactions of the American Philosophical Society | 8                                                  | 3313                                               | 317543                                             |  9                                                 | 0.010433233                                        | \n",
       "| AmPhil                                             | Transactions of the American Philosophical Society | 9                                                  | 2845                                               | 317543                                             | 10                                                 | 0.008959417                                        | \n",
       "\n",
       "\n"
      ],
      "text/plain": [
       "   name   journal                                            word n    total \n",
       "1  AmPhil Transactions of the American Philosophical Society 2    5865 317543\n",
       "2  AmPhil Transactions of the American Philosophical Society 40   5676 317543\n",
       "3  AmPhil Transactions of the American Philosophical Society 1    5317 317543\n",
       "4  AmPhil Transactions of the American Philosophical Society 6    4762 317543\n",
       "5  AmPhil Transactions of the American Philosophical Society 3    4666 317543\n",
       "6  AmPhil Transactions of the American Philosophical Society 4    4532 317543\n",
       "7  AmPhil Transactions of the American Philosophical Society 5    3549 317543\n",
       "8  AmPhil Transactions of the American Philosophical Society 7    3501 317543\n",
       "9  AmPhil Transactions of the American Philosophical Society 8    3313 317543\n",
       "10 AmPhil Transactions of the American Philosophical Society 9    2845 317543\n",
       "   rank term_frequency\n",
       "1   1   0.018469940   \n",
       "2   2   0.017874745   \n",
       "3   3   0.016744189   \n",
       "4   4   0.014996394   \n",
       "5   5   0.014694073   \n",
       "6   6   0.014272083   \n",
       "7   7   0.011176439   \n",
       "8   8   0.011025278   \n",
       "9   9   0.010433233   \n",
       "10 10   0.008959417   "
      ]
     },
     "metadata": {},
     "output_type": "display_data"
    }
   ],
   "source": [
    "AmPhil = arrange(filter(freq_by_rank, rank <11, name==\"AmPhil\"), name)\n",
    "AmPhil"
   ]
  },
  {
   "cell_type": "code",
   "execution_count": 12,
   "metadata": {},
   "outputs": [
    {
     "data": {
      "text/html": [
       "<table>\n",
       "<thead><tr><th scope=col>name</th><th scope=col>journal</th><th scope=col>word</th><th scope=col>n</th><th scope=col>total</th><th scope=col>rank</th><th scope=col>term_frequency</th></tr></thead>\n",
       "<tbody>\n",
       "\t<tr><td>AmRev                    </td><td>The North American Review</td><td>american                 </td><td>17903                    </td><td>3150211                  </td><td> 1                       </td><td>0.005683111              </td></tr>\n",
       "\t<tr><td>AmRev                    </td><td>The North American Review</td><td>time                     </td><td>11563                    </td><td>3150211                  </td><td> 2                       </td><td>0.003670548              </td></tr>\n",
       "\t<tr><td>AmRev                    </td><td>The North American Review</td><td>united                   </td><td>11119                    </td><td>3150211                  </td><td> 3                       </td><td>0.003529605              </td></tr>\n",
       "\t<tr><td>AmRev                    </td><td>The North American Review</td><td>government               </td><td>10321                    </td><td>3150211                  </td><td> 4                       </td><td>0.003276288              </td></tr>\n",
       "\t<tr><td>AmRev                    </td><td>The North American Review</td><td>north                    </td><td>10111                    </td><td>3150211                  </td><td> 5                       </td><td>0.003209626              </td></tr>\n",
       "\t<tr><td>AmRev                    </td><td>The North American Review</td><td>people                   </td><td>10010                    </td><td>3150211                  </td><td> 6                       </td><td>0.003177565              </td></tr>\n",
       "\t<tr><td>AmRev                    </td><td>The North American Review</td><td>review                   </td><td> 9416                    </td><td>3150211                  </td><td> 7                       </td><td>0.002989006              </td></tr>\n",
       "\t<tr><td>AmRev                    </td><td>The North American Review</td><td>country                  </td><td> 8874                    </td><td>3150211                  </td><td> 8                       </td><td>0.002816954              </td></tr>\n",
       "\t<tr><td>AmRev                    </td><td>The North American Review</td><td>war                      </td><td> 8308                    </td><td>3150211                  </td><td> 9                       </td><td>0.002637284              </td></tr>\n",
       "\t<tr><td>AmRev                    </td><td>The North American Review</td><td>power                    </td><td> 7871                    </td><td>3150211                  </td><td>10                       </td><td>0.002498563              </td></tr>\n",
       "</tbody>\n",
       "</table>\n"
      ],
      "text/latex": [
       "\\begin{tabular}{r|lllllll}\n",
       " name & journal & word & n & total & rank & term\\_frequency\\\\\n",
       "\\hline\n",
       "\t AmRev                     & The North American Review & american                  & 17903                     & 3150211                   &  1                        & 0.005683111              \\\\\n",
       "\t AmRev                     & The North American Review & time                      & 11563                     & 3150211                   &  2                        & 0.003670548              \\\\\n",
       "\t AmRev                     & The North American Review & united                    & 11119                     & 3150211                   &  3                        & 0.003529605              \\\\\n",
       "\t AmRev                     & The North American Review & government                & 10321                     & 3150211                   &  4                        & 0.003276288              \\\\\n",
       "\t AmRev                     & The North American Review & north                     & 10111                     & 3150211                   &  5                        & 0.003209626              \\\\\n",
       "\t AmRev                     & The North American Review & people                    & 10010                     & 3150211                   &  6                        & 0.003177565              \\\\\n",
       "\t AmRev                     & The North American Review & review                    &  9416                     & 3150211                   &  7                        & 0.002989006              \\\\\n",
       "\t AmRev                     & The North American Review & country                   &  8874                     & 3150211                   &  8                        & 0.002816954              \\\\\n",
       "\t AmRev                     & The North American Review & war                       &  8308                     & 3150211                   &  9                        & 0.002637284              \\\\\n",
       "\t AmRev                     & The North American Review & power                     &  7871                     & 3150211                   & 10                        & 0.002498563              \\\\\n",
       "\\end{tabular}\n"
      ],
      "text/markdown": [
       "\n",
       "name | journal | word | n | total | rank | term_frequency | \n",
       "|---|---|---|---|---|---|---|---|---|---|\n",
       "| AmRev                     | The North American Review | american                  | 17903                     | 3150211                   |  1                        | 0.005683111               | \n",
       "| AmRev                     | The North American Review | time                      | 11563                     | 3150211                   |  2                        | 0.003670548               | \n",
       "| AmRev                     | The North American Review | united                    | 11119                     | 3150211                   |  3                        | 0.003529605               | \n",
       "| AmRev                     | The North American Review | government                | 10321                     | 3150211                   |  4                        | 0.003276288               | \n",
       "| AmRev                     | The North American Review | north                     | 10111                     | 3150211                   |  5                        | 0.003209626               | \n",
       "| AmRev                     | The North American Review | people                    | 10010                     | 3150211                   |  6                        | 0.003177565               | \n",
       "| AmRev                     | The North American Review | review                    |  9416                     | 3150211                   |  7                        | 0.002989006               | \n",
       "| AmRev                     | The North American Review | country                   |  8874                     | 3150211                   |  8                        | 0.002816954               | \n",
       "| AmRev                     | The North American Review | war                       |  8308                     | 3150211                   |  9                        | 0.002637284               | \n",
       "| AmRev                     | The North American Review | power                     |  7871                     | 3150211                   | 10                        | 0.002498563               | \n",
       "\n",
       "\n"
      ],
      "text/plain": [
       "   name  journal                   word       n     total   rank term_frequency\n",
       "1  AmRev The North American Review american   17903 3150211  1   0.005683111   \n",
       "2  AmRev The North American Review time       11563 3150211  2   0.003670548   \n",
       "3  AmRev The North American Review united     11119 3150211  3   0.003529605   \n",
       "4  AmRev The North American Review government 10321 3150211  4   0.003276288   \n",
       "5  AmRev The North American Review north      10111 3150211  5   0.003209626   \n",
       "6  AmRev The North American Review people     10010 3150211  6   0.003177565   \n",
       "7  AmRev The North American Review review      9416 3150211  7   0.002989006   \n",
       "8  AmRev The North American Review country     8874 3150211  8   0.002816954   \n",
       "9  AmRev The North American Review war         8308 3150211  9   0.002637284   \n",
       "10 AmRev The North American Review power       7871 3150211 10   0.002498563   "
      ]
     },
     "metadata": {},
     "output_type": "display_data"
    }
   ],
   "source": [
    "AmRev = arrange(filter(freq_by_rank, rank <11, name==\"AmRev\"), name)\n",
    "AmRev"
   ]
  },
  {
   "cell_type": "code",
   "execution_count": 13,
   "metadata": {},
   "outputs": [
    {
     "data": {
      "text/html": [
       "<table>\n",
       "<thead><tr><th scope=col>name</th><th scope=col>journal</th><th scope=col>word</th><th scope=col>n</th><th scope=col>total</th><th scope=col>rank</th><th scope=col>term_frequency</th></tr></thead>\n",
       "<tbody>\n",
       "</tbody>\n",
       "</table>\n"
      ],
      "text/latex": [
       "\\begin{tabular}{r|lllllll}\n",
       " name & journal & word & n & total & rank & term\\_frequency\\\\\n",
       "\\hline\n",
       "\\end{tabular}\n"
      ],
      "text/markdown": [
       "\n",
       "name | journal | word | n | total | rank | term_frequency | \n",
       "||\n",
       "\n",
       "\n"
      ],
      "text/plain": [
       "     name journal word n total rank term_frequency"
      ]
     },
     "metadata": {},
     "output_type": "display_data"
    }
   ],
   "source": [
    "RoyalPhil = arrange(filter(freq_by_rank, rank <11, name==\"RoyalPhil\"), name)\n",
    "RoyalPhil"
   ]
  },
  {
   "cell_type": "code",
   "execution_count": 14,
   "metadata": {},
   "outputs": [
    {
     "data": {
      "text/html": [
       "<table>\n",
       "<thead><tr><th scope=col>name</th><th scope=col>journal</th><th scope=col>word</th><th scope=col>n</th><th scope=col>total</th><th scope=col>rank</th><th scope=col>term_frequency</th></tr></thead>\n",
       "<tbody>\n",
       "\t<tr><td>Science    </td><td>Science    </td><td>science    </td><td>55848      </td><td>8368026    </td><td> 1         </td><td>0.006673975</td></tr>\n",
       "\t<tr><td>Science    </td><td>Science    </td><td>professor  </td><td>47311      </td><td>8368026    </td><td> 2         </td><td>0.005653783</td></tr>\n",
       "\t<tr><td>Science    </td><td>Science    </td><td>university </td><td>41909      </td><td>8368026    </td><td> 3         </td><td>0.005008230</td></tr>\n",
       "\t<tr><td>Science    </td><td>Science    </td><td>dr         </td><td>38139      </td><td>8368026    </td><td> 4         </td><td>0.004557706</td></tr>\n",
       "\t<tr><td>Science    </td><td>Science    </td><td>time       </td><td>23584      </td><td>8368026    </td><td> 5         </td><td>0.002818347</td></tr>\n",
       "\t<tr><td>Science    </td><td>Science    </td><td>scientific </td><td>21730      </td><td>8368026    </td><td> 6         </td><td>0.002596789</td></tr>\n",
       "\t<tr><td>Science    </td><td>Science    </td><td>american   </td><td>21238      </td><td>8368026    </td><td> 7         </td><td>0.002537994</td></tr>\n",
       "\t<tr><td>Science    </td><td>Science    </td><td>society    </td><td>20372      </td><td>8368026    </td><td> 8         </td><td>0.002434505</td></tr>\n",
       "\t<tr><td>Science    </td><td>Science    </td><td>found      </td><td>18381      </td><td>8368026    </td><td> 9         </td><td>0.002196575</td></tr>\n",
       "\t<tr><td>Science    </td><td>Science    </td><td>vol        </td><td>17336      </td><td>8368026    </td><td>10         </td><td>0.002071695</td></tr>\n",
       "</tbody>\n",
       "</table>\n"
      ],
      "text/latex": [
       "\\begin{tabular}{r|lllllll}\n",
       " name & journal & word & n & total & rank & term\\_frequency\\\\\n",
       "\\hline\n",
       "\t Science     & Science     & science     & 55848       & 8368026     &  1          & 0.006673975\\\\\n",
       "\t Science     & Science     & professor   & 47311       & 8368026     &  2          & 0.005653783\\\\\n",
       "\t Science     & Science     & university  & 41909       & 8368026     &  3          & 0.005008230\\\\\n",
       "\t Science     & Science     & dr          & 38139       & 8368026     &  4          & 0.004557706\\\\\n",
       "\t Science     & Science     & time        & 23584       & 8368026     &  5          & 0.002818347\\\\\n",
       "\t Science     & Science     & scientific  & 21730       & 8368026     &  6          & 0.002596789\\\\\n",
       "\t Science     & Science     & american    & 21238       & 8368026     &  7          & 0.002537994\\\\\n",
       "\t Science     & Science     & society     & 20372       & 8368026     &  8          & 0.002434505\\\\\n",
       "\t Science     & Science     & found       & 18381       & 8368026     &  9          & 0.002196575\\\\\n",
       "\t Science     & Science     & vol         & 17336       & 8368026     & 10          & 0.002071695\\\\\n",
       "\\end{tabular}\n"
      ],
      "text/markdown": [
       "\n",
       "name | journal | word | n | total | rank | term_frequency | \n",
       "|---|---|---|---|---|---|---|---|---|---|\n",
       "| Science     | Science     | science     | 55848       | 8368026     |  1          | 0.006673975 | \n",
       "| Science     | Science     | professor   | 47311       | 8368026     |  2          | 0.005653783 | \n",
       "| Science     | Science     | university  | 41909       | 8368026     |  3          | 0.005008230 | \n",
       "| Science     | Science     | dr          | 38139       | 8368026     |  4          | 0.004557706 | \n",
       "| Science     | Science     | time        | 23584       | 8368026     |  5          | 0.002818347 | \n",
       "| Science     | Science     | scientific  | 21730       | 8368026     |  6          | 0.002596789 | \n",
       "| Science     | Science     | american    | 21238       | 8368026     |  7          | 0.002537994 | \n",
       "| Science     | Science     | society     | 20372       | 8368026     |  8          | 0.002434505 | \n",
       "| Science     | Science     | found       | 18381       | 8368026     |  9          | 0.002196575 | \n",
       "| Science     | Science     | vol         | 17336       | 8368026     | 10          | 0.002071695 | \n",
       "\n",
       "\n"
      ],
      "text/plain": [
       "   name    journal word       n     total   rank term_frequency\n",
       "1  Science Science science    55848 8368026  1   0.006673975   \n",
       "2  Science Science professor  47311 8368026  2   0.005653783   \n",
       "3  Science Science university 41909 8368026  3   0.005008230   \n",
       "4  Science Science dr         38139 8368026  4   0.004557706   \n",
       "5  Science Science time       23584 8368026  5   0.002818347   \n",
       "6  Science Science scientific 21730 8368026  6   0.002596789   \n",
       "7  Science Science american   21238 8368026  7   0.002537994   \n",
       "8  Science Science society    20372 8368026  8   0.002434505   \n",
       "9  Science Science found      18381 8368026  9   0.002196575   \n",
       "10 Science Science vol        17336 8368026 10   0.002071695   "
      ]
     },
     "metadata": {},
     "output_type": "display_data"
    }
   ],
   "source": [
    "Science = arrange(filter(freq_by_rank, rank <11, name==\"Science\"), name)\n",
    "Science"
   ]
  },
  {
   "cell_type": "markdown",
   "metadata": {},
   "source": [
    "## Word Distributions\n",
    "\n",
    "The main objective of this assignment is to examine the change in language use over time (looking year-over-year).\n",
    "\n",
    "There are three high-level research questions. You should answer these separately for each journal, and over the enitre corpus."
   ]
  },
  {
   "cell_type": "markdown",
   "metadata": {},
   "source": [
    "### 1. What 5–10 words see the greatest increase in use over time?\n",
    "\n",
    "* Group by journal, year, word...\n",
    "* Visualize: x-axis:year, y-axis: usage"
   ]
  },
  {
   "cell_type": "code",
   "execution_count": 15,
   "metadata": {},
   "outputs": [],
   "source": [
    "# getting frequency grouped by year, journal and word\n",
    "# some tidying for getting increases in word counts over time\n",
    "word_inc = word_collection2 %>%\n",
    "    mutate(freq = n/total) %>%\n",
    "    group_by(year) %>%\n",
    "    arrange(word, year) %>%\n",
    "    select(year, name, word, freq)\n",
    "#head(word_inc, 10)"
   ]
  },
  {
   "cell_type": "code",
   "execution_count": 16,
   "metadata": {},
   "outputs": [
    {
     "name": "stdout",
     "output_type": "stream",
     "text": [
      "[1] \"increase in top 10 words for corpus\"\n"
     ]
    },
    {
     "data": {
      "text/html": [
       "<table>\n",
       "<thead><tr><th scope=col>word</th><th scope=col>total</th></tr></thead>\n",
       "<tbody>\n",
       "\t<tr><td>peace       </td><td>0.0013981771</td></tr>\n",
       "\t<tr><td>fig         </td><td>0.0010949623</td></tr>\n",
       "\t<tr><td>war         </td><td>0.0009980114</td></tr>\n",
       "\t<tr><td>anid        </td><td>0.0007678024</td></tr>\n",
       "\t<tr><td>deep        </td><td>0.0007148638</td></tr>\n",
       "\t<tr><td>mass        </td><td>0.0005878213</td></tr>\n",
       "\t<tr><td>posterior   </td><td>0.0005750301</td></tr>\n",
       "\t<tr><td>nippur      </td><td>0.0005726727</td></tr>\n",
       "\t<tr><td>science     </td><td>0.0005556250</td></tr>\n",
       "\t<tr><td>cope        </td><td>0.0005313719</td></tr>\n",
       "</tbody>\n",
       "</table>\n"
      ],
      "text/latex": [
       "\\begin{tabular}{r|ll}\n",
       " word & total\\\\\n",
       "\\hline\n",
       "\t peace        & 0.0013981771\\\\\n",
       "\t fig          & 0.0010949623\\\\\n",
       "\t war          & 0.0009980114\\\\\n",
       "\t anid         & 0.0007678024\\\\\n",
       "\t deep         & 0.0007148638\\\\\n",
       "\t mass         & 0.0005878213\\\\\n",
       "\t posterior    & 0.0005750301\\\\\n",
       "\t nippur       & 0.0005726727\\\\\n",
       "\t science      & 0.0005556250\\\\\n",
       "\t cope         & 0.0005313719\\\\\n",
       "\\end{tabular}\n"
      ],
      "text/markdown": [
       "\n",
       "word | total | \n",
       "|---|---|---|---|---|---|---|---|---|---|\n",
       "| peace        | 0.0013981771 | \n",
       "| fig          | 0.0010949623 | \n",
       "| war          | 0.0009980114 | \n",
       "| anid         | 0.0007678024 | \n",
       "| deep         | 0.0007148638 | \n",
       "| mass         | 0.0005878213 | \n",
       "| posterior    | 0.0005750301 | \n",
       "| nippur       | 0.0005726727 | \n",
       "| science      | 0.0005556250 | \n",
       "| cope         | 0.0005313719 | \n",
       "\n",
       "\n"
      ],
      "text/plain": [
       "   word      total       \n",
       "1  peace     0.0013981771\n",
       "2  fig       0.0010949623\n",
       "3  war       0.0009980114\n",
       "4  anid      0.0007678024\n",
       "5  deep      0.0007148638\n",
       "6  mass      0.0005878213\n",
       "7  posterior 0.0005750301\n",
       "8  nippur    0.0005726727\n",
       "9  science   0.0005556250\n",
       "10 cope      0.0005313719"
      ]
     },
     "metadata": {},
     "output_type": "display_data"
    }
   ],
   "source": [
    "print(\"increase in top 10 words for corpus\")\n",
    "word_inc_corpus = word_inc %>%\n",
    "    group_by(word) %>%\n",
    "    mutate(rollingDiff = lag(freq) - freq) %>%\n",
    "    filter(rollingDiff != \"NA\") %>% \n",
    "    summarize(total = sum(rollingDiff)) %>%\n",
    "    arrange(-total)\n",
    "head(word_inc_corpus, 10)"
   ]
  },
  {
   "cell_type": "code",
   "execution_count": 17,
   "metadata": {},
   "outputs": [],
   "source": [
    "word_inc_overtime_corpus = word_inc %>%\n",
    "    #filter(name == \"AdvPeace\") %>%\n",
    "    group_by(word) %>%\n",
    "    mutate(rollingDiff = lag(freq) - freq) %>%\n",
    "    filter(rollingDiff != \"NA\") "
   ]
  },
  {
   "cell_type": "code",
   "execution_count": 18,
   "metadata": {},
   "outputs": [
    {
     "data": {},
     "metadata": {},
     "output_type": "display_data"
    },
    {
     "data": {
      "image/png": "[encoded data removed]",
      "text/plain": [
       "plot without title"
      ]
     },
     "metadata": {},
     "output_type": "display_data"
    }
   ],
   "source": [
    "target = c(\"peace\", \"fig\", \"war\", \"anid\" ,\"deep\")\n",
    "word_inc_overtime_corpus = word_inc_overtime_corpus %>% \n",
    "    filter(word %in% target)\n",
    "    word_inc_overtime_corpus %>%\n",
    "    ggplot() + \n",
    "        aes(year, rollingDiff, color = word ) +\n",
    "        geom_line()"
   ]
  },
  {
   "cell_type": "code",
   "execution_count": 19,
   "metadata": {},
   "outputs": [
    {
     "name": "stdout",
     "output_type": "stream",
     "text": [
      "[1] \"increase in top 10 words for AdvPeace\"\n"
     ]
    },
    {
     "data": {
      "text/html": [
       "<table>\n",
       "<thead><tr><th scope=col>word</th><th scope=col>total</th></tr></thead>\n",
       "<tbody>\n",
       "\t<tr><td>1895        </td><td>1.326337e-04</td></tr>\n",
       "\t<tr><td>country     </td><td>1.200419e-04</td></tr>\n",
       "\t<tr><td>life        </td><td>9.989498e-05</td></tr>\n",
       "\t<tr><td>military    </td><td>9.989498e-05</td></tr>\n",
       "\t<tr><td>boys        </td><td>9.485826e-05</td></tr>\n",
       "\t<tr><td>hon         </td><td>9.485826e-05</td></tr>\n",
       "\t<tr><td>lord        </td><td>8.058755e-05</td></tr>\n",
       "\t<tr><td>chicago     </td><td>7.890864e-05</td></tr>\n",
       "\t<tr><td>god         </td><td>7.890864e-05</td></tr>\n",
       "\t<tr><td>army        </td><td>7.806919e-05</td></tr>\n",
       "</tbody>\n",
       "</table>\n"
      ],
      "text/latex": [
       "\\begin{tabular}{r|ll}\n",
       " word & total\\\\\n",
       "\\hline\n",
       "\t 1895         & 1.326337e-04\\\\\n",
       "\t country      & 1.200419e-04\\\\\n",
       "\t life         & 9.989498e-05\\\\\n",
       "\t military     & 9.989498e-05\\\\\n",
       "\t boys         & 9.485826e-05\\\\\n",
       "\t hon          & 9.485826e-05\\\\\n",
       "\t lord         & 8.058755e-05\\\\\n",
       "\t chicago      & 7.890864e-05\\\\\n",
       "\t god          & 7.890864e-05\\\\\n",
       "\t army         & 7.806919e-05\\\\\n",
       "\\end{tabular}\n"
      ],
      "text/markdown": [
       "\n",
       "word | total | \n",
       "|---|---|---|---|---|---|---|---|---|---|\n",
       "| 1895         | 1.326337e-04 | \n",
       "| country      | 1.200419e-04 | \n",
       "| life         | 9.989498e-05 | \n",
       "| military     | 9.989498e-05 | \n",
       "| boys         | 9.485826e-05 | \n",
       "| hon          | 9.485826e-05 | \n",
       "| lord         | 8.058755e-05 | \n",
       "| chicago      | 7.890864e-05 | \n",
       "| god          | 7.890864e-05 | \n",
       "| army         | 7.806919e-05 | \n",
       "\n",
       "\n"
      ],
      "text/plain": [
       "   word     total       \n",
       "1  1895     1.326337e-04\n",
       "2  country  1.200419e-04\n",
       "3  life     9.989498e-05\n",
       "4  military 9.989498e-05\n",
       "5  boys     9.485826e-05\n",
       "6  hon      9.485826e-05\n",
       "7  lord     8.058755e-05\n",
       "8  chicago  7.890864e-05\n",
       "9  god      7.890864e-05\n",
       "10 army     7.806919e-05"
      ]
     },
     "metadata": {},
     "output_type": "display_data"
    }
   ],
   "source": [
    "print(\"increase in top 10 words for AdvPeace\")\n",
    "word_inc_AdvPeace = word_inc %>%\n",
    "    filter(name == \"AdvPeace\") %>%\n",
    "    group_by(word) %>%\n",
    "    mutate(rollingDiff = lag(freq) - freq) %>%\n",
    "    filter(rollingDiff != \"NA\") %>% \n",
    "    summarize(total = sum(rollingDiff)) %>%\n",
    "    arrange(-total)\n",
    "head(word_inc_AdvPeace, 10)"
   ]
  },
  {
   "cell_type": "code",
   "execution_count": 20,
   "metadata": {},
   "outputs": [],
   "source": [
    "word_inc_overtime_AdvPeace = word_inc %>%\n",
    "    filter(name == \"AdvPeace\") %>%\n",
    "    group_by(word) %>%\n",
    "    mutate(rollingDiff = lag(freq) - freq) %>%\n",
    "    filter(rollingDiff != \"NA\") "
   ]
  },
  {
   "cell_type": "code",
   "execution_count": 21,
   "metadata": {},
   "outputs": [
    {
     "data": {},
     "metadata": {},
     "output_type": "display_data"
    },
    {
     "data": {
      "image/png": "[encoded data removed]",
      "text/plain": [
       "plot without title"
      ]
     },
     "metadata": {},
     "output_type": "display_data"
    }
   ],
   "source": [
    "target = c(\"1895\", \"country\", \"life\", \"military\" ,\"boys\")\n",
    "word_inc_overtime_AdvPeace = word_inc_overtime_AdvPeace %>% filter(word %in% target)\n",
    "word_inc_overtime_AdvPeace %>% ggplot() + \n",
    "    aes(year, rollingDiff, color = word ) +\n",
    "    geom_line()"
   ]
  },
  {
   "cell_type": "code",
   "execution_count": 22,
   "metadata": {},
   "outputs": [
    {
     "name": "stdout",
     "output_type": "stream",
     "text": [
      "[1] \"increase in top 10 words for AmPhil\"\n"
     ]
    },
    {
     "data": {
      "text/html": [
       "<table>\n",
       "<thead><tr><th scope=col>word</th><th scope=col>total</th></tr></thead>\n",
       "<tbody>\n",
       "\t<tr><td>cos         </td><td>0.0028279635</td></tr>\n",
       "\t<tr><td>sin         </td><td>0.0025224930</td></tr>\n",
       "\t<tr><td>chromosomes </td><td>0.0020343701</td></tr>\n",
       "\t<tr><td>species     </td><td>0.0009730966</td></tr>\n",
       "\t<tr><td>fig         </td><td>0.0009132621</td></tr>\n",
       "\t<tr><td>anid        </td><td>0.0007621015</td></tr>\n",
       "\t<tr><td>beds        </td><td>0.0007558032</td></tr>\n",
       "\t<tr><td>deep        </td><td>0.0007148638</td></tr>\n",
       "\t<tr><td>3           </td><td>0.0005857474</td></tr>\n",
       "\t<tr><td>4           </td><td>0.0005542556</td></tr>\n",
       "</tbody>\n",
       "</table>\n"
      ],
      "text/latex": [
       "\\begin{tabular}{r|ll}\n",
       " word & total\\\\\n",
       "\\hline\n",
       "\t cos          & 0.0028279635\\\\\n",
       "\t sin          & 0.0025224930\\\\\n",
       "\t chromosomes  & 0.0020343701\\\\\n",
       "\t species      & 0.0009730966\\\\\n",
       "\t fig          & 0.0009132621\\\\\n",
       "\t anid         & 0.0007621015\\\\\n",
       "\t beds         & 0.0007558032\\\\\n",
       "\t deep         & 0.0007148638\\\\\n",
       "\t 3            & 0.0005857474\\\\\n",
       "\t 4            & 0.0005542556\\\\\n",
       "\\end{tabular}\n"
      ],
      "text/markdown": [
       "\n",
       "word | total | \n",
       "|---|---|---|---|---|---|---|---|---|---|\n",
       "| cos          | 0.0028279635 | \n",
       "| sin          | 0.0025224930 | \n",
       "| chromosomes  | 0.0020343701 | \n",
       "| species      | 0.0009730966 | \n",
       "| fig          | 0.0009132621 | \n",
       "| anid         | 0.0007621015 | \n",
       "| beds         | 0.0007558032 | \n",
       "| deep         | 0.0007148638 | \n",
       "| 3            | 0.0005857474 | \n",
       "| 4            | 0.0005542556 | \n",
       "\n",
       "\n"
      ],
      "text/plain": [
       "   word        total       \n",
       "1  cos         0.0028279635\n",
       "2  sin         0.0025224930\n",
       "3  chromosomes 0.0020343701\n",
       "4  species     0.0009730966\n",
       "5  fig         0.0009132621\n",
       "6  anid        0.0007621015\n",
       "7  beds        0.0007558032\n",
       "8  deep        0.0007148638\n",
       "9  3           0.0005857474\n",
       "10 4           0.0005542556"
      ]
     },
     "metadata": {},
     "output_type": "display_data"
    }
   ],
   "source": [
    "print(\"increase in top 10 words for AmPhil\")\n",
    "word_inc_AmPhil = word_inc %>%\n",
    "    filter(name == \"AmPhil\") %>%\n",
    "    group_by(word) %>%\n",
    "    mutate(rollingDiff = lag(freq) - freq) %>%\n",
    "    filter(rollingDiff != \"NA\") %>% \n",
    "    summarize(total = sum(rollingDiff)) %>%\n",
    "    arrange(-total)\n",
    "head(word_inc_AmPhil, 10)"
   ]
  },
  {
   "cell_type": "code",
   "execution_count": 23,
   "metadata": {},
   "outputs": [],
   "source": [
    "word_inc_overtime_AmPhil = word_inc %>%\n",
    "    filter(name == \"AmPhil\") %>%\n",
    "    group_by(word) %>%\n",
    "    mutate(rollingDiff = lag(freq) - freq) %>%\n",
    "    filter(rollingDiff != \"NA\") "
   ]
  },
  {
   "cell_type": "code",
   "execution_count": 24,
   "metadata": {},
   "outputs": [
    {
     "data": {},
     "metadata": {},
     "output_type": "display_data"
    },
    {
     "data": {
      "image/png": "[encoded data removed]",
      "text/plain": [
       "plot without title"
      ]
     },
     "metadata": {},
     "output_type": "display_data"
    }
   ],
   "source": [
    "target = c(\"cos\", \"sin\", \"chromosomes\", \"species\" ,\"fig\")\n",
    "word_inc_overtime_AmPhil = word_inc_overtime_AmPhil %>% filter(word %in% target)\n",
    "word_inc_overtime_AmPhil %>% ggplot() + \n",
    "    aes(year, rollingDiff, color = word ) +\n",
    "    geom_line()"
   ]
  },
  {
   "cell_type": "code",
   "execution_count": 25,
   "metadata": {},
   "outputs": [
    {
     "name": "stdout",
     "output_type": "stream",
     "text": [
      "[1] \"increase in top 10 words for AmRev\"\n"
     ]
    },
    {
     "data": {
      "text/html": [
       "<table>\n",
       "<thead><tr><th scope=col>word</th><th scope=col>total</th></tr></thead>\n",
       "<tbody>\n",
       "\t<tr><td>gold        </td><td>1.314198e-04</td></tr>\n",
       "\t<tr><td>silver      </td><td>1.130083e-04</td></tr>\n",
       "\t<tr><td>money       </td><td>6.190062e-05</td></tr>\n",
       "\t<tr><td>women       </td><td>6.063086e-05</td></tr>\n",
       "\t<tr><td>notes       </td><td>5.904366e-05</td></tr>\n",
       "\t<tr><td>wealth      </td><td>5.396464e-05</td></tr>\n",
       "\t<tr><td>dreyfus     </td><td>5.269488e-05</td></tr>\n",
       "\t<tr><td>louis       </td><td>5.142513e-05</td></tr>\n",
       "\t<tr><td>napoleon    </td><td>4.825074e-05</td></tr>\n",
       "\t<tr><td>currency    </td><td>4.412403e-05</td></tr>\n",
       "</tbody>\n",
       "</table>\n"
      ],
      "text/latex": [
       "\\begin{tabular}{r|ll}\n",
       " word & total\\\\\n",
       "\\hline\n",
       "\t gold         & 1.314198e-04\\\\\n",
       "\t silver       & 1.130083e-04\\\\\n",
       "\t money        & 6.190062e-05\\\\\n",
       "\t women        & 6.063086e-05\\\\\n",
       "\t notes        & 5.904366e-05\\\\\n",
       "\t wealth       & 5.396464e-05\\\\\n",
       "\t dreyfus      & 5.269488e-05\\\\\n",
       "\t louis        & 5.142513e-05\\\\\n",
       "\t napoleon     & 4.825074e-05\\\\\n",
       "\t currency     & 4.412403e-05\\\\\n",
       "\\end{tabular}\n"
      ],
      "text/markdown": [
       "\n",
       "word | total | \n",
       "|---|---|---|---|---|---|---|---|---|---|\n",
       "| gold         | 1.314198e-04 | \n",
       "| silver       | 1.130083e-04 | \n",
       "| money        | 6.190062e-05 | \n",
       "| women        | 6.063086e-05 | \n",
       "| notes        | 5.904366e-05 | \n",
       "| wealth       | 5.396464e-05 | \n",
       "| dreyfus      | 5.269488e-05 | \n",
       "| louis        | 5.142513e-05 | \n",
       "| napoleon     | 4.825074e-05 | \n",
       "| currency     | 4.412403e-05 | \n",
       "\n",
       "\n"
      ],
      "text/plain": [
       "   word     total       \n",
       "1  gold     1.314198e-04\n",
       "2  silver   1.130083e-04\n",
       "3  money    6.190062e-05\n",
       "4  women    6.063086e-05\n",
       "5  notes    5.904366e-05\n",
       "6  wealth   5.396464e-05\n",
       "7  dreyfus  5.269488e-05\n",
       "8  louis    5.142513e-05\n",
       "9  napoleon 4.825074e-05\n",
       "10 currency 4.412403e-05"
      ]
     },
     "metadata": {},
     "output_type": "display_data"
    }
   ],
   "source": [
    "print(\"increase in top 10 words for AmRev\")\n",
    "word_inc_AmRev = word_inc %>%\n",
    "    filter(name == \"AmRev\") %>%\n",
    "    group_by(word) %>%\n",
    "    mutate(rollingDiff = lag(freq) - freq) %>%\n",
    "    filter(rollingDiff != \"NA\") %>% \n",
    "    summarize(total = sum(rollingDiff)) %>%\n",
    "    arrange(-total)\n",
    "head(word_inc_AmRev, 10)"
   ]
  },
  {
   "cell_type": "code",
   "execution_count": 26,
   "metadata": {},
   "outputs": [],
   "source": [
    "word_inc_overtime_AmRev = word_inc %>%\n",
    "    filter(name == \"AmRev\") %>%\n",
    "    group_by(word) %>%\n",
    "    mutate(rollingDiff = lag(freq) - freq) %>%\n",
    "    filter(rollingDiff != \"NA\") "
   ]
  },
  {
   "cell_type": "code",
   "execution_count": 27,
   "metadata": {},
   "outputs": [
    {
     "data": {},
     "metadata": {},
     "output_type": "display_data"
    },
    {
     "data": {
      "image/png": "[encoded data removed]",
      "text/plain": [
       "plot without title"
      ]
     },
     "metadata": {},
     "output_type": "display_data"
    }
   ],
   "source": [
    "target = c(\"gold\", \"silver\", \"money\", \"women\" ,\"notes\")\n",
    "word_inc_overtime_AmRev = word_inc_overtime_AmRev %>% filter(word %in% target)\n",
    "word_inc_overtime_AmRev %>% ggplot() + \n",
    "    aes(year, rollingDiff, color = word ) +\n",
    "    geom_line()"
   ]
  },
  {
   "cell_type": "code",
   "execution_count": 28,
   "metadata": {},
   "outputs": [
    {
     "name": "stdout",
     "output_type": "stream",
     "text": [
      "[1] \"increase in top 10 words for RoyalPhil\"\n"
     ]
    },
    {
     "data": {
      "text/html": [
       "<table>\n",
       "<thead><tr><th scope=col>word</th><th scope=col>total</th></tr></thead>\n",
       "<tbody>\n",
       "</tbody>\n",
       "</table>\n"
      ],
      "text/latex": [
       "\\begin{tabular}{r|ll}\n",
       " word & total\\\\\n",
       "\\hline\n",
       "\\end{tabular}\n"
      ],
      "text/markdown": [
       "\n",
       "word | total | \n",
       "||\n",
       "\n",
       "\n"
      ],
      "text/plain": [
       "     word total"
      ]
     },
     "metadata": {},
     "output_type": "display_data"
    }
   ],
   "source": [
    "print(\"increase in top 10 words for RoyalPhil\")\n",
    "word_inc_RoyalPhil = word_inc %>%\n",
    "    filter(name == \"RoyalPhil\") %>%\n",
    "    group_by(word) %>%\n",
    "    mutate(rollingDiff = lag(freq) - freq) %>%\n",
    "    filter(rollingDiff != \"NA\") %>% \n",
    "    summarize(total = sum(rollingDiff)) %>%\n",
    "    arrange(-total)\n",
    "head(word_inc_RoyalPhil, 10)"
   ]
  },
  {
   "cell_type": "code",
   "execution_count": 29,
   "metadata": {},
   "outputs": [],
   "source": [
    "word_inc_overtime_RoyalPhil = word_inc %>%\n",
    "    filter(name == \"RoyalPhil\") %>%\n",
    "    group_by(word) %>%\n",
    "    mutate(rollingDiff = lag(freq) - freq) %>%\n",
    "    filter(rollingDiff != \"NA\") "
   ]
  },
  {
   "cell_type": "code",
   "execution_count": 30,
   "metadata": {},
   "outputs": [
    {
     "data": {},
     "metadata": {},
     "output_type": "display_data"
    },
    {
     "data": {
      "image/png": "[encoded data removed]",
      "text/plain": [
       "plot without title"
      ]
     },
     "metadata": {},
     "output_type": "display_data"
    }
   ],
   "source": [
    "target = c(\"1\", \"98\", \"5\", \"2\" ,\"15\")\n",
    "word_inc_overtime_RoyalPhil = word_inc_overtime_RoyalPhil %>% filter(word %in% target)\n",
    "word_inc_overtime_RoyalPhil %>% ggplot() + \n",
    "    aes(year, rollingDiff, color = word ) +\n",
    "    geom_line()"
   ]
  },
  {
   "cell_type": "code",
   "execution_count": 31,
   "metadata": {},
   "outputs": [
    {
     "name": "stdout",
     "output_type": "stream",
     "text": [
      "[1] \"increase in top 10 words for Science\"\n"
     ]
    },
    {
     "data": {
      "text/html": [
       "<table>\n",
       "<thead><tr><th scope=col>word</th><th scope=col>total</th></tr></thead>\n",
       "<tbody>\n",
       "\t<tr><td>1895        </td><td>2.856110e-04</td></tr>\n",
       "\t<tr><td>prof        </td><td>1.655110e-04</td></tr>\n",
       "\t<tr><td>1894        </td><td>9.201692e-05</td></tr>\n",
       "\t<tr><td>pp          </td><td>8.412976e-05</td></tr>\n",
       "\t<tr><td>science     </td><td>7.923016e-05</td></tr>\n",
       "\t<tr><td>ii          </td><td>7.875215e-05</td></tr>\n",
       "\t<tr><td>scientific  </td><td>6.668239e-05</td></tr>\n",
       "\t<tr><td>current     </td><td>3.967483e-05</td></tr>\n",
       "\t<tr><td>book        </td><td>3.919682e-05</td></tr>\n",
       "\t<tr><td>literature  </td><td>3.668727e-05</td></tr>\n",
       "</tbody>\n",
       "</table>\n"
      ],
      "text/latex": [
       "\\begin{tabular}{r|ll}\n",
       " word & total\\\\\n",
       "\\hline\n",
       "\t 1895         & 2.856110e-04\\\\\n",
       "\t prof         & 1.655110e-04\\\\\n",
       "\t 1894         & 9.201692e-05\\\\\n",
       "\t pp           & 8.412976e-05\\\\\n",
       "\t science      & 7.923016e-05\\\\\n",
       "\t ii           & 7.875215e-05\\\\\n",
       "\t scientific   & 6.668239e-05\\\\\n",
       "\t current      & 3.967483e-05\\\\\n",
       "\t book         & 3.919682e-05\\\\\n",
       "\t literature   & 3.668727e-05\\\\\n",
       "\\end{tabular}\n"
      ],
      "text/markdown": [
       "\n",
       "word | total | \n",
       "|---|---|---|---|---|---|---|---|---|---|\n",
       "| 1895         | 2.856110e-04 | \n",
       "| prof         | 1.655110e-04 | \n",
       "| 1894         | 9.201692e-05 | \n",
       "| pp           | 8.412976e-05 | \n",
       "| science      | 7.923016e-05 | \n",
       "| ii           | 7.875215e-05 | \n",
       "| scientific   | 6.668239e-05 | \n",
       "| current      | 3.967483e-05 | \n",
       "| book         | 3.919682e-05 | \n",
       "| literature   | 3.668727e-05 | \n",
       "\n",
       "\n"
      ],
      "text/plain": [
       "   word       total       \n",
       "1  1895       2.856110e-04\n",
       "2  prof       1.655110e-04\n",
       "3  1894       9.201692e-05\n",
       "4  pp         8.412976e-05\n",
       "5  science    7.923016e-05\n",
       "6  ii         7.875215e-05\n",
       "7  scientific 6.668239e-05\n",
       "8  current    3.967483e-05\n",
       "9  book       3.919682e-05\n",
       "10 literature 3.668727e-05"
      ]
     },
     "metadata": {},
     "output_type": "display_data"
    }
   ],
   "source": [
    "print(\"increase in top 10 words for Science\")\n",
    "word_inc_Science = word_inc %>%\n",
    "    filter(name == \"Science\") %>%\n",
    "    group_by(word) %>%\n",
    "    mutate(rollingDiff = lag(freq) - freq) %>%\n",
    "    filter(rollingDiff != \"NA\") %>% \n",
    "    summarize(total = sum(rollingDiff)) %>%\n",
    "    arrange(-total)\n",
    "head(word_inc_Science, 10)"
   ]
  },
  {
   "cell_type": "code",
   "execution_count": 32,
   "metadata": {},
   "outputs": [],
   "source": [
    "word_inc_overtime_Science = word_inc %>%\n",
    "    filter(name == \"Science\") %>%\n",
    "    group_by(word) %>%\n",
    "    mutate(rollingDiff = lag(freq) - freq) %>%\n",
    "    filter(rollingDiff != \"NA\") "
   ]
  },
  {
   "cell_type": "code",
   "execution_count": 33,
   "metadata": {},
   "outputs": [
    {
     "data": {},
     "metadata": {},
     "output_type": "display_data"
    },
    {
     "data": {
      "image/png": "[encoded data removed]",
      "text/plain": [
       "plot without title"
      ]
     },
     "metadata": {},
     "output_type": "display_data"
    }
   ],
   "source": [
    "target = c(\"1895\", \"prof\", \"1894\", \"pp\", \"science\")\n",
    "word_inc_overtime_Science = word_inc_overtime_Science %>% filter(word %in% target)\n",
    "word_inc_overtime_Science %>% ggplot() + \n",
    "    aes(year, rollingDiff, color = word ) +\n",
    "    geom_line()"
   ]
  },
  {
   "cell_type": "markdown",
   "metadata": {},
   "source": [
    "### 2. What 5–10 words see the greatest decrease in use over time?"
   ]
  },
  {
   "cell_type": "code",
   "execution_count": 34,
   "metadata": {},
   "outputs": [
    {
     "name": "stdout",
     "output_type": "stream",
     "text": [
      "[1] \"decrease in top 10 words for corpus\"\n"
     ]
    },
    {
     "data": {
      "text/html": [
       "<table>\n",
       "<thead><tr><th scope=col>word</th><th scope=col>total</th></tr></thead>\n",
       "<tbody>\n",
       "\t<tr><td>spermatogonic</td><td>-0.0003295884</td></tr>\n",
       "\t<tr><td>congress     </td><td>-0.0002793733</td></tr>\n",
       "\t<tr><td>president    </td><td>-0.0002463701</td></tr>\n",
       "\t<tr><td>3.21         </td><td>-0.0002393377</td></tr>\n",
       "\t<tr><td>3.08         </td><td>-0.0002383853</td></tr>\n",
       "\t<tr><td>3.12         </td><td>-0.0002264235</td></tr>\n",
       "\t<tr><td>biv          </td><td>-0.0002201251</td></tr>\n",
       "\t<tr><td>3.10         </td><td>-0.0002077264</td></tr>\n",
       "\t<tr><td>3.19         </td><td>-0.0002077264</td></tr>\n",
       "\t<tr><td>3.23         </td><td>-0.0002076069</td></tr>\n",
       "</tbody>\n",
       "</table>\n"
      ],
      "text/latex": [
       "\\begin{tabular}{r|ll}\n",
       " word & total\\\\\n",
       "\\hline\n",
       "\t spermatogonic & -0.0003295884\\\\\n",
       "\t congress      & -0.0002793733\\\\\n",
       "\t president     & -0.0002463701\\\\\n",
       "\t 3.21          & -0.0002393377\\\\\n",
       "\t 3.08          & -0.0002383853\\\\\n",
       "\t 3.12          & -0.0002264235\\\\\n",
       "\t biv           & -0.0002201251\\\\\n",
       "\t 3.10          & -0.0002077264\\\\\n",
       "\t 3.19          & -0.0002077264\\\\\n",
       "\t 3.23          & -0.0002076069\\\\\n",
       "\\end{tabular}\n"
      ],
      "text/markdown": [
       "\n",
       "word | total | \n",
       "|---|---|---|---|---|---|---|---|---|---|\n",
       "| spermatogonic | -0.0003295884 | \n",
       "| congress      | -0.0002793733 | \n",
       "| president     | -0.0002463701 | \n",
       "| 3.21          | -0.0002393377 | \n",
       "| 3.08          | -0.0002383853 | \n",
       "| 3.12          | -0.0002264235 | \n",
       "| biv           | -0.0002201251 | \n",
       "| 3.10          | -0.0002077264 | \n",
       "| 3.19          | -0.0002077264 | \n",
       "| 3.23          | -0.0002076069 | \n",
       "\n",
       "\n"
      ],
      "text/plain": [
       "   word          total        \n",
       "1  spermatogonic -0.0003295884\n",
       "2  congress      -0.0002793733\n",
       "3  president     -0.0002463701\n",
       "4  3.21          -0.0002393377\n",
       "5  3.08          -0.0002383853\n",
       "6  3.12          -0.0002264235\n",
       "7  biv           -0.0002201251\n",
       "8  3.10          -0.0002077264\n",
       "9  3.19          -0.0002077264\n",
       "10 3.23          -0.0002076069"
      ]
     },
     "metadata": {},
     "output_type": "display_data"
    }
   ],
   "source": [
    "print(\"decrease in top 10 words for corpus\")\n",
    "word_inc_corpus = word_inc %>%\n",
    "    group_by(word) %>%\n",
    "    mutate(rollingDiff = lag(freq) - freq) %>%\n",
    "    filter(rollingDiff != \"NA\") %>% \n",
    "    summarize(total = sum(rollingDiff)) %>%\n",
    "    arrange(total)\n",
    "head(word_inc_corpus, 10)"
   ]
  },
  {
   "cell_type": "code",
   "execution_count": 35,
   "metadata": {},
   "outputs": [
    {
     "name": "stdout",
     "output_type": "stream",
     "text": [
      "[1] \"decrease in top 10 words for AdvPeace\"\n"
     ]
    },
    {
     "data": {
      "text/html": [
       "<table>\n",
       "<thead><tr><th scope=col>word</th><th scope=col>total</th></tr></thead>\n",
       "<tbody>\n",
       "\t<tr><td>peace        </td><td>-0.0005145851</td></tr>\n",
       "\t<tr><td>hague        </td><td>-0.0003089189</td></tr>\n",
       "\t<tr><td>international</td><td>-0.0003013639</td></tr>\n",
       "\t<tr><td>conference   </td><td>-0.0002467994</td></tr>\n",
       "\t<tr><td>st           </td><td>-0.0002358865</td></tr>\n",
       "\t<tr><td>cts          </td><td>-0.0002023083</td></tr>\n",
       "\t<tr><td>hundred      </td><td>-0.0001897165</td></tr>\n",
       "\t<tr><td>world        </td><td>-0.0001838403</td></tr>\n",
       "\t<tr><td>price        </td><td>-0.0001737669</td></tr>\n",
       "\t<tr><td>treaties     </td><td>-0.0001578173</td></tr>\n",
       "</tbody>\n",
       "</table>\n"
      ],
      "text/latex": [
       "\\begin{tabular}{r|ll}\n",
       " word & total\\\\\n",
       "\\hline\n",
       "\t peace         & -0.0005145851\\\\\n",
       "\t hague         & -0.0003089189\\\\\n",
       "\t international & -0.0003013639\\\\\n",
       "\t conference    & -0.0002467994\\\\\n",
       "\t st            & -0.0002358865\\\\\n",
       "\t cts           & -0.0002023083\\\\\n",
       "\t hundred       & -0.0001897165\\\\\n",
       "\t world         & -0.0001838403\\\\\n",
       "\t price         & -0.0001737669\\\\\n",
       "\t treaties      & -0.0001578173\\\\\n",
       "\\end{tabular}\n"
      ],
      "text/markdown": [
       "\n",
       "word | total | \n",
       "|---|---|---|---|---|---|---|---|---|---|\n",
       "| peace         | -0.0005145851 | \n",
       "| hague         | -0.0003089189 | \n",
       "| international | -0.0003013639 | \n",
       "| conference    | -0.0002467994 | \n",
       "| st            | -0.0002358865 | \n",
       "| cts           | -0.0002023083 | \n",
       "| hundred       | -0.0001897165 | \n",
       "| world         | -0.0001838403 | \n",
       "| price         | -0.0001737669 | \n",
       "| treaties      | -0.0001578173 | \n",
       "\n",
       "\n"
      ],
      "text/plain": [
       "   word          total        \n",
       "1  peace         -0.0005145851\n",
       "2  hague         -0.0003089189\n",
       "3  international -0.0003013639\n",
       "4  conference    -0.0002467994\n",
       "5  st            -0.0002358865\n",
       "6  cts           -0.0002023083\n",
       "7  hundred       -0.0001897165\n",
       "8  world         -0.0001838403\n",
       "9  price         -0.0001737669\n",
       "10 treaties      -0.0001578173"
      ]
     },
     "metadata": {},
     "output_type": "display_data"
    }
   ],
   "source": [
    "print(\"decrease in top 10 words for AdvPeace\")\n",
    "word_inc_AdvPeace = word_inc %>%\n",
    "    filter(name == \"AdvPeace\") %>%\n",
    "    group_by(word) %>%\n",
    "    mutate(rollingDiff = lag(freq) - freq) %>%\n",
    "    filter(rollingDiff != \"NA\") %>% \n",
    "    summarize(total = sum(rollingDiff)) %>%\n",
    "    arrange(total)\n",
    "head(word_inc_AdvPeace, 10)"
   ]
  },
  {
   "cell_type": "code",
   "execution_count": 36,
   "metadata": {},
   "outputs": [
    {
     "name": "stdout",
     "output_type": "stream",
     "text": [
      "[1] \"decrease in top 10 words for AmPhil\"\n"
     ]
    },
    {
     "data": {
      "text/html": [
       "<table>\n",
       "<thead><tr><th scope=col>word</th><th scope=col>total</th></tr></thead>\n",
       "<tbody>\n",
       "\t<tr><td>40           </td><td>-0.0096585344</td></tr>\n",
       "\t<tr><td>36           </td><td>-0.0011242572</td></tr>\n",
       "\t<tr><td>42           </td><td>-0.0010864670</td></tr>\n",
       "\t<tr><td>24           </td><td>-0.0010833178</td></tr>\n",
       "\t<tr><td>37           </td><td>-0.0010833178</td></tr>\n",
       "\t<tr><td>34           </td><td>-0.0009321572</td></tr>\n",
       "\t<tr><td>38           </td><td>-0.0008912179</td></tr>\n",
       "\t<tr><td>23           </td><td>-0.0008786212</td></tr>\n",
       "\t<tr><td>30           </td><td>-0.0008691736</td></tr>\n",
       "\t<tr><td>33           </td><td>-0.0007841458</td></tr>\n",
       "</tbody>\n",
       "</table>\n"
      ],
      "text/latex": [
       "\\begin{tabular}{r|ll}\n",
       " word & total\\\\\n",
       "\\hline\n",
       "\t 40            & -0.0096585344\\\\\n",
       "\t 36            & -0.0011242572\\\\\n",
       "\t 42            & -0.0010864670\\\\\n",
       "\t 24            & -0.0010833178\\\\\n",
       "\t 37            & -0.0010833178\\\\\n",
       "\t 34            & -0.0009321572\\\\\n",
       "\t 38            & -0.0008912179\\\\\n",
       "\t 23            & -0.0008786212\\\\\n",
       "\t 30            & -0.0008691736\\\\\n",
       "\t 33            & -0.0007841458\\\\\n",
       "\\end{tabular}\n"
      ],
      "text/markdown": [
       "\n",
       "word | total | \n",
       "|---|---|---|---|---|---|---|---|---|---|\n",
       "| 40            | -0.0096585344 | \n",
       "| 36            | -0.0011242572 | \n",
       "| 42            | -0.0010864670 | \n",
       "| 24            | -0.0010833178 | \n",
       "| 37            | -0.0010833178 | \n",
       "| 34            | -0.0009321572 | \n",
       "| 38            | -0.0008912179 | \n",
       "| 23            | -0.0008786212 | \n",
       "| 30            | -0.0008691736 | \n",
       "| 33            | -0.0007841458 | \n",
       "\n",
       "\n"
      ],
      "text/plain": [
       "   word total        \n",
       "1  40   -0.0096585344\n",
       "2  36   -0.0011242572\n",
       "3  42   -0.0010864670\n",
       "4  24   -0.0010833178\n",
       "5  37   -0.0010833178\n",
       "6  34   -0.0009321572\n",
       "7  38   -0.0008912179\n",
       "8  23   -0.0008786212\n",
       "9  30   -0.0008691736\n",
       "10 33   -0.0007841458"
      ]
     },
     "metadata": {},
     "output_type": "display_data"
    }
   ],
   "source": [
    "print(\"decrease in top 10 words for AmPhil\")\n",
    "word_inc_AmPhil = word_inc %>%\n",
    "    filter(name == \"AmPhil\") %>%\n",
    "    group_by(word) %>%\n",
    "    mutate(rollingDiff = lag(freq) - freq) %>%\n",
    "    filter(rollingDiff != \"NA\") %>% \n",
    "    summarize(total = sum(rollingDiff)) %>%\n",
    "    arrange(total)\n",
    "head(word_inc_AmPhil, 10)"
   ]
  },
  {
   "cell_type": "code",
   "execution_count": 37,
   "metadata": {},
   "outputs": [
    {
     "name": "stdout",
     "output_type": "stream",
     "text": [
      "[1] \"decrease in top 10 words for AmRev\"\n"
     ]
    },
    {
     "data": {
      "text/html": [
       "<table>\n",
       "<thead><tr><th scope=col>word</th><th scope=col>total</th></tr></thead>\n",
       "<tbody>\n",
       "\t<tr><td>american     </td><td>-1.815751e-04</td></tr>\n",
       "\t<tr><td>government   </td><td>-1.726868e-04</td></tr>\n",
       "\t<tr><td>commission   </td><td>-1.168176e-04</td></tr>\n",
       "\t<tr><td>war          </td><td>-1.161827e-04</td></tr>\n",
       "\t<tr><td>rates        </td><td>-1.104688e-04</td></tr>\n",
       "\t<tr><td>united       </td><td>-1.066595e-04</td></tr>\n",
       "\t<tr><td>tariff       </td><td>-1.018979e-04</td></tr>\n",
       "\t<tr><td>foreign      </td><td>-9.999330e-05</td></tr>\n",
       "\t<tr><td>law          </td><td>-9.808867e-05</td></tr>\n",
       "\t<tr><td>german       </td><td>-9.396196e-05</td></tr>\n",
       "</tbody>\n",
       "</table>\n"
      ],
      "text/latex": [
       "\\begin{tabular}{r|ll}\n",
       " word & total\\\\\n",
       "\\hline\n",
       "\t american      & -1.815751e-04\\\\\n",
       "\t government    & -1.726868e-04\\\\\n",
       "\t commission    & -1.168176e-04\\\\\n",
       "\t war           & -1.161827e-04\\\\\n",
       "\t rates         & -1.104688e-04\\\\\n",
       "\t united        & -1.066595e-04\\\\\n",
       "\t tariff        & -1.018979e-04\\\\\n",
       "\t foreign       & -9.999330e-05\\\\\n",
       "\t law           & -9.808867e-05\\\\\n",
       "\t german        & -9.396196e-05\\\\\n",
       "\\end{tabular}\n"
      ],
      "text/markdown": [
       "\n",
       "word | total | \n",
       "|---|---|---|---|---|---|---|---|---|---|\n",
       "| american      | -1.815751e-04 | \n",
       "| government    | -1.726868e-04 | \n",
       "| commission    | -1.168176e-04 | \n",
       "| war           | -1.161827e-04 | \n",
       "| rates         | -1.104688e-04 | \n",
       "| united        | -1.066595e-04 | \n",
       "| tariff        | -1.018979e-04 | \n",
       "| foreign       | -9.999330e-05 | \n",
       "| law           | -9.808867e-05 | \n",
       "| german        | -9.396196e-05 | \n",
       "\n",
       "\n"
      ],
      "text/plain": [
       "   word       total        \n",
       "1  american   -1.815751e-04\n",
       "2  government -1.726868e-04\n",
       "3  commission -1.168176e-04\n",
       "4  war        -1.161827e-04\n",
       "5  rates      -1.104688e-04\n",
       "6  united     -1.066595e-04\n",
       "7  tariff     -1.018979e-04\n",
       "8  foreign    -9.999330e-05\n",
       "9  law        -9.808867e-05\n",
       "10 german     -9.396196e-05"
      ]
     },
     "metadata": {},
     "output_type": "display_data"
    }
   ],
   "source": [
    "print(\"decrease in top 10 words for AmRev\")\n",
    "word_inc_AmRev = word_inc %>%\n",
    "    filter(name == \"AmRev\") %>%\n",
    "    group_by(word) %>%\n",
    "    mutate(rollingDiff = lag(freq) - freq) %>%\n",
    "    filter(rollingDiff != \"NA\") %>% \n",
    "    summarize(total = sum(rollingDiff)) %>%\n",
    "    arrange(total)\n",
    "head(word_inc_AmRev, 10)"
   ]
  },
  {
   "cell_type": "code",
   "execution_count": 38,
   "metadata": {},
   "outputs": [
    {
     "name": "stdout",
     "output_type": "stream",
     "text": [
      "[1] \"decrease in top 10 words for RoyalPhil\"\n"
     ]
    },
    {
     "data": {
      "text/html": [
       "<table>\n",
       "<thead><tr><th scope=col>word</th><th scope=col>total</th></tr></thead>\n",
       "<tbody>\n",
       "</tbody>\n",
       "</table>\n"
      ],
      "text/latex": [
       "\\begin{tabular}{r|ll}\n",
       " word & total\\\\\n",
       "\\hline\n",
       "\\end{tabular}\n"
      ],
      "text/markdown": [
       "\n",
       "word | total | \n",
       "||\n",
       "\n",
       "\n"
      ],
      "text/plain": [
       "     word total"
      ]
     },
     "metadata": {},
     "output_type": "display_data"
    }
   ],
   "source": [
    "print(\"decrease in top 10 words for RoyalPhil\")\n",
    "word_inc_RoyalPhil = word_inc %>%\n",
    "    filter(name == \"RoyalPhil\") %>%\n",
    "    group_by(word) %>%\n",
    "    mutate(rollingDiff = lag(freq) - freq) %>%\n",
    "    filter(rollingDiff != \"NA\") %>% \n",
    "    summarize(total = sum(rollingDiff)) %>%\n",
    "    arrange(total)\n",
    "head(word_inc_RoyalPhil, 10)"
   ]
  },
  {
   "cell_type": "code",
   "execution_count": 39,
   "metadata": {},
   "outputs": [
    {
     "name": "stdout",
     "output_type": "stream",
     "text": [
      "[1] \"decrease in top 10 words for Science\"\n"
     ]
    },
    {
     "data": {
      "text/html": [
       "<table>\n",
       "<thead><tr><th scope=col>word</th><th scope=col>total</th></tr></thead>\n",
       "<tbody>\n",
       "\t<tr><td>1905         </td><td>-2.458166e-04</td></tr>\n",
       "\t<tr><td>university   </td><td>-2.368539e-04</td></tr>\n",
       "\t<tr><td>professor    </td><td>-2.202431e-04</td></tr>\n",
       "\t<tr><td>1            </td><td>-1.361133e-04</td></tr>\n",
       "\t<tr><td>dr           </td><td>-1.074327e-04</td></tr>\n",
       "\t<tr><td>species      </td><td>-9.954558e-05</td></tr>\n",
       "\t<tr><td>1904         </td><td>-9.619951e-05</td></tr>\n",
       "\t<tr><td>whieh        </td><td>-8.651981e-05</td></tr>\n",
       "\t<tr><td>president    </td><td>-8.078369e-05</td></tr>\n",
       "\t<tr><td>college      </td><td>-7.851314e-05</td></tr>\n",
       "</tbody>\n",
       "</table>\n"
      ],
      "text/latex": [
       "\\begin{tabular}{r|ll}\n",
       " word & total\\\\\n",
       "\\hline\n",
       "\t 1905          & -2.458166e-04\\\\\n",
       "\t university    & -2.368539e-04\\\\\n",
       "\t professor     & -2.202431e-04\\\\\n",
       "\t 1             & -1.361133e-04\\\\\n",
       "\t dr            & -1.074327e-04\\\\\n",
       "\t species       & -9.954558e-05\\\\\n",
       "\t 1904          & -9.619951e-05\\\\\n",
       "\t whieh         & -8.651981e-05\\\\\n",
       "\t president     & -8.078369e-05\\\\\n",
       "\t college       & -7.851314e-05\\\\\n",
       "\\end{tabular}\n"
      ],
      "text/markdown": [
       "\n",
       "word | total | \n",
       "|---|---|---|---|---|---|---|---|---|---|\n",
       "| 1905          | -2.458166e-04 | \n",
       "| university    | -2.368539e-04 | \n",
       "| professor     | -2.202431e-04 | \n",
       "| 1             | -1.361133e-04 | \n",
       "| dr            | -1.074327e-04 | \n",
       "| species       | -9.954558e-05 | \n",
       "| 1904          | -9.619951e-05 | \n",
       "| whieh         | -8.651981e-05 | \n",
       "| president     | -8.078369e-05 | \n",
       "| college       | -7.851314e-05 | \n",
       "\n",
       "\n"
      ],
      "text/plain": [
       "   word       total        \n",
       "1  1905       -2.458166e-04\n",
       "2  university -2.368539e-04\n",
       "3  professor  -2.202431e-04\n",
       "4  1          -1.361133e-04\n",
       "5  dr         -1.074327e-04\n",
       "6  species    -9.954558e-05\n",
       "7  1904       -9.619951e-05\n",
       "8  whieh      -8.651981e-05\n",
       "9  president  -8.078369e-05\n",
       "10 college    -7.851314e-05"
      ]
     },
     "metadata": {},
     "output_type": "display_data"
    }
   ],
   "source": [
    "print(\"decrease in top 10 words for Science\")\n",
    "word_inc_Science = word_inc %>%\n",
    "    filter(name == \"Science\") %>%\n",
    "    group_by(word) %>%\n",
    "    mutate(rollingDiff = lag(freq) - freq) %>%\n",
    "    filter(rollingDiff != \"NA\") %>% \n",
    "    summarize(total = sum(rollingDiff)) %>%\n",
    "    arrange(total)\n",
    "head(word_inc_Science, 10)"
   ]
  },
  {
   "cell_type": "markdown",
   "metadata": {},
   "source": [
    "### 3. What 5–10 words are the most consistently frequently used?"
   ]
  },
  {
   "cell_type": "code",
   "execution_count": 40,
   "metadata": {},
   "outputs": [
    {
     "name": "stdout",
     "output_type": "stream",
     "text": [
      "[1] \"The 510 words most consistently frequently used in Corpus\"\n"
     ]
    },
    {
     "data": {
      "text/html": [
       "<table>\n",
       "<thead><tr><th scope=col>word</th><th scope=col>mean</th></tr></thead>\n",
       "<tbody>\n",
       "\t<tr><td>2           </td><td>0.0005210843</td></tr>\n",
       "\t<tr><td>1           </td><td>0.0004949232</td></tr>\n",
       "\t<tr><td>40          </td><td>0.0004684729</td></tr>\n",
       "\t<tr><td>peace       </td><td>0.0004662643</td></tr>\n",
       "\t<tr><td>monaster    </td><td>0.0004408852</td></tr>\n",
       "\t<tr><td>3           </td><td>0.0004226637</td></tr>\n",
       "\t<tr><td>4           </td><td>0.0004058836</td></tr>\n",
       "\t<tr><td>6           </td><td>0.0004056983</td></tr>\n",
       "\t<tr><td>war         </td><td>0.0004040699</td></tr>\n",
       "\t<tr><td>5           </td><td>0.0003364452</td></tr>\n",
       "</tbody>\n",
       "</table>\n"
      ],
      "text/latex": [
       "\\begin{tabular}{r|ll}\n",
       " word & mean\\\\\n",
       "\\hline\n",
       "\t 2            & 0.0005210843\\\\\n",
       "\t 1            & 0.0004949232\\\\\n",
       "\t 40           & 0.0004684729\\\\\n",
       "\t peace        & 0.0004662643\\\\\n",
       "\t monaster     & 0.0004408852\\\\\n",
       "\t 3            & 0.0004226637\\\\\n",
       "\t 4            & 0.0004058836\\\\\n",
       "\t 6            & 0.0004056983\\\\\n",
       "\t war          & 0.0004040699\\\\\n",
       "\t 5            & 0.0003364452\\\\\n",
       "\\end{tabular}\n"
      ],
      "text/markdown": [
       "\n",
       "word | mean | \n",
       "|---|---|---|---|---|---|---|---|---|---|\n",
       "| 2            | 0.0005210843 | \n",
       "| 1            | 0.0004949232 | \n",
       "| 40           | 0.0004684729 | \n",
       "| peace        | 0.0004662643 | \n",
       "| monaster     | 0.0004408852 | \n",
       "| 3            | 0.0004226637 | \n",
       "| 4            | 0.0004058836 | \n",
       "| 6            | 0.0004056983 | \n",
       "| war          | 0.0004040699 | \n",
       "| 5            | 0.0003364452 | \n",
       "\n",
       "\n"
      ],
      "text/plain": [
       "   word     mean        \n",
       "1  2        0.0005210843\n",
       "2  1        0.0004949232\n",
       "3  40       0.0004684729\n",
       "4  peace    0.0004662643\n",
       "5  monaster 0.0004408852\n",
       "6  3        0.0004226637\n",
       "7  4        0.0004058836\n",
       "8  6        0.0004056983\n",
       "9  war      0.0004040699\n",
       "10 5        0.0003364452"
      ]
     },
     "metadata": {},
     "output_type": "display_data"
    }
   ],
   "source": [
    "print(\"The 5–10 words most consistently frequently used in Corpus\")\n",
    "word_mean = word_collection2 %>%\n",
    "    mutate(freq = n/total) %>%\n",
    "    group_by(word) %>%\n",
    "    arrange(word) %>%\n",
    "    select(year, name, word, freq) %>%\n",
    "    summarize(mean = mean(freq)) %>%\n",
    "    arrange(-mean)\n",
    "head(word_mean, 10)"
   ]
  },
  {
   "cell_type": "code",
   "execution_count": 41,
   "metadata": {},
   "outputs": [
    {
     "name": "stdout",
     "output_type": "stream",
     "text": [
      "[1] \"The 510 words most consistently frequently used in AdvPeace\"\n"
     ]
    },
    {
     "data": {
      "text/html": [
       "<table>\n",
       "<thead><tr><th scope=col>word</th><th scope=col>mean</th></tr></thead>\n",
       "<tbody>\n",
       "\t<tr><td>peace        </td><td>0.0013662490 </td></tr>\n",
       "\t<tr><td>war          </td><td>0.0010335201 </td></tr>\n",
       "\t<tr><td>mass         </td><td>0.0005341215 </td></tr>\n",
       "\t<tr><td>arbitration  </td><td>0.0004240767 </td></tr>\n",
       "\t<tr><td>society      </td><td>0.0004056087 </td></tr>\n",
       "\t<tr><td>international</td><td>0.0003763805 </td></tr>\n",
       "\t<tr><td>boston       </td><td>0.0003675281 </td></tr>\n",
       "\t<tr><td>nations      </td><td>0.0003627966 </td></tr>\n",
       "\t<tr><td>world        </td><td>0.0003434892 </td></tr>\n",
       "\t<tr><td>rev          </td><td>0.0003319658 </td></tr>\n",
       "</tbody>\n",
       "</table>\n"
      ],
      "text/latex": [
       "\\begin{tabular}{r|ll}\n",
       " word & mean\\\\\n",
       "\\hline\n",
       "\t peace         & 0.0013662490 \\\\\n",
       "\t war           & 0.0010335201 \\\\\n",
       "\t mass          & 0.0005341215 \\\\\n",
       "\t arbitration   & 0.0004240767 \\\\\n",
       "\t society       & 0.0004056087 \\\\\n",
       "\t international & 0.0003763805 \\\\\n",
       "\t boston        & 0.0003675281 \\\\\n",
       "\t nations       & 0.0003627966 \\\\\n",
       "\t world         & 0.0003434892 \\\\\n",
       "\t rev           & 0.0003319658 \\\\\n",
       "\\end{tabular}\n"
      ],
      "text/markdown": [
       "\n",
       "word | mean | \n",
       "|---|---|---|---|---|---|---|---|---|---|\n",
       "| peace         | 0.0013662490  | \n",
       "| war           | 0.0010335201  | \n",
       "| mass          | 0.0005341215  | \n",
       "| arbitration   | 0.0004240767  | \n",
       "| society       | 0.0004056087  | \n",
       "| international | 0.0003763805  | \n",
       "| boston        | 0.0003675281  | \n",
       "| nations       | 0.0003627966  | \n",
       "| world         | 0.0003434892  | \n",
       "| rev           | 0.0003319658  | \n",
       "\n",
       "\n"
      ],
      "text/plain": [
       "   word          mean        \n",
       "1  peace         0.0013662490\n",
       "2  war           0.0010335201\n",
       "3  mass          0.0005341215\n",
       "4  arbitration   0.0004240767\n",
       "5  society       0.0004056087\n",
       "6  international 0.0003763805\n",
       "7  boston        0.0003675281\n",
       "8  nations       0.0003627966\n",
       "9  world         0.0003434892\n",
       "10 rev           0.0003319658"
      ]
     },
     "metadata": {},
     "output_type": "display_data"
    }
   ],
   "source": [
    "print(\"The 5–10 words most consistently frequently used in AdvPeace\")\n",
    "word_mean_AdvPeace = word_collection2 %>%\n",
    "    mutate(freq = n/total) %>%\n",
    "    filter(name == \"AdvPeace\") %>%\n",
    "    group_by(word) %>%\n",
    "    arrange(word) %>%\n",
    "    select(year, name, word, freq) %>%\n",
    "    summarize(mean = mean(freq)) %>%\n",
    "    arrange(-mean)\n",
    "head(word_mean_AdvPeace, 10)"
   ]
  },
  {
   "cell_type": "code",
   "execution_count": 42,
   "metadata": {},
   "outputs": [
    {
     "name": "stdout",
     "output_type": "stream",
     "text": [
      "[1] \"The 510 words most consistently frequently used in AmPhil\"\n"
     ]
    },
    {
     "data": {
      "text/html": [
       "<table>\n",
       "<thead><tr><th scope=col>word</th><th scope=col>mean</th></tr></thead>\n",
       "<tbody>\n",
       "\t<tr><td>40         </td><td>0.002979124</td></tr>\n",
       "\t<tr><td>2          </td><td>0.002638563</td></tr>\n",
       "\t<tr><td>1          </td><td>0.002392027</td></tr>\n",
       "\t<tr><td>6          </td><td>0.002142342</td></tr>\n",
       "\t<tr><td>3          </td><td>0.002099153</td></tr>\n",
       "\t<tr><td>4          </td><td>0.002038869</td></tr>\n",
       "\t<tr><td>5          </td><td>0.001596634</td></tr>\n",
       "\t<tr><td>chromatin  </td><td>0.001587187</td></tr>\n",
       "\t<tr><td>7          </td><td>0.001575040</td></tr>\n",
       "\t<tr><td>8          </td><td>0.001490462</td></tr>\n",
       "</tbody>\n",
       "</table>\n"
      ],
      "text/latex": [
       "\\begin{tabular}{r|ll}\n",
       " word & mean\\\\\n",
       "\\hline\n",
       "\t 40          & 0.002979124\\\\\n",
       "\t 2           & 0.002638563\\\\\n",
       "\t 1           & 0.002392027\\\\\n",
       "\t 6           & 0.002142342\\\\\n",
       "\t 3           & 0.002099153\\\\\n",
       "\t 4           & 0.002038869\\\\\n",
       "\t 5           & 0.001596634\\\\\n",
       "\t chromatin   & 0.001587187\\\\\n",
       "\t 7           & 0.001575040\\\\\n",
       "\t 8           & 0.001490462\\\\\n",
       "\\end{tabular}\n"
      ],
      "text/markdown": [
       "\n",
       "word | mean | \n",
       "|---|---|---|---|---|---|---|---|---|---|\n",
       "| 40          | 0.002979124 | \n",
       "| 2           | 0.002638563 | \n",
       "| 1           | 0.002392027 | \n",
       "| 6           | 0.002142342 | \n",
       "| 3           | 0.002099153 | \n",
       "| 4           | 0.002038869 | \n",
       "| 5           | 0.001596634 | \n",
       "| chromatin   | 0.001587187 | \n",
       "| 7           | 0.001575040 | \n",
       "| 8           | 0.001490462 | \n",
       "\n",
       "\n"
      ],
      "text/plain": [
       "   word      mean       \n",
       "1  40        0.002979124\n",
       "2  2         0.002638563\n",
       "3  1         0.002392027\n",
       "4  6         0.002142342\n",
       "5  3         0.002099153\n",
       "6  4         0.002038869\n",
       "7  5         0.001596634\n",
       "8  chromatin 0.001587187\n",
       "9  7         0.001575040\n",
       "10 8         0.001490462"
      ]
     },
     "metadata": {},
     "output_type": "display_data"
    }
   ],
   "source": [
    "print(\"The 5–10 words most consistently frequently used in AmPhil\")\n",
    "word_mean_AmPhil = word_collection2 %>%\n",
    "    mutate(freq = n/total) %>%\n",
    "    filter(name == \"AmPhil\") %>%\n",
    "    group_by(word) %>%\n",
    "    arrange(word) %>%\n",
    "    select(year, name, word, freq) %>%\n",
    "    summarize(mean = mean(freq)) %>%\n",
    "    arrange(-mean)\n",
    "head(word_mean_AmPhil, 10)"
   ]
  },
  {
   "cell_type": "code",
   "execution_count": 43,
   "metadata": {},
   "outputs": [
    {
     "name": "stdout",
     "output_type": "stream",
     "text": [
      "[1] \"The 510 words most consistently frequently used in AmRev\"\n"
     ]
    },
    {
     "data": {
      "text/html": [
       "<table>\n",
       "<thead><tr><th scope=col>word</th><th scope=col>mean</th></tr></thead>\n",
       "<tbody>\n",
       "\t<tr><td>american    </td><td>0.0005166465</td></tr>\n",
       "\t<tr><td>time        </td><td>0.0003336862</td></tr>\n",
       "\t<tr><td>united      </td><td>0.0003208732</td></tr>\n",
       "\t<tr><td>government  </td><td>0.0002978444</td></tr>\n",
       "\t<tr><td>north       </td><td>0.0002917842</td></tr>\n",
       "\t<tr><td>people      </td><td>0.0002888695</td></tr>\n",
       "\t<tr><td>review      </td><td>0.0002717278</td></tr>\n",
       "\t<tr><td>strether    </td><td>0.0002647442</td></tr>\n",
       "\t<tr><td>country     </td><td>0.0002560867</td></tr>\n",
       "\t<tr><td>war         </td><td>0.0002397531</td></tr>\n",
       "</tbody>\n",
       "</table>\n"
      ],
      "text/latex": [
       "\\begin{tabular}{r|ll}\n",
       " word & mean\\\\\n",
       "\\hline\n",
       "\t american     & 0.0005166465\\\\\n",
       "\t time         & 0.0003336862\\\\\n",
       "\t united       & 0.0003208732\\\\\n",
       "\t government   & 0.0002978444\\\\\n",
       "\t north        & 0.0002917842\\\\\n",
       "\t people       & 0.0002888695\\\\\n",
       "\t review       & 0.0002717278\\\\\n",
       "\t strether     & 0.0002647442\\\\\n",
       "\t country      & 0.0002560867\\\\\n",
       "\t war          & 0.0002397531\\\\\n",
       "\\end{tabular}\n"
      ],
      "text/markdown": [
       "\n",
       "word | mean | \n",
       "|---|---|---|---|---|---|---|---|---|---|\n",
       "| american     | 0.0005166465 | \n",
       "| time         | 0.0003336862 | \n",
       "| united       | 0.0003208732 | \n",
       "| government   | 0.0002978444 | \n",
       "| north        | 0.0002917842 | \n",
       "| people       | 0.0002888695 | \n",
       "| review       | 0.0002717278 | \n",
       "| strether     | 0.0002647442 | \n",
       "| country      | 0.0002560867 | \n",
       "| war          | 0.0002397531 | \n",
       "\n",
       "\n"
      ],
      "text/plain": [
       "   word       mean        \n",
       "1  american   0.0005166465\n",
       "2  time       0.0003336862\n",
       "3  united     0.0003208732\n",
       "4  government 0.0002978444\n",
       "5  north      0.0002917842\n",
       "6  people     0.0002888695\n",
       "7  review     0.0002717278\n",
       "8  strether   0.0002647442\n",
       "9  country    0.0002560867\n",
       "10 war        0.0002397531"
      ]
     },
     "metadata": {},
     "output_type": "display_data"
    }
   ],
   "source": [
    "print(\"The 5–10 words most consistently frequently used in AmRev\")\n",
    "word_mean_AmRev = word_collection2 %>%\n",
    "    mutate(freq = n/total) %>%\n",
    "    filter(name == \"AmRev\") %>%\n",
    "    group_by(word) %>%\n",
    "    arrange(word) %>%\n",
    "    select(year, name, word, freq) %>%\n",
    "    summarize(mean = mean(freq)) %>%\n",
    "    arrange(-mean)\n",
    "head(word_mean_AmRev, 10)"
   ]
  },
  {
   "cell_type": "code",
   "execution_count": 44,
   "metadata": {},
   "outputs": [
    {
     "name": "stdout",
     "output_type": "stream",
     "text": [
      "[1] \"The 510 words most consistently frequently used in RoyalPhil\"\n"
     ]
    },
    {
     "data": {
      "text/html": [
       "<table>\n",
       "<thead><tr><th scope=col>word</th><th scope=col>mean</th></tr></thead>\n",
       "<tbody>\n",
       "</tbody>\n",
       "</table>\n"
      ],
      "text/latex": [
       "\\begin{tabular}{r|ll}\n",
       " word & mean\\\\\n",
       "\\hline\n",
       "\\end{tabular}\n"
      ],
      "text/markdown": [
       "\n",
       "word | mean | \n",
       "||\n",
       "\n",
       "\n"
      ],
      "text/plain": [
       "     word mean"
      ]
     },
     "metadata": {},
     "output_type": "display_data"
    }
   ],
   "source": [
    "print(\"The 5–10 words most consistently frequently used in RoyalPhil\")\n",
    "word_mean_RoyalPhil = word_collection2 %>%\n",
    "    mutate(freq = n/total) %>%\n",
    "    filter(name == \"RoyalPhil\") %>%\n",
    "    group_by(word) %>%\n",
    "    arrange(word) %>%\n",
    "    select(year, name, word, freq) %>%\n",
    "    summarize(mean = mean(freq)) %>%\n",
    "    arrange(-mean)\n",
    "head(word_mean_RoyalPhil, 10)"
   ]
  },
  {
   "cell_type": "code",
   "execution_count": 45,
   "metadata": {},
   "outputs": [
    {
     "name": "stdout",
     "output_type": "stream",
     "text": [
      "[1] \"The 510 words most consistently frequently used in Science\"\n"
     ]
    },
    {
     "data": {
      "text/html": [
       "<table>\n",
       "<thead><tr><th scope=col>word</th><th scope=col>mean</th></tr></thead>\n",
       "<tbody>\n",
       "\t<tr><td>science     </td><td>0.0006067250</td></tr>\n",
       "\t<tr><td>professor   </td><td>0.0005139802</td></tr>\n",
       "\t<tr><td>university  </td><td>0.0004552936</td></tr>\n",
       "\t<tr><td>dr          </td><td>0.0004143369</td></tr>\n",
       "\t<tr><td>time        </td><td>0.0002562134</td></tr>\n",
       "\t<tr><td>scientific  </td><td>0.0002360718</td></tr>\n",
       "\t<tr><td>american    </td><td>0.0002307267</td></tr>\n",
       "\t<tr><td>society     </td><td>0.0002213186</td></tr>\n",
       "\t<tr><td>found       </td><td>0.0001996887</td></tr>\n",
       "\t<tr><td>vol         </td><td>0.0001883359</td></tr>\n",
       "</tbody>\n",
       "</table>\n"
      ],
      "text/latex": [
       "\\begin{tabular}{r|ll}\n",
       " word & mean\\\\\n",
       "\\hline\n",
       "\t science      & 0.0006067250\\\\\n",
       "\t professor    & 0.0005139802\\\\\n",
       "\t university   & 0.0004552936\\\\\n",
       "\t dr           & 0.0004143369\\\\\n",
       "\t time         & 0.0002562134\\\\\n",
       "\t scientific   & 0.0002360718\\\\\n",
       "\t american     & 0.0002307267\\\\\n",
       "\t society      & 0.0002213186\\\\\n",
       "\t found        & 0.0001996887\\\\\n",
       "\t vol          & 0.0001883359\\\\\n",
       "\\end{tabular}\n"
      ],
      "text/markdown": [
       "\n",
       "word | mean | \n",
       "|---|---|---|---|---|---|---|---|---|---|\n",
       "| science      | 0.0006067250 | \n",
       "| professor    | 0.0005139802 | \n",
       "| university   | 0.0004552936 | \n",
       "| dr           | 0.0004143369 | \n",
       "| time         | 0.0002562134 | \n",
       "| scientific   | 0.0002360718 | \n",
       "| american     | 0.0002307267 | \n",
       "| society      | 0.0002213186 | \n",
       "| found        | 0.0001996887 | \n",
       "| vol          | 0.0001883359 | \n",
       "\n",
       "\n"
      ],
      "text/plain": [
       "   word       mean        \n",
       "1  science    0.0006067250\n",
       "2  professor  0.0005139802\n",
       "3  university 0.0004552936\n",
       "4  dr         0.0004143369\n",
       "5  time       0.0002562134\n",
       "6  scientific 0.0002360718\n",
       "7  american   0.0002307267\n",
       "8  society    0.0002213186\n",
       "9  found      0.0001996887\n",
       "10 vol        0.0001883359"
      ]
     },
     "metadata": {},
     "output_type": "display_data"
    }
   ],
   "source": [
    "print(\"The 5–10 words most consistently frequently used in Science\")\n",
    "word_mean_Science = word_collection2 %>%\n",
    "    mutate(freq = n/total) %>%\n",
    "    filter(name == \"Science\") %>%\n",
    "    group_by(word) %>%\n",
    "    arrange(word) %>%\n",
    "    select(year, name, word, freq) %>%\n",
    "    summarize(mean = mean(freq)) %>%\n",
    "    arrange(-mean)\n",
    "head(word_mean_Science, 10)"
   ]
  },
  {
   "cell_type": "markdown",
   "metadata": {},
   "source": [
    "## Text Similarity"
   ]
  },
  {
   "cell_type": "markdown",
   "metadata": {},
   "source": [
    "### 1.  What two journals are the most similar? Which two are the least similar?"
   ]
  },
  {
   "cell_type": "code",
   "execution_count": 46,
   "metadata": {},
   "outputs": [],
   "source": [
    "# group by name, get term frequency\n",
    "journal_tf = freq_by_rank %>%\n",
    "    group_by(name) %>%\n",
    "    mutate(tf = n / sum(n))\n",
    "#head(journal_tf)"
   ]
  },
  {
   "cell_type": "code",
   "execution_count": 47,
   "metadata": {},
   "outputs": [
    {
     "name": "stderr",
     "output_type": "stream",
     "text": [
      "Joining, by = \"name\"\n"
     ]
    }
   ],
   "source": [
    "# Error showed up on larger time frames...\n",
    "\n",
    "# join journal_tf to journals\n",
    "# spread to get matrix of frequencies\n",
    "term_freqs = journal_tf %>%\n",
    "    inner_join(journals, copy=TRUE) %>%\n",
    "    select(name, word, tf) %>%\n",
    "    spread(name, tf, fill=0)\n",
    "#head(term_freqs)"
   ]
  },
  {
   "cell_type": "markdown",
   "metadata": {},
   "source": [
    "### Here we can see the two most similar journals are AmPhil and AdvPeace\n",
    "### The two least similar jouranals are AmRev and AmPil\n",
    "Note: do to issues with epanding the timefram, this datafrme won't produce.  We ran out of time to debug the issue and therefore not sure how RoyalPhil plays into this."
   ]
  },
  {
   "cell_type": "code",
   "execution_count": 48,
   "metadata": {},
   "outputs": [
    {
     "data": {
      "text/html": [
       "<table>\n",
       "<thead><tr><th></th><th scope=col>AdvPeace</th><th scope=col>AmPhil</th><th scope=col>AmRev</th><th scope=col>Science</th></tr></thead>\n",
       "<tbody>\n",
       "\t<tr><th scope=row>AdvPeace</th><td>1.0000000</td><td>0.0995707</td><td>0.6184265</td><td>0.3705414</td></tr>\n",
       "\t<tr><th scope=row>AmPhil</th><td>0.0995707</td><td>1.0000000</td><td>0.1042758</td><td>0.2347636</td></tr>\n",
       "\t<tr><th scope=row>AmRev</th><td>0.6184265</td><td>0.1042758</td><td>1.0000000</td><td>0.5451200</td></tr>\n",
       "\t<tr><th scope=row>Science</th><td>0.3705414</td><td>0.2347636</td><td>0.5451200</td><td>1.0000000</td></tr>\n",
       "</tbody>\n",
       "</table>\n"
      ],
      "text/latex": [
       "\\begin{tabular}{r|llll}\n",
       "  & AdvPeace & AmPhil & AmRev & Science\\\\\n",
       "\\hline\n",
       "\tAdvPeace & 1.0000000 & 0.0995707 & 0.6184265 & 0.3705414\\\\\n",
       "\tAmPhil & 0.0995707 & 1.0000000 & 0.1042758 & 0.2347636\\\\\n",
       "\tAmRev & 0.6184265 & 0.1042758 & 1.0000000 & 0.5451200\\\\\n",
       "\tScience & 0.3705414 & 0.2347636 & 0.5451200 & 1.0000000\\\\\n",
       "\\end{tabular}\n"
      ],
      "text/markdown": [
       "\n",
       "| <!--/--> | AdvPeace | AmPhil | AmRev | Science | \n",
       "|---|---|---|---|\n",
       "| AdvPeace | 1.0000000 | 0.0995707 | 0.6184265 | 0.3705414 | \n",
       "| AmPhil | 0.0995707 | 1.0000000 | 0.1042758 | 0.2347636 | \n",
       "| AmRev | 0.6184265 | 0.1042758 | 1.0000000 | 0.5451200 | \n",
       "| Science | 0.3705414 | 0.2347636 | 0.5451200 | 1.0000000 | \n",
       "\n",
       "\n"
      ],
      "text/plain": [
       "         AdvPeace  AmPhil    AmRev     Science  \n",
       "AdvPeace 1.0000000 0.0995707 0.6184265 0.3705414\n",
       "AmPhil   0.0995707 1.0000000 0.1042758 0.2347636\n",
       "AmRev    0.6184265 0.1042758 1.0000000 0.5451200\n",
       "Science  0.3705414 0.2347636 0.5451200 1.0000000"
      ]
     },
     "metadata": {},
     "output_type": "display_data"
    }
   ],
   "source": [
    "# create a matrix of frequency differences between journals\n",
    "# This shows the two most similar journals are:\n",
    "# The two least similar journals are: \n",
    "term_freqs %>% select(-word) %>% cor()"
   ]
  },
  {
   "cell_type": "markdown",
   "metadata": {},
   "source": [
    "## Divergence Over Time"
   ]
  },
  {
   "cell_type": "code",
   "execution_count": 49,
   "metadata": {},
   "outputs": [
    {
     "ename": "ERROR",
     "evalue": "Error in summarise_impl(.data, dots): Evaluation error: could not find function \"text_divergence\".\n",
     "output_type": "error",
     "traceback": [
      "Error in summarise_impl(.data, dots): Evaluation error: could not find function \"text_divergence\".\nTraceback:\n",
      "1. word_inc %>% group_by(name, year, word) %>% summarize(count = n()) %>% \n .     spread(name, count, fill = 0) %>% group_by(year) %>% summarize(divergence = text_divergence(AmPhil, \n .     RoyalPhil))",
      "2. withVisible(eval(quote(`_fseq`(`_lhs`)), env, env))",
      "3. eval(quote(`_fseq`(`_lhs`)), env, env)",
      "4. eval(quote(`_fseq`(`_lhs`)), env, env)",
      "5. `_fseq`(`_lhs`)",
      "6. freduce(value, `_function_list`)",
      "7. withVisible(function_list[[k]](value))",
      "8. function_list[[k]](value)",
      "9. summarize(., divergence = text_divergence(AmPhil, RoyalPhil))",
      "10. summarise.tbl_df(., divergence = text_divergence(AmPhil, RoyalPhil))",
      "11. summarise_impl(.data, dots)"
     ]
    }
   ],
   "source": [
    "# TODO: make text_divergence function.  See assignment notes\n",
    "text_divergene = function(P,Q){\n",
    "    total = sum(Q | P)\n",
    "    qTotal = sum(Q)\n",
    "    pTotal = sum(P)\n",
    "    \n",
    "    DPQ =  -sum(P[t] *log2(Q[t]/P[t]))\n",
    "    \n",
    "}\n",
    "\n",
    "\n",
    "sim_over_time = word_inc %>%\n",
    "    group_by(name, year, word) %>%\n",
    "    summarize(count = n()) %>%\n",
    "    spread(name, count, fill=0) %>%\n",
    "    group_by(year) %>%\n",
    "    summarize(divergence = text_divergence(AmPhil, RoyalPhil))"
   ]
  },
  {
   "cell_type": "code",
   "execution_count": null,
   "metadata": {},
   "outputs": [],
   "source": []
  }
 ],
 "metadata": {
  "kernelspec": {
   "display_name": "R",
   "language": "R",
   "name": "ir"
  },
  "language_info": {
   "codemirror_mode": "r",
   "file_extension": ".r",
   "mimetype": "text/x-r-source",
   "name": "R",
   "pygments_lexer": "r",
   "version": "3.4.2"
  }
 },
 "nbformat": 4,
 "nbformat_minor": 2
}
