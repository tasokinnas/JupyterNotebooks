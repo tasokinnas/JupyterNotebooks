{
 "cells": [
  {
   "cell_type": "markdown",
   "metadata": {},
   "source": [
    "# Assignment 2\n",
    "## Taso Kinnas, Kevin Kirchhoff\n",
    "### https://boisestate.github.io/CS533/assignments/assignment2.html"
   ]
  },
  {
   "cell_type": "code",
   "execution_count": 1,
   "metadata": {},
   "outputs": [
    {
     "name": "stderr",
     "output_type": "stream",
     "text": [
      "Loading tidyverse: ggplot2\n",
      "Loading tidyverse: tibble\n",
      "Loading tidyverse: tidyr\n",
      "Loading tidyverse: readr\n",
      "Loading tidyverse: purrr\n",
      "Loading tidyverse: dplyr\n",
      "Conflicts with tidy packages ---------------------------------------------------\n",
      "filter(): dplyr, stats\n",
      "lag():    dplyr, stats\n"
     ]
    }
   ],
   "source": [
    "library(tidyverse)"
   ]
  },
  {
   "cell_type": "code",
   "execution_count": 2,
   "metadata": {},
   "outputs": [
    {
     "name": "stderr",
     "output_type": "stream",
     "text": [
      "Parsed with column specification:\n",
      "cols(\n",
      "  id = col_integer(),\n",
      "  name = col_character(),\n",
      "  url = col_character(),\n",
      "  pictureURL = col_character()\n",
      ")\n",
      "Warning message in rbind(names(probs), probs_f):\n",
      "“number of columns of result is not a multiple of vector length (arg 2)”Warning message:\n",
      "“1 parsing failure.\n",
      "row # A tibble: 1 x 5 col     row   col           expected actual                                    file expected   <int> <chr>              <chr>  <chr>                                   <chr> actual 1  1678  name delimiter or quote        'data/hetrec2011-lastfm-2k/artists.dat' file # A tibble: 1 x 5\n",
      "”Parsed with column specification:\n",
      "cols(\n",
      "  tagID = col_integer(),\n",
      "  tagValue = col_character()\n",
      ")\n",
      "Parsed with column specification:\n",
      "cols(\n",
      "  userID = col_integer(),\n",
      "  artistID = col_integer(),\n",
      "  weight = col_integer()\n",
      ")\n",
      "Parsed with column specification:\n",
      "cols(\n",
      "  userID = col_integer(),\n",
      "  artistID = col_integer(),\n",
      "  tagID = col_integer(),\n",
      "  day = col_integer(),\n",
      "  month = col_integer(),\n",
      "  year = col_integer()\n",
      ")\n",
      "Parsed with column specification:\n",
      "cols(\n",
      "  userID = col_integer(),\n",
      "  friendID = col_integer()\n",
      ")\n",
      "Parsed with column specification:\n",
      "cols(\n",
      "  userID = col_integer(),\n",
      "  artistID = col_integer(),\n",
      "  tagID = col_integer(),\n",
      "  timestamp = col_double()\n",
      ")\n"
     ]
    }
   ],
   "source": [
    "artists = read_tsv('data/hetrec2011-lastfm-2k/artists.dat')\n",
    "tags = read_tsv('data/hetrec2011-lastfm-2k/tags.dat')\n",
    "plays = read_tsv('data/hetrec2011-lastfm-2k/user_artists.dat')\n",
    "user = read_tsv('data/hetrec2011-lastfm-2k/user_taggedartists.dat')\n",
    "friends = read_tsv('data/hetrec2011-lastfm-2k/user_friends.dat')\n",
    "time = read_tsv('data/hetrec2011-lastfm-2k/user_taggedartists-timestamps.dat')"
   ]
  },
  {
   "cell_type": "code",
   "execution_count": 3,
   "metadata": {},
   "outputs": [
    {
     "data": {
      "text/html": [
       "<table>\n",
       "<thead><tr><th scope=col>id</th><th scope=col>name</th><th scope=col>url</th><th scope=col>pictureURL</th></tr></thead>\n",
       "<tbody>\n",
       "\t<tr><td>1                                              </td><td>MALICE MIZER                                   </td><td>http://www.last.fm/music/MALICE+MIZER          </td><td>http://userserve-ak.last.fm/serve/252/10808.jpg</td></tr>\n",
       "</tbody>\n",
       "</table>\n"
      ],
      "text/latex": [
       "\\begin{tabular}{r|llll}\n",
       " id & name & url & pictureURL\\\\\n",
       "\\hline\n",
       "\t 1                                               & MALICE MIZER                                    & http://www.last.fm/music/MALICE+MIZER           & http://userserve-ak.last.fm/serve/252/10808.jpg\\\\\n",
       "\\end{tabular}\n"
      ],
      "text/markdown": [
       "\n",
       "id | name | url | pictureURL | \n",
       "|---|\n",
       "| 1                                               | MALICE MIZER                                    | http://www.last.fm/music/MALICE+MIZER           | http://userserve-ak.last.fm/serve/252/10808.jpg | \n",
       "\n",
       "\n"
      ],
      "text/plain": [
       "  id name         url                                  \n",
       "1 1  MALICE MIZER http://www.last.fm/music/MALICE+MIZER\n",
       "  pictureURL                                     \n",
       "1 http://userserve-ak.last.fm/serve/252/10808.jpg"
      ]
     },
     "metadata": {},
     "output_type": "display_data"
    },
    {
     "data": {
      "text/html": [
       "<table>\n",
       "<thead><tr><th scope=col>tagID</th><th scope=col>tagValue</th></tr></thead>\n",
       "<tbody>\n",
       "\t<tr><td>1    </td><td>metal</td></tr>\n",
       "</tbody>\n",
       "</table>\n"
      ],
      "text/latex": [
       "\\begin{tabular}{r|ll}\n",
       " tagID & tagValue\\\\\n",
       "\\hline\n",
       "\t 1     & metal\\\\\n",
       "\\end{tabular}\n"
      ],
      "text/markdown": [
       "\n",
       "tagID | tagValue | \n",
       "|---|\n",
       "| 1     | metal | \n",
       "\n",
       "\n"
      ],
      "text/plain": [
       "  tagID tagValue\n",
       "1 1     metal   "
      ]
     },
     "metadata": {},
     "output_type": "display_data"
    },
    {
     "data": {
      "text/html": [
       "<table>\n",
       "<thead><tr><th scope=col>userID</th><th scope=col>artistID</th><th scope=col>weight</th></tr></thead>\n",
       "<tbody>\n",
       "\t<tr><td>2    </td><td>51   </td><td>13883</td></tr>\n",
       "</tbody>\n",
       "</table>\n"
      ],
      "text/latex": [
       "\\begin{tabular}{r|lll}\n",
       " userID & artistID & weight\\\\\n",
       "\\hline\n",
       "\t 2     & 51    & 13883\\\\\n",
       "\\end{tabular}\n"
      ],
      "text/markdown": [
       "\n",
       "userID | artistID | weight | \n",
       "|---|\n",
       "| 2     | 51    | 13883 | \n",
       "\n",
       "\n"
      ],
      "text/plain": [
       "  userID artistID weight\n",
       "1 2      51       13883 "
      ]
     },
     "metadata": {},
     "output_type": "display_data"
    },
    {
     "data": {
      "text/html": [
       "<table>\n",
       "<thead><tr><th scope=col>userID</th><th scope=col>artistID</th><th scope=col>tagID</th><th scope=col>day</th><th scope=col>month</th><th scope=col>year</th></tr></thead>\n",
       "<tbody>\n",
       "\t<tr><td>2   </td><td>52  </td><td>13  </td><td>1   </td><td>4   </td><td>2009</td></tr>\n",
       "</tbody>\n",
       "</table>\n"
      ],
      "text/latex": [
       "\\begin{tabular}{r|llllll}\n",
       " userID & artistID & tagID & day & month & year\\\\\n",
       "\\hline\n",
       "\t 2    & 52   & 13   & 1    & 4    & 2009\\\\\n",
       "\\end{tabular}\n"
      ],
      "text/markdown": [
       "\n",
       "userID | artistID | tagID | day | month | year | \n",
       "|---|\n",
       "| 2    | 52   | 13   | 1    | 4    | 2009 | \n",
       "\n",
       "\n"
      ],
      "text/plain": [
       "  userID artistID tagID day month year\n",
       "1 2      52       13    1   4     2009"
      ]
     },
     "metadata": {},
     "output_type": "display_data"
    },
    {
     "data": {
      "text/html": [
       "<table>\n",
       "<thead><tr><th scope=col>userID</th><th scope=col>friendID</th></tr></thead>\n",
       "<tbody>\n",
       "\t<tr><td>2  </td><td>275</td></tr>\n",
       "</tbody>\n",
       "</table>\n"
      ],
      "text/latex": [
       "\\begin{tabular}{r|ll}\n",
       " userID & friendID\\\\\n",
       "\\hline\n",
       "\t 2   & 275\\\\\n",
       "\\end{tabular}\n"
      ],
      "text/markdown": [
       "\n",
       "userID | friendID | \n",
       "|---|\n",
       "| 2   | 275 | \n",
       "\n",
       "\n"
      ],
      "text/plain": [
       "  userID friendID\n",
       "1 2      275     "
      ]
     },
     "metadata": {},
     "output_type": "display_data"
    },
    {
     "data": {
      "text/html": [
       "<table>\n",
       "<thead><tr><th scope=col>userID</th><th scope=col>artistID</th><th scope=col>tagID</th><th scope=col>timestamp</th></tr></thead>\n",
       "<tbody>\n",
       "\t<tr><td>2           </td><td>52          </td><td>13          </td><td>1.238537e+12</td></tr>\n",
       "</tbody>\n",
       "</table>\n"
      ],
      "text/latex": [
       "\\begin{tabular}{r|llll}\n",
       " userID & artistID & tagID & timestamp\\\\\n",
       "\\hline\n",
       "\t 2            & 52           & 13           & 1.238537e+12\\\\\n",
       "\\end{tabular}\n"
      ],
      "text/markdown": [
       "\n",
       "userID | artistID | tagID | timestamp | \n",
       "|---|\n",
       "| 2            | 52           | 13           | 1.238537e+12 | \n",
       "\n",
       "\n"
      ],
      "text/plain": [
       "  userID artistID tagID timestamp   \n",
       "1 2      52       13    1.238537e+12"
      ]
     },
     "metadata": {},
     "output_type": "display_data"
    }
   ],
   "source": [
    "head(artists,1)\n",
    "head(tags,1)\n",
    "head(plays,1)\n",
    "head(user,1)\n",
    "head(friends,1)\n",
    "head(time,1)"
   ]
  },
  {
   "cell_type": "markdown",
   "metadata": {},
   "source": [
    "# Answer the following questions:\n",
    "\n",
    "\n",
    "\n",
    "\n",
    "\n",
    "\n",
    "\n",
    "\n",
    "\n",
    "\n",
    "\n",
    "\n",
    "\n"
   ]
  },
  {
   "cell_type": "markdown",
   "metadata": {},
   "source": [
    "## Exploring the Data"
   ]
  },
  {
   "cell_type": "markdown",
   "metadata": {},
   "source": [
    "### Extended Table"
   ]
  },
  {
   "cell_type": "code",
   "execution_count": 4,
   "metadata": {},
   "outputs": [
    {
     "name": "stderr",
     "output_type": "stream",
     "text": [
      "Joining, by = \"artistID\"\n"
     ]
    },
    {
     "data": {
      "text/html": [
       "<table>\n",
       "<thead><tr><th scope=col>artistID</th><th scope=col>userCount</th><th scope=col>totalPlays</th><th scope=col>name</th></tr></thead>\n",
       "<tbody>\n",
       "\t<tr><td>289               </td><td>522               </td><td>2393140           </td><td>Britney Spears    </td></tr>\n",
       "\t<tr><td> 72               </td><td>282               </td><td>1301308           </td><td>Depeche Mode      </td></tr>\n",
       "\t<tr><td> 89               </td><td>611               </td><td>1291387           </td><td>Lady Gaga         </td></tr>\n",
       "\t<tr><td>292               </td><td>407               </td><td>1058405           </td><td>Christina Aguilera</td></tr>\n",
       "\t<tr><td>498               </td><td>399               </td><td> 963449           </td><td>Paramore          </td></tr>\n",
       "\t<tr><td> 67               </td><td>429               </td><td> 921198           </td><td>Madonna           </td></tr>\n",
       "\t<tr><td>288               </td><td>484               </td><td> 905423           </td><td>Rihanna           </td></tr>\n",
       "\t<tr><td>701               </td><td>319               </td><td> 688529           </td><td>Shakira           </td></tr>\n",
       "\t<tr><td>227               </td><td>480               </td><td> 662116           </td><td>The Beatles       </td></tr>\n",
       "\t<tr><td>300               </td><td>473               </td><td> 532545           </td><td>Katy Perry        </td></tr>\n",
       "</tbody>\n",
       "</table>\n"
      ],
      "text/latex": [
       "\\begin{tabular}{r|llll}\n",
       " artistID & userCount & totalPlays & name\\\\\n",
       "\\hline\n",
       "\t 289                & 522                & 2393140            & Britney Spears    \\\\\n",
       "\t  72                & 282                & 1301308            & Depeche Mode      \\\\\n",
       "\t  89                & 611                & 1291387            & Lady Gaga         \\\\\n",
       "\t 292                & 407                & 1058405            & Christina Aguilera\\\\\n",
       "\t 498                & 399                &  963449            & Paramore          \\\\\n",
       "\t  67                & 429                &  921198            & Madonna           \\\\\n",
       "\t 288                & 484                &  905423            & Rihanna           \\\\\n",
       "\t 701                & 319                &  688529            & Shakira           \\\\\n",
       "\t 227                & 480                &  662116            & The Beatles       \\\\\n",
       "\t 300                & 473                &  532545            & Katy Perry        \\\\\n",
       "\\end{tabular}\n"
      ],
      "text/markdown": [
       "\n",
       "artistID | userCount | totalPlays | name | \n",
       "|---|---|---|---|---|---|---|---|---|---|\n",
       "| 289                | 522                | 2393140            | Britney Spears     | \n",
       "|  72                | 282                | 1301308            | Depeche Mode       | \n",
       "|  89                | 611                | 1291387            | Lady Gaga          | \n",
       "| 292                | 407                | 1058405            | Christina Aguilera | \n",
       "| 498                | 399                |  963449            | Paramore           | \n",
       "|  67                | 429                |  921198            | Madonna            | \n",
       "| 288                | 484                |  905423            | Rihanna            | \n",
       "| 701                | 319                |  688529            | Shakira            | \n",
       "| 227                | 480                |  662116            | The Beatles        | \n",
       "| 300                | 473                |  532545            | Katy Perry         | \n",
       "\n",
       "\n"
      ],
      "text/plain": [
       "   artistID userCount totalPlays name              \n",
       "1  289      522       2393140    Britney Spears    \n",
       "2   72      282       1301308    Depeche Mode      \n",
       "3   89      611       1291387    Lady Gaga         \n",
       "4  292      407       1058405    Christina Aguilera\n",
       "5  498      399        963449    Paramore          \n",
       "6   67      429        921198    Madonna           \n",
       "7  288      484        905423    Rihanna           \n",
       "8  701      319        688529    Shakira           \n",
       "9  227      480        662116    The Beatles       \n",
       "10 300      473        532545    Katy Perry        "
      ]
     },
     "metadata": {},
     "output_type": "display_data"
    }
   ],
   "source": [
    "# select 'plays' table\n",
    "play_summary = plays %>%\n",
    "    # group by artistID\n",
    "    group_by(artistID) %>%\n",
    "    # number of users that play that artist\n",
    "    # and total number of times artist is played\n",
    "    summarize(userCount=n(), totalPlays=sum(weight)) %>%\n",
    "    # join 'plays' & 'artists' datasets on artistID\n",
    "    # show artistID, userCount, totalPlays, name\n",
    "    inner_join(select(artists, artistID=id, name=name))\n",
    "\n",
    "head(arrange(play_summary, desc(totalPlays)), 10)"
   ]
  },
  {
   "cell_type": "code",
   "execution_count": 5,
   "metadata": {},
   "outputs": [
    {
     "data": {
      "text/html": [
       "<table>\n",
       "<thead><tr><th scope=col>userID</th><th scope=col>artistCount</th><th scope=col>totalPlays</th></tr></thead>\n",
       "<tbody>\n",
       "\t<tr><td> 2    </td><td>50    </td><td>168737</td></tr>\n",
       "\t<tr><td> 3    </td><td>50    </td><td> 20501</td></tr>\n",
       "\t<tr><td> 4    </td><td>50    </td><td> 26930</td></tr>\n",
       "\t<tr><td> 5    </td><td>50    </td><td> 13159</td></tr>\n",
       "\t<tr><td> 6    </td><td>50    </td><td>  1011</td></tr>\n",
       "\t<tr><td> 7    </td><td>50    </td><td>135399</td></tr>\n",
       "\t<tr><td> 8    </td><td>50    </td><td> 36279</td></tr>\n",
       "\t<tr><td> 9    </td><td>50    </td><td> 25597</td></tr>\n",
       "\t<tr><td>10    </td><td>50    </td><td> 28523</td></tr>\n",
       "\t<tr><td>11    </td><td>50    </td><td> 42920</td></tr>\n",
       "</tbody>\n",
       "</table>\n"
      ],
      "text/latex": [
       "\\begin{tabular}{r|lll}\n",
       " userID & artistCount & totalPlays\\\\\n",
       "\\hline\n",
       "\t  2     & 50     & 168737\\\\\n",
       "\t  3     & 50     &  20501\\\\\n",
       "\t  4     & 50     &  26930\\\\\n",
       "\t  5     & 50     &  13159\\\\\n",
       "\t  6     & 50     &   1011\\\\\n",
       "\t  7     & 50     & 135399\\\\\n",
       "\t  8     & 50     &  36279\\\\\n",
       "\t  9     & 50     &  25597\\\\\n",
       "\t 10     & 50     &  28523\\\\\n",
       "\t 11     & 50     &  42920\\\\\n",
       "\\end{tabular}\n"
      ],
      "text/markdown": [
       "\n",
       "userID | artistCount | totalPlays | \n",
       "|---|---|---|---|---|---|---|---|---|---|\n",
       "|  2     | 50     | 168737 | \n",
       "|  3     | 50     |  20501 | \n",
       "|  4     | 50     |  26930 | \n",
       "|  5     | 50     |  13159 | \n",
       "|  6     | 50     |   1011 | \n",
       "|  7     | 50     | 135399 | \n",
       "|  8     | 50     |  36279 | \n",
       "|  9     | 50     |  25597 | \n",
       "| 10     | 50     |  28523 | \n",
       "| 11     | 50     |  42920 | \n",
       "\n",
       "\n"
      ],
      "text/plain": [
       "   userID artistCount totalPlays\n",
       "1   2     50          168737    \n",
       "2   3     50           20501    \n",
       "3   4     50           26930    \n",
       "4   5     50           13159    \n",
       "5   6     50            1011    \n",
       "6   7     50          135399    \n",
       "7   8     50           36279    \n",
       "8   9     50           25597    \n",
       "9  10     50           28523    \n",
       "10 11     50           42920    "
      ]
     },
     "metadata": {},
     "output_type": "display_data"
    }
   ],
   "source": [
    "# select 'plays' table\n",
    "user_summary = plays %>%\n",
    "    # group by artistID\n",
    "    group_by(userID) %>%\n",
    "    # number of users that play that artist\n",
    "    # and total number of times artist is played\n",
    "    summarize(artistCount=n(), totalPlays=sum(weight)) \n",
    "    # join 'plays' & 'artists' datasets on artistID\n",
    "    # show artistID, userCount, totalPlays, name\n",
    "    ## inner_join(select(artists, artistID=id))\n",
    "\n",
    "head(user_summary, 10)"
   ]
  },
  {
   "cell_type": "markdown",
   "metadata": {},
   "source": [
    "1) Plot the distribution of play counts per artist"
   ]
  },
  {
   "cell_type": "code",
   "execution_count": 6,
   "metadata": {},
   "outputs": [
    {
     "data": {
      "text/html": [
       "<table>\n",
       "<thead><tr><th scope=col>artistID</th><th scope=col>totalPlays</th></tr></thead>\n",
       "<tbody>\n",
       "\t<tr><td>289    </td><td>2393140</td></tr>\n",
       "\t<tr><td> 72    </td><td>1301308</td></tr>\n",
       "\t<tr><td> 89    </td><td>1291387</td></tr>\n",
       "\t<tr><td>292    </td><td>1058405</td></tr>\n",
       "\t<tr><td>498    </td><td> 963449</td></tr>\n",
       "\t<tr><td> 67    </td><td> 921198</td></tr>\n",
       "\t<tr><td>288    </td><td> 905423</td></tr>\n",
       "\t<tr><td>701    </td><td> 688529</td></tr>\n",
       "\t<tr><td>227    </td><td> 662116</td></tr>\n",
       "\t<tr><td>300    </td><td> 532545</td></tr>\n",
       "</tbody>\n",
       "</table>\n"
      ],
      "text/latex": [
       "\\begin{tabular}{r|ll}\n",
       " artistID & totalPlays\\\\\n",
       "\\hline\n",
       "\t 289     & 2393140\\\\\n",
       "\t  72     & 1301308\\\\\n",
       "\t  89     & 1291387\\\\\n",
       "\t 292     & 1058405\\\\\n",
       "\t 498     &  963449\\\\\n",
       "\t  67     &  921198\\\\\n",
       "\t 288     &  905423\\\\\n",
       "\t 701     &  688529\\\\\n",
       "\t 227     &  662116\\\\\n",
       "\t 300     &  532545\\\\\n",
       "\\end{tabular}\n"
      ],
      "text/markdown": [
       "\n",
       "artistID | totalPlays | \n",
       "|---|---|---|---|---|---|---|---|---|---|\n",
       "| 289     | 2393140 | \n",
       "|  72     | 1301308 | \n",
       "|  89     | 1291387 | \n",
       "| 292     | 1058405 | \n",
       "| 498     |  963449 | \n",
       "|  67     |  921198 | \n",
       "| 288     |  905423 | \n",
       "| 701     |  688529 | \n",
       "| 227     |  662116 | \n",
       "| 300     |  532545 | \n",
       "\n",
       "\n"
      ],
      "text/plain": [
       "   artistID totalPlays\n",
       "1  289      2393140   \n",
       "2   72      1301308   \n",
       "3   89      1291387   \n",
       "4  292      1058405   \n",
       "5  498       963449   \n",
       "6   67       921198   \n",
       "7  288       905423   \n",
       "8  701       688529   \n",
       "9  227       662116   \n",
       "10 300       532545   "
      ]
     },
     "metadata": {},
     "output_type": "display_data"
    },
    {
     "name": "stderr",
     "output_type": "stream",
     "text": [
      "`stat_bin()` using `bins = 30`. Pick better value with `binwidth`.\n"
     ]
    },
    {
     "data": {},
     "metadata": {},
     "output_type": "display_data"
    },
    {
     "data": {
      "image/png": "[encoded data removed]",
      "text/plain": [
       "plot without title"
      ]
     },
     "metadata": {},
     "output_type": "display_data"
    }
   ],
   "source": [
    "# get only artistID and totalPlays\n",
    "artist_playcount = select(play_summary, artistID, totalPlays)\n",
    "# show only first 10 row of modified table, \n",
    "# sorted on most plays\n",
    "head(arrange(artist_playcount, desc(totalPlays)),10)\n",
    "\n",
    "# distribution of play counts per artist\n",
    "ggplot(artist_playcount, aes(totalPlays)) +\n",
    "    geom_histogram()"
   ]
  },
  {
   "cell_type": "markdown",
   "metadata": {},
   "source": [
    "2) Plot the distribution of unique users playing each artist"
   ]
  },
  {
   "cell_type": "code",
   "execution_count": 7,
   "metadata": {},
   "outputs": [
    {
     "data": {
      "text/html": [
       "<table>\n",
       "<thead><tr><th scope=col>artistID</th><th scope=col>userCount</th></tr></thead>\n",
       "<tbody>\n",
       "\t<tr><td> 89</td><td>611</td></tr>\n",
       "\t<tr><td>289</td><td>522</td></tr>\n",
       "\t<tr><td>288</td><td>484</td></tr>\n",
       "\t<tr><td>227</td><td>480</td></tr>\n",
       "\t<tr><td>300</td><td>473</td></tr>\n",
       "\t<tr><td> 67</td><td>429</td></tr>\n",
       "\t<tr><td>333</td><td>417</td></tr>\n",
       "\t<tr><td>292</td><td>407</td></tr>\n",
       "\t<tr><td>190</td><td>400</td></tr>\n",
       "\t<tr><td>498</td><td>399</td></tr>\n",
       "</tbody>\n",
       "</table>\n"
      ],
      "text/latex": [
       "\\begin{tabular}{r|ll}\n",
       " artistID & userCount\\\\\n",
       "\\hline\n",
       "\t  89 & 611\\\\\n",
       "\t 289 & 522\\\\\n",
       "\t 288 & 484\\\\\n",
       "\t 227 & 480\\\\\n",
       "\t 300 & 473\\\\\n",
       "\t  67 & 429\\\\\n",
       "\t 333 & 417\\\\\n",
       "\t 292 & 407\\\\\n",
       "\t 190 & 400\\\\\n",
       "\t 498 & 399\\\\\n",
       "\\end{tabular}\n"
      ],
      "text/markdown": [
       "\n",
       "artistID | userCount | \n",
       "|---|---|---|---|---|---|---|---|---|---|\n",
       "|  89 | 611 | \n",
       "| 289 | 522 | \n",
       "| 288 | 484 | \n",
       "| 227 | 480 | \n",
       "| 300 | 473 | \n",
       "|  67 | 429 | \n",
       "| 333 | 417 | \n",
       "| 292 | 407 | \n",
       "| 190 | 400 | \n",
       "| 498 | 399 | \n",
       "\n",
       "\n"
      ],
      "text/plain": [
       "   artistID userCount\n",
       "1   89      611      \n",
       "2  289      522      \n",
       "3  288      484      \n",
       "4  227      480      \n",
       "5  300      473      \n",
       "6   67      429      \n",
       "7  333      417      \n",
       "8  292      407      \n",
       "9  190      400      \n",
       "10 498      399      "
      ]
     },
     "metadata": {},
     "output_type": "display_data"
    },
    {
     "name": "stderr",
     "output_type": "stream",
     "text": [
      "`stat_bin()` using `bins = 30`. Pick better value with `binwidth`.\n"
     ]
    },
    {
     "data": {},
     "metadata": {},
     "output_type": "display_data"
    },
    {
     "data": {
      "image/png": "[encoded data removed]",
      "text/plain": [
       "plot without title"
      ]
     },
     "metadata": {},
     "output_type": "display_data"
    }
   ],
   "source": [
    "# get only artistID and userCount\n",
    "artist_users = select(play_summary, artistID, userCount)\n",
    "# show only first 10 row of modified table, \n",
    "# sorted on most plays\n",
    "head(arrange(artist_users, desc(userCount)),10)\n",
    "\n",
    "# distribution of play counts per artist\n",
    "ggplot(artist_users, aes(userCount)) +\n",
    "    geom_histogram()"
   ]
  },
  {
   "cell_type": "markdown",
   "metadata": {},
   "source": [
    "3) Plot the distribution of play counts per user"
   ]
  },
  {
   "cell_type": "code",
   "execution_count": 8,
   "metadata": {},
   "outputs": [
    {
     "data": {
      "text/html": [
       "<table>\n",
       "<thead><tr><th scope=col>userID</th><th scope=col>totalPlays</th></tr></thead>\n",
       "<tbody>\n",
       "\t<tr><td> 757  </td><td>480039</td></tr>\n",
       "\t<tr><td>2000  </td><td>468409</td></tr>\n",
       "\t<tr><td>1418  </td><td>416349</td></tr>\n",
       "\t<tr><td>1642  </td><td>388251</td></tr>\n",
       "\t<tr><td>1094  </td><td>379125</td></tr>\n",
       "\t<tr><td>1942  </td><td>348527</td></tr>\n",
       "\t<tr><td>2071  </td><td>338400</td></tr>\n",
       "\t<tr><td>2031  </td><td>329980</td></tr>\n",
       "\t<tr><td> 514  </td><td>329782</td></tr>\n",
       "\t<tr><td> 387  </td><td>322661</td></tr>\n",
       "</tbody>\n",
       "</table>\n"
      ],
      "text/latex": [
       "\\begin{tabular}{r|ll}\n",
       " userID & totalPlays\\\\\n",
       "\\hline\n",
       "\t  757   & 480039\\\\\n",
       "\t 2000   & 468409\\\\\n",
       "\t 1418   & 416349\\\\\n",
       "\t 1642   & 388251\\\\\n",
       "\t 1094   & 379125\\\\\n",
       "\t 1942   & 348527\\\\\n",
       "\t 2071   & 338400\\\\\n",
       "\t 2031   & 329980\\\\\n",
       "\t  514   & 329782\\\\\n",
       "\t  387   & 322661\\\\\n",
       "\\end{tabular}\n"
      ],
      "text/markdown": [
       "\n",
       "userID | totalPlays | \n",
       "|---|---|---|---|---|---|---|---|---|---|\n",
       "|  757   | 480039 | \n",
       "| 2000   | 468409 | \n",
       "| 1418   | 416349 | \n",
       "| 1642   | 388251 | \n",
       "| 1094   | 379125 | \n",
       "| 1942   | 348527 | \n",
       "| 2071   | 338400 | \n",
       "| 2031   | 329980 | \n",
       "|  514   | 329782 | \n",
       "|  387   | 322661 | \n",
       "\n",
       "\n"
      ],
      "text/plain": [
       "   userID totalPlays\n",
       "1   757   480039    \n",
       "2  2000   468409    \n",
       "3  1418   416349    \n",
       "4  1642   388251    \n",
       "5  1094   379125    \n",
       "6  1942   348527    \n",
       "7  2071   338400    \n",
       "8  2031   329980    \n",
       "9   514   329782    \n",
       "10  387   322661    "
      ]
     },
     "metadata": {},
     "output_type": "display_data"
    },
    {
     "name": "stderr",
     "output_type": "stream",
     "text": [
      "`stat_bin()` using `bins = 30`. Pick better value with `binwidth`.\n"
     ]
    },
    {
     "data": {},
     "metadata": {},
     "output_type": "display_data"
    },
    {
     "data": {
      "image/png": "[encoded data removed]",
      "text/plain": [
       "plot without title"
      ]
     },
     "metadata": {},
     "output_type": "display_data"
    }
   ],
   "source": [
    "# get only userCount and playCount\n",
    "user_playcounts = select(user_summary, userID, totalPlays)\n",
    "# show only first 10 row of modified table, \n",
    "# sorted on most plays\n",
    "head(arrange(user_playcounts, desc(totalPlays)),10)\n",
    "\n",
    "# distribution of play counts per artist\n",
    "ggplot(user_playcounts, aes(totalPlays)) +\n",
    "    geom_histogram()"
   ]
  },
  {
   "cell_type": "markdown",
   "metadata": {},
   "source": [
    "4) Plot the distribution of unique artists per user"
   ]
  },
  {
   "cell_type": "code",
   "execution_count": 9,
   "metadata": {},
   "outputs": [
    {
     "name": "stderr",
     "output_type": "stream",
     "text": [
      "`stat_bin()` using `bins = 30`. Pick better value with `binwidth`.\n"
     ]
    },
    {
     "data": {},
     "metadata": {},
     "output_type": "display_data"
    },
    {
     "data": {
      "image/png": "[encoded data removed]",
      "text/plain": [
       "plot without title"
      ]
     },
     "metadata": {},
     "output_type": "display_data"
    }
   ],
   "source": [
    "ggplot(user_summary, aes(artistCount)) +\n",
    "    geom_histogram()"
   ]
  },
  {
   "cell_type": "markdown",
   "metadata": {},
   "source": [
    "5a) What is the mean artists-per-user?  "
   ]
  },
  {
   "cell_type": "code",
   "execution_count": 10,
   "metadata": {},
   "outputs": [
    {
     "data": {
      "text/html": [
       "49.0665961945032"
      ],
      "text/latex": [
       "49.0665961945032"
      ],
      "text/markdown": [
       "49.0665961945032"
      ],
      "text/plain": [
       "[1] 49.0666"
      ]
     },
     "metadata": {},
     "output_type": "display_data"
    }
   ],
   "source": [
    "mean(user_summary$artistCount)"
   ]
  },
  {
   "cell_type": "markdown",
   "metadata": {},
   "source": [
    "5b) Users-per-artist?"
   ]
  },
  {
   "cell_type": "code",
   "execution_count": 11,
   "metadata": {},
   "outputs": [
    {
     "data": {
      "text/html": [
       "5.05559276624246"
      ],
      "text/latex": [
       "5.05559276624246"
      ],
      "text/markdown": [
       "5.05559276624246"
      ],
      "text/plain": [
       "[1] 5.055593"
      ]
     },
     "metadata": {},
     "output_type": "display_data"
    }
   ],
   "source": [
    "mean(play_summary$userCount)"
   ]
  },
  {
   "cell_type": "markdown",
   "metadata": {},
   "source": [
    "5c) Plays per user/artist pair?"
   ]
  },
  {
   "cell_type": "code",
   "execution_count": 12,
   "metadata": {},
   "outputs": [
    {
     "data": {
      "text/html": [
       "745.243930025637"
      ],
      "text/latex": [
       "745.243930025637"
      ],
      "text/markdown": [
       "745.243930025637"
      ],
      "text/plain": [
       "[1] 745.2439"
      ]
     },
     "metadata": {},
     "output_type": "display_data"
    }
   ],
   "source": [
    "mean(plays$weight)"
   ]
  },
  {
   "cell_type": "markdown",
   "metadata": {},
   "source": [
    "6) What are the 10 artists with the most plays?"
   ]
  },
  {
   "cell_type": "code",
   "execution_count": 13,
   "metadata": {},
   "outputs": [
    {
     "data": {
      "text/html": [
       "<table>\n",
       "<thead><tr><th scope=col>artistID</th><th scope=col>totalPlays</th></tr></thead>\n",
       "<tbody>\n",
       "\t<tr><td>289    </td><td>2393140</td></tr>\n",
       "\t<tr><td> 72    </td><td>1301308</td></tr>\n",
       "\t<tr><td> 89    </td><td>1291387</td></tr>\n",
       "\t<tr><td>292    </td><td>1058405</td></tr>\n",
       "\t<tr><td>498    </td><td> 963449</td></tr>\n",
       "\t<tr><td> 67    </td><td> 921198</td></tr>\n",
       "\t<tr><td>288    </td><td> 905423</td></tr>\n",
       "\t<tr><td>701    </td><td> 688529</td></tr>\n",
       "\t<tr><td>227    </td><td> 662116</td></tr>\n",
       "\t<tr><td>300    </td><td> 532545</td></tr>\n",
       "</tbody>\n",
       "</table>\n"
      ],
      "text/latex": [
       "\\begin{tabular}{r|ll}\n",
       " artistID & totalPlays\\\\\n",
       "\\hline\n",
       "\t 289     & 2393140\\\\\n",
       "\t  72     & 1301308\\\\\n",
       "\t  89     & 1291387\\\\\n",
       "\t 292     & 1058405\\\\\n",
       "\t 498     &  963449\\\\\n",
       "\t  67     &  921198\\\\\n",
       "\t 288     &  905423\\\\\n",
       "\t 701     &  688529\\\\\n",
       "\t 227     &  662116\\\\\n",
       "\t 300     &  532545\\\\\n",
       "\\end{tabular}\n"
      ],
      "text/markdown": [
       "\n",
       "artistID | totalPlays | \n",
       "|---|---|---|---|---|---|---|---|---|---|\n",
       "| 289     | 2393140 | \n",
       "|  72     | 1301308 | \n",
       "|  89     | 1291387 | \n",
       "| 292     | 1058405 | \n",
       "| 498     |  963449 | \n",
       "|  67     |  921198 | \n",
       "| 288     |  905423 | \n",
       "| 701     |  688529 | \n",
       "| 227     |  662116 | \n",
       "| 300     |  532545 | \n",
       "\n",
       "\n"
      ],
      "text/plain": [
       "   artistID totalPlays\n",
       "1  289      2393140   \n",
       "2   72      1301308   \n",
       "3   89      1291387   \n",
       "4  292      1058405   \n",
       "5  498       963449   \n",
       "6   67       921198   \n",
       "7  288       905423   \n",
       "8  701       688529   \n",
       "9  227       662116   \n",
       "10 300       532545   "
      ]
     },
     "metadata": {},
     "output_type": "display_data"
    }
   ],
   "source": [
    "head(arrange(artist_playcount, desc(totalPlays)),10)"
   ]
  },
  {
   "cell_type": "markdown",
   "metadata": {},
   "source": [
    "7) What are the 10 artists with the most unique playing users?"
   ]
  },
  {
   "cell_type": "code",
   "execution_count": 14,
   "metadata": {},
   "outputs": [
    {
     "data": {
      "text/html": [
       "<table>\n",
       "<thead><tr><th scope=col>artistID</th><th scope=col>userCount</th></tr></thead>\n",
       "<tbody>\n",
       "\t<tr><td> 89</td><td>611</td></tr>\n",
       "\t<tr><td>289</td><td>522</td></tr>\n",
       "\t<tr><td>288</td><td>484</td></tr>\n",
       "\t<tr><td>227</td><td>480</td></tr>\n",
       "\t<tr><td>300</td><td>473</td></tr>\n",
       "\t<tr><td> 67</td><td>429</td></tr>\n",
       "\t<tr><td>333</td><td>417</td></tr>\n",
       "\t<tr><td>292</td><td>407</td></tr>\n",
       "\t<tr><td>190</td><td>400</td></tr>\n",
       "\t<tr><td>498</td><td>399</td></tr>\n",
       "</tbody>\n",
       "</table>\n"
      ],
      "text/latex": [
       "\\begin{tabular}{r|ll}\n",
       " artistID & userCount\\\\\n",
       "\\hline\n",
       "\t  89 & 611\\\\\n",
       "\t 289 & 522\\\\\n",
       "\t 288 & 484\\\\\n",
       "\t 227 & 480\\\\\n",
       "\t 300 & 473\\\\\n",
       "\t  67 & 429\\\\\n",
       "\t 333 & 417\\\\\n",
       "\t 292 & 407\\\\\n",
       "\t 190 & 400\\\\\n",
       "\t 498 & 399\\\\\n",
       "\\end{tabular}\n"
      ],
      "text/markdown": [
       "\n",
       "artistID | userCount | \n",
       "|---|---|---|---|---|---|---|---|---|---|\n",
       "|  89 | 611 | \n",
       "| 289 | 522 | \n",
       "| 288 | 484 | \n",
       "| 227 | 480 | \n",
       "| 300 | 473 | \n",
       "|  67 | 429 | \n",
       "| 333 | 417 | \n",
       "| 292 | 407 | \n",
       "| 190 | 400 | \n",
       "| 498 | 399 | \n",
       "\n",
       "\n"
      ],
      "text/plain": [
       "   artistID userCount\n",
       "1   89      611      \n",
       "2  289      522      \n",
       "3  288      484      \n",
       "4  227      480      \n",
       "5  300      473      \n",
       "6   67      429      \n",
       "7  333      417      \n",
       "8  292      407      \n",
       "9  190      400      \n",
       "10 498      399      "
      ]
     },
     "metadata": {},
     "output_type": "display_data"
    }
   ],
   "source": [
    "head(arrange(artist_users, desc(userCount)),10)"
   ]
  },
  {
   "cell_type": "markdown",
   "metadata": {
    "collapsed": true
   },
   "source": [
    "## Association Rules"
   ]
  },
  {
   "cell_type": "markdown",
   "metadata": {},
   "source": [
    "### helper data"
   ]
  },
  {
   "cell_type": "code",
   "execution_count": 15,
   "metadata": {},
   "outputs": [
    {
     "name": "stderr",
     "output_type": "stream",
     "text": [
      "Joining, by = \"userID\"\n",
      "Joining, by = \"a1\"\n",
      "Joining, by = \"a2\"\n",
      "Joining, by = \"a1\"\n",
      "Joining, by = \"a2\"\n"
     ]
    }
   ],
   "source": [
    "coplays = plays %>%\n",
    "    select(a1=artistID, userID) %>%\n",
    "    inner_join(select(plays, a2=artistID, userID)) %>%\n",
    "    filter(a1 != a2) %>%\n",
    "    group_by(a1, a2) %>%\n",
    "    summarize(count = n()) %>%\n",
    "    mutate(Pxy=count/1892) %>%\n",
    "    inner_join(select(artists, a1=id, artist1=name)) %>% \n",
    "    inner_join(select(artists, a2=id, artist2=name)) %>%\n",
    "    inner_join(select(artist_users, a1=artistID, a1userCount=userCount)) %>%\n",
    "    inner_join(select(artist_users, a2=artistID, a2userCount=userCount)) %>%\n",
    "    mutate(Px=a1userCount/1892) %>%\n",
    "    mutate(Py=a2userCount/1892) %>%\n",
    "    mutate(lift=Pxy/(Px*Py))"
   ]
  },
  {
   "cell_type": "markdown",
   "metadata": {},
   "source": [
    "1) What pair of artists has been co-played the most often?"
   ]
  },
  {
   "cell_type": "code",
   "execution_count": 16,
   "metadata": {},
   "outputs": [
    {
     "data": {
      "text/html": [
       "<table>\n",
       "<thead><tr><th scope=col>a1</th><th scope=col>a2</th><th scope=col>count</th><th scope=col>Pxy</th><th scope=col>artist1</th><th scope=col>artist2</th><th scope=col>a1userCount</th><th scope=col>a2userCount</th><th scope=col>Px</th><th scope=col>Py</th><th scope=col>lift</th></tr></thead>\n",
       "<tbody>\n",
       "\t<tr><td> 89           </td><td>289           </td><td>436           </td><td>0.2304440     </td><td>Lady Gaga     </td><td>Britney Spears</td><td>611           </td><td>522           </td><td>0.3229387     </td><td>0.2758985     </td><td>2.586401      </td></tr>\n",
       "\t<tr><td>289           </td><td> 89           </td><td>436           </td><td>0.2304440     </td><td>Britney Spears</td><td>Lady Gaga     </td><td>522           </td><td>611           </td><td>0.2758985     </td><td>0.3229387     </td><td>2.586401      </td></tr>\n",
       "\t<tr><td> 89           </td><td>288           </td><td>414           </td><td>0.2188161     </td><td>Lady Gaga     </td><td>Rihanna       </td><td>611           </td><td>484           </td><td>0.3229387     </td><td>0.2558140     </td><td>2.648713      </td></tr>\n",
       "\t<tr><td>288           </td><td> 89           </td><td>414           </td><td>0.2188161     </td><td>Rihanna       </td><td>Lady Gaga     </td><td>484           </td><td>611           </td><td>0.2558140     </td><td>0.3229387     </td><td>2.648713      </td></tr>\n",
       "\t<tr><td>288           </td><td>289           </td><td>413           </td><td>0.2182875     </td><td>Rihanna       </td><td>Britney Spears</td><td>484           </td><td>522           </td><td>0.2558140     </td><td>0.2758985     </td><td>3.092825      </td></tr>\n",
       "\t<tr><td>289           </td><td>288           </td><td>413           </td><td>0.2182875     </td><td>Britney Spears</td><td>Rihanna       </td><td>522           </td><td>484           </td><td>0.2758985     </td><td>0.2558140     </td><td>3.092825      </td></tr>\n",
       "\t<tr><td> 89           </td><td>300           </td><td>396           </td><td>0.2093023     </td><td>Lady Gaga     </td><td>Katy Perry    </td><td>611           </td><td>473           </td><td>0.3229387     </td><td>0.2500000     </td><td>2.592471      </td></tr>\n",
       "\t<tr><td>300           </td><td> 89           </td><td>396           </td><td>0.2093023     </td><td>Katy Perry    </td><td>Lady Gaga     </td><td>473           </td><td>611           </td><td>0.2500000     </td><td>0.3229387     </td><td>2.592471      </td></tr>\n",
       "\t<tr><td>289           </td><td>300           </td><td>380           </td><td>0.2008457     </td><td>Britney Spears</td><td>Katy Perry    </td><td>522           </td><td>473           </td><td>0.2758985     </td><td>0.2500000     </td><td>2.911877      </td></tr>\n",
       "\t<tr><td>300           </td><td>289           </td><td>380           </td><td>0.2008457     </td><td>Katy Perry    </td><td>Britney Spears</td><td>473           </td><td>522           </td><td>0.2500000     </td><td>0.2758985     </td><td>2.911877      </td></tr>\n",
       "</tbody>\n",
       "</table>\n"
      ],
      "text/latex": [
       "\\begin{tabular}{r|lllllllllll}\n",
       " a1 & a2 & count & Pxy & artist1 & artist2 & a1userCount & a2userCount & Px & Py & lift\\\\\n",
       "\\hline\n",
       "\t  89            & 289            & 436            & 0.2304440      & Lady Gaga      & Britney Spears & 611            & 522            & 0.3229387      & 0.2758985      & 2.586401      \\\\\n",
       "\t 289            &  89            & 436            & 0.2304440      & Britney Spears & Lady Gaga      & 522            & 611            & 0.2758985      & 0.3229387      & 2.586401      \\\\\n",
       "\t  89            & 288            & 414            & 0.2188161      & Lady Gaga      & Rihanna        & 611            & 484            & 0.3229387      & 0.2558140      & 2.648713      \\\\\n",
       "\t 288            &  89            & 414            & 0.2188161      & Rihanna        & Lady Gaga      & 484            & 611            & 0.2558140      & 0.3229387      & 2.648713      \\\\\n",
       "\t 288            & 289            & 413            & 0.2182875      & Rihanna        & Britney Spears & 484            & 522            & 0.2558140      & 0.2758985      & 3.092825      \\\\\n",
       "\t 289            & 288            & 413            & 0.2182875      & Britney Spears & Rihanna        & 522            & 484            & 0.2758985      & 0.2558140      & 3.092825      \\\\\n",
       "\t  89            & 300            & 396            & 0.2093023      & Lady Gaga      & Katy Perry     & 611            & 473            & 0.3229387      & 0.2500000      & 2.592471      \\\\\n",
       "\t 300            &  89            & 396            & 0.2093023      & Katy Perry     & Lady Gaga      & 473            & 611            & 0.2500000      & 0.3229387      & 2.592471      \\\\\n",
       "\t 289            & 300            & 380            & 0.2008457      & Britney Spears & Katy Perry     & 522            & 473            & 0.2758985      & 0.2500000      & 2.911877      \\\\\n",
       "\t 300            & 289            & 380            & 0.2008457      & Katy Perry     & Britney Spears & 473            & 522            & 0.2500000      & 0.2758985      & 2.911877      \\\\\n",
       "\\end{tabular}\n"
      ],
      "text/markdown": [
       "\n",
       "a1 | a2 | count | Pxy | artist1 | artist2 | a1userCount | a2userCount | Px | Py | lift | \n",
       "|---|---|---|---|---|---|---|---|---|---|\n",
       "|  89            | 289            | 436            | 0.2304440      | Lady Gaga      | Britney Spears | 611            | 522            | 0.3229387      | 0.2758985      | 2.586401       | \n",
       "| 289            |  89            | 436            | 0.2304440      | Britney Spears | Lady Gaga      | 522            | 611            | 0.2758985      | 0.3229387      | 2.586401       | \n",
       "|  89            | 288            | 414            | 0.2188161      | Lady Gaga      | Rihanna        | 611            | 484            | 0.3229387      | 0.2558140      | 2.648713       | \n",
       "| 288            |  89            | 414            | 0.2188161      | Rihanna        | Lady Gaga      | 484            | 611            | 0.2558140      | 0.3229387      | 2.648713       | \n",
       "| 288            | 289            | 413            | 0.2182875      | Rihanna        | Britney Spears | 484            | 522            | 0.2558140      | 0.2758985      | 3.092825       | \n",
       "| 289            | 288            | 413            | 0.2182875      | Britney Spears | Rihanna        | 522            | 484            | 0.2758985      | 0.2558140      | 3.092825       | \n",
       "|  89            | 300            | 396            | 0.2093023      | Lady Gaga      | Katy Perry     | 611            | 473            | 0.3229387      | 0.2500000      | 2.592471       | \n",
       "| 300            |  89            | 396            | 0.2093023      | Katy Perry     | Lady Gaga      | 473            | 611            | 0.2500000      | 0.3229387      | 2.592471       | \n",
       "| 289            | 300            | 380            | 0.2008457      | Britney Spears | Katy Perry     | 522            | 473            | 0.2758985      | 0.2500000      | 2.911877       | \n",
       "| 300            | 289            | 380            | 0.2008457      | Katy Perry     | Britney Spears | 473            | 522            | 0.2500000      | 0.2758985      | 2.911877       | \n",
       "\n",
       "\n"
      ],
      "text/plain": [
       "   a1  a2  count Pxy       artist1        artist2        a1userCount\n",
       "1   89 289 436   0.2304440 Lady Gaga      Britney Spears 611        \n",
       "2  289  89 436   0.2304440 Britney Spears Lady Gaga      522        \n",
       "3   89 288 414   0.2188161 Lady Gaga      Rihanna        611        \n",
       "4  288  89 414   0.2188161 Rihanna        Lady Gaga      484        \n",
       "5  288 289 413   0.2182875 Rihanna        Britney Spears 484        \n",
       "6  289 288 413   0.2182875 Britney Spears Rihanna        522        \n",
       "7   89 300 396   0.2093023 Lady Gaga      Katy Perry     611        \n",
       "8  300  89 396   0.2093023 Katy Perry     Lady Gaga      473        \n",
       "9  289 300 380   0.2008457 Britney Spears Katy Perry     522        \n",
       "10 300 289 380   0.2008457 Katy Perry     Britney Spears 473        \n",
       "   a2userCount Px        Py        lift    \n",
       "1  522         0.3229387 0.2758985 2.586401\n",
       "2  611         0.2758985 0.3229387 2.586401\n",
       "3  484         0.3229387 0.2558140 2.648713\n",
       "4  611         0.2558140 0.3229387 2.648713\n",
       "5  522         0.2558140 0.2758985 3.092825\n",
       "6  484         0.2758985 0.2558140 3.092825\n",
       "7  473         0.3229387 0.2500000 2.592471\n",
       "8  611         0.2500000 0.3229387 2.592471\n",
       "9  473         0.2758985 0.2500000 2.911877\n",
       "10 522         0.2500000 0.2758985 2.911877"
      ]
     },
     "metadata": {},
     "output_type": "display_data"
    }
   ],
   "source": [
    "head(arrange(coplays, desc(count)), 10)"
   ]
  },
  {
   "cell_type": "markdown",
   "metadata": {},
   "source": [
    "2) How many users have listened to both Nickelback and Britney Spears?"
   ]
  },
  {
   "cell_type": "code",
   "execution_count": 17,
   "metadata": {},
   "outputs": [
    {
     "data": {
      "text/html": [
       "<table>\n",
       "<thead><tr><th scope=col>a1</th><th scope=col>a2</th><th scope=col>count</th><th scope=col>Pxy</th><th scope=col>artist1</th><th scope=col>artist2</th><th scope=col>a1userCount</th><th scope=col>a2userCount</th><th scope=col>Px</th><th scope=col>Py</th><th scope=col>lift</th></tr></thead>\n",
       "<tbody>\n",
       "\t<tr><td>966           </td><td>289           </td><td>46            </td><td>0.0243129     </td><td>Nickelback    </td><td>Britney Spears</td><td>112           </td><td>522           </td><td>0.05919662    </td><td>0.2758985     </td><td>1.488643      </td></tr>\n",
       "</tbody>\n",
       "</table>\n"
      ],
      "text/latex": [
       "\\begin{tabular}{r|lllllllllll}\n",
       " a1 & a2 & count & Pxy & artist1 & artist2 & a1userCount & a2userCount & Px & Py & lift\\\\\n",
       "\\hline\n",
       "\t 966            & 289            & 46             & 0.0243129      & Nickelback     & Britney Spears & 112            & 522            & 0.05919662     & 0.2758985      & 1.488643      \\\\\n",
       "\\end{tabular}\n"
      ],
      "text/markdown": [
       "\n",
       "a1 | a2 | count | Pxy | artist1 | artist2 | a1userCount | a2userCount | Px | Py | lift | \n",
       "|---|\n",
       "| 966            | 289            | 46             | 0.0243129      | Nickelback     | Britney Spears | 112            | 522            | 0.05919662     | 0.2758985      | 1.488643       | \n",
       "\n",
       "\n"
      ],
      "text/plain": [
       "  a1  a2  count Pxy       artist1    artist2        a1userCount a2userCount\n",
       "1 966 289 46    0.0243129 Nickelback Britney Spears 112         522        \n",
       "  Px         Py        lift    \n",
       "1 0.05919662 0.2758985 1.488643"
      ]
     },
     "metadata": {},
     "output_type": "display_data"
    }
   ],
   "source": [
    "# Brittney Spears = 289\n",
    "# Nickelback = 966\n",
    "# artists %>% filter(name == \"Nickelback\")\n",
    "# coplays %>% filter(a1 == 289 & a2 == 966)\n",
    "coplays %>% filter(a1 == 966 & a2 == 289)"
   ]
  },
  {
   "cell_type": "markdown",
   "metadata": {},
   "source": [
    "3) What is the probability that a randomly-selected user has listened to both Nickelback and Britney Spears?"
   ]
  },
  {
   "cell_type": "code",
   "execution_count": 18,
   "metadata": {},
   "outputs": [
    {
     "data": {
      "text/html": [
       "2.43128964059197"
      ],
      "text/latex": [
       "2.43128964059197"
      ],
      "text/markdown": [
       "2.43128964059197"
      ],
      "text/plain": [
       "[1] 2.43129"
      ]
     },
     "metadata": {},
     "output_type": "display_data"
    }
   ],
   "source": [
    "# users = 1892\n",
    "nickel_spears = (46/1892)*100\n",
    "nickel_spears"
   ]
  },
  {
   "cell_type": "markdown",
   "metadata": {},
   "source": [
    "4) Given that a user has listened to Nickelback, what is the probability that they have also listened to Britney Spears?"
   ]
  },
  {
   "cell_type": "code",
   "execution_count": 19,
   "metadata": {},
   "outputs": [
    {
     "data": {
      "text/html": [
       "41.0714285714286"
      ],
      "text/latex": [
       "41.0714285714286"
      ],
      "text/markdown": [
       "41.0714285714286"
      ],
      "text/plain": [
       "[1] 41.07143"
      ]
     },
     "metadata": {},
     "output_type": "display_data"
    }
   ],
   "source": [
    "nickel = plays %>% filter(artistID == 966)\n",
    "# nickel\n",
    "nickel_count = nickel %>%\n",
    "    group_by(artistID) %>%\n",
    "    summarize(userCount = n(), totalPlays=sum(weight))\n",
    "# nickel_count\n",
    "nickel_spears = (46/112)*100\n",
    "nickel_spears"
   ]
  },
  {
   "cell_type": "markdown",
   "metadata": {},
   "source": [
    "5) Given that a user has listened to Aretha Franklin, what 10 artists are they most likely to have listened to?"
   ]
  },
  {
   "cell_type": "code",
   "execution_count": 20,
   "metadata": {},
   "outputs": [
    {
     "data": {
      "text/html": [
       "<table>\n",
       "<thead><tr><th scope=col>a1</th><th scope=col>a2</th><th scope=col>count</th><th scope=col>Pxy</th><th scope=col>artist1</th><th scope=col>artist2</th><th scope=col>a1userCount</th><th scope=col>a2userCount</th><th scope=col>Px</th><th scope=col>Py</th><th scope=col>lift</th></tr></thead>\n",
       "<tbody>\n",
       "\t<tr><td>575               </td><td> 67               </td><td>10                </td><td>0.005285412       </td><td>Aretha Franklin   </td><td>Madonna           </td><td>22                </td><td>429               </td><td>0.01162791        </td><td>0.2267442         </td><td>2.004662          </td></tr>\n",
       "\t<tr><td>575               </td><td>227               </td><td> 9                </td><td>0.004756871       </td><td>Aretha Franklin   </td><td>The Beatles       </td><td>22                </td><td>480               </td><td>0.01162791        </td><td>0.2536998         </td><td>1.612500          </td></tr>\n",
       "\t<tr><td>575               </td><td> 55               </td><td> 8                </td><td>0.004228330       </td><td>Aretha Franklin   </td><td>Kylie Minogue     </td><td>22                </td><td>298               </td><td>0.01162791        </td><td>0.1575053         </td><td>2.308725          </td></tr>\n",
       "\t<tr><td>575               </td><td> 89               </td><td> 8                </td><td>0.004228330       </td><td>Aretha Franklin   </td><td>Lady Gaga         </td><td>22                </td><td>611               </td><td>0.01162791        </td><td>0.3229387         </td><td>1.126023          </td></tr>\n",
       "\t<tr><td>575               </td><td>288               </td><td> 8                </td><td>0.004228330       </td><td>Aretha Franklin   </td><td>Rihanna           </td><td>22                </td><td>484               </td><td>0.01162791        </td><td>0.2558140         </td><td>1.421488          </td></tr>\n",
       "\t<tr><td>575               </td><td>292               </td><td> 8                </td><td>0.004228330       </td><td>Aretha Franklin   </td><td>Christina Aguilera</td><td>22                </td><td>407               </td><td>0.01162791        </td><td>0.2151163         </td><td>1.690418          </td></tr>\n",
       "\t<tr><td>575               </td><td>295               </td><td> 8                </td><td>0.004228330       </td><td>Aretha Franklin   </td><td>Beyoncé           </td><td>22                </td><td>397               </td><td>0.01162791        </td><td>0.2098309         </td><td>1.732997          </td></tr>\n",
       "\t<tr><td>575               </td><td>903               </td><td> 8                </td><td>0.004228330       </td><td>Aretha Franklin   </td><td>Amy Winehouse     </td><td>22                </td><td>195               </td><td>0.01162791        </td><td>0.1030655         </td><td>3.528205          </td></tr>\n",
       "\t<tr><td>575               </td><td>300               </td><td> 7                </td><td>0.003699789       </td><td>Aretha Franklin   </td><td>Katy Perry        </td><td>22                </td><td>473               </td><td>0.01162791        </td><td>0.2500000         </td><td>1.272727          </td></tr>\n",
       "\t<tr><td>575               </td><td> 97               </td><td> 6                </td><td>0.003171247       </td><td>Aretha Franklin   </td><td>Duffy             </td><td>22                </td><td> 80               </td><td>0.01162791        </td><td>0.0422833         </td><td>6.450000          </td></tr>\n",
       "</tbody>\n",
       "</table>\n"
      ],
      "text/latex": [
       "\\begin{tabular}{r|lllllllllll}\n",
       " a1 & a2 & count & Pxy & artist1 & artist2 & a1userCount & a2userCount & Px & Py & lift\\\\\n",
       "\\hline\n",
       "\t 575                &  67                & 10                 & 0.005285412        & Aretha Franklin    & Madonna            & 22                 & 429                & 0.01162791         & 0.2267442          & 2.004662          \\\\\n",
       "\t 575                & 227                &  9                 & 0.004756871        & Aretha Franklin    & The Beatles        & 22                 & 480                & 0.01162791         & 0.2536998          & 1.612500          \\\\\n",
       "\t 575                &  55                &  8                 & 0.004228330        & Aretha Franklin    & Kylie Minogue      & 22                 & 298                & 0.01162791         & 0.1575053          & 2.308725          \\\\\n",
       "\t 575                &  89                &  8                 & 0.004228330        & Aretha Franklin    & Lady Gaga          & 22                 & 611                & 0.01162791         & 0.3229387          & 1.126023          \\\\\n",
       "\t 575                & 288                &  8                 & 0.004228330        & Aretha Franklin    & Rihanna            & 22                 & 484                & 0.01162791         & 0.2558140          & 1.421488          \\\\\n",
       "\t 575                & 292                &  8                 & 0.004228330        & Aretha Franklin    & Christina Aguilera & 22                 & 407                & 0.01162791         & 0.2151163          & 1.690418          \\\\\n",
       "\t 575                & 295                &  8                 & 0.004228330        & Aretha Franklin    & Beyoncé            & 22                 & 397                & 0.01162791         & 0.2098309          & 1.732997          \\\\\n",
       "\t 575                & 903                &  8                 & 0.004228330        & Aretha Franklin    & Amy Winehouse      & 22                 & 195                & 0.01162791         & 0.1030655          & 3.528205          \\\\\n",
       "\t 575                & 300                &  7                 & 0.003699789        & Aretha Franklin    & Katy Perry         & 22                 & 473                & 0.01162791         & 0.2500000          & 1.272727          \\\\\n",
       "\t 575                &  97                &  6                 & 0.003171247        & Aretha Franklin    & Duffy              & 22                 &  80                & 0.01162791         & 0.0422833          & 6.450000          \\\\\n",
       "\\end{tabular}\n"
      ],
      "text/markdown": [
       "\n",
       "a1 | a2 | count | Pxy | artist1 | artist2 | a1userCount | a2userCount | Px | Py | lift | \n",
       "|---|---|---|---|---|---|---|---|---|---|\n",
       "| 575                |  67                | 10                 | 0.005285412        | Aretha Franklin    | Madonna            | 22                 | 429                | 0.01162791         | 0.2267442          | 2.004662           | \n",
       "| 575                | 227                |  9                 | 0.004756871        | Aretha Franklin    | The Beatles        | 22                 | 480                | 0.01162791         | 0.2536998          | 1.612500           | \n",
       "| 575                |  55                |  8                 | 0.004228330        | Aretha Franklin    | Kylie Minogue      | 22                 | 298                | 0.01162791         | 0.1575053          | 2.308725           | \n",
       "| 575                |  89                |  8                 | 0.004228330        | Aretha Franklin    | Lady Gaga          | 22                 | 611                | 0.01162791         | 0.3229387          | 1.126023           | \n",
       "| 575                | 288                |  8                 | 0.004228330        | Aretha Franklin    | Rihanna            | 22                 | 484                | 0.01162791         | 0.2558140          | 1.421488           | \n",
       "| 575                | 292                |  8                 | 0.004228330        | Aretha Franklin    | Christina Aguilera | 22                 | 407                | 0.01162791         | 0.2151163          | 1.690418           | \n",
       "| 575                | 295                |  8                 | 0.004228330        | Aretha Franklin    | Beyoncé            | 22                 | 397                | 0.01162791         | 0.2098309          | 1.732997           | \n",
       "| 575                | 903                |  8                 | 0.004228330        | Aretha Franklin    | Amy Winehouse      | 22                 | 195                | 0.01162791         | 0.1030655          | 3.528205           | \n",
       "| 575                | 300                |  7                 | 0.003699789        | Aretha Franklin    | Katy Perry         | 22                 | 473                | 0.01162791         | 0.2500000          | 1.272727           | \n",
       "| 575                |  97                |  6                 | 0.003171247        | Aretha Franklin    | Duffy              | 22                 |  80                | 0.01162791         | 0.0422833          | 6.450000           | \n",
       "\n",
       "\n"
      ],
      "text/plain": [
       "   a1  a2  count Pxy         artist1         artist2            a1userCount\n",
       "1  575  67 10    0.005285412 Aretha Franklin Madonna            22         \n",
       "2  575 227  9    0.004756871 Aretha Franklin The Beatles        22         \n",
       "3  575  55  8    0.004228330 Aretha Franklin Kylie Minogue      22         \n",
       "4  575  89  8    0.004228330 Aretha Franklin Lady Gaga          22         \n",
       "5  575 288  8    0.004228330 Aretha Franklin Rihanna            22         \n",
       "6  575 292  8    0.004228330 Aretha Franklin Christina Aguilera 22         \n",
       "7  575 295  8    0.004228330 Aretha Franklin Beyoncé            22         \n",
       "8  575 903  8    0.004228330 Aretha Franklin Amy Winehouse      22         \n",
       "9  575 300  7    0.003699789 Aretha Franklin Katy Perry         22         \n",
       "10 575  97  6    0.003171247 Aretha Franklin Duffy              22         \n",
       "   a2userCount Px         Py        lift    \n",
       "1  429         0.01162791 0.2267442 2.004662\n",
       "2  480         0.01162791 0.2536998 1.612500\n",
       "3  298         0.01162791 0.1575053 2.308725\n",
       "4  611         0.01162791 0.3229387 1.126023\n",
       "5  484         0.01162791 0.2558140 1.421488\n",
       "6  407         0.01162791 0.2151163 1.690418\n",
       "7  397         0.01162791 0.2098309 1.732997\n",
       "8  195         0.01162791 0.1030655 3.528205\n",
       "9  473         0.01162791 0.2500000 1.272727\n",
       "10  80         0.01162791 0.0422833 6.450000"
      ]
     },
     "metadata": {},
     "output_type": "display_data"
    }
   ],
   "source": [
    "# Aretha Franklin = 575\n",
    "# artists %>% filter(name == \"Aretha Franklin\")\n",
    "aretha_coplays = coplays %>% filter(a1 == 575)\n",
    "head(arrange(aretha_coplays, desc(count)), 10)"
   ]
  },
  {
   "cell_type": "markdown",
   "metadata": {},
   "source": [
    "## Extending Association Rules"
   ]
  },
  {
   "cell_type": "markdown",
   "metadata": {},
   "source": [
    "1) What 10 artists have the highest lift with respect to Aretha Franklin?"
   ]
  },
  {
   "cell_type": "code",
   "execution_count": 21,
   "metadata": {},
   "outputs": [
    {
     "data": {
      "text/html": [
       "<table>\n",
       "<thead><tr><th scope=col>a1</th><th scope=col>a2</th><th scope=col>count</th><th scope=col>Pxy</th><th scope=col>artist1</th><th scope=col>artist2</th><th scope=col>a1userCount</th><th scope=col>a2userCount</th><th scope=col>Px</th><th scope=col>Py</th><th scope=col>lift</th></tr></thead>\n",
       "<tbody>\n",
       "\t<tr><td>575                      </td><td>550                      </td><td>1                        </td><td>0.0005285412             </td><td>Aretha Franklin          </td><td>The Fleshtones           </td><td>22                       </td><td>1                        </td><td>0.01162791               </td><td>0.0005285412             </td><td>86                       </td></tr>\n",
       "\t<tr><td>575                      </td><td>551                      </td><td>1                        </td><td>0.0005285412             </td><td>Aretha Franklin          </td><td>The Satelliters          </td><td>22                       </td><td>1                        </td><td>0.01162791               </td><td>0.0005285412             </td><td>86                       </td></tr>\n",
       "\t<tr><td>575                      </td><td>552                      </td><td>1                        </td><td>0.0005285412             </td><td>Aretha Franklin          </td><td>The Barracudas           </td><td>22                       </td><td>1                        </td><td>0.01162791               </td><td>0.0005285412             </td><td>86                       </td></tr>\n",
       "\t<tr><td>575                      </td><td>553                      </td><td>1                        </td><td>0.0005285412             </td><td>Aretha Franklin          </td><td>The Staggers             </td><td>22                       </td><td>1                        </td><td>0.01162791               </td><td>0.0005285412             </td><td>86                       </td></tr>\n",
       "\t<tr><td>575                      </td><td>555                      </td><td>1                        </td><td>0.0005285412             </td><td>Aretha Franklin          </td><td>The Swingin' Neckbreakers</td><td>22                       </td><td>1                        </td><td>0.01162791               </td><td>0.0005285412             </td><td>86                       </td></tr>\n",
       "\t<tr><td>575                      </td><td>556                      </td><td>1                        </td><td>0.0005285412             </td><td>Aretha Franklin          </td><td>The Strollers            </td><td>22                       </td><td>1                        </td><td>0.01162791               </td><td>0.0005285412             </td><td>86                       </td></tr>\n",
       "\t<tr><td>575                      </td><td>557                      </td><td>1                        </td><td>0.0005285412             </td><td>Aretha Franklin          </td><td>The Fuzztones            </td><td>22                       </td><td>1                        </td><td>0.01162791               </td><td>0.0005285412             </td><td>86                       </td></tr>\n",
       "\t<tr><td>575                      </td><td>558                      </td><td>1                        </td><td>0.0005285412             </td><td>Aretha Franklin          </td><td>The Maharajas            </td><td>22                       </td><td>1                        </td><td>0.01162791               </td><td>0.0005285412             </td><td>86                       </td></tr>\n",
       "\t<tr><td>575                      </td><td>561                      </td><td>1                        </td><td>0.0005285412             </td><td>Aretha Franklin          </td><td>The Untamed Youth        </td><td>22                       </td><td>1                        </td><td>0.01162791               </td><td>0.0005285412             </td><td>86                       </td></tr>\n",
       "\t<tr><td>575                      </td><td>564                      </td><td>2                        </td><td>0.0010570825             </td><td>Aretha Franklin          </td><td>Mahalia Jackson          </td><td>22                       </td><td>2                        </td><td>0.01162791               </td><td>0.0010570825             </td><td>86                       </td></tr>\n",
       "</tbody>\n",
       "</table>\n"
      ],
      "text/latex": [
       "\\begin{tabular}{r|lllllllllll}\n",
       " a1 & a2 & count & Pxy & artist1 & artist2 & a1userCount & a2userCount & Px & Py & lift\\\\\n",
       "\\hline\n",
       "\t 575                       & 550                       & 1                         & 0.0005285412              & Aretha Franklin           & The Fleshtones            & 22                        & 1                         & 0.01162791                & 0.0005285412              & 86                       \\\\\n",
       "\t 575                       & 551                       & 1                         & 0.0005285412              & Aretha Franklin           & The Satelliters           & 22                        & 1                         & 0.01162791                & 0.0005285412              & 86                       \\\\\n",
       "\t 575                       & 552                       & 1                         & 0.0005285412              & Aretha Franklin           & The Barracudas            & 22                        & 1                         & 0.01162791                & 0.0005285412              & 86                       \\\\\n",
       "\t 575                       & 553                       & 1                         & 0.0005285412              & Aretha Franklin           & The Staggers              & 22                        & 1                         & 0.01162791                & 0.0005285412              & 86                       \\\\\n",
       "\t 575                       & 555                       & 1                         & 0.0005285412              & Aretha Franklin           & The Swingin' Neckbreakers & 22                        & 1                         & 0.01162791                & 0.0005285412              & 86                       \\\\\n",
       "\t 575                       & 556                       & 1                         & 0.0005285412              & Aretha Franklin           & The Strollers             & 22                        & 1                         & 0.01162791                & 0.0005285412              & 86                       \\\\\n",
       "\t 575                       & 557                       & 1                         & 0.0005285412              & Aretha Franklin           & The Fuzztones             & 22                        & 1                         & 0.01162791                & 0.0005285412              & 86                       \\\\\n",
       "\t 575                       & 558                       & 1                         & 0.0005285412              & Aretha Franklin           & The Maharajas             & 22                        & 1                         & 0.01162791                & 0.0005285412              & 86                       \\\\\n",
       "\t 575                       & 561                       & 1                         & 0.0005285412              & Aretha Franklin           & The Untamed Youth         & 22                        & 1                         & 0.01162791                & 0.0005285412              & 86                       \\\\\n",
       "\t 575                       & 564                       & 2                         & 0.0010570825              & Aretha Franklin           & Mahalia Jackson           & 22                        & 2                         & 0.01162791                & 0.0010570825              & 86                       \\\\\n",
       "\\end{tabular}\n"
      ],
      "text/markdown": [
       "\n",
       "a1 | a2 | count | Pxy | artist1 | artist2 | a1userCount | a2userCount | Px | Py | lift | \n",
       "|---|---|---|---|---|---|---|---|---|---|\n",
       "| 575                       | 550                       | 1                         | 0.0005285412              | Aretha Franklin           | The Fleshtones            | 22                        | 1                         | 0.01162791                | 0.0005285412              | 86                        | \n",
       "| 575                       | 551                       | 1                         | 0.0005285412              | Aretha Franklin           | The Satelliters           | 22                        | 1                         | 0.01162791                | 0.0005285412              | 86                        | \n",
       "| 575                       | 552                       | 1                         | 0.0005285412              | Aretha Franklin           | The Barracudas            | 22                        | 1                         | 0.01162791                | 0.0005285412              | 86                        | \n",
       "| 575                       | 553                       | 1                         | 0.0005285412              | Aretha Franklin           | The Staggers              | 22                        | 1                         | 0.01162791                | 0.0005285412              | 86                        | \n",
       "| 575                       | 555                       | 1                         | 0.0005285412              | Aretha Franklin           | The Swingin' Neckbreakers | 22                        | 1                         | 0.01162791                | 0.0005285412              | 86                        | \n",
       "| 575                       | 556                       | 1                         | 0.0005285412              | Aretha Franklin           | The Strollers             | 22                        | 1                         | 0.01162791                | 0.0005285412              | 86                        | \n",
       "| 575                       | 557                       | 1                         | 0.0005285412              | Aretha Franklin           | The Fuzztones             | 22                        | 1                         | 0.01162791                | 0.0005285412              | 86                        | \n",
       "| 575                       | 558                       | 1                         | 0.0005285412              | Aretha Franklin           | The Maharajas             | 22                        | 1                         | 0.01162791                | 0.0005285412              | 86                        | \n",
       "| 575                       | 561                       | 1                         | 0.0005285412              | Aretha Franklin           | The Untamed Youth         | 22                        | 1                         | 0.01162791                | 0.0005285412              | 86                        | \n",
       "| 575                       | 564                       | 2                         | 0.0010570825              | Aretha Franklin           | Mahalia Jackson           | 22                        | 2                         | 0.01162791                | 0.0010570825              | 86                        | \n",
       "\n",
       "\n"
      ],
      "text/plain": [
       "   a1  a2  count Pxy          artist1         artist2                  \n",
       "1  575 550 1     0.0005285412 Aretha Franklin The Fleshtones           \n",
       "2  575 551 1     0.0005285412 Aretha Franklin The Satelliters          \n",
       "3  575 552 1     0.0005285412 Aretha Franklin The Barracudas           \n",
       "4  575 553 1     0.0005285412 Aretha Franklin The Staggers             \n",
       "5  575 555 1     0.0005285412 Aretha Franklin The Swingin' Neckbreakers\n",
       "6  575 556 1     0.0005285412 Aretha Franklin The Strollers            \n",
       "7  575 557 1     0.0005285412 Aretha Franklin The Fuzztones            \n",
       "8  575 558 1     0.0005285412 Aretha Franklin The Maharajas            \n",
       "9  575 561 1     0.0005285412 Aretha Franklin The Untamed Youth        \n",
       "10 575 564 2     0.0010570825 Aretha Franklin Mahalia Jackson          \n",
       "   a1userCount a2userCount Px         Py           lift\n",
       "1  22          1           0.01162791 0.0005285412 86  \n",
       "2  22          1           0.01162791 0.0005285412 86  \n",
       "3  22          1           0.01162791 0.0005285412 86  \n",
       "4  22          1           0.01162791 0.0005285412 86  \n",
       "5  22          1           0.01162791 0.0005285412 86  \n",
       "6  22          1           0.01162791 0.0005285412 86  \n",
       "7  22          1           0.01162791 0.0005285412 86  \n",
       "8  22          1           0.01162791 0.0005285412 86  \n",
       "9  22          1           0.01162791 0.0005285412 86  \n",
       "10 22          2           0.01162791 0.0010570825 86  "
      ]
     },
     "metadata": {},
     "output_type": "display_data"
    }
   ],
   "source": [
    "head(arrange(aretha_coplays, desc(lift)), 10)"
   ]
  },
  {
   "cell_type": "markdown",
   "metadata": {},
   "source": [
    "2) What is the lift of Nickelback and Britney Spears?"
   ]
  },
  {
   "cell_type": "code",
   "execution_count": 22,
   "metadata": {},
   "outputs": [
    {
     "data": {
      "text/html": [
       "<table>\n",
       "<thead><tr><th scope=col>a1</th><th scope=col>a2</th><th scope=col>count</th><th scope=col>Pxy</th><th scope=col>artist1</th><th scope=col>artist2</th><th scope=col>a1userCount</th><th scope=col>a2userCount</th><th scope=col>Px</th><th scope=col>Py</th><th scope=col>lift</th></tr></thead>\n",
       "<tbody>\n",
       "\t<tr><td>966           </td><td>289           </td><td>46            </td><td>0.0243129     </td><td>Nickelback    </td><td>Britney Spears</td><td>112           </td><td>522           </td><td>0.05919662    </td><td>0.2758985     </td><td>1.488643      </td></tr>\n",
       "</tbody>\n",
       "</table>\n"
      ],
      "text/latex": [
       "\\begin{tabular}{r|lllllllllll}\n",
       " a1 & a2 & count & Pxy & artist1 & artist2 & a1userCount & a2userCount & Px & Py & lift\\\\\n",
       "\\hline\n",
       "\t 966            & 289            & 46             & 0.0243129      & Nickelback     & Britney Spears & 112            & 522            & 0.05919662     & 0.2758985      & 1.488643      \\\\\n",
       "\\end{tabular}\n"
      ],
      "text/markdown": [
       "\n",
       "a1 | a2 | count | Pxy | artist1 | artist2 | a1userCount | a2userCount | Px | Py | lift | \n",
       "|---|\n",
       "| 966            | 289            | 46             | 0.0243129      | Nickelback     | Britney Spears | 112            | 522            | 0.05919662     | 0.2758985      | 1.488643       | \n",
       "\n",
       "\n"
      ],
      "text/plain": [
       "  a1  a2  count Pxy       artist1    artist2        a1userCount a2userCount\n",
       "1 966 289 46    0.0243129 Nickelback Britney Spears 112         522        \n",
       "  Px         Py        lift    \n",
       "1 0.05919662 0.2758985 1.488643"
      ]
     },
     "metadata": {},
     "output_type": "display_data"
    }
   ],
   "source": [
    "# Nickelback = 966\n",
    "# Brittney Spears = 289\n",
    "coplays %>% filter(a1==966 & a2==289)"
   ]
  },
  {
   "cell_type": "markdown",
   "metadata": {},
   "source": [
    "3) What is the lift of Britney Spears and Ozzy Ozborne?"
   ]
  },
  {
   "cell_type": "code",
   "execution_count": 23,
   "metadata": {},
   "outputs": [
    {
     "data": {
      "text/html": [
       "<table>\n",
       "<thead><tr><th scope=col>a1</th><th scope=col>a2</th><th scope=col>count</th><th scope=col>Pxy</th><th scope=col>artist1</th><th scope=col>artist2</th><th scope=col>a1userCount</th><th scope=col>a2userCount</th><th scope=col>Px</th><th scope=col>Py</th><th scope=col>lift</th></tr></thead>\n",
       "<tbody>\n",
       "\t<tr><td>724           </td><td>289           </td><td>2             </td><td>0.001057082   </td><td>Ozzy Osbourne </td><td>Britney Spears</td><td>66            </td><td>522           </td><td>0.03488372    </td><td>0.2758985     </td><td>0.109834      </td></tr>\n",
       "</tbody>\n",
       "</table>\n"
      ],
      "text/latex": [
       "\\begin{tabular}{r|lllllllllll}\n",
       " a1 & a2 & count & Pxy & artist1 & artist2 & a1userCount & a2userCount & Px & Py & lift\\\\\n",
       "\\hline\n",
       "\t 724            & 289            & 2              & 0.001057082    & Ozzy Osbourne  & Britney Spears & 66             & 522            & 0.03488372     & 0.2758985      & 0.109834      \\\\\n",
       "\\end{tabular}\n"
      ],
      "text/markdown": [
       "\n",
       "a1 | a2 | count | Pxy | artist1 | artist2 | a1userCount | a2userCount | Px | Py | lift | \n",
       "|---|\n",
       "| 724            | 289            | 2              | 0.001057082    | Ozzy Osbourne  | Britney Spears | 66             | 522            | 0.03488372     | 0.2758985      | 0.109834       | \n",
       "\n",
       "\n"
      ],
      "text/plain": [
       "  a1  a2  count Pxy         artist1       artist2        a1userCount\n",
       "1 724 289 2     0.001057082 Ozzy Osbourne Britney Spears 66         \n",
       "  a2userCount Px         Py        lift    \n",
       "1 522         0.03488372 0.2758985 0.109834"
      ]
     },
     "metadata": {},
     "output_type": "display_data"
    }
   ],
   "source": [
    "# Brittney Spears = 289\n",
    "# Ozzy Osbourne = 724\n",
    "coplays %>% filter(a1==724 & a2==289)"
   ]
  }
 ],
 "metadata": {
  "kernelspec": {
   "display_name": "R",
   "language": "R",
   "name": "ir"
  },
  "language_info": {
   "codemirror_mode": "r",
   "file_extension": ".r",
   "mimetype": "text/x-r-source",
   "name": "R",
   "pygments_lexer": "r",
   "version": "3.4.2"
  }
 },
 "nbformat": 4,
 "nbformat_minor": 2
}
