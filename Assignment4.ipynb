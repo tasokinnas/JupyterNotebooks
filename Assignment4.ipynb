{
 "cells": [
  {
   "cell_type": "markdown",
   "metadata": {},
   "source": [
    "# Assignment 4: Discrimination\n",
    "## CS 533: Intro to Data Science\n",
    "Kevin Kirchoff<br>\n",
    "Taso Kinnas"
   ]
  },
  {
   "cell_type": "markdown",
   "metadata": {},
   "source": [
    "#### Requirements\n",
    "\n",
    "Your task is to analyze the accuracy of the classifier with respect to actual post-release recidivism. How good is at predicting recidivism? How accurate is it at predicting violent recidivism?"
   ]
  },
  {
   "cell_type": "code",
   "execution_count": 1,
   "metadata": {},
   "outputs": [
    {
     "name": "stderr",
     "output_type": "stream",
     "text": [
      "Loading tidyverse: ggplot2\n",
      "Loading tidyverse: tibble\n",
      "Loading tidyverse: tidyr\n",
      "Loading tidyverse: readr\n",
      "Loading tidyverse: purrr\n",
      "Loading tidyverse: dplyr\n",
      "Conflicts with tidy packages ---------------------------------------------------\n",
      "filter(): dplyr, stats\n",
      "lag():    dplyr, stats\n"
     ]
    }
   ],
   "source": [
    "# load necessary libraries\n",
    "library(tidyverse)\n",
    "library(modelr)\n",
    "library(plotROC)"
   ]
  },
  {
   "cell_type": "code",
   "execution_count": 2,
   "metadata": {},
   "outputs": [
    {
     "name": "stderr",
     "output_type": "stream",
     "text": [
      "Warning message:\n",
      "\"Duplicated column names deduplicated: 'decile_score' => 'decile_score_1' [40], 'priors_count' => 'priors_count_1' [49]\"Parsed with column specification:\n",
      "cols(\n",
      "  .default = col_character(),\n",
      "  id = col_integer(),\n",
      "  compas_screening_date = col_date(format = \"\"),\n",
      "  dob = col_date(format = \"\"),\n",
      "  age = col_integer(),\n",
      "  juv_fel_count = col_integer(),\n",
      "  decile_score = col_integer(),\n",
      "  juv_misd_count = col_integer(),\n",
      "  juv_other_count = col_integer(),\n",
      "  priors_count = col_integer(),\n",
      "  days_b_screening_arrest = col_integer(),\n",
      "  c_jail_in = col_datetime(format = \"\"),\n",
      "  c_jail_out = col_datetime(format = \"\"),\n",
      "  c_offense_date = col_date(format = \"\"),\n",
      "  c_arrest_date = col_date(format = \"\"),\n",
      "  c_days_from_compas = col_integer(),\n",
      "  is_recid = col_integer(),\n",
      "  r_days_from_arrest = col_integer(),\n",
      "  r_offense_date = col_date(format = \"\"),\n",
      "  r_jail_in = col_date(format = \"\"),\n",
      "  r_jail_out = col_date(format = \"\")\n",
      "  # ... with 13 more columns\n",
      ")\n",
      "See spec(...) for full column specifications.\n"
     ]
    }
   ],
   "source": [
    "#load data\n",
    "data_raw = read_csv(\"data/compass/compas-scores-two-years.csv\")\n",
    "# spec(data_raw)\n",
    "# str(data_raw)"
   ]
  },
  {
   "cell_type": "code",
   "execution_count": 3,
   "metadata": {},
   "outputs": [],
   "source": [
    "# sets plot height to 3.5 inches\n",
    "options(repr.plot.height=3.5)"
   ]
  },
  {
   "cell_type": "code",
   "execution_count": 4,
   "metadata": {},
   "outputs": [],
   "source": [
    "# ProPublica filters \n",
    "df = dplyr::select(data_raw, age, c_charge_degree, race, age_cat, score_text, sex, priors_count,\n",
    "                   days_b_screening_arrest, decile_score, is_recid, two_year_recid, c_jail_in, \n",
    "                   c_jail_out, everything()) %>%\n",
    "        filter(days_b_screening_arrest <= 30) %>%\n",
    "        filter(days_b_screening_arrest >= -30) %>%\n",
    "        filter(is_recid != -1) %>%\n",
    "        filter(c_charge_degree != \"O\") %>%\n",
    "        filter(score_text != 'N/A')\n",
    "# head(df)"
   ]
  },
  {
   "cell_type": "code",
   "execution_count": 5,
   "metadata": {},
   "outputs": [],
   "source": [
    "# Data Transformation: make recitivism and violent recitivism boolean\n",
    "relevant_data = df %>%\n",
    "                mutate(recid = is_recid == 1) %>%\n",
    "                mutate(v_recid = is_violent_recid == 1)\n",
    "\n",
    "relevant_data$score_text = factor(relevant_data$score_text, levels = c(\"Low\", \"Medium\", \"High\"), ordered=TRUE)\n",
    "\n",
    "# head(relevant_data)\n",
    "# str(relevant_data)"
   ]
  },
  {
   "cell_type": "code",
   "execution_count": 6,
   "metadata": {},
   "outputs": [
    {
     "data": {
      "text/html": [
       "<table>\n",
       "<thead><tr><th scope=col>sex</th><th scope=col>race</th><th scope=col>decile_score</th><th scope=col>score_text</th><th scope=col>v_decile_score</th><th scope=col>v_score_text</th><th scope=col>recid</th><th scope=col>v_recid</th><th scope=col>is_recid</th><th scope=col>is_violent_recid</th></tr></thead>\n",
       "<tbody>\n",
       "\t<tr><td>Male            </td><td>Other           </td><td>1               </td><td>Low             </td><td>1               </td><td>Low             </td><td>FALSE           </td><td>FALSE           </td><td>0               </td><td>0               </td></tr>\n",
       "\t<tr><td>Male            </td><td>African-American</td><td>3               </td><td>Low             </td><td>1               </td><td>Low             </td><td> TRUE           </td><td> TRUE           </td><td>1               </td><td>1               </td></tr>\n",
       "\t<tr><td>Male            </td><td>African-American</td><td>4               </td><td>Low             </td><td>3               </td><td>Low             </td><td> TRUE           </td><td>FALSE           </td><td>1               </td><td>0               </td></tr>\n",
       "\t<tr><td>Male            </td><td>Other           </td><td>1               </td><td>Low             </td><td>1               </td><td>Low             </td><td>FALSE           </td><td>FALSE           </td><td>0               </td><td>0               </td></tr>\n",
       "\t<tr><td>Male            </td><td>Caucasian       </td><td>6               </td><td>Medium          </td><td>2               </td><td>Low             </td><td> TRUE           </td><td>FALSE           </td><td>1               </td><td>0               </td></tr>\n",
       "\t<tr><td>Male            </td><td>Other           </td><td>4               </td><td>Low             </td><td>3               </td><td>Low             </td><td>FALSE           </td><td>FALSE           </td><td>0               </td><td>0               </td></tr>\n",
       "</tbody>\n",
       "</table>\n"
      ],
      "text/latex": [
       "\\begin{tabular}{r|llllllllll}\n",
       " sex & race & decile\\_score & score\\_text & v\\_decile\\_score & v\\_score\\_text & recid & v\\_recid & is\\_recid & is\\_violent\\_recid\\\\\n",
       "\\hline\n",
       "\t Male             & Other            & 1                & Low              & 1                & Low              & FALSE            & FALSE            & 0                & 0               \\\\\n",
       "\t Male             & African-American & 3                & Low              & 1                & Low              &  TRUE            &  TRUE            & 1                & 1               \\\\\n",
       "\t Male             & African-American & 4                & Low              & 3                & Low              &  TRUE            & FALSE            & 1                & 0               \\\\\n",
       "\t Male             & Other            & 1                & Low              & 1                & Low              & FALSE            & FALSE            & 0                & 0               \\\\\n",
       "\t Male             & Caucasian        & 6                & Medium           & 2                & Low              &  TRUE            & FALSE            & 1                & 0               \\\\\n",
       "\t Male             & Other            & 4                & Low              & 3                & Low              & FALSE            & FALSE            & 0                & 0               \\\\\n",
       "\\end{tabular}\n"
      ],
      "text/markdown": [
       "\n",
       "sex | race | decile_score | score_text | v_decile_score | v_score_text | recid | v_recid | is_recid | is_violent_recid | \n",
       "|---|---|---|---|---|---|\n",
       "| Male             | Other            | 1                | Low              | 1                | Low              | FALSE            | FALSE            | 0                | 0                | \n",
       "| Male             | African-American | 3                | Low              | 1                | Low              |  TRUE            |  TRUE            | 1                | 1                | \n",
       "| Male             | African-American | 4                | Low              | 3                | Low              |  TRUE            | FALSE            | 1                | 0                | \n",
       "| Male             | Other            | 1                | Low              | 1                | Low              | FALSE            | FALSE            | 0                | 0                | \n",
       "| Male             | Caucasian        | 6                | Medium           | 2                | Low              |  TRUE            | FALSE            | 1                | 0                | \n",
       "| Male             | Other            | 4                | Low              | 3                | Low              | FALSE            | FALSE            | 0                | 0                | \n",
       "\n",
       "\n"
      ],
      "text/plain": [
       "  sex  race             decile_score score_text v_decile_score v_score_text\n",
       "1 Male Other            1            Low        1              Low         \n",
       "2 Male African-American 3            Low        1              Low         \n",
       "3 Male African-American 4            Low        3              Low         \n",
       "4 Male Other            1            Low        1              Low         \n",
       "5 Male Caucasian        6            Medium     2              Low         \n",
       "6 Male Other            4            Low        3              Low         \n",
       "  recid v_recid is_recid is_violent_recid\n",
       "1 FALSE FALSE   0        0               \n",
       "2  TRUE  TRUE   1        1               \n",
       "3  TRUE FALSE   1        0               \n",
       "4 FALSE FALSE   0        0               \n",
       "5  TRUE FALSE   1        0               \n",
       "6 FALSE FALSE   0        0               "
      ]
     },
     "metadata": {},
     "output_type": "display_data"
    }
   ],
   "source": [
    "# Data selection: selecting relevant vectors\n",
    "relevant_data = select(relevant_data, sex, race, decile_score, score_text, \n",
    "                  v_decile_score, v_score_text, \n",
    "                  recid, v_recid, is_recid, is_violent_recid)\n",
    "head(relevant_data)"
   ]
  },
  {
   "cell_type": "code",
   "execution_count": 7,
   "metadata": {},
   "outputs": [
    {
     "data": {
      "text/plain": [
       "\n",
       "Call:\n",
       "glm(formula = recid ~ decile_score, family = binomial(), data = relevant_data)\n",
       "\n",
       "Deviance Residuals: \n",
       "    Min       1Q   Median       3Q      Max  \n",
       "-1.8562  -0.9900  -0.7831   1.0160   1.6319  \n",
       "\n",
       "Coefficients:\n",
       "             Estimate Std. Error z value Pr(>|z|)    \n",
       "(Intercept)  -1.30843    0.05237  -24.98   <2e-16 ***\n",
       "decile_score  0.28344    0.01031   27.49   <2e-16 ***\n",
       "---\n",
       "Signif. codes:  0 '***' 0.001 '**' 0.01 '*' 0.05 '.' 0.1 ' ' 1\n",
       "\n",
       "(Dispersion parameter for binomial family taken to be 1)\n",
       "\n",
       "    Null deviance: 8550.2  on 6171  degrees of freedom\n",
       "Residual deviance: 7681.0  on 6170  degrees of freedom\n",
       "AIC: 7685\n",
       "\n",
       "Number of Fisher Scoring iterations: 4\n"
      ]
     },
     "metadata": {},
     "output_type": "display_data"
    }
   ],
   "source": [
    "# build model to predict non-violent recitivism\n",
    "model01 = glm(recid ~ decile_score,\n",
    "            relevant_data, family=binomial())\n",
    "summary(model01)"
   ]
  },
  {
   "cell_type": "code",
   "execution_count": 8,
   "metadata": {},
   "outputs": [
    {
     "data": {
      "text/plain": [
       "\n",
       "Call:\n",
       "glm(formula = v_recid ~ v_decile_score, family = binomial(), \n",
       "    data = relevant_data)\n",
       "\n",
       "Deviance Residuals: \n",
       "    Min       1Q   Median       3Q      Max  \n",
       "-0.8491  -0.5296  -0.3918  -0.3537   2.3677  \n",
       "\n",
       "Coefficients:\n",
       "               Estimate Std. Error z value Pr(>|z|)    \n",
       "(Intercept)    -2.95211    0.08256  -35.76   <2e-16 ***\n",
       "v_decile_score  0.21176    0.01524   13.89   <2e-16 ***\n",
       "---\n",
       "Signif. codes:  0 '***' 0.001 '**' 0.01 '*' 0.05 '.' 0.1 ' ' 1\n",
       "\n",
       "(Dispersion parameter for binomial family taken to be 1)\n",
       "\n",
       "    Null deviance: 4331.8  on 6171  degrees of freedom\n",
       "Residual deviance: 4140.8  on 6170  degrees of freedom\n",
       "AIC: 4144.8\n",
       "\n",
       "Number of Fisher Scoring iterations: 5\n"
      ]
     },
     "metadata": {},
     "output_type": "display_data"
    }
   ],
   "source": [
    "# build model to predict violent recitivism\n",
    "model02 = glm(v_recid ~ v_decile_score,\n",
    "            relevant_data, family=binomial())\n",
    "summary(model02)"
   ]
  },
  {
   "cell_type": "code",
   "execution_count": 9,
   "metadata": {},
   "outputs": [],
   "source": [
    "# build predictions for model01 (non-violent offenses)\n",
    "relevant_data = relevant_data %>%\n",
    "    add_predictions(model01, var=\"model01_pred\")"
   ]
  },
  {
   "cell_type": "code",
   "execution_count": 10,
   "metadata": {},
   "outputs": [
    {
     "data": {
      "text/html": [
       "<table>\n",
       "<thead><tr><th scope=col>sex</th><th scope=col>race</th><th scope=col>decile_score</th><th scope=col>score_text</th><th scope=col>v_decile_score</th><th scope=col>v_score_text</th><th scope=col>recid</th><th scope=col>v_recid</th><th scope=col>is_recid</th><th scope=col>is_violent_recid</th><th scope=col>model01_pred</th><th scope=col>model02_pred</th></tr></thead>\n",
       "<tbody>\n",
       "\t<tr><td>Male            </td><td>Other           </td><td>1               </td><td>Low             </td><td>1               </td><td>Low             </td><td>FALSE           </td><td>FALSE           </td><td>0               </td><td>0               </td><td>-1.0249894      </td><td>-2.740354       </td></tr>\n",
       "\t<tr><td>Male            </td><td>African-American</td><td>3               </td><td>Low             </td><td>1               </td><td>Low             </td><td> TRUE           </td><td> TRUE           </td><td>1               </td><td>1               </td><td>-0.4581068      </td><td>-2.740354       </td></tr>\n",
       "\t<tr><td>Male            </td><td>African-American</td><td>4               </td><td>Low             </td><td>3               </td><td>Low             </td><td> TRUE           </td><td>FALSE           </td><td>1               </td><td>0               </td><td>-0.1746655      </td><td>-2.316839       </td></tr>\n",
       "\t<tr><td>Male            </td><td>Other           </td><td>1               </td><td>Low             </td><td>1               </td><td>Low             </td><td>FALSE           </td><td>FALSE           </td><td>0               </td><td>0               </td><td>-1.0249894      </td><td>-2.740354       </td></tr>\n",
       "\t<tr><td>Male            </td><td>Caucasian       </td><td>6               </td><td>Medium          </td><td>2               </td><td>Low             </td><td> TRUE           </td><td>FALSE           </td><td>1               </td><td>0               </td><td> 0.3922171      </td><td>-2.528596       </td></tr>\n",
       "\t<tr><td>Male            </td><td>Other           </td><td>4               </td><td>Low             </td><td>3               </td><td>Low             </td><td>FALSE           </td><td>FALSE           </td><td>0               </td><td>0               </td><td>-0.1746655      </td><td>-2.316839       </td></tr>\n",
       "</tbody>\n",
       "</table>\n"
      ],
      "text/latex": [
       "\\begin{tabular}{r|llllllllllll}\n",
       " sex & race & decile\\_score & score\\_text & v\\_decile\\_score & v\\_score\\_text & recid & v\\_recid & is\\_recid & is\\_violent\\_recid & model01\\_pred & model02\\_pred\\\\\n",
       "\\hline\n",
       "\t Male             & Other            & 1                & Low              & 1                & Low              & FALSE            & FALSE            & 0                & 0                & -1.0249894       & -2.740354       \\\\\n",
       "\t Male             & African-American & 3                & Low              & 1                & Low              &  TRUE            &  TRUE            & 1                & 1                & -0.4581068       & -2.740354       \\\\\n",
       "\t Male             & African-American & 4                & Low              & 3                & Low              &  TRUE            & FALSE            & 1                & 0                & -0.1746655       & -2.316839       \\\\\n",
       "\t Male             & Other            & 1                & Low              & 1                & Low              & FALSE            & FALSE            & 0                & 0                & -1.0249894       & -2.740354       \\\\\n",
       "\t Male             & Caucasian        & 6                & Medium           & 2                & Low              &  TRUE            & FALSE            & 1                & 0                &  0.3922171       & -2.528596       \\\\\n",
       "\t Male             & Other            & 4                & Low              & 3                & Low              & FALSE            & FALSE            & 0                & 0                & -0.1746655       & -2.316839       \\\\\n",
       "\\end{tabular}\n"
      ],
      "text/markdown": [
       "\n",
       "sex | race | decile_score | score_text | v_decile_score | v_score_text | recid | v_recid | is_recid | is_violent_recid | model01_pred | model02_pred | \n",
       "|---|---|---|---|---|---|\n",
       "| Male             | Other            | 1                | Low              | 1                | Low              | FALSE            | FALSE            | 0                | 0                | -1.0249894       | -2.740354        | \n",
       "| Male             | African-American | 3                | Low              | 1                | Low              |  TRUE            |  TRUE            | 1                | 1                | -0.4581068       | -2.740354        | \n",
       "| Male             | African-American | 4                | Low              | 3                | Low              |  TRUE            | FALSE            | 1                | 0                | -0.1746655       | -2.316839        | \n",
       "| Male             | Other            | 1                | Low              | 1                | Low              | FALSE            | FALSE            | 0                | 0                | -1.0249894       | -2.740354        | \n",
       "| Male             | Caucasian        | 6                | Medium           | 2                | Low              |  TRUE            | FALSE            | 1                | 0                |  0.3922171       | -2.528596        | \n",
       "| Male             | Other            | 4                | Low              | 3                | Low              | FALSE            | FALSE            | 0                | 0                | -0.1746655       | -2.316839        | \n",
       "\n",
       "\n"
      ],
      "text/plain": [
       "  sex  race             decile_score score_text v_decile_score v_score_text\n",
       "1 Male Other            1            Low        1              Low         \n",
       "2 Male African-American 3            Low        1              Low         \n",
       "3 Male African-American 4            Low        3              Low         \n",
       "4 Male Other            1            Low        1              Low         \n",
       "5 Male Caucasian        6            Medium     2              Low         \n",
       "6 Male Other            4            Low        3              Low         \n",
       "  recid v_recid is_recid is_violent_recid model01_pred model02_pred\n",
       "1 FALSE FALSE   0        0                -1.0249894   -2.740354   \n",
       "2  TRUE  TRUE   1        1                -0.4581068   -2.740354   \n",
       "3  TRUE FALSE   1        0                -0.1746655   -2.316839   \n",
       "4 FALSE FALSE   0        0                -1.0249894   -2.740354   \n",
       "5  TRUE FALSE   1        0                 0.3922171   -2.528596   \n",
       "6 FALSE FALSE   0        0                -0.1746655   -2.316839   "
      ]
     },
     "metadata": {},
     "output_type": "display_data"
    }
   ],
   "source": [
    "# build predictions for model02 (violent offenses)\n",
    "relevant_data = relevant_data %>%\n",
    "    add_predictions(model02, var=\"model02_pred\")\n",
    "head(relevant_data)"
   ]
  },
  {
   "cell_type": "markdown",
   "metadata": {},
   "source": [
    "## Start by doing some basic analysis of the accuracy:\n",
    "\n",
    "### 1) Plot ROC curves for recidivism and violent recidivism, using the decile scores as the predictor."
   ]
  },
  {
   "cell_type": "code",
   "execution_count": 11,
   "metadata": {},
   "outputs": [
    {
     "data": {},
     "metadata": {},
     "output_type": "display_data"
    },
    {
     "data": {
      "text/html": [
       "<table>\n",
       "<thead><tr><th scope=col>PANEL</th><th scope=col>group</th><th scope=col>AUC</th></tr></thead>\n",
       "<tbody>\n",
       "\t<tr><td>1       </td><td>1       </td><td>0.711162</td></tr>\n",
       "</tbody>\n",
       "</table>\n"
      ],
      "text/latex": [
       "\\begin{tabular}{r|lll}\n",
       " PANEL & group & AUC\\\\\n",
       "\\hline\n",
       "\t 1        & 1        & 0.711162\\\\\n",
       "\\end{tabular}\n"
      ],
      "text/markdown": [
       "\n",
       "PANEL | group | AUC | \n",
       "|---|\n",
       "| 1        | 1        | 0.711162 | \n",
       "\n",
       "\n"
      ],
      "text/plain": [
       "  PANEL group AUC     \n",
       "1 1     1     0.711162"
      ]
     },
     "metadata": {},
     "output_type": "display_data"
    },
    {
     "data": {
      "text/html": [
       "<table>\n",
       "<thead><tr><th scope=col>PANEL</th><th scope=col>group</th><th scope=col>AUC</th></tr></thead>\n",
       "<tbody>\n",
       "\t<tr><td>1        </td><td>1        </td><td>0.6569719</td></tr>\n",
       "</tbody>\n",
       "</table>\n"
      ],
      "text/latex": [
       "\\begin{tabular}{r|lll}\n",
       " PANEL & group & AUC\\\\\n",
       "\\hline\n",
       "\t 1         & 1         & 0.6569719\\\\\n",
       "\\end{tabular}\n"
      ],
      "text/markdown": [
       "\n",
       "PANEL | group | AUC | \n",
       "|---|\n",
       "| 1         | 1         | 0.6569719 | \n",
       "\n",
       "\n"
      ],
      "text/plain": [
       "  PANEL group AUC      \n",
       "1 1     1     0.6569719"
      ]
     },
     "metadata": {},
     "output_type": "display_data"
    },
    {
     "data": {
      "image/png": "[encoded data removed]",
      "text/plain": [
       "plot without title"
      ]
     },
     "metadata": {},
     "output_type": "display_data"
    }
   ],
   "source": [
    "rocplot1 = ggplot(relevant_data, aes(d = is_recid, m = model01_pred, color=\"model01_pred\")) + \n",
    "    geom_roc() +\n",
    "    geom_roc(aes(d = is_violent_recid, m = model02_pred, color=\"model02_pred\"))\n",
    "rocplot2 = ggplot(relevant_data, aes(d = is_violent_recid, m = model02_pred, color=\"model02_pred\")) +\n",
    "    geom_roc()\n",
    "rocplot1\n",
    "calc_auc(rocplot1)\n",
    "calc_auc(rocplot2)"
   ]
  },
  {
   "cell_type": "markdown",
   "metadata": {},
   "source": [
    "### 2) Compute the precision (PPV), recall, false positive rate, and false negative rate for predicting both recidivism and violent recidivism, using 'High Risk' as the threshold for 'will recidivate'."
   ]
  },
  {
   "cell_type": "code",
   "execution_count": 12,
   "metadata": {},
   "outputs": [
    {
     "name": "stdout",
     "output_type": "stream",
     "text": [
      "precision 0.7666084\n",
      "recall:  0.293311\n",
      "False Positive:  0.08390949\n",
      "False Negative:  0.4280794\n",
      "precision (violent):  0.2431507\n",
      "recall (violent) 0.2052023\n",
      "False Positive (violent):  0.04104755\n",
      "False Negative(violent):  0.09541985"
     ]
    }
   ],
   "source": [
    "relevant_data = relevant_data %>%  \n",
    "    mutate(will_recid = ifelse(score_text==\"High\",1,0)) %>%\n",
    "    mutate(v_will_recid = ifelse(v_score_text==\"High\",1,0))    \n",
    "relevant_data = relevant_data %>% \n",
    "    mutate(TP = (relevant_data$is_recid==1) & (relevant_data$will_recid==1)) %>%\n",
    "    mutate(TN = (relevant_data$is_recid==0) & (relevant_data$will_recid==0)) %>%\n",
    "    mutate(FP = (relevant_data$is_recid==0) & (relevant_data$will_recid==1)) %>%\n",
    "    mutate(FN = (relevant_data$is_recid==1) & (relevant_data$will_recid==0)) %>%\n",
    "    mutate(V_TP = (relevant_data$is_violent_recid==1) & (relevant_data$v_will_recid==1)) %>%\n",
    "    mutate(V_TN = (relevant_data$is_violent_recid==0) & (relevant_data$v_will_recid==0)) %>%\n",
    "    mutate(V_FP = (relevant_data$is_violent_recid==0) & (relevant_data$v_will_recid==1)) %>%\n",
    "    mutate(V_FN = (relevant_data$is_violent_recid==1) & (relevant_data$v_will_recid==0))\n",
    "# relevant_data \n",
    "\n",
    "precision = sum(relevant_data$TP)/(sum(relevant_data$TP)+sum(relevant_data$FP))\n",
    "cat(\"precision\", precision)\n",
    "recall = sum(relevant_data$TP)/(sum(relevant_data$TP)+sum(relevant_data$FN))\n",
    "cat(\"\\nrecall: \", recall)\n",
    "cat(\"\\nFalse Positive: \",sum(relevant_data$FP)/(sum(relevant_data$FP)+sum(relevant_data$TN)))\n",
    "cat(\"\\nFalse Negative: \",sum(relevant_data$FN)/(sum(!relevant_data$FN)+sum(relevant_data$TP)))\n",
    "\n",
    "v_precision = sum(relevant_data$V_TP)/(sum(relevant_data$V_TP)+sum(relevant_data$V_FP))\n",
    "cat(\"\\nprecision (violent): \", v_precision)\n",
    "v_recall = sum(relevant_data$V_TP)/(sum(relevant_data$V_TP)+sum(relevant_data$V_FN))\n",
    "cat(\"\\nrecall (violent)\", v_recall)\n",
    "\n",
    "cat(\"\\nFalse Positive (violent): \",sum(relevant_data$V_FP)/(sum(!relevant_data$V_FP)+sum(relevant_data$V_TN)))\n",
    "cat(\"\\nFalse Negative(violent): \",sum(relevant_data$V_FN)/(sum(!relevant_data$V_FN)+sum(relevant_data$V_TP)))"
   ]
  },
  {
   "cell_type": "markdown",
   "metadata": {},
   "source": [
    "## Now we want to look at racial disparities; we will consider Caucasian, Black, and Hispanic.\n",
    "\n",
    "\n",
    "### 1) Draw a bar chart that shows, for each race, and separately for violent and non-violent scoring, the likelihood that a defendant with each of the three risk score levels recidivates. The X axis should be risk score, and the Y axis should be likelihood of recidivism; facet_grid by race and whether we are looking at violent or general recidivism."
   ]
  },
  {
   "cell_type": "code",
   "execution_count": 13,
   "metadata": {},
   "outputs": [],
   "source": [
    "# filter on three races\n",
    "race_data = filter(relevant_data, race == \"Caucasian\" | race == \"African-American\" | race == \"Hispanic\")\n",
    "# head(race_data)"
   ]
  },
  {
   "cell_type": "code",
   "execution_count": 14,
   "metadata": {},
   "outputs": [],
   "source": [
    "recid_prob = (select(race_data, race, score_text, recid)) %>%\n",
    "    group_by(race, score_text) %>%\n",
    "    summarize(count=n(), recid_mean = mean(recid))\n",
    "v_recid_prob = (select(race_data, race, score_text, v_recid)) %>%\n",
    "    group_by(race, score_text) %>%\n",
    "    summarize(count=n(), v_recid_mean = mean(v_recid))\n",
    "# head(recid_prob)\n",
    "# head(v_recid_prob)"
   ]
  },
  {
   "cell_type": "code",
   "execution_count": 15,
   "metadata": {},
   "outputs": [
    {
     "data": {},
     "metadata": {},
     "output_type": "display_data"
    },
    {
     "data": {},
     "metadata": {},
     "output_type": "display_data"
    },
    {
     "data": {
      "image/png": "[encoded data removed]",
      "text/plain": [
       "plot without title"
      ]
     },
     "metadata": {},
     "output_type": "display_data"
    },
    {
     "data": {
      "image/png": "[encoded data removed]",
      "text/plain": [
       "plot without title"
      ]
     },
     "metadata": {},
     "output_type": "display_data"
    }
   ],
   "source": [
    "ggplot(recid_prob) +\n",
    "    aes(x=score_text, y=recid_mean) +\n",
    "    geom_bar(position=\"dodge\", stat=\"identity\") +\n",
    "    facet_grid(.~race, scales=\"free\") +\n",
    "    theme(axis.text.x = element_text(size=10, angle=45, hjust=1)) +\n",
    "    labs(title=\"Non-violent scores\")\n",
    "ggplot(v_recid_prob) +\n",
    "    aes(x=score_text, y=v_recid_mean) +\n",
    "    geom_bar(position=\"dodge\", stat=\"identity\") +\n",
    "    facet_grid(.~race, scales=\"free\") +\n",
    "    theme(axis.text.x = element_text(size=10, angle=45, hjust=1)) +\n",
    "    labs(title=\"Violent scores\")"
   ]
  },
  {
   "cell_type": "markdown",
   "metadata": {
    "collapsed": true
   },
   "source": [
    "### 2) Compute the False Positive Rate for each race: what fraction of defendants who do not recidivate receive a high risk score?"
   ]
  },
  {
   "cell_type": "code",
   "execution_count": 16,
   "metadata": {},
   "outputs": [
    {
     "name": "stdout",
     "output_type": "stream",
     "text": [
      "False Positve Rate: Caucasian:  0.0455655\n",
      "False Positve Rate: African-American:  0.1355207\n",
      "False Positve Rate: Hispanic:  0.05769231"
     ]
    }
   ],
   "source": [
    "# filter on three races\n",
    "C = filter(race_data, race == \"Caucasian\")\n",
    "#head(C)\n",
    "C_FP = sum(C$FP)/(sum(C$FP)+sum(C$TN))\n",
    "cat(\"False Positve Rate: Caucasian: \", C_FP)\n",
    "\n",
    "A = filter(race_data, race == \"African-American\")\n",
    "#head(A)\n",
    "A_FP = sum(A$FP)/(sum(A$FP)+sum(A$TN))\n",
    "cat(\"\\nFalse Positve Rate: African-American: \", A_FP)\n",
    "\n",
    "H = filter(race_data, race == \"Hispanic\")\n",
    "#head(H)\n",
    "H_FP = sum(H$FP)/(sum(H$FP)+sum(H$TN))\n",
    "cat(\"\\nFalse Positve Rate: Hispanic: \", H_FP)"
   ]
  },
  {
   "cell_type": "markdown",
   "metadata": {},
   "source": [
    "### 3) Compute the False Negative Rate for each race: what fraction of defendants who receive do recidivate receive a low risk score?"
   ]
  },
  {
   "cell_type": "code",
   "execution_count": 17,
   "metadata": {},
   "outputs": [
    {
     "name": "stdout",
     "output_type": "stream",
     "text": [
      "False Negative Rate: Caucasian:  0.8089245\n",
      "False Negative Rate: African-American:  0.6305697\n",
      "False Negative Rate: Hispanic:  0.8527919"
     ]
    }
   ],
   "source": [
    "C_FN = sum(C$FN)/(sum(C$FN)+sum(C$TP))\n",
    "cat(\"False Negative Rate: Caucasian: \", C_FN)\n",
    "\n",
    "A_FN = sum(A$FN)/(sum(A$FN)+sum(A$TP))\n",
    "cat(\"\\nFalse Negative Rate: African-American: \",A_FN)\n",
    "\n",
    "H_FN = sum(H$FN)/(sum(H$FN)+sum(H$TP))\n",
    "cat(\"\\nFalse Negative Rate: Hispanic: \", H_FN)"
   ]
  },
  {
   "cell_type": "markdown",
   "metadata": {
    "collapsed": true
   },
   "source": [
    "### 4) Compute the Positive Predictive Value (or Precision) for each race."
   ]
  },
  {
   "cell_type": "code",
   "execution_count": 18,
   "metadata": {},
   "outputs": [
    {
     "name": "stdout",
     "output_type": "stream",
     "text": [
      "precision_caucasian:  0.7488789\n",
      "precision_african:  0.7751479\n",
      "precision_hispanic:  0.6170213"
     ]
    }
   ],
   "source": [
    "precision_caucasian = sum(C$TP)/(sum(C$TP)+sum(C$FP))\n",
    "cat(\"precision_caucasian: \",precision_caucasian)\n",
    "\n",
    "precision_african = sum(A$TP)/(sum(A$TP)+sum(A$FP))\n",
    "cat(\"\\nprecision_african: \", precision_african)\n",
    "\n",
    "precision_hispanic = sum(H$TP)/(sum(H$TP)+sum(H$FP))\n",
    "cat(\"\\nprecision_hispanic: \", precision_hispanic)"
   ]
  },
  {
   "cell_type": "markdown",
   "metadata": {},
   "source": [
    "### 5) Compute the Negative Predictive Value for each race (what fraction of low-risk defendents do recidiviate)."
   ]
  },
  {
   "cell_type": "code",
   "execution_count": 19,
   "metadata": {},
   "outputs": [
    {
     "name": "stdout",
     "output_type": "stream",
     "text": [
      "neg_precision_caucasian:  0.6239362\n",
      "neg_precision_african:  0.5201717\n",
      "neg_precision_hispanic:  0.6363636"
     ]
    }
   ],
   "source": [
    "neg_precision_caucasian = sum(C$TN)/(sum(C$TN)+sum(C$FN))\n",
    "#summary(neg_precision_caucasian)\n",
    "cat(\"neg_precision_caucasian: \", neg_precision_caucasian )\n",
    "\n",
    "neg_precision_african = sum(A$TN)/(sum(A$TN)+sum(A$FN))\n",
    "cat(\"\\nneg_precision_african: \", neg_precision_african)\n",
    "\n",
    "neg_precision_hispanic = sum(H$TN)/(sum(H$TN)+sum(H$FN))\n",
    "cat(\"\\nneg_precision_hispanic: \", neg_precision_hispanic)"
   ]
  },
  {
   "cell_type": "markdown",
   "metadata": {},
   "source": [
    "### 6) Plot ROC curves for each race (overlayed on top of each other — map the color and linetype aesthetics to race)."
   ]
  },
  {
   "cell_type": "code",
   "execution_count": 20,
   "metadata": {},
   "outputs": [
    {
     "data": {},
     "metadata": {},
     "output_type": "display_data"
    },
    {
     "data": {
      "image/png": "[encoded data removed]",
      "text/plain": [
       "plot without title"
      ]
     },
     "metadata": {},
     "output_type": "display_data"
    }
   ],
   "source": [
    "all_rocplot = ggplot(race_data, aes(d = is_recid, m = model01_pred, color=race)) + \n",
    "    geom_roc() # +\n",
    "\n",
    "all_rocplot"
   ]
  },
  {
   "cell_type": "markdown",
   "metadata": {},
   "source": [
    "## Finally, write:"
   ]
  },
  {
   "cell_type": "markdown",
   "metadata": {
    "collapsed": true
   },
   "source": [
    "### 1) Based on these analyses, write 1-2 paragraphs about how members of different races experience the prediction system.\n",
    "<p>\n",
    "In general, this system appears to be roughly 76% accurate with predicting recitivism.  Breaking that down by the three races, the data suggests the prediction system is about 10% less accurate for Hispanics, but fairly similar for Caucasians and African-Americans.  What's a little more telling is the error rates.  The false positives are over double for Afrivan-Americans compared to Caucasians and Hispanics have about a 50% higher false positive rate.  This suggests there is clearly a greater chance of error for non-Caucasians and it is not favorable to members of those race classes.  The disparity for false negative rates appear to be negligable between the races and doesn't appear to adversely impact  members based on race.\n",
    "</p>"
   ]
  },
  {
   "cell_type": "markdown",
   "metadata": {},
   "source": [
    "### 2) Write 1–2 paragraphs about why you think different metrics tell different stories. How can PPV be similar but FPR or FNR be different? Think about a confusion matrix to help you with this.\n",
    "<p>\n",
    "Different metrics tell different stories because they evalute different aspects of a given set of data.  PPV is evaluating accuracy, while FPR and FNR are evaluating the errors.  To drill down on that, FPR and FNR are evaluating different types of errors.  In this case, PPV predicts that someone \"will commit another crime and actually does.\"  The FPR and FNR are looking at the errors in the prediction, respectivley \"will commit another crime and doesn't\" or \"won't commit another crime and does.\"\n",
    "</p>"
   ]
  }
 ],
 "metadata": {
  "kernelspec": {
   "display_name": "R",
   "language": "R",
   "name": "ir"
  },
  "language_info": {
   "codemirror_mode": "r",
   "file_extension": ".r",
   "mimetype": "text/x-r-source",
   "name": "R",
   "pygments_lexer": "r",
   "version": "3.4.2"
  }
 },
 "nbformat": 4,
 "nbformat_minor": 2
}
