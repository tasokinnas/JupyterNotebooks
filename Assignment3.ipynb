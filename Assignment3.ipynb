{
 "cells": [
  {
   "cell_type": "markdown",
   "metadata": {},
   "source": [
    "# Assignment 3: Credit-scoring model\n",
    "## CS 533: Intro to Data Science\n",
    "Kevin Kirchoff<br>\n",
    "Taso Kinnas"
   ]
  },
  {
   "cell_type": "markdown",
   "metadata": {},
   "source": [
    "## 1. Import and explore the data"
   ]
  },
  {
   "cell_type": "markdown",
   "metadata": {},
   "source": [
    "### a) Load relevant libraries"
   ]
  },
  {
   "cell_type": "code",
   "execution_count": 4,
   "metadata": {
    "scrolled": true
   },
   "outputs": [],
   "source": [
    "library(plyr)\n",
    "library(tidyverse)\n",
    "library(dplyr)\n",
    "library(tidyr)\n",
    "library(modelr)\n",
    "library(reshape2)\n",
    "library(MASS)"
   ]
  },
  {
   "cell_type": "code",
   "execution_count": 5,
   "metadata": {},
   "outputs": [],
   "source": [
    "# sets plot height to 3.5 inches\n",
    "options(repr.plot.height=3.5)"
   ]
  },
  {
   "cell_type": "markdown",
   "metadata": {},
   "source": [
    "### b) Load Data\n",
    "* Named columns"
   ]
  },
  {
   "cell_type": "code",
   "execution_count": 6,
   "metadata": {},
   "outputs": [
    {
     "name": "stderr",
     "output_type": "stream",
     "text": [
      "Parsed with column specification:\n",
      "cols(\n",
      "  .default = col_character(),\n",
      "  Duration_in_month = col_integer(),\n",
      "  Credit_amount = col_integer(),\n",
      "  income_debt_ratio = col_integer(),\n",
      "  Present_residence_since = col_integer(),\n",
      "  Age = col_integer(),\n",
      "  Number_credits_at_this_bank = col_integer(),\n",
      "  Dependents = col_integer(),\n",
      "  outcome = col_integer()\n",
      ")\n",
      "See spec(...) for full column specifications.\n"
     ]
    }
   ],
   "source": [
    "credit_raw = read_delim(\"data/creditdata/german.data.txt\", delim=\" \",\n",
    "                        col_names=c(\"Current_balance\",\n",
    "                                    \"Duration_in_month\",\n",
    "                                    \"Credit_history\",\n",
    "                                    \"Purpose\",\n",
    "                                    \"Credit_amount\",\n",
    "                                    \"Savings_account_bonds\",\n",
    "                                    \"Present_employment_since\",\n",
    "                                    \"income_debt_ratio\",\n",
    "                                    \"Personal_status_sex\",\n",
    "                                    \"Other_debtors\",\n",
    "                                    \"Present_residence_since\",\n",
    "                                    \"Property\",\n",
    "                                    \"Age\",\n",
    "                                    \"Other_installment_plans\",\n",
    "                                    \"Housing\",\n",
    "                                    \"Number_credits_at_this_bank\",\n",
    "                                    \"Job\",\n",
    "                                    \"Dependents\",\n",
    "                                    \"Telephone\",\n",
    "                                    \"foreign_worker\",\n",
    "                                    \"outcome\"))\n",
    "# head(credit_raw)"
   ]
  },
  {
   "cell_type": "markdown",
   "metadata": {},
   "source": [
    "### c) Convert to logical, factored, and transform as needed\n",
    "* Renamed data to be more meaningful for intrepretation\n",
    "* Converted outcome to logical\n",
    "* Performed logistical regression on some continuous data for more meainful graphs\n",
    "* Converted categorical data to factors\n",
    "* Re-ordered dataframe to group similar data types (continuous, ordinal, etc.)"
   ]
  },
  {
   "cell_type": "code",
   "execution_count": 7,
   "metadata": {},
   "outputs": [
    {
     "name": "stderr",
     "output_type": "stream",
     "text": [
      "The following `from` values were not present in `x`: A47\n",
      "The following `from` values were not present in `x`: A95\n"
     ]
    }
   ],
   "source": [
    "credit_raw$Current_balance = revalue(credit_raw$Current_balance,\n",
    "                                    c(\"A11\" = \"0 DM\",\n",
    "                                      \"A12\" = \"0 <= 200 DM\",\n",
    "                                      \"A13\" = \"200 DM or more\",\n",
    "                                      \"A14\" = \"no checking account\"))\n",
    "credit_raw$Credit_history = revalue(credit_raw$Credit_history,\n",
    "                                   c(\"A30\" = \"no credits taken/all credits paid back duly\",\n",
    "                                     \"A31\" = \"all credits at this bank paid back duly\",\n",
    "                                     \"A32\" = \"existing credits paid back duly till now\",\n",
    "                                     \"A33\" = \"delay in paying off in the past\",\n",
    "                                     \"A34\" = \"critical/credits at other banks\"))\n",
    "credit_raw$Purpose = revalue(credit_raw$Purpose,                                      \n",
    "                            c(\"A40\" = \"car(new)\",\n",
    "                              \"A41\" = \"car(used)\",\n",
    "                              \"A42\" = \"furniture/equipment\",\n",
    "                              \"A43\" = \"radio/television\",\n",
    "                              \"A44\" = \"domestic appliances\",\n",
    "                              \"A45\" = \"repairs\",\n",
    "                              \"A46\" = \"education\",\n",
    "                              \"A47\" = \"vacation\",\n",
    "                              \"A48\" = \"retraining\",\n",
    "                              \"A49\" = \"business\",\n",
    "                              \"A410\" = \"others\"))\n",
    "credit_raw$Savings_account_bonds = revalue(credit_raw$Savings_account_bonds,\n",
    "                                          c(\"A61\" = \"0 <= 100 DM\",\n",
    "                                            \"A62\" = \"100 <= 500 DM\", \n",
    "                                            \"A63\" = \"500 <= 1000 DM\",\n",
    "                                            \"A64\" = \"1000 DM or more\",     \n",
    "                                            \"A65\" = \"unknown/ no savings account\"))\n",
    "credit_raw$Present_employment_since = revalue(credit_raw$Present_employment_since,\n",
    "                                          c(\"A71\" = \"unemployed\",\n",
    "                                            \"A72\" = \" 0 <= 1 year\",\n",
    "                                            \"A73\" = \"1 <= 4 years\",  \n",
    "                                            \"A74\" = \"4 <= 7 years\",\n",
    "                                            \"A75\" = \"7 or more years\"))\n",
    "credit_raw$Personal_status_sex = revalue(credit_raw$Personal_status_sex,\n",
    "                                          c(\"A91\" = \"male:divorced/separated\",\n",
    "                                            \"A92\" = \"female:divorced/separated/married\",\n",
    "                                            \"A93\" = \"male:single\",\n",
    "                                            \"A94\" = \"male:married/widowed\",\n",
    "                                            \"A95\" = \"female:single\"))\n",
    "credit_raw$Other_debtors = revalue(credit_raw$Other_debtors,\n",
    "                                  c(\"A101\" = \"none\",\n",
    "                                    \"A102\" = \"co-applicant\",\n",
    "                                    \"A103\" = \"guarantor\"))\n",
    "credit_raw$Property = revalue(credit_raw$Property, \n",
    "                             c(\"A121\" = \"real estate\",\n",
    "                               \"A122\" = \"if not A121 : building society savings agreement/life insurance\",\n",
    "                               \"A123\" = \"if not A121/A122 : car or other, not in attribute 6\",\n",
    "                               \"A124\" = \"unknown / no property\"))\n",
    "credit_raw$Other_installment_plans = revalue(credit_raw$Other_installment_plans,\n",
    "                                            c(\"A141\" = \"bank\",\n",
    "                                              \"A142\" = \"stores\",\n",
    "                                              \"A143\" = \"none\"))\n",
    "credit_raw$Housing = revalue(credit_raw$Housing,\n",
    "                            c(\"A151\" = \"rent\",\n",
    "                              \"A152\" = \"own\",\n",
    "                              \"A153\" = \"free\"))\n",
    "credit_raw$Job = revalue(credit_raw$Job,    \n",
    "                        c(\"A171\" = \"unemployed/ unskilled  - non-resident\",\n",
    "                          \"A172\" = \"unskilled - resident\",                    \n",
    "                          \"A173\" = \"skilled employee / official\",                         \n",
    "                          \"A174\" = \"management/ self-employed/highly qualified employee/officer\"))\n",
    "credit_raw$Telephone = revalue(credit_raw$Telephone,\n",
    "                                        c(\"A191\" = \"none\",\n",
    "                                          \"A192\" = \"yes\"))\n",
    "credit_raw$foreign_worker = revalue(credit_raw$foreign_worker,\n",
    "                                        c(\"A201\" = \"yes\",\n",
    "                                          \"A202\" = \"no\"))\n",
    "\n",
    "credit_raw = credit_raw %>% mutate(GoodRisk = outcome == 1)\n",
    "#more meaningful to get logit valuues\n",
    "credit_raw = credit_raw %>% mutate(logit_duration = log(Duration_in_month))\n",
    "\n",
    "credit_raw$Current_balance = factor(credit_raw$Current_balance)\n",
    "credit_raw$Credit_history = factor(credit_raw$Credit_history)\n",
    "credit_raw$Purpose = factor(credit_raw$Purpose)\n",
    "credit_raw$Savings_account_bonds = factor(credit_raw$Savings_account_bonds, ordered=TRUE)\n",
    "credit_raw$Present_employment_since = factor(credit_raw$Present_employment_since)\n",
    "credit_raw$Personal_status_sex = factor(credit_raw$Personal_status_sex)\n",
    "credit_raw$Other_debtors = factor(credit_raw$Other_debtors)\n",
    "credit_raw$Property = factor(credit_raw$Property)\n",
    "credit_raw$Other_installment_plans = factor(credit_raw$Other_installment_plans)\n",
    "credit_raw$Housing = factor(credit_raw$Housing)\n",
    "credit_raw$Job = factor(credit_raw$Job)\n",
    "credit_raw$Telephone = factor(credit_raw$Telephone)\n",
    "credit_raw$foreign_worker = factor(credit_raw$foreign_worker)\n",
    "\n",
    "credit_raw = dplyr::select(credit_raw, Duration_in_month, Credit_amount, income_debt_ratio, Present_residence_since,\n",
    "                            Age, Number_credits_at_this_bank, Dependents ,everything())\n",
    "# str(credit_raw)"
   ]
  },
  {
   "cell_type": "markdown",
   "metadata": {},
   "source": [
    "### d) Take a 10% sample of the data\n",
    "* per documentation, 1000 items of data\n",
    "* set seed so test_data & train_data is always same when re-running notebook"
   ]
  },
  {
   "cell_type": "code",
   "execution_count": 8,
   "metadata": {},
   "outputs": [
    {
     "name": "stderr",
     "output_type": "stream",
     "text": [
      "Joining, by = c(\"Duration_in_month\", \"Credit_amount\", \"income_debt_ratio\", \"Present_residence_since\", \"Age\", \"Number_credits_at_this_bank\", \"Dependents\", \"Current_balance\", \"Credit_history\", \"Purpose\", \"Savings_account_bonds\", \"Present_employment_since\", \"Personal_status_sex\", \"Other_debtors\", \"Property\", \"Other_installment_plans\", \"Housing\", \"Job\", \"Telephone\", \"foreign_worker\", \"outcome\", \"GoodRisk\", \"logit_duration\")\n"
     ]
    }
   ],
   "source": [
    "set.seed(5)\n",
    "test_data = sample_n(credit_raw, size= 100)\n",
    "train_data = anti_join(credit_raw, test_data)\n",
    "# head(train_data)"
   ]
  },
  {
   "cell_type": "markdown",
   "metadata": {},
   "source": [
    "### e) Exploring the Data\n",
    "<p>\n",
    "*Summary of Data Exploration:* We looked at the data in the context of box plots & histograms for continuous data,\n",
    "bar charts for categorical data, and then variances in approval rates of the categorical.\n",
    "</p>\n",
    "\n",
    "<p>\n",
    "The only box plots that showed meaningful insight were for Duration_in_month and Credit_amount.  As with the histograms, these two features showed that most people applied for credit that was short term and low amount. This supports a common sense idea that a bank would prefer to give credit under those conditions as it is \n",
    "more likely the debtor could repay the loan.  The rest of the features didn't show much in the perspective of box plots.  Additional features that we ran histograms on fit with common sense ideas to approve credit.  A high income to debt ratio, longer residency, a low number of other credits at the bank, all support ability to repay.  The age of applicants mostly falls in the range of 25 to 40 years old.  This also makes sense that people who are younger are likely earning less and could use credit to make purchases.  As someone gets older, they are likely earning more and have less of a need for credit.   \n",
    "</p>\n",
    "<p>\n",
    "The categorical features also demonstrated reasonable expectations describing an applicant.  For example, most applicants had little or no money in checking or savings. They had no one to guarantee or cosigner on a loan.  These would be the type of people that would want to obtain credit as they don't have the cash to make the purchase they want to otherwise.  At the same time, the majority of applicants have other property or assets to support against the loan.  The fact that the majority of applicants do have this is because that other people have the belief they wouldn't get approved so never applied.  Some other takeaways from the bar charts are that good credit history, longer employment, few outstanding debts have high approval and characteristics of the applicants.  Another notable feature is that most applicants fall in the skilled employee/official category.  Again, perhaps people not in this category don't expect a loan to be approved and therefore don't apply. Some other insights from the categorical data is that most applicants appear to be purchasing personal property (cars, furniture, TVs).  The majority of applicants are also foreign.  That would be interesting to understand better why this is.  It is also odd that there are three categories for male and only one for female. \n",
    "</p>\n",
    "<p>\n",
    "We looked at approval rates and compared to the mean of the categories to gather more insights.  Interestingly, we saw the highest approval rate with applicants who had no checking account in the Current_balance feature (second was applicants with more than 200 DM, which makes sense).  In terms of credit history, the highest approved where applicants with credits at other banks.  This doesn't make complete sense as someone would arguably be more likely to default if they had payment obligations elsewhere.  The majority of approvals went to applicants looking to purchase used cars and TVs.  This seems logical in that those are likely low risk (short duration and amount).  Over half of the applicants were single males and that group and married males were much more likely to get approved.  This category is odd in that there are three categories for males and only one for females.  In addition, only about a quarter of applicants are female.  It seems that there is a cultural phenomenon in Germany that females don't get loans/aren't approved for loans or this data was somehow poorly sampled and a more realistic percentage of female applicants was missed.  The additional features fit with common sense risk factors.  No property and existing credit increased denials. Lastly, foreign workers had a significantly lower chance of approval relative to non-foreign workers.  At the same time, nearly all applicants were foreign.  This makes an interesting question as to why non-foreigners don't apply for credit. \n",
    "</p>\n",
    "\n"
   ]
  },
  {
   "cell_type": "markdown",
   "metadata": {},
   "source": [
    "#### i. Boxplots"
   ]
  },
  {
   "cell_type": "code",
   "execution_count": 9,
   "metadata": {},
   "outputs": [
    {
     "data": {},
     "metadata": {},
     "output_type": "display_data"
    },
    {
     "data": {
      "image/png": "[encoded data removed]",
      "text/plain": [
       "plot without title"
      ]
     },
     "metadata": {},
     "output_type": "display_data"
    }
   ],
   "source": [
    "ggplot(train_data) +\n",
    "    aes(x=GoodRisk, y=Duration_in_month, fill=GoodRisk) +\n",
    "    geom_boxplot() +\n",
    "    labs(title=\"Box Plot of Duration_in_month vs. Good Risk\",\n",
    "         caption = \"Duration_in_month - shorter length loans were more likely to be approved (10-25 month loans)\")"
   ]
  },
  {
   "cell_type": "code",
   "execution_count": 10,
   "metadata": {},
   "outputs": [
    {
     "data": {},
     "metadata": {},
     "output_type": "display_data"
    },
    {
     "data": {
      "image/png": "[encoded data removed]",
      "text/plain": [
       "plot without title"
      ]
     },
     "metadata": {},
     "output_type": "display_data"
    }
   ],
   "source": [
    "ggplot(train_data) +\n",
    "    aes(x=GoodRisk, y=Credit_amount, fill=GoodRisk) +\n",
    "    geom_boxplot() +\n",
    "    labs(title=\"Box Plot of Credit_amount vs. Good Risk\",\n",
    "         caption = \"Credit_amount - lower amount more likely to be approved (~1500 - 3000 DM)\")"
   ]
  },
  {
   "cell_type": "markdown",
   "metadata": {},
   "source": [
    "#### ii. Histograms"
   ]
  },
  {
   "cell_type": "code",
   "execution_count": 11,
   "metadata": {},
   "outputs": [
    {
     "data": {},
     "metadata": {},
     "output_type": "display_data"
    },
    {
     "data": {
      "image/png": "[encoded data removed]",
      "text/plain": [
       "plot without title"
      ]
     },
     "metadata": {},
     "output_type": "display_data"
    }
   ],
   "source": [
    "ggplot(train_data) +\n",
    "    aes(x=Duration_in_month, fill=GoodRisk) +\n",
    "    geom_histogram(bins=8) +\n",
    "    labs(title=\"Histogram of Duration_in_month\",\n",
    "         caption = \"more likely an applicant applied for a loan less than 20 months\")"
   ]
  },
  {
   "cell_type": "code",
   "execution_count": 12,
   "metadata": {},
   "outputs": [
    {
     "data": {},
     "metadata": {},
     "output_type": "display_data"
    },
    {
     "data": {
      "image/png": "[encoded data removed]",
      "text/plain": [
       "plot without title"
      ]
     },
     "metadata": {},
     "output_type": "display_data"
    }
   ],
   "source": [
    "ggplot(train_data) +\n",
    "    aes(x=logit_duration, fill=GoodRisk) +\n",
    "    geom_histogram(bins=5) +\n",
    "    labs(title=\"Histogram of Log of Duration_in_month\",\n",
    "         caption = \"log of duration gives more normalized histogram\")"
   ]
  },
  {
   "cell_type": "code",
   "execution_count": 13,
   "metadata": {},
   "outputs": [
    {
     "data": {},
     "metadata": {},
     "output_type": "display_data"
    },
    {
     "data": {
      "image/png": "[encoded data removed]",
      "text/plain": [
       "plot without title"
      ]
     },
     "metadata": {},
     "output_type": "display_data"
    }
   ],
   "source": [
    "ggplot(train_data) +\n",
    "    aes(x=Credit_amount, fill=GoodRisk) +\n",
    "    geom_histogram(bins=100) +\n",
    "    labs(title=\"Histogram of Credit_amount\",\n",
    "         caption = \"lower amount more likely to be approved (lees than 5000 DM very likely)\")"
   ]
  },
  {
   "cell_type": "code",
   "execution_count": 14,
   "metadata": {},
   "outputs": [
    {
     "data": {},
     "metadata": {},
     "output_type": "display_data"
    },
    {
     "data": {
      "image/png": "[encoded data removed]",
      "text/plain": [
       "plot without title"
      ]
     },
     "metadata": {},
     "output_type": "display_data"
    }
   ],
   "source": [
    "ggplot(train_data) +\n",
    "    aes(x=income_debt_ratio, fill=GoodRisk) +\n",
    "    geom_histogram(bins=5) +\n",
    "    labs(title=\"Histogram of income_debt_ratio\",\n",
    "         caption = \"higher income to debt ratio increased approval chance\")"
   ]
  },
  {
   "cell_type": "code",
   "execution_count": 15,
   "metadata": {},
   "outputs": [
    {
     "data": {},
     "metadata": {},
     "output_type": "display_data"
    },
    {
     "data": {
      "image/png": "[encoded data removed]",
      "text/plain": [
       "plot without title"
      ]
     },
     "metadata": {},
     "output_type": "display_data"
    }
   ],
   "source": [
    "ggplot(train_data) +\n",
    "    aes(x=Present_residence_since, fill=GoodRisk) +\n",
    "    geom_histogram(bins=5) +\n",
    "    labs(title=\"Histogram of Present_residence_since\",\n",
    "         caption = \"longer length of residence shows more approvals)\")"
   ]
  },
  {
   "cell_type": "code",
   "execution_count": 16,
   "metadata": {},
   "outputs": [
    {
     "data": {},
     "metadata": {},
     "output_type": "display_data"
    },
    {
     "data": {
      "image/png": "[encoded data removed]",
      "text/plain": [
       "plot without title"
      ]
     },
     "metadata": {},
     "output_type": "display_data"
    }
   ],
   "source": [
    "ggplot(train_data) +\n",
    "    aes(x=Age, fill=GoodRisk) +\n",
    "    geom_histogram(bins=10) +\n",
    "    labs(title=\"Histogram of Age\",\n",
    "         caption = \"majority of applicants are ~25-40\")"
   ]
  },
  {
   "cell_type": "code",
   "execution_count": 17,
   "metadata": {},
   "outputs": [
    {
     "data": {},
     "metadata": {},
     "output_type": "display_data"
    },
    {
     "data": {
      "image/png": "[encoded data removed]",
      "text/plain": [
       "plot without title"
      ]
     },
     "metadata": {},
     "output_type": "display_data"
    }
   ],
   "source": [
    "ggplot(train_data) +\n",
    "    aes(x=Number_credits_at_this_bank, fill=GoodRisk) +\n",
    "    geom_histogram(bins=5) +\n",
    "    labs(title=\"Histogram of Number_credits_at_this_bank\",\n",
    "         caption = \"majotity of applicantsonly have one or less existing loans)\")"
   ]
  },
  {
   "cell_type": "markdown",
   "metadata": {},
   "source": [
    "#### iii. Bar Charts"
   ]
  },
  {
   "cell_type": "code",
   "execution_count": 18,
   "metadata": {},
   "outputs": [
    {
     "data": {},
     "metadata": {},
     "output_type": "display_data"
    },
    {
     "data": {
      "image/png": "[encoded data removed]",
      "text/plain": [
       "plot without title"
      ]
     },
     "metadata": {},
     "output_type": "display_data"
    }
   ],
   "source": [
    "ggplot(train_data) +\n",
    "    aes(x=Current_balance, fill=GoodRisk) +\n",
    "    geom_bar(position = \"dodge\") +\n",
    "    labs(title=\"Bar Chart of Current_balance\",\n",
    "         caption = \"majority of applicants have little or no balance in account\")"
   ]
  },
  {
   "cell_type": "code",
   "execution_count": 19,
   "metadata": {},
   "outputs": [
    {
     "data": {},
     "metadata": {},
     "output_type": "display_data"
    },
    {
     "data": {
      "image/png": "[encoded data removed]",
      "text/plain": [
       "plot without title"
      ]
     },
     "metadata": {},
     "output_type": "display_data"
    }
   ],
   "source": [
    "ggplot(train_data) +\n",
    "    aes(x=Credit_history, fill=GoodRisk) +\n",
    "    geom_bar(position = \"dodge\") +\n",
    "    theme(axis.text.x = element_text(size=5, angle=45, hjust=1)) +\n",
    "    labs(title=\"Bar Chart of Credit_history\",\n",
    "         caption = \"existing credit history in good standing shows higher approval rate\")"
   ]
  },
  {
   "cell_type": "code",
   "execution_count": 20,
   "metadata": {},
   "outputs": [
    {
     "data": {},
     "metadata": {},
     "output_type": "display_data"
    },
    {
     "data": {
      "image/png": "[encoded data removed]",
      "text/plain": [
       "plot without title"
      ]
     },
     "metadata": {},
     "output_type": "display_data"
    }
   ],
   "source": [
    "ggplot(train_data) +\n",
    "    aes(x=Purpose, fill=GoodRisk) +\n",
    "    geom_bar(position = \"dodge\") +\n",
    "    theme(axis.text.x = element_text(size=10, angle=45, hjust=1)) +\n",
    "    labs(title=\"Bar Chart of Purpose\",\n",
    "         caption = \"TV, furniture, or car have high approval rates (most common loan types)\")"
   ]
  },
  {
   "cell_type": "code",
   "execution_count": 21,
   "metadata": {},
   "outputs": [
    {
     "data": {},
     "metadata": {},
     "output_type": "display_data"
    },
    {
     "data": {
      "image/png": "[encoded data removed]",
      "text/plain": [
       "plot without title"
      ]
     },
     "metadata": {},
     "output_type": "display_data"
    }
   ],
   "source": [
    "ggplot(train_data) +\n",
    "    aes(x=Savings_account_bonds, fill=GoodRisk) +\n",
    "    geom_bar(position = \"dodge\") +\n",
    "    theme(axis.text.x = element_text(size=10, angle=45, hjust=1)) +\n",
    "    labs(title=\"Bar Chart of Savings_account_bonds\",\n",
    "         caption = \"majority of applicants have little or no savings\")"
   ]
  },
  {
   "cell_type": "code",
   "execution_count": 22,
   "metadata": {},
   "outputs": [
    {
     "data": {},
     "metadata": {},
     "output_type": "display_data"
    },
    {
     "data": {
      "image/png": "[encoded data removed]",
      "text/plain": [
       "plot without title"
      ]
     },
     "metadata": {},
     "output_type": "display_data"
    }
   ],
   "source": [
    "ggplot(train_data) +\n",
    "    aes(x=Present_employment_since, fill=GoodRisk) +\n",
    "    geom_bar(position = \"dodge\") +\n",
    "    labs(title=\"Bar Chart of Present_employment_since\",\n",
    "         caption = \"more than a year significant increase in applications & approvals\")"
   ]
  },
  {
   "cell_type": "code",
   "execution_count": 23,
   "metadata": {},
   "outputs": [
    {
     "data": {},
     "metadata": {},
     "output_type": "display_data"
    },
    {
     "data": {
      "image/png": "[encoded data removed]",
      "text/plain": [
       "plot without title"
      ]
     },
     "metadata": {},
     "output_type": "display_data"
    }
   ],
   "source": [
    "ggplot(train_data) +\n",
    "    aes(x=Personal_status_sex, fill=GoodRisk) +\n",
    "    geom_bar(position = \"dodge\") +\n",
    "    theme(axis.text.x = element_text(size=5, angle=45, hjust=1)) +\n",
    "    labs(title=\"Bar Chart of Personal_status_sex\",\n",
    "         caption = \"single males have best approval and most applicants\")"
   ]
  },
  {
   "cell_type": "code",
   "execution_count": 24,
   "metadata": {},
   "outputs": [
    {
     "data": {},
     "metadata": {},
     "output_type": "display_data"
    },
    {
     "data": {
      "image/png": "[encoded data removed]",
      "text/plain": [
       "plot without title"
      ]
     },
     "metadata": {},
     "output_type": "display_data"
    }
   ],
   "source": [
    "ggplot(train_data) +\n",
    "    aes(x=Other_debtors, fill=GoodRisk) +\n",
    "    geom_bar(position = \"dodge\") +\n",
    "    labs(title=\"Bar Chart of Other_debtors\",\n",
    "         caption = \"majority of applicants have no other debtors\")"
   ]
  },
  {
   "cell_type": "code",
   "execution_count": 25,
   "metadata": {},
   "outputs": [
    {
     "data": {},
     "metadata": {},
     "output_type": "display_data"
    },
    {
     "data": {
      "image/png": "[encoded data removed]",
      "text/plain": [
       "plot without title"
      ]
     },
     "metadata": {},
     "output_type": "display_data"
    }
   ],
   "source": [
    "ggplot(train_data) +\n",
    "    aes(x=Property, fill=GoodRisk) +\n",
    "    geom_bar(position = \"dodge\") +\n",
    "    theme(axis.text.x = element_text(size=5, angle=15, hjust=1)) +\n",
    "    labs(title=\"Bar Chart of Property\",\n",
    "         caption = \"majority of applicants have property\")"
   ]
  },
  {
   "cell_type": "code",
   "execution_count": 26,
   "metadata": {},
   "outputs": [
    {
     "data": {},
     "metadata": {},
     "output_type": "display_data"
    },
    {
     "data": {
      "image/png": "[encoded data removed]",
      "text/plain": [
       "plot without title"
      ]
     },
     "metadata": {},
     "output_type": "display_data"
    }
   ],
   "source": [
    "ggplot(train_data) +\n",
    "    aes(x=Other_installment_plans, fill=GoodRisk) +\n",
    "    geom_bar(position = \"dodge\") +\n",
    "    labs(title=\"Bar Chart of Other_installment_plans\",\n",
    "         caption = \"majority of applicants have no other installment plans\")"
   ]
  },
  {
   "cell_type": "code",
   "execution_count": 27,
   "metadata": {},
   "outputs": [
    {
     "data": {},
     "metadata": {},
     "output_type": "display_data"
    },
    {
     "data": {
      "image/png": "[encoded data removed]",
      "text/plain": [
       "plot without title"
      ]
     },
     "metadata": {},
     "output_type": "display_data"
    }
   ],
   "source": [
    "ggplot(train_data) +\n",
    "    aes(x=Housing, fill=GoodRisk) +\n",
    "    geom_bar(position = \"dodge\") +\n",
    "    labs(title=\"Bar Chart of Housing\",\n",
    "         caption = \"majority of applicants own a house\")"
   ]
  },
  {
   "cell_type": "code",
   "execution_count": 28,
   "metadata": {},
   "outputs": [
    {
     "data": {},
     "metadata": {},
     "output_type": "display_data"
    },
    {
     "data": {
      "image/png": "[encoded data removed]",
      "text/plain": [
       "plot without title"
      ]
     },
     "metadata": {},
     "output_type": "display_data"
    }
   ],
   "source": [
    "ggplot(train_data) +\n",
    "    aes(x=Job, fill=GoodRisk) +\n",
    "    geom_bar(position = \"dodge\") +\n",
    "    theme(axis.text.x = element_text(size=6, angle=15, hjust=1)) +\n",
    "    labs(title=\"Bar Chart of Job\",\n",
    "         caption = \"majority of applicants are skilled employee/official\")"
   ]
  },
  {
   "cell_type": "code",
   "execution_count": 29,
   "metadata": {},
   "outputs": [
    {
     "data": {},
     "metadata": {},
     "output_type": "display_data"
    },
    {
     "data": {
      "image/png": "[encoded data removed]",
      "text/plain": [
       "plot without title"
      ]
     },
     "metadata": {},
     "output_type": "display_data"
    }
   ],
   "source": [
    "ggplot(train_data) +\n",
    "    aes(x=foreign_worker, fill=GoodRisk) +\n",
    "    geom_bar(position = \"dodge\") +\n",
    "    labs(title=\"Bar Chart of foreign_worker\",\n",
    "         caption = \"majority of applicants are foreign workers\")"
   ]
  },
  {
   "cell_type": "markdown",
   "metadata": {},
   "source": [
    "#### iv. Text/Non-graphical"
   ]
  },
  {
   "cell_type": "code",
   "execution_count": 30,
   "metadata": {},
   "outputs": [
    {
     "data": {
      "text/html": [
       "<table>\n",
       "<thead><tr><th scope=col>Current_balance</th><th scope=col>deny</th><th scope=col>approve</th><th scope=col>approval_rate</th></tr></thead>\n",
       "<tbody>\n",
       "\t<tr><td><span style=white-space:pre-wrap>0 &lt;= 200 DM        </span></td><td> 95                                                           </td><td>145                                                           </td><td>0.6041667                                                     </td></tr>\n",
       "\t<tr><td>0 DM               </td><td>120                </td><td>129                </td><td>0.5180723          </td></tr>\n",
       "\t<tr><td>200 DM or more     </td><td> 11                </td><td> 46                </td><td>0.8070175          </td></tr>\n",
       "\t<tr><td>no checking account</td><td> 43                </td><td>311                </td><td>0.8785311          </td></tr>\n",
       "</tbody>\n",
       "</table>\n"
      ],
      "text/latex": [
       "\\begin{tabular}{r|llll}\n",
       " Current\\_balance & deny & approve & approval\\_rate\\\\\n",
       "\\hline\n",
       "\t 0 <= 200 DM         &  95                 & 145                 & 0.6041667          \\\\\n",
       "\t 0 DM                & 120                 & 129                 & 0.5180723          \\\\\n",
       "\t 200 DM or more      &  11                 &  46                 & 0.8070175          \\\\\n",
       "\t no checking account &  43                 & 311                 & 0.8785311          \\\\\n",
       "\\end{tabular}\n"
      ],
      "text/markdown": [
       "\n",
       "Current_balance | deny | approve | approval_rate | \n",
       "|---|---|---|---|\n",
       "| 0 <= 200 DM         |  95                 | 145                 | 0.6041667           | \n",
       "| 0 DM                | 120                 | 129                 | 0.5180723           | \n",
       "| 200 DM or more      |  11                 |  46                 | 0.8070175           | \n",
       "| no checking account |  43                 | 311                 | 0.8785311           | \n",
       "\n",
       "\n"
      ],
      "text/plain": [
       "  Current_balance     deny approve approval_rate\n",
       "1 0 <= 200 DM          95  145     0.6041667    \n",
       "2 0 DM                120  129     0.5180723    \n",
       "3 200 DM or more       11   46     0.8070175    \n",
       "4 no checking account  43  311     0.8785311    "
      ]
     },
     "metadata": {},
     "output_type": "display_data"
    },
    {
     "name": "stdout",
     "output_type": "stream",
     "text": [
      "[1] \"mean\"\n"
     ]
    },
    {
     "data": {
      "text/html": [
       "0.701946893282317"
      ],
      "text/latex": [
       "0.701946893282317"
      ],
      "text/markdown": [
       "0.701946893282317"
      ],
      "text/plain": [
       "[1] 0.7019469"
      ]
     },
     "metadata": {},
     "output_type": "display_data"
    }
   ],
   "source": [
    "Current_balance_table = dplyr::select(train_data, Current_balance, GoodRisk) %>%\n",
    "                       group_by(Current_balance, GoodRisk) %>%\n",
    "                       dplyr::summarize(count = n())\n",
    "Current_balance_spread = spread(Current_balance_table, key=GoodRisk, value=count)      \n",
    "Current_balance_spread = dplyr::select(Current_balance_spread, 1, deny=2, approve=3) %>%\n",
    "    mutate(approval_rate=approve/(approve+deny))\n",
    "Current_balance_spread\n",
    "print(\"mean\")\n",
    "mean(Current_balance_spread$approval_rate)"
   ]
  },
  {
   "cell_type": "markdown",
   "metadata": {},
   "source": [
    "This shows that people with no checking account have a higher approval rate, and they have a big portion of that category"
   ]
  },
  {
   "cell_type": "code",
   "execution_count": 31,
   "metadata": {},
   "outputs": [
    {
     "data": {
      "text/html": [
       "<table>\n",
       "<thead><tr><th scope=col>Credit_history</th><th scope=col>deny</th><th scope=col>approve</th><th scope=col>approval_rate</th></tr></thead>\n",
       "<tbody>\n",
       "\t<tr><td>all credits at this bank paid back duly    </td><td> 27                                        </td><td> 18                                        </td><td>0.4000000                                  </td></tr>\n",
       "\t<tr><td>critical/credits at other banks            </td><td> 44                                        </td><td>214                                        </td><td>0.8294574                                  </td></tr>\n",
       "\t<tr><td>delay in paying off in the past            </td><td> 26                                        </td><td> 55                                        </td><td>0.6790123                                  </td></tr>\n",
       "\t<tr><td>existing credits paid back duly till now   </td><td>151                                        </td><td>331                                        </td><td>0.6867220                                  </td></tr>\n",
       "\t<tr><td>no credits taken/all credits paid back duly</td><td> 21                                        </td><td> 13                                        </td><td>0.3823529                                  </td></tr>\n",
       "</tbody>\n",
       "</table>\n"
      ],
      "text/latex": [
       "\\begin{tabular}{r|llll}\n",
       " Credit\\_history & deny & approve & approval\\_rate\\\\\n",
       "\\hline\n",
       "\t all credits at this bank paid back duly     &  27                                         &  18                                         & 0.4000000                                  \\\\\n",
       "\t critical/credits at other banks             &  44                                         & 214                                         & 0.8294574                                  \\\\\n",
       "\t delay in paying off in the past             &  26                                         &  55                                         & 0.6790123                                  \\\\\n",
       "\t existing credits paid back duly till now    & 151                                         & 331                                         & 0.6867220                                  \\\\\n",
       "\t no credits taken/all credits paid back duly &  21                                         &  13                                         & 0.3823529                                  \\\\\n",
       "\\end{tabular}\n"
      ],
      "text/markdown": [
       "\n",
       "Credit_history | deny | approve | approval_rate | \n",
       "|---|---|---|---|---|\n",
       "| all credits at this bank paid back duly     |  27                                         |  18                                         | 0.4000000                                   | \n",
       "| critical/credits at other banks             |  44                                         | 214                                         | 0.8294574                                   | \n",
       "| delay in paying off in the past             |  26                                         |  55                                         | 0.6790123                                   | \n",
       "| existing credits paid back duly till now    | 151                                         | 331                                         | 0.6867220                                   | \n",
       "| no credits taken/all credits paid back duly |  21                                         |  13                                         | 0.3823529                                   | \n",
       "\n",
       "\n"
      ],
      "text/plain": [
       "  Credit_history                              deny approve approval_rate\n",
       "1 all credits at this bank paid back duly      27   18     0.4000000    \n",
       "2 critical/credits at other banks              44  214     0.8294574    \n",
       "3 delay in paying off in the past              26   55     0.6790123    \n",
       "4 existing credits paid back duly till now    151  331     0.6867220    \n",
       "5 no credits taken/all credits paid back duly  21   13     0.3823529    "
      ]
     },
     "metadata": {},
     "output_type": "display_data"
    },
    {
     "name": "stdout",
     "output_type": "stream",
     "text": [
      "[1] \"mean\"\n"
     ]
    },
    {
     "data": {
      "text/html": [
       "0.595508928579563"
      ],
      "text/latex": [
       "0.595508928579563"
      ],
      "text/markdown": [
       "0.595508928579563"
      ],
      "text/plain": [
       "[1] 0.5955089"
      ]
     },
     "metadata": {},
     "output_type": "display_data"
    }
   ],
   "source": [
    "Credit_history_table = dplyr::select(train_data, Credit_history, GoodRisk) %>%\n",
    "                       group_by(Credit_history, GoodRisk) %>%\n",
    "                       dplyr::summarize(count = n())\n",
    "Credit_history_spread = spread(Credit_history_table, key=GoodRisk, value=count)      \n",
    "Credit_history_spread = dplyr::select(Credit_history_spread, 1, deny=2, approve=3) %>%\n",
    "    mutate(approval_rate=approve/(approve+deny))\n",
    "Credit_history_spread\n",
    "print(\"mean\")\n",
    "mean(Credit_history_spread$approval_rate)"
   ]
  },
  {
   "cell_type": "markdown",
   "metadata": {},
   "source": [
    "This shows that if you have critical/credits at other banks you have a pretty high approval rate, compared to existing credits pai back duly till now which has a higher deny rate."
   ]
  },
  {
   "cell_type": "code",
   "execution_count": 32,
   "metadata": {},
   "outputs": [
    {
     "data": {
      "text/html": [
       "<table>\n",
       "<thead><tr><th scope=col>Purpose</th><th scope=col>deny</th><th scope=col>approve</th><th scope=col>approval_rate</th></tr></thead>\n",
       "<tbody>\n",
       "\t<tr><td>business           </td><td>32                 </td><td> 52                </td><td>0.6190476          </td></tr>\n",
       "\t<tr><td>car(new)           </td><td>79                 </td><td>128                </td><td>0.6183575          </td></tr>\n",
       "\t<tr><td>car(used)          </td><td>12                 </td><td> 77                </td><td>0.8651685          </td></tr>\n",
       "\t<tr><td>domestic appliances</td><td> 4                 </td><td>  8                </td><td>0.6666667          </td></tr>\n",
       "\t<tr><td>education          </td><td>21                 </td><td> 25                </td><td>0.5434783          </td></tr>\n",
       "\t<tr><td>furniture/equipment</td><td>52                 </td><td>112                </td><td>0.6829268          </td></tr>\n",
       "\t<tr><td>others             </td><td> 3                 </td><td>  7                </td><td>0.7000000          </td></tr>\n",
       "\t<tr><td>radio/television   </td><td>57                 </td><td>203                </td><td>0.7807692          </td></tr>\n",
       "\t<tr><td>repairs            </td><td> 8                 </td><td> 11                </td><td>0.5789474          </td></tr>\n",
       "\t<tr><td>retraining         </td><td> 1                 </td><td>  8                </td><td>0.8888889          </td></tr>\n",
       "</tbody>\n",
       "</table>\n"
      ],
      "text/latex": [
       "\\begin{tabular}{r|llll}\n",
       " Purpose & deny & approve & approval\\_rate\\\\\n",
       "\\hline\n",
       "\t business            & 32                  &  52                 & 0.6190476          \\\\\n",
       "\t car(new)            & 79                  & 128                 & 0.6183575          \\\\\n",
       "\t car(used)           & 12                  &  77                 & 0.8651685          \\\\\n",
       "\t domestic appliances &  4                  &   8                 & 0.6666667          \\\\\n",
       "\t education           & 21                  &  25                 & 0.5434783          \\\\\n",
       "\t furniture/equipment & 52                  & 112                 & 0.6829268          \\\\\n",
       "\t others              &  3                  &   7                 & 0.7000000          \\\\\n",
       "\t radio/television    & 57                  & 203                 & 0.7807692          \\\\\n",
       "\t repairs             &  8                  &  11                 & 0.5789474          \\\\\n",
       "\t retraining          &  1                  &   8                 & 0.8888889          \\\\\n",
       "\\end{tabular}\n"
      ],
      "text/markdown": [
       "\n",
       "Purpose | deny | approve | approval_rate | \n",
       "|---|---|---|---|---|---|---|---|---|---|\n",
       "| business            | 32                  |  52                 | 0.6190476           | \n",
       "| car(new)            | 79                  | 128                 | 0.6183575           | \n",
       "| car(used)           | 12                  |  77                 | 0.8651685           | \n",
       "| domestic appliances |  4                  |   8                 | 0.6666667           | \n",
       "| education           | 21                  |  25                 | 0.5434783           | \n",
       "| furniture/equipment | 52                  | 112                 | 0.6829268           | \n",
       "| others              |  3                  |   7                 | 0.7000000           | \n",
       "| radio/television    | 57                  | 203                 | 0.7807692           | \n",
       "| repairs             |  8                  |  11                 | 0.5789474           | \n",
       "| retraining          |  1                  |   8                 | 0.8888889           | \n",
       "\n",
       "\n"
      ],
      "text/plain": [
       "   Purpose             deny approve approval_rate\n",
       "1  business            32    52     0.6190476    \n",
       "2  car(new)            79   128     0.6183575    \n",
       "3  car(used)           12    77     0.8651685    \n",
       "4  domestic appliances  4     8     0.6666667    \n",
       "5  education           21    25     0.5434783    \n",
       "6  furniture/equipment 52   112     0.6829268    \n",
       "7  others               3     7     0.7000000    \n",
       "8  radio/television    57   203     0.7807692    \n",
       "9  repairs              8    11     0.5789474    \n",
       "10 retraining           1     8     0.8888889    "
      ]
     },
     "metadata": {},
     "output_type": "display_data"
    },
    {
     "name": "stdout",
     "output_type": "stream",
     "text": [
      "[1] \"mean\"\n"
     ]
    },
    {
     "data": {
      "text/html": [
       "0.595508928579563"
      ],
      "text/latex": [
       "0.595508928579563"
      ],
      "text/markdown": [
       "0.595508928579563"
      ],
      "text/plain": [
       "[1] 0.5955089"
      ]
     },
     "metadata": {},
     "output_type": "display_data"
    }
   ],
   "source": [
    "Purpose_table = dplyr::select(train_data, Purpose, GoodRisk) %>%\n",
    "                       group_by(Purpose, GoodRisk) %>%\n",
    "                       dplyr::summarize(count = n())\n",
    "Purpose_spread = spread(Purpose_table, key=GoodRisk, value=count)      \n",
    "Purpose_spread = dplyr::select(Purpose_spread, 1, deny=2, approve=3) %>%\n",
    "    mutate(approval_rate=approve/(approve+deny))\n",
    "Purpose_spread\n",
    "print(\"mean\")\n",
    "mean(Credit_history_spread$approval_rate)"
   ]
  },
  {
   "cell_type": "markdown",
   "metadata": {},
   "source": [
    "A lot of people are getting approved for a new car and decent amount denied out of that. A lot are getting approved for radio/television, on top of that people are wanting approved for furniture/equipment which is interesting."
   ]
  },
  {
   "cell_type": "code",
   "execution_count": 33,
   "metadata": {},
   "outputs": [
    {
     "data": {
      "text/html": [
       "<table>\n",
       "<thead><tr><th scope=col>Personal_status_sex</th><th scope=col>deny</th><th scope=col>approve</th><th scope=col>approval_rate</th></tr></thead>\n",
       "<tbody>\n",
       "\t<tr><td>female:divorced/separated/married</td><td> 98                              </td><td>184                              </td><td>0.6524823                        </td></tr>\n",
       "\t<tr><td>male:divorced/separated          </td><td> 19                              </td><td> 27                              </td><td>0.5869565                        </td></tr>\n",
       "\t<tr><td>male:married/widowed             </td><td> 21                              </td><td> 61                              </td><td>0.7439024                        </td></tr>\n",
       "\t<tr><td>male:single                      </td><td>131                              </td><td>359                              </td><td>0.7326531                        </td></tr>\n",
       "</tbody>\n",
       "</table>\n"
      ],
      "text/latex": [
       "\\begin{tabular}{r|llll}\n",
       " Personal\\_status\\_sex & deny & approve & approval\\_rate\\\\\n",
       "\\hline\n",
       "\t female:divorced/separated/married &  98                               & 184                               & 0.6524823                        \\\\\n",
       "\t male:divorced/separated           &  19                               &  27                               & 0.5869565                        \\\\\n",
       "\t male:married/widowed              &  21                               &  61                               & 0.7439024                        \\\\\n",
       "\t male:single                       & 131                               & 359                               & 0.7326531                        \\\\\n",
       "\\end{tabular}\n"
      ],
      "text/markdown": [
       "\n",
       "Personal_status_sex | deny | approve | approval_rate | \n",
       "|---|---|---|---|\n",
       "| female:divorced/separated/married |  98                               | 184                               | 0.6524823                         | \n",
       "| male:divorced/separated           |  19                               |  27                               | 0.5869565                         | \n",
       "| male:married/widowed              |  21                               |  61                               | 0.7439024                         | \n",
       "| male:single                       | 131                               | 359                               | 0.7326531                         | \n",
       "\n",
       "\n"
      ],
      "text/plain": [
       "  Personal_status_sex               deny approve approval_rate\n",
       "1 female:divorced/separated/married  98  184     0.6524823    \n",
       "2 male:divorced/separated            19   27     0.5869565    \n",
       "3 male:married/widowed               21   61     0.7439024    \n",
       "4 male:single                       131  359     0.7326531    "
      ]
     },
     "metadata": {},
     "output_type": "display_data"
    },
    {
     "name": "stdout",
     "output_type": "stream",
     "text": [
      "[1] \"mean\"\n"
     ]
    },
    {
     "data": {
      "text/html": [
       "0.678998572872889"
      ],
      "text/latex": [
       "0.678998572872889"
      ],
      "text/markdown": [
       "0.678998572872889"
      ],
      "text/plain": [
       "[1] 0.6789986"
      ]
     },
     "metadata": {},
     "output_type": "display_data"
    }
   ],
   "source": [
    "Personal_status_sex_table = dplyr::select(train_data, Personal_status_sex, GoodRisk) %>%\n",
    "                       group_by(Personal_status_sex, GoodRisk) %>%\n",
    "                       dplyr::summarize(count = n())\n",
    "Personal_status_sex_spread = spread(Personal_status_sex_table, key=GoodRisk, value=count)      \n",
    "Personal_status_sex_spread = dplyr::select(Personal_status_sex_spread, 1, deny=2, approve=3) %>%\n",
    "    mutate(approval_rate=approve/(approve+deny))\n",
    "Personal_status_sex_spread\n",
    "print(\"mean\")\n",
    "mean(Personal_status_sex_spread$approval_rate)"
   ]
  },
  {
   "cell_type": "markdown",
   "metadata": {},
   "source": [
    "This category could have a single female on it, seems to not include women. A big portion says that males are applying and getting approved where women get approved more than divored men but divorced men the number of applicants is lower than the women."
   ]
  },
  {
   "cell_type": "code",
   "execution_count": 34,
   "metadata": {},
   "outputs": [
    {
     "data": {
      "text/html": [
       "<table>\n",
       "<thead><tr><th scope=col>Property</th><th scope=col>deny</th><th scope=col>approve</th><th scope=col>approval_rate</th></tr></thead>\n",
       "<tbody>\n",
       "\t<tr><td>if not A121 : building society savings agreement/life insurance</td><td>62                                                             </td><td>143                                                            </td><td>0.6975610                                                      </td></tr>\n",
       "\t<tr><td>if not A121/A122 : car or other, not in attribute 6            </td><td>95                                                             </td><td>210                                                            </td><td>0.6885246                                                      </td></tr>\n",
       "\t<tr><td>real estate                                                    </td><td>53                                                             </td><td>201                                                            </td><td>0.7913386                                                      </td></tr>\n",
       "\t<tr><td>unknown / no property                                          </td><td>59                                                             </td><td> 77                                                            </td><td>0.5661765                                                      </td></tr>\n",
       "</tbody>\n",
       "</table>\n"
      ],
      "text/latex": [
       "\\begin{tabular}{r|llll}\n",
       " Property & deny & approve & approval\\_rate\\\\\n",
       "\\hline\n",
       "\t if not A121 : building society savings agreement/life insurance & 62                                                              & 143                                                             & 0.6975610                                                      \\\\\n",
       "\t if not A121/A122 : car or other, not in attribute 6             & 95                                                              & 210                                                             & 0.6885246                                                      \\\\\n",
       "\t real estate                                                     & 53                                                              & 201                                                             & 0.7913386                                                      \\\\\n",
       "\t unknown / no property                                           & 59                                                              &  77                                                             & 0.5661765                                                      \\\\\n",
       "\\end{tabular}\n"
      ],
      "text/markdown": [
       "\n",
       "Property | deny | approve | approval_rate | \n",
       "|---|---|---|---|\n",
       "| if not A121 : building society savings agreement/life insurance | 62                                                              | 143                                                             | 0.6975610                                                       | \n",
       "| if not A121/A122 : car or other, not in attribute 6             | 95                                                              | 210                                                             | 0.6885246                                                       | \n",
       "| real estate                                                     | 53                                                              | 201                                                             | 0.7913386                                                       | \n",
       "| unknown / no property                                           | 59                                                              |  77                                                             | 0.5661765                                                       | \n",
       "\n",
       "\n"
      ],
      "text/plain": [
       "  Property                                                        deny approve\n",
       "1 if not A121 : building society savings agreement/life insurance 62   143    \n",
       "2 if not A121/A122 : car or other, not in attribute 6             95   210    \n",
       "3 real estate                                                     53   201    \n",
       "4 unknown / no property                                           59    77    \n",
       "  approval_rate\n",
       "1 0.6975610    \n",
       "2 0.6885246    \n",
       "3 0.7913386    \n",
       "4 0.5661765    "
      ]
     },
     "metadata": {},
     "output_type": "display_data"
    },
    {
     "name": "stdout",
     "output_type": "stream",
     "text": [
      "[1] \"mean\"\n"
     ]
    },
    {
     "data": {
      "text/html": [
       "0.685900154759773"
      ],
      "text/latex": [
       "0.685900154759773"
      ],
      "text/markdown": [
       "0.685900154759773"
      ],
      "text/plain": [
       "[1] 0.6859002"
      ]
     },
     "metadata": {},
     "output_type": "display_data"
    }
   ],
   "source": [
    "Property_table = dplyr::select(train_data, Property, GoodRisk) %>%\n",
    "                       group_by(Property, GoodRisk) %>%\n",
    "                       dplyr::summarize(count = n())\n",
    "Property_spread = spread(Property_table, key=GoodRisk, value=count)      \n",
    "Property_spread = dplyr::select(Property_spread, 1, deny=2, approve=3) %>%\n",
    "    mutate(approval_rate=approve/(approve+deny))\n",
    "Property_spread\n",
    "print(\"mean\")\n",
    "mean(Property_spread$approval_rate)"
   ]
  },
  {
   "cell_type": "code",
   "execution_count": 35,
   "metadata": {},
   "outputs": [
    {
     "data": {
      "text/html": [
       "<table>\n",
       "<thead><tr><th scope=col>Other_installment_plans</th><th scope=col>deny</th><th scope=col>approve</th><th scope=col>approval_rate</th></tr></thead>\n",
       "<tbody>\n",
       "\t<tr><td>bank     </td><td> 48      </td><td> 70      </td><td>0.5932203</td></tr>\n",
       "\t<tr><td>none     </td><td>204      </td><td>536      </td><td>0.7243243</td></tr>\n",
       "\t<tr><td>stores   </td><td> 17      </td><td> 25      </td><td>0.5952381</td></tr>\n",
       "</tbody>\n",
       "</table>\n"
      ],
      "text/latex": [
       "\\begin{tabular}{r|llll}\n",
       " Other\\_installment\\_plans & deny & approve & approval\\_rate\\\\\n",
       "\\hline\n",
       "\t bank      &  48       &  70       & 0.5932203\\\\\n",
       "\t none      & 204       & 536       & 0.7243243\\\\\n",
       "\t stores    &  17       &  25       & 0.5952381\\\\\n",
       "\\end{tabular}\n"
      ],
      "text/markdown": [
       "\n",
       "Other_installment_plans | deny | approve | approval_rate | \n",
       "|---|---|---|\n",
       "| bank      |  48       |  70       | 0.5932203 | \n",
       "| none      | 204       | 536       | 0.7243243 | \n",
       "| stores    |  17       |  25       | 0.5952381 | \n",
       "\n",
       "\n"
      ],
      "text/plain": [
       "  Other_installment_plans deny approve approval_rate\n",
       "1 bank                     48   70     0.5932203    \n",
       "2 none                    204  536     0.7243243    \n",
       "3 stores                   17   25     0.5952381    "
      ]
     },
     "metadata": {},
     "output_type": "display_data"
    },
    {
     "name": "stdout",
     "output_type": "stream",
     "text": [
      "[1] \"mean\"\n"
     ]
    },
    {
     "data": {
      "text/html": [
       "0.63759425284849"
      ],
      "text/latex": [
       "0.63759425284849"
      ],
      "text/markdown": [
       "0.63759425284849"
      ],
      "text/plain": [
       "[1] 0.6375943"
      ]
     },
     "metadata": {},
     "output_type": "display_data"
    }
   ],
   "source": [
    "Other_installment_plans_table = dplyr::select(train_data, Other_installment_plans, GoodRisk) %>%\n",
    "                       group_by(Other_installment_plans, GoodRisk) %>%\n",
    "                       dplyr::summarize(count = n())\n",
    "Other_installment_plans_spread = spread(Other_installment_plans_table, key=GoodRisk, value=count)      \n",
    "Other_installment_plans_spread = dplyr::select(Other_installment_plans_spread, 1, deny=2, approve=3) %>%\n",
    "    mutate(approval_rate=approve/(approve+deny))\n",
    "Other_installment_plans_spread\n",
    "print(\"mean\")\n",
    "mean(Other_installment_plans_spread$approval_rate)"
   ]
  },
  {
   "cell_type": "code",
   "execution_count": 36,
   "metadata": {},
   "outputs": [
    {
     "data": {
      "text/html": [
       "<table>\n",
       "<thead><tr><th scope=col>Housing</th><th scope=col>deny</th><th scope=col>approve</th><th scope=col>approval_rate</th></tr></thead>\n",
       "<tbody>\n",
       "\t<tr><td>free     </td><td> 39      </td><td> 56      </td><td>0.5894737</td></tr>\n",
       "\t<tr><td>own      </td><td>168      </td><td>472      </td><td>0.7375000</td></tr>\n",
       "\t<tr><td>rent     </td><td> 62      </td><td>103      </td><td>0.6242424</td></tr>\n",
       "</tbody>\n",
       "</table>\n"
      ],
      "text/latex": [
       "\\begin{tabular}{r|llll}\n",
       " Housing & deny & approve & approval\\_rate\\\\\n",
       "\\hline\n",
       "\t free      &  39       &  56       & 0.5894737\\\\\n",
       "\t own       & 168       & 472       & 0.7375000\\\\\n",
       "\t rent      &  62       & 103       & 0.6242424\\\\\n",
       "\\end{tabular}\n"
      ],
      "text/markdown": [
       "\n",
       "Housing | deny | approve | approval_rate | \n",
       "|---|---|---|\n",
       "| free      |  39       |  56       | 0.5894737 | \n",
       "| own       | 168       | 472       | 0.7375000 | \n",
       "| rent      |  62       | 103       | 0.6242424 | \n",
       "\n",
       "\n"
      ],
      "text/plain": [
       "  Housing deny approve approval_rate\n",
       "1 free     39   56     0.5894737    \n",
       "2 own     168  472     0.7375000    \n",
       "3 rent     62  103     0.6242424    "
      ]
     },
     "metadata": {},
     "output_type": "display_data"
    },
    {
     "name": "stdout",
     "output_type": "stream",
     "text": [
      "[1] \"mean\"\n"
     ]
    },
    {
     "data": {
      "text/html": [
       "0.650405369484317"
      ],
      "text/latex": [
       "0.650405369484317"
      ],
      "text/markdown": [
       "0.650405369484317"
      ],
      "text/plain": [
       "[1] 0.6504054"
      ]
     },
     "metadata": {},
     "output_type": "display_data"
    }
   ],
   "source": [
    "Housing_table = dplyr::select(train_data, Housing, GoodRisk) %>%\n",
    "                       group_by(Housing, GoodRisk) %>%\n",
    "                       dplyr::summarize(count = n())\n",
    "Housing_spread = spread(Housing_table, key=GoodRisk, value=count)      \n",
    "Housing_spread = dplyr::select(Housing_spread, 1, deny=2, approve=3) %>%\n",
    "    mutate(approval_rate=approve/(approve+deny))\n",
    "Housing_spread\n",
    "print(\"mean\")\n",
    "mean(Housing_spread$approval_rate)"
   ]
  },
  {
   "cell_type": "markdown",
   "metadata": {},
   "source": [
    "If you own your own home you are more likely to apply and get approved."
   ]
  },
  {
   "cell_type": "code",
   "execution_count": 37,
   "metadata": {},
   "outputs": [
    {
     "data": {
      "text/html": [
       "<table>\n",
       "<thead><tr><th scope=col>foreign_worker</th><th scope=col>deny</th><th scope=col>approve</th><th scope=col>approval_rate</th></tr></thead>\n",
       "<tbody>\n",
       "\t<tr><td>no       </td><td>  2      </td><td> 31      </td><td>0.9393939</td></tr>\n",
       "\t<tr><td>yes      </td><td>267      </td><td>600      </td><td>0.6920415</td></tr>\n",
       "</tbody>\n",
       "</table>\n"
      ],
      "text/latex": [
       "\\begin{tabular}{r|llll}\n",
       " foreign\\_worker & deny & approve & approval\\_rate\\\\\n",
       "\\hline\n",
       "\t no        &   2       &  31       & 0.9393939\\\\\n",
       "\t yes       & 267       & 600       & 0.6920415\\\\\n",
       "\\end{tabular}\n"
      ],
      "text/markdown": [
       "\n",
       "foreign_worker | deny | approve | approval_rate | \n",
       "|---|---|\n",
       "| no        |   2       |  31       | 0.9393939 | \n",
       "| yes       | 267       | 600       | 0.6920415 | \n",
       "\n",
       "\n"
      ],
      "text/plain": [
       "  foreign_worker deny approve approval_rate\n",
       "1 no               2   31     0.9393939    \n",
       "2 yes            267  600     0.6920415    "
      ]
     },
     "metadata": {},
     "output_type": "display_data"
    },
    {
     "name": "stdout",
     "output_type": "stream",
     "text": [
      "[1] \"mean\"\n"
     ]
    },
    {
     "data": {
      "text/html": [
       "0.815717730942644"
      ],
      "text/latex": [
       "0.815717730942644"
      ],
      "text/markdown": [
       "0.815717730942644"
      ],
      "text/plain": [
       "[1] 0.8157177"
      ]
     },
     "metadata": {},
     "output_type": "display_data"
    }
   ],
   "source": [
    "foreign_worker_table = dplyr::select(train_data, foreign_worker, GoodRisk) %>%\n",
    "                       group_by(foreign_worker, GoodRisk) %>%\n",
    "                       dplyr::summarize(count = n())\n",
    "foreign_worker_spread = spread(foreign_worker_table, key=GoodRisk, value=count)        \n",
    "foreign_worker_spread = dplyr::select(foreign_worker_spread , 1, deny=2, approve=3) %>%\n",
    "    mutate(approval_rate=approve/(approve+deny))\n",
    "foreign_worker_spread\n",
    "print(\"mean\")\n",
    "mean(foreign_worker_spread$approval_rate)"
   ]
  },
  {
   "cell_type": "markdown",
   "metadata": {},
   "source": [
    "A big portion of the people that are applying and getting approved are foreign workers. This makes our data possibly skewed and biast."
   ]
  },
  {
   "cell_type": "markdown",
   "metadata": {},
   "source": [
    "## 2. Build a credit model using a logsistic regression\n",
    "\n",
    "We looked at three models.  For the first model, we ran a logistic regression using all features.  Next we ran a stepAIC to see which features changed our AIC value.  Our second model removed any features the stepAIC function identified.  We made a third model taking out features that made sense from our data exploration."
   ]
  },
  {
   "cell_type": "code",
   "execution_count": 38,
   "metadata": {
    "scrolled": false
   },
   "outputs": [
    {
     "data": {
      "text/plain": [
       "\n",
       "Call:\n",
       "glm(formula = GoodRisk ~ Current_balance + Duration_in_month + \n",
       "    Credit_history + Purpose + Credit_amount + Savings_account_bonds + \n",
       "    Present_employment_since + income_debt_ratio + Personal_status_sex + \n",
       "    Other_debtors + Present_residence_since + Property + Age + \n",
       "    Other_installment_plans + Housing + Number_credits_at_this_bank + \n",
       "    Job + Dependents + Telephone + foreign_worker + logit_duration, \n",
       "    family = binomial(), data = train_data)\n",
       "\n",
       "Deviance Residuals: \n",
       "    Min       1Q   Median       3Q      Max  \n",
       "-2.4820  -0.7206   0.3799   0.6891   2.3477  \n",
       "\n",
       "Coefficients:\n",
       "                                                              Estimate\n",
       "(Intercept)                                                  3.3888778\n",
       "Current_balance0 DM                                         -0.3332003\n",
       "Current_balance200 DM or more                                0.8576183\n",
       "Current_balanceno checking account                           1.3036959\n",
       "Duration_in_month                                           -0.0012680\n",
       "Credit_historycritical/credits at other banks                1.7250287\n",
       "Credit_historydelay in paying off in the past                1.2245137\n",
       "Credit_historyexisting credits paid back duly till now       0.9401466\n",
       "Credit_historyno credits taken/all credits paid back duly    0.3863118\n",
       "Purposecar(new)                                             -0.5333713\n",
       "Purposecar(used)                                             1.3117089\n",
       "Purposedomestic appliances                                  -0.1694332\n",
       "Purposeeducation                                            -0.6947096\n",
       "Purposefurniture/equipment                                   0.2484515\n",
       "Purposeothers                                                1.4912780\n",
       "Purposeradio/television                                      0.3228594\n",
       "Purposerepairs                                              -0.6666202\n",
       "Purposeretraining                                            1.3865539\n",
       "Credit_amount                                               -0.0001121\n",
       "Savings_account_bonds.L                                      0.5885449\n",
       "Savings_account_bonds.Q                                     -0.3010518\n",
       "Savings_account_bonds.C                                      0.2037518\n",
       "Savings_account_bonds^4                                      0.5745981\n",
       "Present_employment_since1 <= 4 years                         0.0521651\n",
       "Present_employment_since4 <= 7 years                         0.7737772\n",
       "Present_employment_since7 or more years                      0.0251512\n",
       "Present_employment_sinceunemployed                          -0.0524658\n",
       "income_debt_ratio                                           -0.2657631\n",
       "Personal_status_sexmale:divorced/separated                  -0.3228358\n",
       "Personal_status_sexmale:married/widowed                      0.2263893\n",
       "Personal_status_sexmale:single                               0.5280590\n",
       "Other_debtorsguarantor                                       1.1754580\n",
       "Other_debtorsnone                                            0.4210942\n",
       "Present_residence_since                                     -0.0053300\n",
       "Propertyif not A121/A122 : car or other, not in attribute 6  0.0423275\n",
       "Propertyreal estate                                          0.2677048\n",
       "Propertyunknown / no property                               -0.4391376\n",
       "Age                                                          0.0181705\n",
       "Other_installment_plansnone                                  0.5173064\n",
       "Other_installment_plansstores                                0.0404023\n",
       "Housingown                                                  -0.1947427\n",
       "Housingrent                                                 -0.5357738\n",
       "Number_credits_at_this_bank                                 -0.2496369\n",
       "Jobskilled employee / official                               0.0624434\n",
       "Jobunemployed/ unskilled  - non-resident                     0.5142793\n",
       "Jobunskilled - resident                                      0.1342760\n",
       "Dependents                                                  -0.3661465\n",
       "Telephoneyes                                                 0.3111485\n",
       "foreign_workeryes                                           -1.7419973\n",
       "logit_duration                                              -0.6567217\n",
       "                                                            Std. Error z value\n",
       "(Intercept)                                                  1.7233284   1.966\n",
       "Current_balance0 DM                                          0.2314188  -1.440\n",
       "Current_balance200 DM or more                                0.4078277   2.103\n",
       "Current_balanceno checking account                           0.2442434   5.338\n",
       "Duration_in_month                                            0.0253808  -0.050\n",
       "Credit_historycritical/credits at other banks                0.4666826   3.696\n",
       "Credit_historydelay in paying off in the past                0.5040928   2.429\n",
       "Credit_historyexisting credits paid back duly till now       0.4124462   2.279\n",
       "Credit_historyno credits taken/all credits paid back duly    0.6003178   0.644\n",
       "Purposecar(new)                                              0.3537984  -1.508\n",
       "Purposecar(used)                                             0.4814368   2.725\n",
       "Purposedomestic appliances                                   0.8215344  -0.206\n",
       "Purposeeducation                                             0.4841322  -1.435\n",
       "Purposefurniture/equipment                                   0.3742026   0.664\n",
       "Purposeothers                                                0.9449503   1.578\n",
       "Purposeradio/television                                      0.3555424   0.908\n",
       "Purposerepairs                                               0.6311663  -1.056\n",
       "Purposeretraining                                            1.2355062   1.122\n",
       "Credit_amount                                                0.0000477  -2.349\n",
       "Savings_account_bonds.L                                      0.2350688   2.504\n",
       "Savings_account_bonds.Q                                      0.3362673  -0.895\n",
       "Savings_account_bonds.C                                      0.3247363   0.627\n",
       "Savings_account_bonds^4                                      0.4382192   1.311\n",
       "Present_employment_since1 <= 4 years                         0.2559577   0.204\n",
       "Present_employment_since4 <= 7 years                         0.3255890   2.377\n",
       "Present_employment_since7 or more years                      0.3119490   0.081\n",
       "Present_employment_sinceunemployed                           0.4493389  -0.117\n",
       "income_debt_ratio                                            0.0937750  -2.834\n",
       "Personal_status_sexmale:divorced/separated                   0.4003773  -0.806\n",
       "Personal_status_sexmale:married/widowed                      0.3337443   0.678\n",
       "Personal_status_sexmale:single                               0.2233197   2.365\n",
       "Other_debtorsguarantor                                       0.6110946   1.924\n",
       "Other_debtorsnone                                            0.4446977   0.947\n",
       "Present_residence_since                                      0.0903142  -0.059\n",
       "Propertyif not A121/A122 : car or other, not in attribute 6  0.2445922   0.173\n",
       "Propertyreal estate                                          0.2708687   0.988\n",
       "Propertyunknown / no property                                0.4381670  -1.002\n",
       "Age                                                          0.0099032   1.835\n",
       "Other_installment_plansnone                                  0.2612170   1.980\n",
       "Other_installment_plansstores                                0.4428393   0.091\n",
       "Housingown                                                   0.4734426  -0.411\n",
       "Housingrent                                                  0.5043330  -1.062\n",
       "Number_credits_at_this_bank                                  0.2029139  -1.230\n",
       "Jobskilled employee / official                               0.2988312   0.209\n",
       "Jobunemployed/ unskilled  - non-resident                     0.6995140   0.735\n",
       "Jobunskilled - resident                                      0.3669170   0.366\n",
       "Dependents                                                   0.2711611  -1.350\n",
       "Telephoneyes                                                 0.2110320   1.474\n",
       "foreign_workeryes                                            0.7893836  -2.207\n",
       "logit_duration                                               0.5419686  -1.212\n",
       "                                                            Pr(>|z|)    \n",
       "(Intercept)                                                 0.049244 *  \n",
       "Current_balance0 DM                                         0.149920    \n",
       "Current_balance200 DM or more                               0.035475 *  \n",
       "Current_balanceno checking account                          9.41e-08 ***\n",
       "Duration_in_month                                           0.960154    \n",
       "Credit_historycritical/credits at other banks               0.000219 ***\n",
       "Credit_historydelay in paying off in the past               0.015135 *  \n",
       "Credit_historyexisting credits paid back duly till now      0.022641 *  \n",
       "Credit_historyno credits taken/all credits paid back duly   0.519892    \n",
       "Purposecar(new)                                             0.131668    \n",
       "Purposecar(used)                                            0.006439 ** \n",
       "Purposedomestic appliances                                  0.836604    \n",
       "Purposeeducation                                            0.151299    \n",
       "Purposefurniture/equipment                                  0.506723    \n",
       "Purposeothers                                               0.114530    \n",
       "Purposeradio/television                                     0.363838    \n",
       "Purposerepairs                                              0.290890    \n",
       "Purposeretraining                                           0.261754    \n",
       "Credit_amount                                               0.018803 *  \n",
       "Savings_account_bonds.L                                     0.012290 *  \n",
       "Savings_account_bonds.Q                                     0.370640    \n",
       "Savings_account_bonds.C                                     0.530372    \n",
       "Savings_account_bonds^4                                     0.189786    \n",
       "Present_employment_since1 <= 4 years                        0.838507    \n",
       "Present_employment_since4 <= 7 years                        0.017476 *  \n",
       "Present_employment_since7 or more years                     0.935739    \n",
       "Present_employment_sinceunemployed                          0.907049    \n",
       "income_debt_ratio                                           0.004596 ** \n",
       "Personal_status_sexmale:divorced/separated                  0.420053    \n",
       "Personal_status_sexmale:married/widowed                     0.497561    \n",
       "Personal_status_sexmale:single                              0.018050 *  \n",
       "Other_debtorsguarantor                                      0.054414 .  \n",
       "Other_debtorsnone                                           0.343678    \n",
       "Present_residence_since                                     0.952939    \n",
       "Propertyif not A121/A122 : car or other, not in attribute 6 0.862610    \n",
       "Propertyreal estate                                         0.322996    \n",
       "Propertyunknown / no property                               0.316240    \n",
       "Age                                                         0.066535 .  \n",
       "Other_installment_plansnone                                 0.047662 *  \n",
       "Other_installment_plansstores                               0.927306    \n",
       "Housingown                                                  0.680828    \n",
       "Housingrent                                                 0.288081    \n",
       "Number_credits_at_this_bank                                 0.218600    \n",
       "Jobskilled employee / official                              0.834481    \n",
       "Jobunemployed/ unskilled  - non-resident                    0.462221    \n",
       "Jobunskilled - resident                                     0.714397    \n",
       "Dependents                                                  0.176923    \n",
       "Telephoneyes                                                0.140370    \n",
       "foreign_workeryes                                           0.027329 *  \n",
       "logit_duration                                              0.225614    \n",
       "---\n",
       "Signif. codes:  0 '***' 0.001 '**' 0.01 '*' 0.05 '.' 0.1 ' ' 1\n",
       "\n",
       "(Dispersion parameter for binomial family taken to be 1)\n",
       "\n",
       "    Null deviance: 1097.86  on 899  degrees of freedom\n",
       "Residual deviance:  805.06  on 850  degrees of freedom\n",
       "AIC: 905.06\n",
       "\n",
       "Number of Fisher Scoring iterations: 5\n"
      ]
     },
     "metadata": {},
     "output_type": "display_data"
    }
   ],
   "source": [
    "# all features initially.  Sort of a base model\n",
    "model01 = glm(GoodRisk ~ Current_balance + Duration_in_month + Credit_history + Purpose +\n",
    "            Credit_amount + Savings_account_bonds + Present_employment_since +\n",
    "            income_debt_ratio + Personal_status_sex + Other_debtors + Present_residence_since +\n",
    "            Property + Age + Other_installment_plans + Housing + Number_credits_at_this_bank +\n",
    "            Job + Dependents + Telephone + foreign_worker + logit_duration,\n",
    "            train_data, family=binomial())\n",
    "summary(model01)"
   ]
  },
  {
   "cell_type": "code",
   "execution_count": 39,
   "metadata": {},
   "outputs": [
    {
     "data": {
      "text/html": [
       "<table>\n",
       "<thead><tr><th scope=col>Step</th><th scope=col>Df</th><th scope=col>Deviance</th><th scope=col>Resid. Df</th><th scope=col>Resid. Dev</th><th scope=col>AIC</th></tr></thead>\n",
       "<tbody>\n",
       "\t<tr><td>                             </td><td>NA                           </td><td>         NA                  </td><td>850                          </td><td>805.0555                     </td><td>905.0555                     </td></tr>\n",
       "\t<tr><td>- Job                        </td><td> 3                           </td><td>0.624917659                  </td><td>853                          </td><td>805.6804                     </td><td>899.6804                     </td></tr>\n",
       "\t<tr><td>- Property                   </td><td> 3                           </td><td>2.908628386                  </td><td>856                          </td><td>808.5890                     </td><td>896.5890                     </td></tr>\n",
       "\t<tr><td>- Duration_in_month          </td><td> 1                           </td><td>0.001430206                  </td><td>857                          </td><td>808.5905                     </td><td>894.5905                     </td></tr>\n",
       "\t<tr><td>- Present_residence_since    </td><td> 1                           </td><td>0.006224353                  </td><td>858                          </td><td>808.5967                     </td><td>892.5967                     </td></tr>\n",
       "\t<tr><td>- Housing                    </td><td> 2                           </td><td>2.393114611                  </td><td>860                          </td><td>810.9898                     </td><td>890.9898                     </td></tr>\n",
       "\t<tr><td>- Number_credits_at_this_bank</td><td> 1                           </td><td>1.389898992                  </td><td>861                          </td><td>812.3797                     </td><td>890.3797                     </td></tr>\n",
       "\t<tr><td>- Telephone                  </td><td> 1                           </td><td>1.354453713                  </td><td>862                          </td><td>813.7342                     </td><td>889.7342                     </td></tr>\n",
       "\t<tr><td>- Dependents                 </td><td> 1                           </td><td>1.901370685                  </td><td>863                          </td><td>815.6355                     </td><td>889.6355                     </td></tr>\n",
       "</tbody>\n",
       "</table>\n"
      ],
      "text/latex": [
       "\\begin{tabular}{r|llllll}\n",
       " Step & Df & Deviance & Resid. Df & Resid. Dev & AIC\\\\\n",
       "\\hline\n",
       "\t                               & NA                            &          NA                   & 850                           & 805.0555                      & 905.0555                     \\\\\n",
       "\t - Job                         &  3                            & 0.624917659                   & 853                           & 805.6804                      & 899.6804                     \\\\\n",
       "\t - Property                    &  3                            & 2.908628386                   & 856                           & 808.5890                      & 896.5890                     \\\\\n",
       "\t - Duration\\_in\\_month           &  1                                & 0.001430206                       & 857                               & 808.5905                          & 894.5905                         \\\\\n",
       "\t - Present\\_residence\\_since     &  1                                & 0.006224353                       & 858                               & 808.5967                          & 892.5967                         \\\\\n",
       "\t - Housing                     &  2                            & 2.393114611                   & 860                           & 810.9898                      & 890.9898                     \\\\\n",
       "\t - Number\\_credits\\_at\\_this\\_bank &  1                                    & 1.389898992                           & 861                                   & 812.3797                              & 890.3797                             \\\\\n",
       "\t - Telephone                   &  1                            & 1.354453713                   & 862                           & 813.7342                      & 889.7342                     \\\\\n",
       "\t - Dependents                  &  1                            & 1.901370685                   & 863                           & 815.6355                      & 889.6355                     \\\\\n",
       "\\end{tabular}\n"
      ],
      "text/markdown": [
       "\n",
       "Step | Df | Deviance | Resid. Df | Resid. Dev | AIC | \n",
       "|---|---|---|---|---|---|---|---|---|\n",
       "|                               | NA                            |          NA                   | 850                           | 805.0555                      | 905.0555                      | \n",
       "| - Job                         |  3                            | 0.624917659                   | 853                           | 805.6804                      | 899.6804                      | \n",
       "| - Property                    |  3                            | 2.908628386                   | 856                           | 808.5890                      | 896.5890                      | \n",
       "| - Duration_in_month           |  1                            | 0.001430206                   | 857                           | 808.5905                      | 894.5905                      | \n",
       "| - Present_residence_since     |  1                            | 0.006224353                   | 858                           | 808.5967                      | 892.5967                      | \n",
       "| - Housing                     |  2                            | 2.393114611                   | 860                           | 810.9898                      | 890.9898                      | \n",
       "| - Number_credits_at_this_bank |  1                            | 1.389898992                   | 861                           | 812.3797                      | 890.3797                      | \n",
       "| - Telephone                   |  1                            | 1.354453713                   | 862                           | 813.7342                      | 889.7342                      | \n",
       "| - Dependents                  |  1                            | 1.901370685                   | 863                           | 815.6355                      | 889.6355                      | \n",
       "\n",
       "\n"
      ],
      "text/plain": [
       "  Step                          Df Deviance    Resid. Df Resid. Dev AIC     \n",
       "1                               NA          NA 850       805.0555   905.0555\n",
       "2 - Job                          3 0.624917659 853       805.6804   899.6804\n",
       "3 - Property                     3 2.908628386 856       808.5890   896.5890\n",
       "4 - Duration_in_month            1 0.001430206 857       808.5905   894.5905\n",
       "5 - Present_residence_since      1 0.006224353 858       808.5967   892.5967\n",
       "6 - Housing                      2 2.393114611 860       810.9898   890.9898\n",
       "7 - Number_credits_at_this_bank  1 1.389898992 861       812.3797   890.3797\n",
       "8 - Telephone                    1 1.354453713 862       813.7342   889.7342\n",
       "9 - Dependents                   1 1.901370685 863       815.6355   889.6355"
      ]
     },
     "metadata": {},
     "output_type": "display_data"
    }
   ],
   "source": [
    "stepwise <- stepAIC(model01, trace=FALSE)\n",
    "stepwise$anova"
   ]
  },
  {
   "cell_type": "code",
   "execution_count": 40,
   "metadata": {},
   "outputs": [
    {
     "data": {
      "text/plain": [
       "\n",
       "Call:\n",
       "glm(formula = GoodRisk ~ Current_balance + Credit_history + Purpose + \n",
       "    Credit_amount + Savings_account_bonds + Present_employment_since + \n",
       "    income_debt_ratio + Personal_status_sex + Other_debtors + \n",
       "    Age + Other_installment_plans + foreign_worker + logit_duration, \n",
       "    family = binomial(), data = train_data)\n",
       "\n",
       "Deviance Residuals: \n",
       "    Min       1Q   Median       3Q      Max  \n",
       "-2.4992  -0.7604   0.3934   0.6987   2.3383  \n",
       "\n",
       "Coefficients:\n",
       "                                                            Estimate Std. Error\n",
       "(Intercept)                                                2.619e+00  1.156e+00\n",
       "Current_balance0 DM                                       -3.929e-01  2.258e-01\n",
       "Current_balance200 DM or more                              9.030e-01  4.050e-01\n",
       "Current_balanceno checking account                         1.315e+00  2.397e-01\n",
       "Credit_historycritical/credits at other banks              1.623e+00  4.311e-01\n",
       "Credit_historydelay in paying off in the past              1.123e+00  4.783e-01\n",
       "Credit_historyexisting credits paid back duly till now     1.006e+00  4.028e-01\n",
       "Credit_historyno credits taken/all credits paid back duly  2.758e-01  5.748e-01\n",
       "Purposecar(new)                                           -5.771e-01  3.458e-01\n",
       "Purposecar(used)                                           1.172e+00  4.622e-01\n",
       "Purposedomestic appliances                                -1.166e-01  8.072e-01\n",
       "Purposeeducation                                          -8.926e-01  4.708e-01\n",
       "Purposefurniture/equipment                                 1.675e-01  3.598e-01\n",
       "Purposeothers                                              1.551e+00  9.120e-01\n",
       "Purposeradio/television                                    3.044e-01  3.457e-01\n",
       "Purposerepairs                                            -7.161e-01  6.217e-01\n",
       "Purposeretraining                                          1.345e+00  1.242e+00\n",
       "Credit_amount                                             -1.093e-04  4.209e-05\n",
       "Savings_account_bonds.L                                    6.438e-01  2.312e-01\n",
       "Savings_account_bonds.Q                                   -2.239e-01  3.290e-01\n",
       "Savings_account_bonds.C                                    1.207e-01  3.219e-01\n",
       "Savings_account_bonds^4                                    5.649e-01  4.276e-01\n",
       "Present_employment_since1 <= 4 years                       9.619e-02  2.492e-01\n",
       "Present_employment_since4 <= 7 years                       8.101e-01  3.180e-01\n",
       "Present_employment_since7 or more years                   -2.975e-02  2.989e-01\n",
       "Present_employment_sinceunemployed                         2.895e-02  4.009e-01\n",
       "income_debt_ratio                                         -2.503e-01  9.088e-02\n",
       "Personal_status_sexmale:divorced/separated                -2.766e-01  3.880e-01\n",
       "Personal_status_sexmale:married/widowed                    3.141e-01  3.289e-01\n",
       "Personal_status_sexmale:single                             4.799e-01  2.082e-01\n",
       "Other_debtorsguarantor                                     1.216e+00  5.967e-01\n",
       "Other_debtorsnone                                          4.671e-01  4.369e-01\n",
       "Age                                                        1.893e-02  9.254e-03\n",
       "Other_installment_plansnone                                5.671e-01  2.560e-01\n",
       "Other_installment_plansstores                              1.806e-01  4.388e-01\n",
       "foreign_workeryes                                         -1.755e+00  7.949e-01\n",
       "logit_duration                                            -7.163e-01  2.002e-01\n",
       "                                                          z value Pr(>|z|)    \n",
       "(Intercept)                                                 2.265 0.023527 *  \n",
       "Current_balance0 DM                                        -1.740 0.081834 .  \n",
       "Current_balance200 DM or more                               2.229 0.025788 *  \n",
       "Current_balanceno checking account                          5.488 4.06e-08 ***\n",
       "Credit_historycritical/credits at other banks               3.766 0.000166 ***\n",
       "Credit_historydelay in paying off in the past               2.348 0.018850 *  \n",
       "Credit_historyexisting credits paid back duly till now      2.498 0.012503 *  \n",
       "Credit_historyno credits taken/all credits paid back duly   0.480 0.631288    \n",
       "Purposecar(new)                                            -1.669 0.095080 .  \n",
       "Purposecar(used)                                            2.536 0.011225 *  \n",
       "Purposedomestic appliances                                 -0.144 0.885137    \n",
       "Purposeeducation                                           -1.896 0.057999 .  \n",
       "Purposefurniture/equipment                                  0.465 0.641626    \n",
       "Purposeothers                                               1.701 0.088987 .  \n",
       "Purposeradio/television                                     0.881 0.378479    \n",
       "Purposerepairs                                             -1.152 0.249374    \n",
       "Purposeretraining                                           1.083 0.278820    \n",
       "Credit_amount                                              -2.597 0.009397 ** \n",
       "Savings_account_bonds.L                                     2.785 0.005354 ** \n",
       "Savings_account_bonds.Q                                    -0.680 0.496249    \n",
       "Savings_account_bonds.C                                     0.375 0.707557    \n",
       "Savings_account_bonds^4                                     1.321 0.186457    \n",
       "Present_employment_since1 <= 4 years                        0.386 0.699465    \n",
       "Present_employment_since4 <= 7 years                        2.547 0.010865 *  \n",
       "Present_employment_since7 or more years                    -0.100 0.920730    \n",
       "Present_employment_sinceunemployed                          0.072 0.942443    \n",
       "income_debt_ratio                                          -2.754 0.005888 ** \n",
       "Personal_status_sexmale:divorced/separated                 -0.713 0.475948    \n",
       "Personal_status_sexmale:married/widowed                     0.955 0.339559    \n",
       "Personal_status_sexmale:single                              2.306 0.021127 *  \n",
       "Other_debtorsguarantor                                      2.037 0.041608 *  \n",
       "Other_debtorsnone                                           1.069 0.284998    \n",
       "Age                                                         2.046 0.040736 *  \n",
       "Other_installment_plansnone                                 2.216 0.026709 *  \n",
       "Other_installment_plansstores                               0.412 0.680668    \n",
       "foreign_workeryes                                          -2.208 0.027278 *  \n",
       "logit_duration                                             -3.577 0.000347 ***\n",
       "---\n",
       "Signif. codes:  0 '***' 0.001 '**' 0.01 '*' 0.05 '.' 0.1 ' ' 1\n",
       "\n",
       "(Dispersion parameter for binomial family taken to be 1)\n",
       "\n",
       "    Null deviance: 1097.86  on 899  degrees of freedom\n",
       "Residual deviance:  815.64  on 863  degrees of freedom\n",
       "AIC: 889.64\n",
       "\n",
       "Number of Fisher Scoring iterations: 5\n"
      ]
     },
     "metadata": {},
     "output_type": "display_data"
    }
   ],
   "source": [
    "# modify model based on stepAIC.\n",
    "model02 = glm(GoodRisk ~ Current_balance + Credit_history + Purpose +\n",
    "            Credit_amount + Savings_account_bonds + Present_employment_since +\n",
    "            income_debt_ratio + Personal_status_sex + Other_debtors +\n",
    "            Age + Other_installment_plans +\n",
    "            foreign_worker + logit_duration,\n",
    "            train_data, family=binomial())\n",
    "summary(model02)"
   ]
  },
  {
   "cell_type": "code",
   "execution_count": 41,
   "metadata": {},
   "outputs": [
    {
     "data": {
      "text/html": [
       "<table>\n",
       "<thead><tr><th scope=col>Step</th><th scope=col>Df</th><th scope=col>Deviance</th><th scope=col>Resid. Df</th><th scope=col>Resid. Dev</th><th scope=col>AIC</th></tr></thead>\n",
       "<tbody>\n",
       "\t<tr><td>        </td><td>NA      </td><td>NA      </td><td>863     </td><td>815.6355</td><td>889.6355</td></tr>\n",
       "</tbody>\n",
       "</table>\n"
      ],
      "text/latex": [
       "\\begin{tabular}{r|llllll}\n",
       " Step & Df & Deviance & Resid. Df & Resid. Dev & AIC\\\\\n",
       "\\hline\n",
       "\t          & NA       & NA       & 863      & 815.6355 & 889.6355\\\\\n",
       "\\end{tabular}\n"
      ],
      "text/markdown": [
       "\n",
       "Step | Df | Deviance | Resid. Df | Resid. Dev | AIC | \n",
       "|---|\n",
       "|          | NA       | NA       | 863      | 815.6355 | 889.6355 | \n",
       "\n",
       "\n"
      ],
      "text/plain": [
       "  Step Df Deviance Resid. Df Resid. Dev AIC     \n",
       "1      NA NA       863       815.6355   889.6355"
      ]
     },
     "metadata": {},
     "output_type": "display_data"
    }
   ],
   "source": [
    "stepwise02 <- stepAIC(model02, trace=FALSE)\n",
    "stepwise02$anova"
   ]
  },
  {
   "cell_type": "code",
   "execution_count": 42,
   "metadata": {},
   "outputs": [
    {
     "data": {
      "text/plain": [
       "\n",
       "Call:\n",
       "glm(formula = GoodRisk ~ Current_balance + Credit_history + Purpose + \n",
       "    Credit_amount + Savings_account_bonds + Present_employment_since + \n",
       "    income_debt_ratio + Personal_status_sex + Other_debtors + \n",
       "    Present_residence_since + Property + Other_installment_plans + \n",
       "    Housing + Number_credits_at_this_bank + Job + foreign_worker + \n",
       "    logit_duration, family = binomial(), data = train_data)\n",
       "\n",
       "Deviance Residuals: \n",
       "    Min       1Q   Median       3Q      Max  \n",
       "-2.5628  -0.7258   0.3962   0.6957   2.2973  \n",
       "\n",
       "Coefficients:\n",
       "                                                              Estimate\n",
       "(Intercept)                                                  3.773e+00\n",
       "Current_balance0 DM                                         -3.373e-01\n",
       "Current_balance200 DM or more                                9.059e-01\n",
       "Current_balanceno checking account                           1.336e+00\n",
       "Credit_historycritical/credits at other banks                1.768e+00\n",
       "Credit_historydelay in paying off in the past                1.281e+00\n",
       "Credit_historyexisting credits paid back duly till now       9.739e-01\n",
       "Credit_historyno credits taken/all credits paid back duly    4.646e-01\n",
       "Purposecar(new)                                             -5.423e-01\n",
       "Purposecar(used)                                             1.295e+00\n",
       "Purposedomestic appliances                                  -1.104e-01\n",
       "Purposeeducation                                            -7.148e-01\n",
       "Purposefurniture/equipment                                   1.944e-01\n",
       "Purposeothers                                                1.481e+00\n",
       "Purposeradio/television                                      2.871e-01\n",
       "Purposerepairs                                              -6.325e-01\n",
       "Purposeretraining                                            1.351e+00\n",
       "Credit_amount                                               -9.856e-05\n",
       "Savings_account_bonds.L                                      6.079e-01\n",
       "Savings_account_bonds.Q                                     -2.972e-01\n",
       "Savings_account_bonds.C                                      1.645e-01\n",
       "Savings_account_bonds^4                                      6.130e-01\n",
       "Present_employment_since1 <= 4 years                         8.740e-02\n",
       "Present_employment_since4 <= 7 years                         8.311e-01\n",
       "Present_employment_since7 or more years                      1.793e-01\n",
       "Present_employment_sinceunemployed                           3.312e-02\n",
       "income_debt_ratio                                           -2.444e-01\n",
       "Personal_status_sexmale:divorced/separated                  -2.688e-01\n",
       "Personal_status_sexmale:married/widowed                      2.150e-01\n",
       "Personal_status_sexmale:single                               4.630e-01\n",
       "Other_debtorsguarantor                                       1.157e+00\n",
       "Other_debtorsnone                                            3.751e-01\n",
       "Present_residence_since                                      3.009e-02\n",
       "Propertyif not A121/A122 : car or other, not in attribute 6  1.826e-03\n",
       "Propertyreal estate                                          2.385e-01\n",
       "Propertyunknown / no property                               -4.022e-01\n",
       "Other_installment_plansnone                                  5.093e-01\n",
       "Other_installment_plansstores                                7.952e-02\n",
       "Housingown                                                  -2.092e-01\n",
       "Housingrent                                                 -6.298e-01\n",
       "Number_credits_at_this_bank                                 -2.302e-01\n",
       "Jobskilled employee / official                              -1.184e-01\n",
       "Jobunemployed/ unskilled  - non-resident                     3.221e-01\n",
       "Jobunskilled - resident                                     -9.401e-02\n",
       "foreign_workeryes                                           -1.698e+00\n",
       "logit_duration                                              -7.143e-01\n",
       "                                                            Std. Error z value\n",
       "(Intercept)                                                  1.366e+00   2.762\n",
       "Current_balance0 DM                                          2.297e-01  -1.468\n",
       "Current_balance200 DM or more                                4.042e-01   2.241\n",
       "Current_balanceno checking account                           2.428e-01   5.502\n",
       "Credit_historycritical/credits at other banks                4.612e-01   3.834\n",
       "Credit_historydelay in paying off in the past                5.011e-01   2.557\n",
       "Credit_historyexisting credits paid back duly till now       4.078e-01   2.388\n",
       "Credit_historyno credits taken/all credits paid back duly    5.973e-01   0.778\n",
       "Purposecar(new)                                              3.518e-01  -1.542\n",
       "Purposecar(used)                                             4.789e-01   2.704\n",
       "Purposedomestic appliances                                   8.143e-01  -0.136\n",
       "Purposeeducation                                             4.826e-01  -1.481\n",
       "Purposefurniture/equipment                                   3.692e-01   0.526\n",
       "Purposeothers                                                9.298e-01   1.593\n",
       "Purposeradio/television                                      3.520e-01   0.815\n",
       "Purposerepairs                                               6.346e-01  -0.997\n",
       "Purposeretraining                                            1.259e+00   1.073\n",
       "Credit_amount                                                4.566e-05  -2.158\n",
       "Savings_account_bonds.L                                      2.331e-01   2.608\n",
       "Savings_account_bonds.Q                                      3.342e-01  -0.889\n",
       "Savings_account_bonds.C                                      3.220e-01   0.511\n",
       "Savings_account_bonds^4                                      4.349e-01   1.410\n",
       "Present_employment_since1 <= 4 years                         2.543e-01   0.344\n",
       "Present_employment_since4 <= 7 years                         3.226e-01   2.576\n",
       "Present_employment_since7 or more years                      2.976e-01   0.603\n",
       "Present_employment_sinceunemployed                           4.395e-01   0.075\n",
       "income_debt_ratio                                            9.295e-02  -2.629\n",
       "Personal_status_sexmale:divorced/separated                   3.938e-01  -0.683\n",
       "Personal_status_sexmale:married/widowed                      3.296e-01   0.652\n",
       "Personal_status_sexmale:single                               2.149e-01   2.155\n",
       "Other_debtorsguarantor                                       6.095e-01   1.898\n",
       "Other_debtorsnone                                            4.467e-01   0.840\n",
       "Present_residence_since                                      8.863e-02   0.339\n",
       "Propertyif not A121/A122 : car or other, not in attribute 6  2.428e-01   0.008\n",
       "Propertyreal estate                                          2.689e-01   0.887\n",
       "Propertyunknown / no property                                4.352e-01  -0.924\n",
       "Other_installment_plansnone                                  2.601e-01   1.958\n",
       "Other_installment_plansstores                                4.377e-01   0.182\n",
       "Housingown                                                   4.659e-01  -0.449\n",
       "Housingrent                                                  4.927e-01  -1.278\n",
       "Number_credits_at_this_bank                                  1.973e-01  -1.167\n",
       "Jobskilled employee / official                               2.829e-01  -0.419\n",
       "Jobunemployed/ unskilled  - non-resident                     6.777e-01   0.475\n",
       "Jobunskilled - resident                                      3.432e-01  -0.274\n",
       "foreign_workeryes                                            7.903e-01  -2.148\n",
       "logit_duration                                               2.071e-01  -3.449\n",
       "                                                            Pr(>|z|)    \n",
       "(Intercept)                                                 0.005738 ** \n",
       "Current_balance0 DM                                         0.142032    \n",
       "Current_balance200 DM or more                               0.025028 *  \n",
       "Current_balanceno checking account                          3.75e-08 ***\n",
       "Credit_historycritical/credits at other banks               0.000126 ***\n",
       "Credit_historydelay in paying off in the past               0.010558 *  \n",
       "Credit_historyexisting credits paid back duly till now      0.016934 *  \n",
       "Credit_historyno credits taken/all credits paid back duly   0.436697    \n",
       "Purposecar(new)                                             0.123188    \n",
       "Purposecar(used)                                            0.006846 ** \n",
       "Purposedomestic appliances                                  0.892184    \n",
       "Purposeeducation                                            0.138586    \n",
       "Purposefurniture/equipment                                  0.598555    \n",
       "Purposeothers                                               0.111258    \n",
       "Purposeradio/television                                     0.414808    \n",
       "Purposerepairs                                              0.318936    \n",
       "Purposeretraining                                           0.283154    \n",
       "Credit_amount                                               0.030901 *  \n",
       "Savings_account_bonds.L                                     0.009117 ** \n",
       "Savings_account_bonds.Q                                     0.373983    \n",
       "Savings_account_bonds.C                                     0.609433    \n",
       "Savings_account_bonds^4                                     0.158633    \n",
       "Present_employment_since1 <= 4 years                        0.731032    \n",
       "Present_employment_since4 <= 7 years                        0.009989 ** \n",
       "Present_employment_since7 or more years                     0.546832    \n",
       "Present_employment_sinceunemployed                          0.939938    \n",
       "income_debt_ratio                                           0.008565 ** \n",
       "Personal_status_sexmale:divorced/separated                  0.494827    \n",
       "Personal_status_sexmale:married/widowed                     0.514200    \n",
       "Personal_status_sexmale:single                              0.031165 *  \n",
       "Other_debtorsguarantor                                      0.057726 .  \n",
       "Other_debtorsnone                                           0.401021    \n",
       "Present_residence_since                                     0.734263    \n",
       "Propertyif not A121/A122 : car or other, not in attribute 6 0.994000    \n",
       "Propertyreal estate                                         0.375197    \n",
       "Propertyunknown / no property                               0.355341    \n",
       "Other_installment_plansnone                                 0.050231 .  \n",
       "Other_installment_plansstores                               0.855816    \n",
       "Housingown                                                  0.653386    \n",
       "Housingrent                                                 0.201163    \n",
       "Number_credits_at_this_bank                                 0.243379    \n",
       "Jobskilled employee / official                              0.675511    \n",
       "Jobunemployed/ unskilled  - non-resident                    0.634619    \n",
       "Jobunskilled - resident                                     0.784145    \n",
       "foreign_workeryes                                           0.031703 *  \n",
       "logit_duration                                              0.000563 ***\n",
       "---\n",
       "Signif. codes:  0 '***' 0.001 '**' 0.01 '*' 0.05 '.' 0.1 ' ' 1\n",
       "\n",
       "(Dispersion parameter for binomial family taken to be 1)\n",
       "\n",
       "    Null deviance: 1097.86  on 899  degrees of freedom\n",
       "Residual deviance:  813.04  on 854  degrees of freedom\n",
       "AIC: 905.04\n",
       "\n",
       "Number of Fisher Scoring iterations: 5\n"
      ]
     },
     "metadata": {},
     "output_type": "display_data"
    }
   ],
   "source": [
    "# features we thought relevant from data exploration\n",
    "# removed: Age + Dependents + Telephone + Duration_in_month\n",
    "model03 = glm(GoodRisk ~ Current_balance + Credit_history + Purpose +\n",
    "            Credit_amount + Savings_account_bonds + Present_employment_since +\n",
    "            income_debt_ratio + Personal_status_sex + Other_debtors + Present_residence_since +\n",
    "            Property +  Other_installment_plans + Housing + Number_credits_at_this_bank +\n",
    "            Job + foreign_worker + logit_duration,\n",
    "            train_data, family=binomial())\n",
    "summary(model03)"
   ]
  },
  {
   "cell_type": "markdown",
   "metadata": {},
   "source": [
    "## 3. Evaluate the accuracy of the credit model"
   ]
  },
  {
   "cell_type": "markdown",
   "metadata": {},
   "source": [
    "## Evaluate model effectiveness\n",
    "\n",
    "Once you have 1—3 models that you like, evaluate their effectiveness on the test data you withheld at the beginning of the project.\n",
    "\n",
    "Report the following:\n",
    "\n",
    "* An ROC curve. The plotROC package is very useful for drawing these.\n",
    "\n",
    "* The cost, as defined by the data set provider; a false positive (classifying a bad credit risk as good) has a cost of 5, and a false negative (classifying a good credit risk as bad) has a cost of 1. Plot the cost as a function of the threshold (the threshold on the x axis, and the cost over the test data at that threshold on the y axis).\n",
    "\n",
    "* The threshold that produces minimal cost.\n",
    "\n",
    "* For that threshold and 2 others, the precision and recall."
   ]
  },
  {
   "cell_type": "code",
   "execution_count": 43,
   "metadata": {},
   "outputs": [],
   "source": [
    "#creates a prediction column for each of out models\n",
    "test_data_model01 = test_data %>%\n",
    "    add_predictions(model01)\n",
    "test_data_model02 = test_data %>%\n",
    "    add_predictions(model02)\n",
    "test_data_model03 = test_data %>%\n",
    "    add_predictions(model03)"
   ]
  },
  {
   "cell_type": "code",
   "execution_count": 44,
   "metadata": {},
   "outputs": [
    {
     "name": "stdout",
     "output_type": "stream",
     "text": [
      "[1] \"model01\"\n"
     ]
    },
    {
     "data": {
      "text/plain": [
       "   Min. 1st Qu.  Median    Mean 3rd Qu.    Max. \n",
       "-2.7458  0.1246  0.9767  1.2760  2.5353  4.8571 "
      ]
     },
     "metadata": {},
     "output_type": "display_data"
    },
    {
     "name": "stdout",
     "output_type": "stream",
     "text": [
      "[1] \"model02\"\n"
     ]
    },
    {
     "data": {
      "text/plain": [
       "   Min. 1st Qu.  Median    Mean 3rd Qu.    Max. \n",
       "-2.1553  0.2251  0.9346  1.2864  2.3678  5.0005 "
      ]
     },
     "metadata": {},
     "output_type": "display_data"
    },
    {
     "name": "stdout",
     "output_type": "stream",
     "text": [
      "[1] \"model03\"\n"
     ]
    },
    {
     "data": {
      "text/plain": [
       "   Min. 1st Qu.  Median    Mean 3rd Qu.    Max. \n",
       "-2.5398  0.2717  1.0963  1.2920  2.4575  5.1924 "
      ]
     },
     "metadata": {},
     "output_type": "display_data"
    }
   ],
   "source": [
    "#looking at our prediction column\n",
    "print(\"model01\")\n",
    "summary(test_data_model01$pred)\n",
    "print(\"model02\")\n",
    "summary(test_data_model02$pred)\n",
    "print(\"model03\")\n",
    "summary(test_data_model03$pred)"
   ]
  },
  {
   "cell_type": "code",
   "execution_count": 45,
   "metadata": {
    "scrolled": true
   },
   "outputs": [
    {
     "name": "stderr",
     "output_type": "stream",
     "text": [
      "Warning message in verify_d(data$d):\n",
      "\"D not labeled 0/1, assuming FALSE = 0 and TRUE = 1!\""
     ]
    },
    {
     "data": {},
     "metadata": {},
     "output_type": "display_data"
    },
    {
     "name": "stderr",
     "output_type": "stream",
     "text": [
      "Warning message in verify_d(data$d):\n",
      "\"D not labeled 0/1, assuming FALSE = 0 and TRUE = 1!\""
     ]
    },
    {
     "data": {
      "text/html": [
       "<table>\n",
       "<thead><tr><th scope=col>PANEL</th><th scope=col>group</th><th scope=col>AUC</th></tr></thead>\n",
       "<tbody>\n",
       "\t<tr><td>1        </td><td>-1       </td><td>0.8064516</td></tr>\n",
       "</tbody>\n",
       "</table>\n"
      ],
      "text/latex": [
       "\\begin{tabular}{r|lll}\n",
       " PANEL & group & AUC\\\\\n",
       "\\hline\n",
       "\t 1         & -1        & 0.8064516\\\\\n",
       "\\end{tabular}\n"
      ],
      "text/markdown": [
       "\n",
       "PANEL | group | AUC | \n",
       "|---|\n",
       "| 1         | -1        | 0.8064516 | \n",
       "\n",
       "\n"
      ],
      "text/plain": [
       "  PANEL group AUC      \n",
       "1 1     -1    0.8064516"
      ]
     },
     "metadata": {},
     "output_type": "display_data"
    },
    {
     "data": {
      "image/png": "[encoded data removed]",
      "text/plain": [
       "plot without title"
      ]
     },
     "metadata": {},
     "output_type": "display_data"
    }
   ],
   "source": [
    "# create roc plots to get AUC\n",
    "rocplot1 = ggplot(test_data_model01, aes(d = GoodRisk, m = pred)) + \n",
    "    geom_roc()\n",
    "rocplot1\n",
    "calc_auc(rocplot1) # auc closest to 1 as possible"
   ]
  },
  {
   "cell_type": "code",
   "execution_count": 46,
   "metadata": {},
   "outputs": [
    {
     "name": "stderr",
     "output_type": "stream",
     "text": [
      "Warning message in verify_d(data$d):\n",
      "\"D not labeled 0/1, assuming FALSE = 0 and TRUE = 1!\""
     ]
    },
    {
     "data": {},
     "metadata": {},
     "output_type": "display_data"
    },
    {
     "name": "stderr",
     "output_type": "stream",
     "text": [
      "Warning message in verify_d(data$d):\n",
      "\"D not labeled 0/1, assuming FALSE = 0 and TRUE = 1!\""
     ]
    },
    {
     "data": {
      "text/html": [
       "<table>\n",
       "<thead><tr><th scope=col>PANEL</th><th scope=col>group</th><th scope=col>AUC</th></tr></thead>\n",
       "<tbody>\n",
       "\t<tr><td>1        </td><td>-1       </td><td>0.8027115</td></tr>\n",
       "</tbody>\n",
       "</table>\n"
      ],
      "text/latex": [
       "\\begin{tabular}{r|lll}\n",
       " PANEL & group & AUC\\\\\n",
       "\\hline\n",
       "\t 1         & -1        & 0.8027115\\\\\n",
       "\\end{tabular}\n"
      ],
      "text/markdown": [
       "\n",
       "PANEL | group | AUC | \n",
       "|---|\n",
       "| 1         | -1        | 0.8027115 | \n",
       "\n",
       "\n"
      ],
      "text/plain": [
       "  PANEL group AUC      \n",
       "1 1     -1    0.8027115"
      ]
     },
     "metadata": {},
     "output_type": "display_data"
    },
    {
     "data": {
      "image/png": "[encoded data removed]",
      "text/plain": [
       "plot without title"
      ]
     },
     "metadata": {},
     "output_type": "display_data"
    }
   ],
   "source": [
    "#Roc curve 2\n",
    "rocplot2 = ggplot(test_data_model02, aes(d = GoodRisk, m = pred)) + \n",
    "    geom_roc()\n",
    "rocplot2\n",
    "calc_auc(rocplot2)"
   ]
  },
  {
   "cell_type": "code",
   "execution_count": 47,
   "metadata": {},
   "outputs": [
    {
     "name": "stderr",
     "output_type": "stream",
     "text": [
      "Warning message in verify_d(data$d):\n",
      "\"D not labeled 0/1, assuming FALSE = 0 and TRUE = 1!\""
     ]
    },
    {
     "data": {},
     "metadata": {},
     "output_type": "display_data"
    },
    {
     "name": "stderr",
     "output_type": "stream",
     "text": [
      "Warning message in verify_d(data$d):\n",
      "\"D not labeled 0/1, assuming FALSE = 0 and TRUE = 1!\""
     ]
    },
    {
     "data": {
      "text/html": [
       "<table>\n",
       "<thead><tr><th scope=col>PANEL</th><th scope=col>group</th><th scope=col>AUC</th></tr></thead>\n",
       "<tbody>\n",
       "\t<tr><td>1        </td><td>-1       </td><td>0.8167368</td></tr>\n",
       "</tbody>\n",
       "</table>\n"
      ],
      "text/latex": [
       "\\begin{tabular}{r|lll}\n",
       " PANEL & group & AUC\\\\\n",
       "\\hline\n",
       "\t 1         & -1        & 0.8167368\\\\\n",
       "\\end{tabular}\n"
      ],
      "text/markdown": [
       "\n",
       "PANEL | group | AUC | \n",
       "|---|\n",
       "| 1         | -1        | 0.8167368 | \n",
       "\n",
       "\n"
      ],
      "text/plain": [
       "  PANEL group AUC      \n",
       "1 1     -1    0.8167368"
      ]
     },
     "metadata": {},
     "output_type": "display_data"
    },
    {
     "data": {
      "image/png": "[encoded data removed]",
      "text/plain": [
       "plot without title"
      ]
     },
     "metadata": {},
     "output_type": "display_data"
    }
   ],
   "source": [
    "#Roc curve 2\n",
    "rocplot3 = ggplot(test_data_model03, aes(d = GoodRisk, m = pred)) + \n",
    "    geom_roc()\n",
    "rocplot3\n",
    "calc_auc(rocplot3)"
   ]
  },
  {
   "cell_type": "code",
   "execution_count": 48,
   "metadata": {},
   "outputs": [],
   "source": [
    "# transformed prediction column between 0 and 1 to pick a threshhold between 0 and 1\n",
    "test_data_table1 = test_data_model01 %>% mutate(logit_pred1 = 1/(1+exp(-(test_data_model01$pred))))\n",
    "test_data_table2 = test_data_model02 %>% mutate(logit_pred2 = 1/(1+exp(-(test_data_model02$pred))))\n",
    "test_data_table3 = test_data_model03 %>% mutate(logit_pred3 = 1/(1+exp(-(test_data_model03$pred))))"
   ]
  },
  {
   "cell_type": "code",
   "execution_count": 49,
   "metadata": {},
   "outputs": [],
   "source": [
    "# Calculate recall precision based on threshold that we pick we decided to use our model 3. \n",
    "# Created a cost column for model 3\n",
    "\n",
    "\n",
    "#Assign cost\n",
    "predictionDecision = test_data_table3$logit_pred3 < .5\n",
    "#head(predictionDecision)\n",
    "actualDecision = test_data_table3$GoodRisk\n",
    "\n",
    "TP = predictionDecision & actualDecision\n",
    "#summary(TP)\n",
    "FN = !predictionDecision & actualDecision\n",
    "#summary(FN)\n",
    "TN= !predictionDecision & !actualDecision\n",
    "#summary(TN)\n",
    "FP = predictionDecision & !actualDecision\n",
    "#summary(FP)\n",
    "\n",
    "#create cost column\n",
    "test_data_table3 = test_data_table3 %>% mutate(cost = \n",
    "                    ifelse(predictionDecision & !actualDecision, 5, \n",
    "                    ifelse(!predictionDecision & actualDecision,1, 0)))\n",
    "\n",
    "# test_data_table1"
   ]
  },
  {
   "cell_type": "code",
   "execution_count": 50,
   "metadata": {},
   "outputs": [
    {
     "name": "stdout",
     "output_type": "stream",
     "text": [
      "[1] \"sum of cost\"\n"
     ]
    },
    {
     "data": {
      "text/html": [
       "138"
      ],
      "text/latex": [
       "138"
      ],
      "text/markdown": [
       "138"
      ],
      "text/plain": [
       "[1] 138"
      ]
     },
     "metadata": {},
     "output_type": "display_data"
    },
    {
     "name": "stdout",
     "output_type": "stream",
     "text": [
      "[1] \"sum of true outcome\"\n"
     ]
    },
    {
     "data": {
      "text/html": [
       "21"
      ],
      "text/latex": [
       "21"
      ],
      "text/markdown": [
       "21"
      ],
      "text/plain": [
       "[1] 21"
      ]
     },
     "metadata": {},
     "output_type": "display_data"
    },
    {
     "name": "stdout",
     "output_type": "stream",
     "text": [
      "[1] \"precision\"\n"
     ]
    },
    {
     "data": {
      "text/html": [
       "0.285714285714286"
      ],
      "text/latex": [
       "0.285714285714286"
      ],
      "text/markdown": [
       "0.285714285714286"
      ],
      "text/plain": [
       "[1] 0.2857143"
      ]
     },
     "metadata": {},
     "output_type": "display_data"
    },
    {
     "name": "stdout",
     "output_type": "stream",
     "text": [
      "[1] \"recall\"\n"
     ]
    },
    {
     "data": {
      "text/html": [
       "0.0869565217391304"
      ],
      "text/latex": [
       "0.0869565217391304"
      ],
      "text/markdown": [
       "0.0869565217391304"
      ],
      "text/plain": [
       "[1] 0.08695652"
      ]
     },
     "metadata": {},
     "output_type": "display_data"
    }
   ],
   "source": [
    "\n",
    "print(\"sum of cost\")\n",
    "sum(test_data_table3$cost)\n",
    "print(\"sum of true outcome\")\n",
    "sum(predictionDecision)\n",
    "\n",
    "print(\"precision\")\n",
    "precision = sum(TP)/(sum(TP)+sum(FP))\n",
    "precision\n",
    "print(\"recall\")\n",
    "recall = sum(TP)/(sum(TP)+sum(FN))\n",
    "recall"
   ]
  },
  {
   "cell_type": "code",
   "execution_count": 51,
   "metadata": {
    "scrolled": true
   },
   "outputs": [
    {
     "name": "stdout",
     "output_type": "stream",
     "text": [
      "[1] \"sum of cost\"\n"
     ]
    },
    {
     "data": {
      "text/html": [
       "138"
      ],
      "text/latex": [
       "138"
      ],
      "text/markdown": [
       "138"
      ],
      "text/plain": [
       "[1] 138"
      ]
     },
     "metadata": {},
     "output_type": "display_data"
    },
    {
     "name": "stdout",
     "output_type": "stream",
     "text": [
      "[1] \"sum of true outcome\"\n"
     ]
    },
    {
     "data": {
      "text/html": [
       "57"
      ],
      "text/latex": [
       "57"
      ],
      "text/markdown": [
       "57"
      ],
      "text/plain": [
       "[1] 57"
      ]
     },
     "metadata": {},
     "output_type": "display_data"
    },
    {
     "name": "stdout",
     "output_type": "stream",
     "text": [
      "[1] \"precision\"\n"
     ]
    },
    {
     "data": {
      "text/html": [
       "0.526315789473684"
      ],
      "text/latex": [
       "0.526315789473684"
      ],
      "text/markdown": [
       "0.526315789473684"
      ],
      "text/plain": [
       "[1] 0.5263158"
      ]
     },
     "metadata": {},
     "output_type": "display_data"
    },
    {
     "name": "stdout",
     "output_type": "stream",
     "text": [
      "[1] \"recall\"\n"
     ]
    },
    {
     "data": {
      "text/html": [
       "0.434782608695652"
      ],
      "text/latex": [
       "0.434782608695652"
      ],
      "text/markdown": [
       "0.434782608695652"
      ],
      "text/plain": [
       "[1] 0.4347826"
      ]
     },
     "metadata": {},
     "output_type": "display_data"
    }
   ],
   "source": [
    "# Threshold of .8 using our 3rd mode. Shows our precision and recall.\n",
    "\n",
    "# Cost, precision, recall from second threshhold\n",
    "predictionDecision3 = test_data_table3$logit_pred3 < .8\n",
    "actualDecision3 = test_data_table3$GoodRisk\n",
    "TP3 = predictionDecision3 & actualDecision3\n",
    "#summary(TP3)\n",
    "FN3 = !predictionDecision3 & actualDecision3\n",
    "#summary(FN3)\n",
    "TN3 = !predictionDecision3 & !actualDecision3\n",
    "#summary(TN3)\n",
    "FP3 = predictionDecision3 & !actualDecision3\n",
    "#summary(FP3)\n",
    "\n",
    "print(\"sum of cost\")\n",
    "sum(test_data_table3$cost)\n",
    "print(\"sum of true outcome\")\n",
    "sum(predictionDecision3)\n",
    "\n",
    "print(\"precision\")\n",
    "precision3 = sum(TP3)/(sum(TP3)+sum(FP3))\n",
    "precision3\n",
    "print(\"recall\")\n",
    "recall3 = sum(TP3)/(sum(TP3)+sum(FN3))\n",
    "recall3"
   ]
  },
  {
   "cell_type": "code",
   "execution_count": 52,
   "metadata": {},
   "outputs": [
    {
     "name": "stdout",
     "output_type": "stream",
     "text": [
      "[1] \"sum of cost\"\n"
     ]
    },
    {
     "data": {
      "text/html": [
       "138"
      ],
      "text/latex": [
       "138"
      ],
      "text/markdown": [
       "138"
      ],
      "text/plain": [
       "[1] 138"
      ]
     },
     "metadata": {},
     "output_type": "display_data"
    },
    {
     "name": "stdout",
     "output_type": "stream",
     "text": [
      "[1] \"sum of true outcome\"\n"
     ]
    },
    {
     "data": {
      "text/html": [
       "9"
      ],
      "text/latex": [
       "9"
      ],
      "text/markdown": [
       "9"
      ],
      "text/plain": [
       "[1] 9"
      ]
     },
     "metadata": {},
     "output_type": "display_data"
    },
    {
     "name": "stdout",
     "output_type": "stream",
     "text": [
      "[1] \"precision\"\n"
     ]
    },
    {
     "data": {
      "text/html": [
       "0.111111111111111"
      ],
      "text/latex": [
       "0.111111111111111"
      ],
      "text/markdown": [
       "0.111111111111111"
      ],
      "text/plain": [
       "[1] 0.1111111"
      ]
     },
     "metadata": {},
     "output_type": "display_data"
    },
    {
     "name": "stdout",
     "output_type": "stream",
     "text": [
      "[1] \"recall\"\n"
     ]
    },
    {
     "data": {
      "text/html": [
       "0.0144927536231884"
      ],
      "text/latex": [
       "0.0144927536231884"
      ],
      "text/markdown": [
       "0.0144927536231884"
      ],
      "text/plain": [
       "[1] 0.01449275"
      ]
     },
     "metadata": {},
     "output_type": "display_data"
    }
   ],
   "source": [
    "# Threshold of .35. Calculates precision and recall\n",
    "\n",
    "# Cost, precision, recall from third threshhold\n",
    "predictionDecision2 = test_data_table3$logit_pred3 < .35\n",
    "actualDecision2 = test_data_table3$GoodRisk\n",
    "\n",
    "TP2 = predictionDecision2 & actualDecision2\n",
    "#summary(TP2)\n",
    "FN2 = !predictionDecision2 & actualDecision2\n",
    "#summary(FN2)\n",
    "TN2 = !predictionDecision2 & !actualDecision2\n",
    "#summary(TN2)\n",
    "FP2 = predictionDecision2 & !actualDecision2\n",
    "#summary(FP2)\n",
    "\n",
    "print(\"sum of cost\")\n",
    "sum(test_data_table3$cost)\n",
    "print(\"sum of true outcome\")\n",
    "sum(predictionDecision2)\n",
    "\n",
    "print(\"precision\")\n",
    "precision2 = sum(TP2)/(sum(TP2)+sum(FP2))\n",
    "precision2\n",
    "print(\"recall\")\n",
    "recall2 = sum(TP2)/(sum(TP2)+sum(FN2))\n",
    "recall2"
   ]
  },
  {
   "cell_type": "markdown",
   "metadata": {},
   "source": [
    "Precision and recall numbers seem to be all over the place threshold picking a higher threshold seemed to have the best precision recall factor."
   ]
  },
  {
   "cell_type": "markdown",
   "metadata": {},
   "source": [
    "## 4. Evaluate whether the credit model results in unwanted discrimination\n",
    "Discrimination is an important consideration in credit decisions. Many groups have been or still are subject to unjust discrimination; in the U.S., women and racial minorities have historically been denied credit when a others with a similar economic condition would receive credit. Credit scoring can improve this situation, and indeed has improved the ability of racial minorities to obtain credit in the United States. But this is not automatic — we must test our models for discrimination.\n",
    "\n",
    "For our purposes, we will consider 2 groups of borrowsers as at-risk for discrimination:\n",
    "* Non-single women (as opposed to men)\n",
    "* Foreign workers"
   ]
  },
  {
   "cell_type": "markdown",
   "metadata": {
    "collapsed": true
   },
   "source": [
    "## Direct Discrimination\n",
    "<p>\n",
    "Direct discrimination in the data is present of how the data was collected. Most of the data was foreign workers applying, and when talking about women it did not include single women, it only included women that divorced/married/separated. Our models both included foreign workers and women. When looking if someone gets approved for a loan or not the fact is if they are a foreign worker or a woman it should not matter, what should matter is that you are going to repay the loan. What if we make this decision making automated we do not want want to include these factors in our model. Below is the model without those including sex and foreign worker from the model we decided to go with.\n",
    "</p>"
   ]
  },
  {
   "cell_type": "code",
   "execution_count": 53,
   "metadata": {},
   "outputs": [
    {
     "data": {
      "text/plain": [
       "\n",
       "Call:\n",
       "glm(formula = GoodRisk ~ Current_balance + Credit_history + Purpose + \n",
       "    Credit_amount + Savings_account_bonds + Present_employment_since + \n",
       "    income_debt_ratio + Other_debtors + Present_residence_since + \n",
       "    Property + Other_installment_plans + Housing + Number_credits_at_this_bank + \n",
       "    Job + logit_duration, family = binomial(), data = train_data)\n",
       "\n",
       "Deviance Residuals: \n",
       "    Min       1Q   Median       3Q      Max  \n",
       "-2.6922  -0.7713   0.4019   0.7071   2.2958  \n",
       "\n",
       "Coefficients:\n",
       "                                                              Estimate\n",
       "(Intercept)                                                  2.453e+00\n",
       "Current_balance0 DM                                         -2.535e-01\n",
       "Current_balance200 DM or more                                9.147e-01\n",
       "Current_balanceno checking account                           1.393e+00\n",
       "Credit_historycritical/credits at other banks                1.818e+00\n",
       "Credit_historydelay in paying off in the past                1.341e+00\n",
       "Credit_historyexisting credits paid back duly till now       9.805e-01\n",
       "Credit_historyno credits taken/all credits paid back duly    5.734e-01\n",
       "Purposecar(new)                                             -4.529e-01\n",
       "Purposecar(used)                                             1.350e+00\n",
       "Purposedomestic appliances                                  -1.749e-01\n",
       "Purposeeducation                                            -7.329e-01\n",
       "Purposefurniture/equipment                                   1.882e-01\n",
       "Purposeothers                                                1.448e+00\n",
       "Purposeradio/television                                      3.187e-01\n",
       "Purposerepairs                                              -6.200e-01\n",
       "Purposeretraining                                            1.289e+00\n",
       "Credit_amount                                               -8.453e-05\n",
       "Savings_account_bonds.L                                      6.319e-01\n",
       "Savings_account_bonds.Q                                     -2.713e-01\n",
       "Savings_account_bonds.C                                      1.610e-01\n",
       "Savings_account_bonds^4                                      5.429e-01\n",
       "Present_employment_since1 <= 4 years                         1.399e-01\n",
       "Present_employment_since4 <= 7 years                         9.530e-01\n",
       "Present_employment_since7 or more years                      2.646e-01\n",
       "Present_employment_sinceunemployed                           3.619e-02\n",
       "income_debt_ratio                                           -2.231e-01\n",
       "Other_debtorsguarantor                                       1.130e+00\n",
       "Other_debtorsnone                                            2.362e-01\n",
       "Present_residence_since                                      2.196e-02\n",
       "Propertyif not A121/A122 : car or other, not in attribute 6 -3.932e-02\n",
       "Propertyreal estate                                          2.220e-01\n",
       "Propertyunknown / no property                               -3.392e-01\n",
       "Other_installment_plansnone                                  4.612e-01\n",
       "Other_installment_plansstores                                9.443e-02\n",
       "Housingown                                                  -1.839e-01\n",
       "Housingrent                                                 -6.732e-01\n",
       "Number_credits_at_this_bank                                 -2.285e-01\n",
       "Jobskilled employee / official                              -1.145e-01\n",
       "Jobunemployed/ unskilled  - non-resident                     3.293e-01\n",
       "Jobunskilled - resident                                     -6.959e-03\n",
       "logit_duration                                              -7.821e-01\n",
       "                                                            Std. Error z value\n",
       "(Intercept)                                                  1.156e+00   2.122\n",
       "Current_balance0 DM                                          2.246e-01  -1.129\n",
       "Current_balance200 DM or more                                3.998e-01   2.288\n",
       "Current_balanceno checking account                           2.404e-01   5.794\n",
       "Credit_historycritical/credits at other banks                4.566e-01   3.982\n",
       "Credit_historydelay in paying off in the past                4.968e-01   2.700\n",
       "Credit_historyexisting credits paid back duly till now       4.038e-01   2.428\n",
       "Credit_historyno credits taken/all credits paid back duly    5.851e-01   0.980\n",
       "Purposecar(new)                                              3.455e-01  -1.311\n",
       "Purposecar(used)                                             4.731e-01   2.853\n",
       "Purposedomestic appliances                                   8.078e-01  -0.217\n",
       "Purposeeducation                                             4.801e-01  -1.526\n",
       "Purposefurniture/equipment                                   3.639e-01   0.517\n",
       "Purposeothers                                                8.900e-01   1.626\n",
       "Purposeradio/television                                      3.452e-01   0.923\n",
       "Purposerepairs                                               6.308e-01  -0.983\n",
       "Purposeretraining                                            1.228e+00   1.050\n",
       "Credit_amount                                                4.482e-05  -1.886\n",
       "Savings_account_bonds.L                                      2.316e-01   2.729\n",
       "Savings_account_bonds.Q                                      3.318e-01  -0.818\n",
       "Savings_account_bonds.C                                      3.210e-01   0.501\n",
       "Savings_account_bonds^4                                      4.318e-01   1.257\n",
       "Present_employment_since1 <= 4 years                         2.469e-01   0.567\n",
       "Present_employment_since4 <= 7 years                         3.148e-01   3.027\n",
       "Present_employment_since7 or more years                      2.888e-01   0.916\n",
       "Present_employment_sinceunemployed                           4.369e-01   0.083\n",
       "income_debt_ratio                                            9.100e-02  -2.452\n",
       "Other_debtorsguarantor                                       5.954e-01   1.898\n",
       "Other_debtorsnone                                            4.323e-01   0.546\n",
       "Present_residence_since                                      8.754e-02   0.251\n",
       "Propertyif not A121/A122 : car or other, not in attribute 6  2.404e-01  -0.164\n",
       "Propertyreal estate                                          2.649e-01   0.838\n",
       "Propertyunknown / no property                                4.250e-01  -0.798\n",
       "Other_installment_plansnone                                  2.583e-01   1.786\n",
       "Other_installment_plansstores                                4.364e-01   0.216\n",
       "Housingown                                                   4.583e-01  -0.401\n",
       "Housingrent                                                  4.795e-01  -1.404\n",
       "Number_credits_at_this_bank                                  1.959e-01  -1.166\n",
       "Jobskilled employee / official                               2.824e-01  -0.405\n",
       "Jobunemployed/ unskilled  - non-resident                     6.638e-01   0.496\n",
       "Jobunskilled - resident                                      3.405e-01  -0.020\n",
       "logit_duration                                               2.044e-01  -3.827\n",
       "                                                            Pr(>|z|)    \n",
       "(Intercept)                                                  0.03383 *  \n",
       "Current_balance0 DM                                          0.25909    \n",
       "Current_balance200 DM or more                                0.02213 *  \n",
       "Current_balanceno checking account                          6.86e-09 ***\n",
       "Credit_historycritical/credits at other banks               6.83e-05 ***\n",
       "Credit_historydelay in paying off in the past                0.00694 ** \n",
       "Credit_historyexisting credits paid back duly till now       0.01517 *  \n",
       "Credit_historyno credits taken/all credits paid back duly    0.32708    \n",
       "Purposecar(new)                                              0.18991    \n",
       "Purposecar(used)                                             0.00434 ** \n",
       "Purposedomestic appliances                                   0.82856    \n",
       "Purposeeducation                                             0.12692    \n",
       "Purposefurniture/equipment                                   0.60503    \n",
       "Purposeothers                                                0.10385    \n",
       "Purposeradio/television                                      0.35590    \n",
       "Purposerepairs                                               0.32561    \n",
       "Purposeretraining                                            0.29392    \n",
       "Credit_amount                                                0.05931 .  \n",
       "Savings_account_bonds.L                                      0.00636 ** \n",
       "Savings_account_bonds.Q                                      0.41358    \n",
       "Savings_account_bonds.C                                      0.61602    \n",
       "Savings_account_bonds^4                                      0.20864    \n",
       "Present_employment_since1 <= 4 years                         0.57104    \n",
       "Present_employment_since4 <= 7 years                         0.00247 ** \n",
       "Present_employment_since7 or more years                      0.35961    \n",
       "Present_employment_sinceunemployed                           0.93399    \n",
       "income_debt_ratio                                            0.01420 *  \n",
       "Other_debtorsguarantor                                       0.05769 .  \n",
       "Other_debtorsnone                                            0.58484    \n",
       "Present_residence_since                                      0.80196    \n",
       "Propertyif not A121/A122 : car or other, not in attribute 6  0.87009    \n",
       "Propertyreal estate                                          0.40197    \n",
       "Propertyunknown / no property                                0.42476    \n",
       "Other_installment_plansnone                                  0.07414 .  \n",
       "Other_installment_plansstores                                0.82871    \n",
       "Housingown                                                   0.68828    \n",
       "Housingrent                                                  0.16035    \n",
       "Number_credits_at_this_bank                                  0.24357    \n",
       "Jobskilled employee / official                               0.68528    \n",
       "Jobunemployed/ unskilled  - non-resident                     0.61980    \n",
       "Jobunskilled - resident                                      0.98370    \n",
       "logit_duration                                               0.00013 ***\n",
       "---\n",
       "Signif. codes:  0 '***' 0.001 '**' 0.01 '*' 0.05 '.' 0.1 ' ' 1\n",
       "\n",
       "(Dispersion parameter for binomial family taken to be 1)\n",
       "\n",
       "    Null deviance: 1097.86  on 899  degrees of freedom\n",
       "Residual deviance:  826.81  on 858  degrees of freedom\n",
       "AIC: 910.81\n",
       "\n",
       "Number of Fisher Scoring iterations: 5\n"
      ]
     },
     "metadata": {},
     "output_type": "display_data"
    }
   ],
   "source": [
    "# removed Personal_status_sex and foreign_worker features\n",
    "model04 = glm(GoodRisk ~ Current_balance + Credit_history + Purpose +\n",
    "            Credit_amount + Savings_account_bonds + Present_employment_since +\n",
    "            income_debt_ratio + Other_debtors + Present_residence_since +\n",
    "            Property +  Other_installment_plans + Housing + Number_credits_at_this_bank +\n",
    "            Job + logit_duration,\n",
    "            train_data, family=binomial())\n",
    "summary(model04)"
   ]
  },
  {
   "cell_type": "markdown",
   "metadata": {},
   "source": [
    "Comparing AIC the model including sex and foreign workers is 905.04 where the AIC of the model not including those attributes is 910.91."
   ]
  },
  {
   "cell_type": "markdown",
   "metadata": {},
   "source": [
    "## Indirect Discrimination\n",
    "\n",
    "The second kind of discrimination is indirect: where the protected characteristic is not directly used, but correlates with other features that are used. In the United States, some forms of indirect discrimination are illegal.\n",
    "\n",
    "Indirect discrimination can be tricky to detect. One useful step is to look for correlations between the protected characteristic and the features used in your model. <B>Generate plots that show these relationships.</B>\n",
    "\n",
    "Another useful way to detect indirect discrimination is to generate a second model that attempts to predict the main model’s output using the protected characteristic(s). You can train a logistic regression that predicts the main model’s decisions, or you can train a linear regression that predicts the main model’s scores. If you can effectively predict a significant portion of the main model’s results, that is evidence that the model may be indirectly discriminatory. You can also attempt to predict the main model’s errors using the protected characteristics.\n",
    "\n",
    "Try all three of these methods.\n",
    "\n",
    "Does it look like your model is indirectly discriminatory against members of our protected classes? Why or why not?\n",
    "\n",
    "Does changing the cost weights (from the evaluation section), for example decreasing the cost of a false positive, result in a more or less discriminatory model?"
   ]
  },
  {
   "cell_type": "markdown",
   "metadata": {
    "collapsed": true
   },
   "source": [
    "## Summary of Indirect discrimination\n",
    "To be honest we put a lot of time into this notbook we werent sure how to exactly do the said above to prove indirect discrimnation. We know that this data set is not the best because of how some of it is categorized but we decided to leave most of describing that in the limitations section.\n",
    "\n"
   ]
  },
  {
   "cell_type": "markdown",
   "metadata": {},
   "source": [
    "## 5. Reflect on the limitations of the provided data"
   ]
  },
  {
   "cell_type": "markdown",
   "metadata": {},
   "source": [
    "## Limitations\n",
    "\n",
    "As we have discussed, our data is always limited, possibly in important ways. Write 2–5 paragraphs about the limitations of the data, supported with plots if you think they would be helpful, and the impact these limitations have on your model and evaluation. Some points to consider:\n",
    "\n",
    "* Is the ground truth accurate? What does that mean for modeling?\n",
    "\n",
    "* If the data arises from an historically-discriminatory process, what does that mean for the model? What does that mean for our attempts to measure discrimination?\n",
    "\n",
    "* What are some limitations of our attempts to detect unjust, illegal, or unwanted discrimination?"
   ]
  },
  {
   "cell_type": "markdown",
   "metadata": {
    "collapsed": true
   },
   "source": [
    "## The ground truth\n",
    "What we are trying to get at in the data is if the characteristics of the applicant if they will repay the loan or not. We can gain inference on the people that are applying and based on the Class (outcome) if they got approved or not. The attributes given seem to relate to the Class attribute but on thing that is missing is if they do get approved did they repay it or not. This could give us better insight of the people that did get approved would they actually repay their loan. \n",
    "\n",
    "## Data arising from discriminatory process\n",
    "Since this data is from Germany it is not like the culture we have in America. Some of the data is out of place, such as including single women catagory in sex. Discrimination in this data is apparent through how it was collected, proving it is another story. Since most of the data collected was saying that foreign workers were the ones applying and a majority of them were getting approved. So what does the data say about the non foreign workers? Since we don't have that much data on the non foreign workers if say we had to make a decision if a non foreign worker applied we might not have enough data on that category to give a good decision if he should get a loan or not.\n",
    "\n",
    "Also since mostly men are applying for loans be it that they are single, married or divorced, it does not reflect the women that are married to these men. Was the loan approved because the total assets of the marriage was included or was it because the woman/man's credit was better. "
   ]
  },
  {
   "cell_type": "code",
   "execution_count": 54,
   "metadata": {},
   "outputs": [],
   "source": [
    "# 1) look for direct discrimination (is it in your model, but has no effect)\n",
    "# 2) remove direct discrimination\n",
    "# 3) test for indirect discrimination"
   ]
  },
  {
   "cell_type": "code",
   "execution_count": 55,
   "metadata": {},
   "outputs": [],
   "source": [
    "# Testing for indirect discrimination:\n",
    "#    does decision pocess depend on protected charactistic\n",
    "#    or influenced on protected characteristic\n",
    "#    data -> model -> decisions\n",
    "#    \n",
    "#    predict model output w/protected class\n",
    "\n",
    "# Signal and the noise: Nate Silver\n",
    "\n",
    "# direct/indirect discriminaiton: Cynthia Dwork"
   ]
  }
 ],
 "metadata": {
  "kernelspec": {
   "display_name": "R",
   "language": "R",
   "name": "ir"
  },
  "language_info": {
   "codemirror_mode": "r",
   "file_extension": ".r",
   "mimetype": "text/x-r-source",
   "name": "R",
   "pygments_lexer": "r",
   "version": "3.4.2"
  }
 },
 "nbformat": 4,
 "nbformat_minor": 2
}
