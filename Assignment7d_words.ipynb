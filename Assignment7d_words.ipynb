{
 "cells": [
  {
   "cell_type": "markdown",
   "metadata": {},
   "source": [
    "# Part 2 (A7) - D: Product Description Analysis\n",
    "\n",
    "Taso Kinnas\n",
    "\n",
    "Carry out your proposed research! At the end of this, submit:\n",
    "\n",
    "* A 5–10 page report with your research questions and results. This should be organized to communicate, without attention to the order in which things need to be run.\n",
    "\n",
    "* An HTML export of your Jupyter notebook that contains the actual analysis. All figures from your report should appear in this document, in their appropriate computational context.\n",
    "\n",
    "Notes:  \n",
    "consider k-means for clustering...\n",
    "Pearson correlation\n"
   ]
  },
  {
   "cell_type": "markdown",
   "metadata": {},
   "source": [
    " look at\n",
    " - splitting out multiple notebooks\n",
    " - swap memory (op sys takes care of)\n",
    " - write csv and save() and load() for data management with R\n",
    "\n",
    " consider consolidatung categories(5-10)\n",
    " contour plot (discount, length of time, consider looking at percrnt change in price), ggplot (see Dr. E example on rat tumor)\n",
    " heat map"
   ]
  },
  {
   "cell_type": "code",
   "execution_count": 1,
   "metadata": {},
   "outputs": [
    {
     "name": "stderr",
     "output_type": "stream",
     "text": [
      "Loading tidyverse: ggplot2\n",
      "Loading tidyverse: tibble\n",
      "Loading tidyverse: tidyr\n",
      "Loading tidyverse: readr\n",
      "Loading tidyverse: purrr\n",
      "Loading tidyverse: dplyr\n",
      "Conflicts with tidy packages ---------------------------------------------------\n",
      "filter(): dplyr, stats\n",
      "lag():    dplyr, stats\n"
     ]
    }
   ],
   "source": [
    "library(tidyverse) # general tidyverse functions\n",
    "library(modelr) # for calculating results from models\n",
    "library(tidytext) # for tokenizing words\n",
    "library(stringr) # tidy texting helpers\n",
    "library(tidyr)"
   ]
  },
  {
   "cell_type": "code",
   "execution_count": 2,
   "metadata": {},
   "outputs": [],
   "source": [
    "# sets plot height to 3.5 inches\n",
    "options(repr.plot.height=3.5)"
   ]
  },
  {
   "cell_type": "code",
   "execution_count": 3,
   "metadata": {},
   "outputs": [],
   "source": [
    "# function to export plots\n",
    "make.plot = function(name, plot_expr, type=\"pdf\", width, height, ...) {\n",
    "    dir.create(\"data/wholefoods/images\", recursive = TRUE, showWarnings = FALSE)\n",
    "    if (identical(type, \"pdf\")) {\n",
    "        pdf(sprintf(\"data/wholefoods/images/%s.pdf\", name),\n",
    "            width=width, height=height, ...)\n",
    "    } else if (identical(type, \"png\")) {\n",
    "        png(sprintf(\"data/wholefoods/images/%s.png\", name),\n",
    "            width=width, height=height, units=\"in\", res=300, ...)\n",
    "    } else {\n",
    "        stop(\"invalid plot type\")\n",
    "    }\n",
    "    print(plot_expr)\n",
    "    dev.off()\n",
    "    plot_expr\n",
    "}"
   ]
  },
  {
   "cell_type": "code",
   "execution_count": 4,
   "metadata": {},
   "outputs": [
    {
     "data": {
      "text/plain": [
       "cols(\n",
       "  Region = col_character(),\n",
       "  CustNum = col_character(),\n",
       "  Store = col_character(),\n",
       "  Address = col_character(),\n",
       "  City = col_character(),\n",
       "  StateAbr = col_character(),\n",
       "  zip = col_character(),\n",
       "  Date = col_date(format = \"\"),\n",
       "  Sales = col_double(),\n",
       "  SalesLy = col_double(),\n",
       "  Units = col_double(),\n",
       "  UnitsLy = col_double(),\n",
       "  Brand = col_character(),\n",
       "  Category = col_character(),\n",
       "  UPC = col_character(),\n",
       "  Description = col_character()\n",
       ")"
      ]
     },
     "metadata": {},
     "output_type": "display_data"
    },
    {
     "data": {
      "text/plain": [
       "cols(\n",
       "  Family_01 = col_character(),\n",
       "  Category_02 = col_character(),\n",
       "  Subcategory_03 = col_character(),\n",
       "  Class_04 = col_character(),\n",
       "  UPC = col_character(),\n",
       "  Product = col_character()\n",
       ")"
      ]
     },
     "metadata": {},
     "output_type": "display_data"
    }
   ],
   "source": [
    "#wfm = read_tsv('data/wholefoods/wfm_final.tsv', col_types=\"cccccccDddddcccc\")\n",
    "# filtered on region 7 (pacific northwest)\n",
    "wfm = read_tsv('data/wholefoods/wfm_r7.zip', col_types=\"cccccccDddddcccc\")\n",
    "#Store 10564 appears to be a 'test' store of some sort.\n",
    "wfm = wfm %>%\n",
    "    filter(CustNum != 10564)\n",
    "cats = read_csv('data/wholefoods/categories.csv', col_types=\"cccccc\")\n",
    "\n",
    "# load stop words for word parsing\n",
    "data(stop_words)\n",
    "\n",
    "spec(wfm)\n",
    "spec(cats)"
   ]
  },
  {
   "cell_type": "markdown",
   "metadata": {},
   "source": [
    "## 3. Data Summary:"
   ]
  },
  {
   "cell_type": "code",
   "execution_count": 5,
   "metadata": {},
   "outputs": [
    {
     "data": {
      "text/plain": [
       "    Region            CustNum             Store             Address         \n",
       " Length:987107      Length:987107      Length:987107      Length:987107     \n",
       " Class :character   Class :character   Class :character   Class :character  \n",
       " Mode  :character   Mode  :character   Mode  :character   Mode  :character  \n",
       "                                                                            \n",
       "                                                                            \n",
       "                                                                            \n",
       "     City             StateAbr             zip                 Date           \n",
       " Length:987107      Length:987107      Length:987107      Min.   :2016-01-04  \n",
       " Class :character   Class :character   Class :character   1st Qu.:2016-04-04  \n",
       " Mode  :character   Mode  :character   Mode  :character   Median :2016-07-04  \n",
       "                                                          Mean   :2016-07-03  \n",
       "                                                          3rd Qu.:2016-10-03  \n",
       "                                                          Max.   :2016-12-26  \n",
       "     Sales            SalesLy            Units            UnitsLy       \n",
       " Min.   :-141.58   Min.   :-143.94   Min.   :-12.000   Min.   :-16.000  \n",
       " 1st Qu.:   2.69   1st Qu.:   0.00   1st Qu.:  1.000   1st Qu.:  0.000  \n",
       " Median :   9.89   Median :   8.98   Median :  2.000   Median :  2.000  \n",
       " Mean   :  17.05   Mean   :  16.62   Mean   :  4.398   Mean   :  4.221  \n",
       " 3rd Qu.:  21.15   3rd Qu.:  20.70   3rd Qu.:  5.000   3rd Qu.:  4.000  \n",
       " Max.   :1049.10   Max.   :1087.48   Max.   :578.000   Max.   :747.000  \n",
       "    Brand             Category             UPC            Description       \n",
       " Length:987107      Length:987107      Length:987107      Length:987107     \n",
       " Class :character   Class :character   Class :character   Class :character  \n",
       " Mode  :character   Mode  :character   Mode  :character   Mode  :character  \n",
       "                                                                            \n",
       "                                                                            \n",
       "                                                                            "
      ]
     },
     "metadata": {},
     "output_type": "display_data"
    }
   ],
   "source": [
    "summary(wfm)"
   ]
  },
  {
   "cell_type": "code",
   "execution_count": 6,
   "metadata": {},
   "outputs": [
    {
     "name": "stderr",
     "output_type": "stream",
     "text": [
      "Joining, by = \"UPC\"\n"
     ]
    }
   ],
   "source": [
    "wfm_cats = wfm %>%\n",
    "    left_join(cats)"
   ]
  },
  {
   "cell_type": "code",
   "execution_count": 7,
   "metadata": {},
   "outputs": [],
   "source": [
    "wfm_cats = wfm_cats %>%\n",
    "    filter(Category_02 != \"NA\")"
   ]
  },
  {
   "cell_type": "code",
   "execution_count": 8,
   "metadata": {},
   "outputs": [
    {
     "data": {
      "text/html": [
       "<table>\n",
       "<thead><tr><th scope=col>Family_01</th><th scope=col>count</th></tr></thead>\n",
       "<tbody>\n",
       "\t<tr><td>Grocery           </td><td>28                </td></tr>\n",
       "\t<tr><td>Grocery Dairy     </td><td> 9                </td></tr>\n",
       "\t<tr><td>Grocery Frozen    </td><td> 9                </td></tr>\n",
       "\t<tr><td>Body Care         </td><td> 6                </td></tr>\n",
       "\t<tr><td>Grocery Bulk      </td><td> 6                </td></tr>\n",
       "\t<tr><td>Supplements       </td><td> 6                </td></tr>\n",
       "\t<tr><td>Beer              </td><td> 2                </td></tr>\n",
       "\t<tr><td>Unidentified Items</td><td> 2                </td></tr>\n",
       "\t<tr><td>Bakery            </td><td> 1                </td></tr>\n",
       "\t<tr><td>Coffee            </td><td> 1                </td></tr>\n",
       "\t<tr><td>Lifestyle         </td><td> 1                </td></tr>\n",
       "\t<tr><td>Specialty Cheese  </td><td> 1                </td></tr>\n",
       "</tbody>\n",
       "</table>\n"
      ],
      "text/latex": [
       "\\begin{tabular}{r|ll}\n",
       " Family\\_01 & count\\\\\n",
       "\\hline\n",
       "\t Grocery            & 28                \\\\\n",
       "\t Grocery Dairy      &  9                \\\\\n",
       "\t Grocery Frozen     &  9                \\\\\n",
       "\t Body Care          &  6                \\\\\n",
       "\t Grocery Bulk       &  6                \\\\\n",
       "\t Supplements        &  6                \\\\\n",
       "\t Beer               &  2                \\\\\n",
       "\t Unidentified Items &  2                \\\\\n",
       "\t Bakery             &  1                \\\\\n",
       "\t Coffee             &  1                \\\\\n",
       "\t Lifestyle          &  1                \\\\\n",
       "\t Specialty Cheese   &  1                \\\\\n",
       "\\end{tabular}\n"
      ],
      "text/markdown": [
       "\n",
       "Family_01 | count | \n",
       "|---|---|---|---|---|---|---|---|---|---|---|---|\n",
       "| Grocery            | 28                 | \n",
       "| Grocery Dairy      |  9                 | \n",
       "| Grocery Frozen     |  9                 | \n",
       "| Body Care          |  6                 | \n",
       "| Grocery Bulk       |  6                 | \n",
       "| Supplements        |  6                 | \n",
       "| Beer               |  2                 | \n",
       "| Unidentified Items |  2                 | \n",
       "| Bakery             |  1                 | \n",
       "| Coffee             |  1                 | \n",
       "| Lifestyle          |  1                 | \n",
       "| Specialty Cheese   |  1                 | \n",
       "\n",
       "\n"
      ],
      "text/plain": [
       "   Family_01          count\n",
       "1  Grocery            28   \n",
       "2  Grocery Dairy       9   \n",
       "3  Grocery Frozen      9   \n",
       "4  Body Care           6   \n",
       "5  Grocery Bulk        6   \n",
       "6  Supplements         6   \n",
       "7  Beer                2   \n",
       "8  Unidentified Items  2   \n",
       "9  Bakery              1   \n",
       "10 Coffee              1   \n",
       "11 Lifestyle           1   \n",
       "12 Specialty Cheese    1   "
      ]
     },
     "metadata": {},
     "output_type": "display_data"
    }
   ],
   "source": [
    "brandcat = wfm_cats %>%\n",
    "    group_by(Family_01) %>%\n",
    "    distinct(Brand) %>%\n",
    "    select(-Brand) %>%\n",
    "    summarize(count=n()) %>%\n",
    "    arrange(-count) \n",
    "brandcat"
   ]
  },
  {
   "cell_type": "code",
   "execution_count": 9,
   "metadata": {},
   "outputs": [
    {
     "data": {
      "text/html": [
       "<table>\n",
       "<thead><tr><th scope=col>Category_02</th><th scope=col>salesTY</th><th scope=col>unitsTY</th><th scope=col>salesLY</th><th scope=col>unitsLY</th><th scope=col>CpU_TY</th><th scope=col>CpU_LY</th><th scope=col>c_rank</th></tr></thead>\n",
       "<tbody>\n",
       "\t<tr><td>Salty Snacks                     </td><td>1285221                          </td><td>396416.0                         </td><td>1009596.0                        </td><td>319369                           </td><td>3.242102                         </td><td>3.161221                         </td><td>1                                </td></tr>\n",
       "\t<tr><td>Cold Cereal                      </td><td>1283791                          </td><td>269393.0                         </td><td>1239820.6                        </td><td>264213                           </td><td>4.765495                         </td><td>4.692504                         </td><td>2                                </td></tr>\n",
       "\t<tr><td>Refrigerated Functional Beverages</td><td>1244642                          </td><td>334619.0                         </td><td>1105115.6                        </td><td>307158                           </td><td>3.719580                         </td><td>3.597873                         </td><td>3                                </td></tr>\n",
       "\t<tr><td>Beauty                           </td><td>1238967                          </td><td>132684.7                         </td><td>1279125.5                        </td><td>141083                           </td><td>9.337676                         </td><td>9.066478                         </td><td>4                                </td></tr>\n",
       "\t<tr><td>Entrees                          </td><td>1171647                          </td><td>278963.0                         </td><td> 995514.2                        </td><td>238320                           </td><td>4.200009                         </td><td>4.177216                         </td><td>5                                </td></tr>\n",
       "\t<tr><td>Yogurt                           </td><td>1157245                          </td><td>478140.0                         </td><td>1072563.1                        </td><td>441462                           </td><td>2.420305                         </td><td>2.429571                         </td><td>6                                </td></tr>\n",
       "</tbody>\n",
       "</table>\n"
      ],
      "text/latex": [
       "\\begin{tabular}{r|llllllll}\n",
       " Category\\_02 & salesTY & unitsTY & salesLY & unitsLY & CpU\\_TY & CpU\\_LY & c\\_rank\\\\\n",
       "\\hline\n",
       "\t Salty Snacks                      & 1285221                           & 396416.0                          & 1009596.0                         & 319369                            & 3.242102                          & 3.161221                          & 1                                \\\\\n",
       "\t Cold Cereal                       & 1283791                           & 269393.0                          & 1239820.6                         & 264213                            & 4.765495                          & 4.692504                          & 2                                \\\\\n",
       "\t Refrigerated Functional Beverages & 1244642                           & 334619.0                          & 1105115.6                         & 307158                            & 3.719580                          & 3.597873                          & 3                                \\\\\n",
       "\t Beauty                            & 1238967                           & 132684.7                          & 1279125.5                         & 141083                            & 9.337676                          & 9.066478                          & 4                                \\\\\n",
       "\t Entrees                           & 1171647                           & 278963.0                          &  995514.2                         & 238320                            & 4.200009                          & 4.177216                          & 5                                \\\\\n",
       "\t Yogurt                            & 1157245                           & 478140.0                          & 1072563.1                         & 441462                            & 2.420305                          & 2.429571                          & 6                                \\\\\n",
       "\\end{tabular}\n"
      ],
      "text/markdown": [
       "\n",
       "Category_02 | salesTY | unitsTY | salesLY | unitsLY | CpU_TY | CpU_LY | c_rank | \n",
       "|---|---|---|---|---|---|\n",
       "| Salty Snacks                      | 1285221                           | 396416.0                          | 1009596.0                         | 319369                            | 3.242102                          | 3.161221                          | 1                                 | \n",
       "| Cold Cereal                       | 1283791                           | 269393.0                          | 1239820.6                         | 264213                            | 4.765495                          | 4.692504                          | 2                                 | \n",
       "| Refrigerated Functional Beverages | 1244642                           | 334619.0                          | 1105115.6                         | 307158                            | 3.719580                          | 3.597873                          | 3                                 | \n",
       "| Beauty                            | 1238967                           | 132684.7                          | 1279125.5                         | 141083                            | 9.337676                          | 9.066478                          | 4                                 | \n",
       "| Entrees                           | 1171647                           | 278963.0                          |  995514.2                         | 238320                            | 4.200009                          | 4.177216                          | 5                                 | \n",
       "| Yogurt                            | 1157245                           | 478140.0                          | 1072563.1                         | 441462                            | 2.420305                          | 2.429571                          | 6                                 | \n",
       "\n",
       "\n"
      ],
      "text/plain": [
       "  Category_02                       salesTY unitsTY  salesLY   unitsLY CpU_TY  \n",
       "1 Salty Snacks                      1285221 396416.0 1009596.0 319369  3.242102\n",
       "2 Cold Cereal                       1283791 269393.0 1239820.6 264213  4.765495\n",
       "3 Refrigerated Functional Beverages 1244642 334619.0 1105115.6 307158  3.719580\n",
       "4 Beauty                            1238967 132684.7 1279125.5 141083  9.337676\n",
       "5 Entrees                           1171647 278963.0  995514.2 238320  4.200009\n",
       "6 Yogurt                            1157245 478140.0 1072563.1 441462  2.420305\n",
       "  CpU_LY   c_rank\n",
       "1 3.161221 1     \n",
       "2 4.692504 2     \n",
       "3 3.597873 3     \n",
       "4 9.066478 4     \n",
       "5 4.177216 5     \n",
       "6 2.429571 6     "
      ]
     },
     "metadata": {},
     "output_type": "display_data"
    }
   ],
   "source": [
    "wfm_sales_by_category = wfm_cats %>%\n",
    "    group_by(Category_02) %>%\n",
    "    summarize(salesTY=sum(Sales), unitsTY=sum(Units), \n",
    "              salesLY=sum(SalesLy), unitsLY=sum(UnitsLy),\n",
    "              CpU_TY=sum(Sales)/sum(Units), CpU_LY=sum(SalesLy)/sum(UnitsLy)) %>%\n",
    "    arrange(-salesTY) %>%\n",
    "    mutate(c_rank=row_number())\n",
    "head(wfm_sales_by_category)"
   ]
  },
  {
   "cell_type": "code",
   "execution_count": 10,
   "metadata": {},
   "outputs": [
    {
     "data": {
      "text/html": [
       "<table>\n",
       "<thead><tr><th scope=col>Date</th><th scope=col>Category_02</th><th scope=col>Brand</th><th scope=col>WsalesTY</th><th scope=col>WunitsTY</th><th scope=col>WsalesLY</th><th scope=col>WunitsLY</th><th scope=col>WCpU_TY</th><th scope=col>WCpU_LY</th></tr></thead>\n",
       "<tbody>\n",
       "\t<tr><td>2016-01-04                        </td><td>Aromatherapy                      </td><td>EO                                </td><td>  623.79                          </td><td>  51.0                            </td><td>  323.84                          </td><td>  26.00                           </td><td>12.231176                         </td><td>12.455385                         </td></tr>\n",
       "\t<tr><td>2016-01-04                        </td><td>Baking                            </td><td>Bob's Red Mill                    </td><td> 1161.14                          </td><td> 155.2                            </td><td> 1169.91                          </td><td> 198.49                           </td><td> 7.481572                         </td><td> 5.894050                         </td></tr>\n",
       "\t<tr><td>2016-01-04                                              </td><td>Baking Mixes, Ingredients &amp; Flours                  </td><td><span style=white-space:pre-wrap>Bob's Red Mill  </span></td><td>12747.95                                                </td><td>2265.0                                                  </td><td>13160.11                                                </td><td>2340.00                                                 </td><td> 5.628234                                               </td><td> 5.623979                                               </td></tr>\n",
       "\t<tr><td>2016-01-04                                              </td><td>Baking Mixes, Ingredients &amp; Flours                  </td><td><span style=white-space:pre-wrap>Nature's Path   </span></td><td><span style=white-space:pre-wrap>    0.00</span>        </td><td><span style=white-space:pre-wrap>   0.0</span>          </td><td><span style=white-space:pre-wrap>    6.99</span>        </td><td><span style=white-space:pre-wrap>   1.00</span>         </td><td><span style=white-space:pre-wrap>      NaN</span>       </td><td> 6.990000                                               </td></tr>\n",
       "\t<tr><td>2016-01-04                            </td><td>Baking Mixes, Ingredients &amp; Flours</td><td>Pamelas Products                      </td><td> 2262.16                              </td><td> 234.0                                </td><td> 1960.55                              </td><td> 199.00                               </td><td> 9.667350                             </td><td> 9.852010                             </td></tr>\n",
       "\t<tr><td>2016-01-04                        </td><td>Bath and Body                     </td><td>Derma E                           </td><td>  234.79                          </td><td>  21.0                            </td><td>  187.82                          </td><td>  16.00                           </td><td>11.180476                         </td><td>11.738750                         </td></tr>\n",
       "</tbody>\n",
       "</table>\n"
      ],
      "text/latex": [
       "\\begin{tabular}{r|lllllllll}\n",
       " Date & Category\\_02 & Brand & WsalesTY & WunitsTY & WsalesLY & WunitsLY & WCpU\\_TY & WCpU\\_LY\\\\\n",
       "\\hline\n",
       "\t 2016-01-04                         & Aromatherapy                       & EO                                 &   623.79                           &   51.0                             &   323.84                           &   26.00                            & 12.231176                          & 12.455385                         \\\\\n",
       "\t 2016-01-04                         & Baking                             & Bob's Red Mill                     &  1161.14                           &  155.2                             &  1169.91                           &  198.49                            &  7.481572                          &  5.894050                         \\\\\n",
       "\t 2016-01-04                           & Baking Mixes, Ingredients \\& Flours & Bob's Red Mill                       & 12747.95                             & 2265.0                               & 13160.11                             & 2340.00                              &  5.628234                            &  5.623979                           \\\\\n",
       "\t 2016-01-04                           & Baking Mixes, Ingredients \\& Flours & Nature's Path                        &     0.00                             &    0.0                               &     6.99                             &    1.00                              &       NaN                            &  6.990000                           \\\\\n",
       "\t 2016-01-04                           & Baking Mixes, Ingredients \\& Flours & Pamelas Products                     &  2262.16                             &  234.0                               &  1960.55                             &  199.00                              &  9.667350                            &  9.852010                           \\\\\n",
       "\t 2016-01-04                         & Bath and Body                      & Derma E                            &   234.79                           &   21.0                             &   187.82                           &   16.00                            & 11.180476                          & 11.738750                         \\\\\n",
       "\\end{tabular}\n"
      ],
      "text/markdown": [
       "\n",
       "Date | Category_02 | Brand | WsalesTY | WunitsTY | WsalesLY | WunitsLY | WCpU_TY | WCpU_LY | \n",
       "|---|---|---|---|---|---|\n",
       "| 2016-01-04                         | Aromatherapy                       | EO                                 |   623.79                           |   51.0                             |   323.84                           |   26.00                            | 12.231176                          | 12.455385                          | \n",
       "| 2016-01-04                         | Baking                             | Bob's Red Mill                     |  1161.14                           |  155.2                             |  1169.91                           |  198.49                            |  7.481572                          |  5.894050                          | \n",
       "| 2016-01-04                         | Baking Mixes, Ingredients & Flours | Bob's Red Mill                     | 12747.95                           | 2265.0                             | 13160.11                           | 2340.00                            |  5.628234                          |  5.623979                          | \n",
       "| 2016-01-04                         | Baking Mixes, Ingredients & Flours | Nature's Path                      |     0.00                           |    0.0                             |     6.99                           |    1.00                            |       NaN                          |  6.990000                          | \n",
       "| 2016-01-04                         | Baking Mixes, Ingredients & Flours | Pamelas Products                   |  2262.16                           |  234.0                             |  1960.55                           |  199.00                            |  9.667350                          |  9.852010                          | \n",
       "| 2016-01-04                         | Bath and Body                      | Derma E                            |   234.79                           |   21.0                             |   187.82                           |   16.00                            | 11.180476                          | 11.738750                          | \n",
       "\n",
       "\n"
      ],
      "text/plain": [
       "  Date       Category_02                        Brand            WsalesTY\n",
       "1 2016-01-04 Aromatherapy                       EO                 623.79\n",
       "2 2016-01-04 Baking                             Bob's Red Mill    1161.14\n",
       "3 2016-01-04 Baking Mixes, Ingredients & Flours Bob's Red Mill   12747.95\n",
       "4 2016-01-04 Baking Mixes, Ingredients & Flours Nature's Path        0.00\n",
       "5 2016-01-04 Baking Mixes, Ingredients & Flours Pamelas Products  2262.16\n",
       "6 2016-01-04 Bath and Body                      Derma E            234.79\n",
       "  WunitsTY WsalesLY WunitsLY WCpU_TY   WCpU_LY  \n",
       "1   51.0     323.84   26.00  12.231176 12.455385\n",
       "2  155.2    1169.91  198.49   7.481572  5.894050\n",
       "3 2265.0   13160.11 2340.00   5.628234  5.623979\n",
       "4    0.0       6.99    1.00        NaN  6.990000\n",
       "5  234.0    1960.55  199.00   9.667350  9.852010\n",
       "6   21.0     187.82   16.00  11.180476 11.738750"
      ]
     },
     "metadata": {},
     "output_type": "display_data"
    }
   ],
   "source": [
    "wfm_sales_date_category = wfm_cats %>%  \n",
    "    #filter(Family_01 == \"Grocery Dairy\") %>%\n",
    "    group_by(Date, Category_02, Brand) %>%\n",
    "    summarize(WsalesTY=sum(Sales), WunitsTY=sum(Units), \n",
    "              WsalesLY=sum(SalesLy), WunitsLY=sum(UnitsLy),\n",
    "              WCpU_TY=sum(Sales)/sum(Units), WCpU_LY=sum(SalesLy)/sum(UnitsLy))\n",
    "head(wfm_sales_date_category)"
   ]
  },
  {
   "cell_type": "markdown",
   "metadata": {},
   "source": [
    "## 4. Do product/brand names have better sales values/does using certain words increase a product's sales effectiveness?"
   ]
  },
  {
   "cell_type": "markdown",
   "metadata": {},
   "source": [
    "Tokenize words and remove common words"
   ]
  },
  {
   "cell_type": "code",
   "execution_count": 25,
   "metadata": {},
   "outputs": [
    {
     "data": {
      "text/html": [
       "<table>\n",
       "<thead><tr><th scope=col>Category_02</th><th scope=col>UPC</th><th scope=col>word</th></tr></thead>\n",
       "<tbody>\n",
       "\t<tr><td>Ethnic     </td><td>70895360103</td><td>rice       </td></tr>\n",
       "\t<tr><td>Ethnic     </td><td>70895360103</td><td>ramen      </td></tr>\n",
       "\t<tr><td>Ethnic     </td><td>70895360103</td><td>millet     </td></tr>\n",
       "\t<tr><td>Ethnic     </td><td>70895360103</td><td>and        </td></tr>\n",
       "\t<tr><td>Ethnic     </td><td>70895360103</td><td>brown      </td></tr>\n",
       "\t<tr><td>Ethnic     </td><td>70895360103</td><td>og         </td></tr>\n",
       "</tbody>\n",
       "</table>\n"
      ],
      "text/latex": [
       "\\begin{tabular}{r|lll}\n",
       " Category\\_02 & UPC & word\\\\\n",
       "\\hline\n",
       "\t Ethnic      & 70895360103 & rice       \\\\\n",
       "\t Ethnic      & 70895360103 & ramen      \\\\\n",
       "\t Ethnic      & 70895360103 & millet     \\\\\n",
       "\t Ethnic      & 70895360103 & and        \\\\\n",
       "\t Ethnic      & 70895360103 & brown      \\\\\n",
       "\t Ethnic      & 70895360103 & og         \\\\\n",
       "\\end{tabular}\n"
      ],
      "text/markdown": [
       "\n",
       "Category_02 | UPC | word | \n",
       "|---|---|---|---|---|---|\n",
       "| Ethnic      | 70895360103 | rice        | \n",
       "| Ethnic      | 70895360103 | ramen       | \n",
       "| Ethnic      | 70895360103 | millet      | \n",
       "| Ethnic      | 70895360103 | and         | \n",
       "| Ethnic      | 70895360103 | brown       | \n",
       "| Ethnic      | 70895360103 | og          | \n",
       "\n",
       "\n"
      ],
      "text/plain": [
       "  Category_02 UPC         word  \n",
       "1 Ethnic      70895360103 rice  \n",
       "2 Ethnic      70895360103 ramen \n",
       "3 Ethnic      70895360103 millet\n",
       "4 Ethnic      70895360103 and   \n",
       "5 Ethnic      70895360103 brown \n",
       "6 Ethnic      70895360103 og    "
      ]
     },
     "metadata": {},
     "output_type": "display_data"
    },
    {
     "name": "stderr",
     "output_type": "stream",
     "text": [
      "Joining, by = \"word\"\n"
     ]
    },
    {
     "data": {
      "text/html": [
       "<table>\n",
       "<thead><tr><th scope=col>Category_02</th><th scope=col>UPC</th><th scope=col>word</th></tr></thead>\n",
       "<tbody>\n",
       "\t<tr><td>Ethnic     </td><td>70895360103</td><td>rice       </td></tr>\n",
       "\t<tr><td>Ethnic     </td><td>70895360103</td><td>ramen      </td></tr>\n",
       "\t<tr><td>Ethnic     </td><td>70895360103</td><td>millet     </td></tr>\n",
       "\t<tr><td>Ethnic     </td><td>70895360103</td><td>brown      </td></tr>\n",
       "\t<tr><td>Ethnic     </td><td>70895360103</td><td>og         </td></tr>\n",
       "\t<tr><td>Ethnic     </td><td>70895360103</td><td>2.8oz      </td></tr>\n",
       "</tbody>\n",
       "</table>\n"
      ],
      "text/latex": [
       "\\begin{tabular}{r|lll}\n",
       " Category\\_02 & UPC & word\\\\\n",
       "\\hline\n",
       "\t Ethnic      & 70895360103 & rice       \\\\\n",
       "\t Ethnic      & 70895360103 & ramen      \\\\\n",
       "\t Ethnic      & 70895360103 & millet     \\\\\n",
       "\t Ethnic      & 70895360103 & brown      \\\\\n",
       "\t Ethnic      & 70895360103 & og         \\\\\n",
       "\t Ethnic      & 70895360103 & 2.8oz      \\\\\n",
       "\\end{tabular}\n"
      ],
      "text/markdown": [
       "\n",
       "Category_02 | UPC | word | \n",
       "|---|---|---|---|---|---|\n",
       "| Ethnic      | 70895360103 | rice        | \n",
       "| Ethnic      | 70895360103 | ramen       | \n",
       "| Ethnic      | 70895360103 | millet      | \n",
       "| Ethnic      | 70895360103 | brown       | \n",
       "| Ethnic      | 70895360103 | og          | \n",
       "| Ethnic      | 70895360103 | 2.8oz       | \n",
       "\n",
       "\n"
      ],
      "text/plain": [
       "  Category_02 UPC         word  \n",
       "1 Ethnic      70895360103 rice  \n",
       "2 Ethnic      70895360103 ramen \n",
       "3 Ethnic      70895360103 millet\n",
       "4 Ethnic      70895360103 brown \n",
       "5 Ethnic      70895360103 og    \n",
       "6 Ethnic      70895360103 2.8oz "
      ]
     },
     "metadata": {},
     "output_type": "display_data"
    }
   ],
   "source": [
    "wfm_words = wfm_cats %>% \n",
    "    select(Category_02, UPC, Description) %>%\n",
    "    collect() %>%\n",
    "    unnest_tokens(word, Description)\n",
    "head(wfm_words)\n",
    "\n",
    "wfm_words = wfm_words %>%\n",
    "    anti_join(stop_words)\n",
    "head(wfm_words)"
   ]
  },
  {
   "cell_type": "code",
   "execution_count": 31,
   "metadata": {},
   "outputs": [
    {
     "data": {
      "text/html": [
       "<ol class=list-inline>\n",
       "\t<li>3</li>\n",
       "\t<li>4</li>\n",
       "\t<li>6</li>\n",
       "\t<li>8</li>\n",
       "\t<li>12</li>\n",
       "\t<li>14</li>\n",
       "\t<li>17</li>\n",
       "\t<li>19</li>\n",
       "\t<li>21</li>\n",
       "\t<li>25</li>\n",
       "\t<li>27</li>\n",
       "\t<li>35</li>\n",
       "\t<li>44</li>\n",
       "\t<li>59</li>\n",
       "\t<li>65</li>\n",
       "\t<li>70</li>\n",
       "\t<li>76</li>\n",
       "\t<li>93</li>\n",
       "\t<li>96</li>\n",
       "\t<li>97</li>\n",
       "\t<li>109</li>\n",
       "\t<li>114</li>\n",
       "\t<li>116</li>\n",
       "\t<li>118</li>\n",
       "\t<li>119</li>\n",
       "\t<li>120</li>\n",
       "\t<li>124</li>\n",
       "\t<li>125</li>\n",
       "\t<li>126</li>\n",
       "\t<li>140</li>\n",
       "\t<li>147</li>\n",
       "\t<li>158</li>\n",
       "\t<li>160</li>\n",
       "\t<li>161</li>\n",
       "\t<li>182</li>\n",
       "\t<li>199</li>\n",
       "\t<li>209</li>\n",
       "\t<li>216</li>\n",
       "\t<li>218</li>\n",
       "\t<li>219</li>\n",
       "\t<li>232</li>\n",
       "\t<li>239</li>\n",
       "\t<li>241</li>\n",
       "\t<li>246</li>\n",
       "\t<li>256</li>\n",
       "\t<li>260</li>\n",
       "\t<li>262</li>\n",
       "\t<li>263</li>\n",
       "\t<li>287</li>\n",
       "\t<li>297</li>\n",
       "\t<li>298</li>\n",
       "\t<li>299</li>\n",
       "\t<li>313</li>\n",
       "\t<li>314</li>\n",
       "\t<li>328</li>\n",
       "\t<li>339</li>\n",
       "\t<li>341</li>\n",
       "\t<li>357</li>\n",
       "\t<li>367</li>\n",
       "\t<li>370</li>\n",
       "\t<li>376</li>\n",
       "\t<li>392</li>\n",
       "\t<li>404</li>\n",
       "\t<li>411</li>\n",
       "\t<li>453</li>\n",
       "\t<li>475</li>\n",
       "\t<li>481</li>\n",
       "\t<li>489</li>\n",
       "\t<li>504</li>\n",
       "\t<li>519</li>\n",
       "\t<li>520</li>\n",
       "\t<li>521</li>\n",
       "\t<li>525</li>\n",
       "\t<li>529</li>\n",
       "\t<li>531</li>\n",
       "\t<li>533</li>\n",
       "\t<li>534</li>\n",
       "\t<li>552</li>\n",
       "\t<li>565</li>\n",
       "\t<li>569</li>\n",
       "\t<li>572</li>\n",
       "\t<li>574</li>\n",
       "\t<li>600</li>\n",
       "\t<li>623</li>\n",
       "\t<li>636</li>\n",
       "\t<li>642</li>\n",
       "\t<li>647</li>\n",
       "\t<li>658</li>\n",
       "\t<li>669</li>\n",
       "\t<li>674</li>\n",
       "\t<li>684</li>\n",
       "\t<li>685</li>\n",
       "\t<li>702</li>\n",
       "\t<li>719</li>\n",
       "\t<li>735</li>\n",
       "\t<li>752</li>\n",
       "\t<li>773</li>\n",
       "\t<li>778</li>\n",
       "\t<li>779</li>\n",
       "\t<li>782</li>\n",
       "\t<li>793</li>\n",
       "\t<li>817</li>\n",
       "\t<li>844</li>\n",
       "\t<li>861</li>\n",
       "\t<li>866</li>\n",
       "\t<li>885</li>\n",
       "\t<li>910</li>\n",
       "\t<li>911</li>\n",
       "\t<li>914</li>\n",
       "\t<li>923</li>\n",
       "\t<li>936</li>\n",
       "\t<li>938</li>\n",
       "\t<li>975</li>\n",
       "\t<li>989</li>\n",
       "\t<li>993</li>\n",
       "\t<li>1016</li>\n",
       "\t<li>1034</li>\n",
       "\t<li>1064</li>\n",
       "\t<li>1087</li>\n",
       "\t<li>1092</li>\n",
       "\t<li>1095</li>\n",
       "\t<li>1103</li>\n",
       "\t<li>1110</li>\n",
       "\t<li>1135</li>\n",
       "\t<li>1219</li>\n",
       "\t<li>1221</li>\n",
       "\t<li>1229</li>\n",
       "\t<li>1240</li>\n",
       "\t<li>1265</li>\n",
       "\t<li>1266</li>\n",
       "\t<li>1295</li>\n",
       "\t<li>1311</li>\n",
       "\t<li>1335</li>\n",
       "\t<li>1370</li>\n",
       "\t<li>1391</li>\n",
       "\t<li>1407</li>\n",
       "\t<li>1413</li>\n",
       "\t<li>1414</li>\n",
       "\t<li>1465</li>\n",
       "\t<li>1484</li>\n",
       "\t<li>1493</li>\n",
       "\t<li>1518</li>\n",
       "\t<li>1527</li>\n",
       "\t<li>1534</li>\n",
       "\t<li>1562</li>\n",
       "</ol>\n"
      ],
      "text/latex": [
       "\\begin{enumerate*}\n",
       "\\item 3\n",
       "\\item 4\n",
       "\\item 6\n",
       "\\item 8\n",
       "\\item 12\n",
       "\\item 14\n",
       "\\item 17\n",
       "\\item 19\n",
       "\\item 21\n",
       "\\item 25\n",
       "\\item 27\n",
       "\\item 35\n",
       "\\item 44\n",
       "\\item 59\n",
       "\\item 65\n",
       "\\item 70\n",
       "\\item 76\n",
       "\\item 93\n",
       "\\item 96\n",
       "\\item 97\n",
       "\\item 109\n",
       "\\item 114\n",
       "\\item 116\n",
       "\\item 118\n",
       "\\item 119\n",
       "\\item 120\n",
       "\\item 124\n",
       "\\item 125\n",
       "\\item 126\n",
       "\\item 140\n",
       "\\item 147\n",
       "\\item 158\n",
       "\\item 160\n",
       "\\item 161\n",
       "\\item 182\n",
       "\\item 199\n",
       "\\item 209\n",
       "\\item 216\n",
       "\\item 218\n",
       "\\item 219\n",
       "\\item 232\n",
       "\\item 239\n",
       "\\item 241\n",
       "\\item 246\n",
       "\\item 256\n",
       "\\item 260\n",
       "\\item 262\n",
       "\\item 263\n",
       "\\item 287\n",
       "\\item 297\n",
       "\\item 298\n",
       "\\item 299\n",
       "\\item 313\n",
       "\\item 314\n",
       "\\item 328\n",
       "\\item 339\n",
       "\\item 341\n",
       "\\item 357\n",
       "\\item 367\n",
       "\\item 370\n",
       "\\item 376\n",
       "\\item 392\n",
       "\\item 404\n",
       "\\item 411\n",
       "\\item 453\n",
       "\\item 475\n",
       "\\item 481\n",
       "\\item 489\n",
       "\\item 504\n",
       "\\item 519\n",
       "\\item 520\n",
       "\\item 521\n",
       "\\item 525\n",
       "\\item 529\n",
       "\\item 531\n",
       "\\item 533\n",
       "\\item 534\n",
       "\\item 552\n",
       "\\item 565\n",
       "\\item 569\n",
       "\\item 572\n",
       "\\item 574\n",
       "\\item 600\n",
       "\\item 623\n",
       "\\item 636\n",
       "\\item 642\n",
       "\\item 647\n",
       "\\item 658\n",
       "\\item 669\n",
       "\\item 674\n",
       "\\item 684\n",
       "\\item 685\n",
       "\\item 702\n",
       "\\item 719\n",
       "\\item 735\n",
       "\\item 752\n",
       "\\item 773\n",
       "\\item 778\n",
       "\\item 779\n",
       "\\item 782\n",
       "\\item 793\n",
       "\\item 817\n",
       "\\item 844\n",
       "\\item 861\n",
       "\\item 866\n",
       "\\item 885\n",
       "\\item 910\n",
       "\\item 911\n",
       "\\item 914\n",
       "\\item 923\n",
       "\\item 936\n",
       "\\item 938\n",
       "\\item 975\n",
       "\\item 989\n",
       "\\item 993\n",
       "\\item 1016\n",
       "\\item 1034\n",
       "\\item 1064\n",
       "\\item 1087\n",
       "\\item 1092\n",
       "\\item 1095\n",
       "\\item 1103\n",
       "\\item 1110\n",
       "\\item 1135\n",
       "\\item 1219\n",
       "\\item 1221\n",
       "\\item 1229\n",
       "\\item 1240\n",
       "\\item 1265\n",
       "\\item 1266\n",
       "\\item 1295\n",
       "\\item 1311\n",
       "\\item 1335\n",
       "\\item 1370\n",
       "\\item 1391\n",
       "\\item 1407\n",
       "\\item 1413\n",
       "\\item 1414\n",
       "\\item 1465\n",
       "\\item 1484\n",
       "\\item 1493\n",
       "\\item 1518\n",
       "\\item 1527\n",
       "\\item 1534\n",
       "\\item 1562\n",
       "\\end{enumerate*}\n"
      ],
      "text/markdown": [
       "1. 3\n",
       "2. 4\n",
       "3. 6\n",
       "4. 8\n",
       "5. 12\n",
       "6. 14\n",
       "7. 17\n",
       "8. 19\n",
       "9. 21\n",
       "10. 25\n",
       "11. 27\n",
       "12. 35\n",
       "13. 44\n",
       "14. 59\n",
       "15. 65\n",
       "16. 70\n",
       "17. 76\n",
       "18. 93\n",
       "19. 96\n",
       "20. 97\n",
       "21. 109\n",
       "22. 114\n",
       "23. 116\n",
       "24. 118\n",
       "25. 119\n",
       "26. 120\n",
       "27. 124\n",
       "28. 125\n",
       "29. 126\n",
       "30. 140\n",
       "31. 147\n",
       "32. 158\n",
       "33. 160\n",
       "34. 161\n",
       "35. 182\n",
       "36. 199\n",
       "37. 209\n",
       "38. 216\n",
       "39. 218\n",
       "40. 219\n",
       "41. 232\n",
       "42. 239\n",
       "43. 241\n",
       "44. 246\n",
       "45. 256\n",
       "46. 260\n",
       "47. 262\n",
       "48. 263\n",
       "49. 287\n",
       "50. 297\n",
       "51. 298\n",
       "52. 299\n",
       "53. 313\n",
       "54. 314\n",
       "55. 328\n",
       "56. 339\n",
       "57. 341\n",
       "58. 357\n",
       "59. 367\n",
       "60. 370\n",
       "61. 376\n",
       "62. 392\n",
       "63. 404\n",
       "64. 411\n",
       "65. 453\n",
       "66. 475\n",
       "67. 481\n",
       "68. 489\n",
       "69. 504\n",
       "70. 519\n",
       "71. 520\n",
       "72. 521\n",
       "73. 525\n",
       "74. 529\n",
       "75. 531\n",
       "76. 533\n",
       "77. 534\n",
       "78. 552\n",
       "79. 565\n",
       "80. 569\n",
       "81. 572\n",
       "82. 574\n",
       "83. 600\n",
       "84. 623\n",
       "85. 636\n",
       "86. 642\n",
       "87. 647\n",
       "88. 658\n",
       "89. 669\n",
       "90. 674\n",
       "91. 684\n",
       "92. 685\n",
       "93. 702\n",
       "94. 719\n",
       "95. 735\n",
       "96. 752\n",
       "97. 773\n",
       "98. 778\n",
       "99. 779\n",
       "100. 782\n",
       "101. 793\n",
       "102. 817\n",
       "103. 844\n",
       "104. 861\n",
       "105. 866\n",
       "106. 885\n",
       "107. 910\n",
       "108. 911\n",
       "109. 914\n",
       "110. 923\n",
       "111. 936\n",
       "112. 938\n",
       "113. 975\n",
       "114. 989\n",
       "115. 993\n",
       "116. 1016\n",
       "117. 1034\n",
       "118. 1064\n",
       "119. 1087\n",
       "120. 1092\n",
       "121. 1095\n",
       "122. 1103\n",
       "123. 1110\n",
       "124. 1135\n",
       "125. 1219\n",
       "126. 1221\n",
       "127. 1229\n",
       "128. 1240\n",
       "129. 1265\n",
       "130. 1266\n",
       "131. 1295\n",
       "132. 1311\n",
       "133. 1335\n",
       "134. 1370\n",
       "135. 1391\n",
       "136. 1407\n",
       "137. 1413\n",
       "138. 1414\n",
       "139. 1465\n",
       "140. 1484\n",
       "141. 1493\n",
       "142. 1518\n",
       "143. 1527\n",
       "144. 1534\n",
       "145. 1562\n",
       "\n",
       "\n"
      ],
      "text/plain": [
       "  [1]    3    4    6    8   12   14   17   19   21   25   27   35   44   59   65\n",
       " [16]   70   76   93   96   97  109  114  116  118  119  120  124  125  126  140\n",
       " [31]  147  158  160  161  182  199  209  216  218  219  232  239  241  246  256\n",
       " [46]  260  262  263  287  297  298  299  313  314  328  339  341  357  367  370\n",
       " [61]  376  392  404  411  453  475  481  489  504  519  520  521  525  529  531\n",
       " [76]  533  534  552  565  569  572  574  600  623  636  642  647  658  669  674\n",
       " [91]  684  685  702  719  735  752  773  778  779  782  793  817  844  861  866\n",
       "[106]  885  910  911  914  923  936  938  975  989  993 1016 1034 1064 1087 1092\n",
       "[121] 1095 1103 1110 1135 1219 1221 1229 1240 1265 1266 1295 1311 1335 1370 1391\n",
       "[136] 1407 1413 1414 1465 1484 1493 1518 1527 1534 1562"
      ]
     },
     "metadata": {},
     "output_type": "display_data"
    }
   ],
   "source": [
    "custom_words = grep(pattern=\"oz\",word_count$word)\n",
    "custom_words"
   ]
  },
  {
   "cell_type": "code",
   "execution_count": 32,
   "metadata": {},
   "outputs": [
    {
     "ename": "ERROR",
     "evalue": "Error in UseMethod(\"tbl_vars\"): no applicable method for 'tbl_vars' applied to an object of class \"c('integer', 'numeric')\"\n",
     "output_type": "error",
     "traceback": [
      "Error in UseMethod(\"tbl_vars\"): no applicable method for 'tbl_vars' applied to an object of class \"c('integer', 'numeric')\"\nTraceback:\n",
      "1. wfm_words %>% anti_join(custom_words)",
      "2. withVisible(eval(quote(`_fseq`(`_lhs`)), env, env))",
      "3. eval(quote(`_fseq`(`_lhs`)), env, env)",
      "4. eval(quote(`_fseq`(`_lhs`)), env, env)",
      "5. `_fseq`(`_lhs`)",
      "6. freduce(value, `_function_list`)",
      "7. withVisible(function_list[[k]](value))",
      "8. function_list[[k]](value)",
      "9. anti_join(., custom_words)",
      "10. anti_join.tbl_df(., custom_words)",
      "11. common_by(by, x, y)",
      "12. common_by.NULL(by, x, y)",
      "13. intersect(tbl_vars(x), tbl_vars(y))",
      "14. intersect.default(tbl_vars(x), tbl_vars(y))",
      "15. base::intersect(x, y, ...)",
      "16. as.vector(y)",
      "17. tbl_vars(y)"
     ]
    }
   ],
   "source": [
    "wfm_words = wfm_words %>%\n",
    "    anti_join(custom_words)\n",
    "head(wfm_words)"
   ]
  },
  {
   "cell_type": "code",
   "execution_count": null,
   "metadata": {},
   "outputs": [],
   "source": []
  },
  {
   "cell_type": "code",
   "execution_count": 26,
   "metadata": {},
   "outputs": [
    {
     "data": {
      "text/html": [
       "<table>\n",
       "<thead><tr><th scope=col>word</th><th scope=col>n</th></tr></thead>\n",
       "<tbody>\n",
       "\t<tr><td>og    </td><td>433058</td></tr>\n",
       "\t<tr><td>rice  </td><td>143775</td></tr>\n",
       "\t<tr><td>16oz  </td><td>124364</td></tr>\n",
       "\t<tr><td>32oz  </td><td> 62439</td></tr>\n",
       "\t<tr><td>tea   </td><td> 53800</td></tr>\n",
       "\t<tr><td>6oz   </td><td> 52834</td></tr>\n",
       "</tbody>\n",
       "</table>\n"
      ],
      "text/latex": [
       "\\begin{tabular}{r|ll}\n",
       " word & n\\\\\n",
       "\\hline\n",
       "\t og     & 433058\\\\\n",
       "\t rice   & 143775\\\\\n",
       "\t 16oz   & 124364\\\\\n",
       "\t 32oz   &  62439\\\\\n",
       "\t tea    &  53800\\\\\n",
       "\t 6oz    &  52834\\\\\n",
       "\\end{tabular}\n"
      ],
      "text/markdown": [
       "\n",
       "word | n | \n",
       "|---|---|---|---|---|---|\n",
       "| og     | 433058 | \n",
       "| rice   | 143775 | \n",
       "| 16oz   | 124364 | \n",
       "| 32oz   |  62439 | \n",
       "| tea    |  53800 | \n",
       "| 6oz    |  52834 | \n",
       "\n",
       "\n"
      ],
      "text/plain": [
       "  word n     \n",
       "1 og   433058\n",
       "2 rice 143775\n",
       "3 16oz 124364\n",
       "4 32oz  62439\n",
       "5 tea   53800\n",
       "6 6oz   52834"
      ]
     },
     "metadata": {},
     "output_type": "display_data"
    }
   ],
   "source": [
    "word_count = wfm_words %>%\n",
    "    count(word, sort = TRUE)\n",
    "head(word_count)"
   ]
  },
  {
   "cell_type": "code",
   "execution_count": 28,
   "metadata": {},
   "outputs": [
    {
     "name": "stderr",
     "output_type": "stream",
     "text": [
      "Joining, by = \"Category_02\"\n"
     ]
    },
    {
     "data": {
      "text/html": [
       "<table>\n",
       "<thead><tr><th scope=col>Category_02</th><th scope=col>c_rank</th><th scope=col>Date</th><th scope=col>Brand</th><th scope=col>WsalesTY</th><th scope=col>WunitsTY</th><th scope=col>WsalesLY</th><th scope=col>WunitsLY</th><th scope=col>WCpU_TY</th><th scope=col>WCpU_LY</th></tr></thead>\n",
       "<tbody>\n",
       "\t<tr><td>Salty Snacks        </td><td>1                   </td><td>2016-01-04          </td><td>Bob's Red Mill      </td><td>  183.54            </td><td>  46                </td><td>   87.78            </td><td>  22                </td><td>3.990000            </td><td>3.990000            </td></tr>\n",
       "\t<tr><td>Salty Snacks        </td><td>1                   </td><td>2016-01-04          </td><td>Late July           </td><td> 8424.80            </td><td>2462                </td><td> 5051.06            </td><td>1592                </td><td>3.421933            </td><td>3.172776            </td></tr>\n",
       "\t<tr><td>Salty Snacks        </td><td>1                   </td><td>2016-01-04          </td><td>Lundberg            </td><td>11002.14            </td><td>3647                </td><td>13313.25            </td><td>4389                </td><td>3.016764            </td><td>3.033322            </td></tr>\n",
       "\t<tr><td>Salty Snacks        </td><td>1                   </td><td>2016-01-04          </td><td>Nature's Path       </td><td> 4499.50            </td><td>1320                </td><td>    0.00            </td><td>   0                </td><td>3.408712            </td><td>     NaN            </td></tr>\n",
       "\t<tr><td>Salty Snacks        </td><td>1                   </td><td>2016-01-04          </td><td>Newmans Own Organics</td><td>  893.76            </td><td> 224                </td><td>  757.59            </td><td> 199                </td><td>3.990000            </td><td>3.806985            </td></tr>\n",
       "\t<tr><td>Salty Snacks        </td><td>1                   </td><td>2016-01-11          </td><td>Bob's Red Mill      </td><td>  147.63            </td><td>  37                </td><td>   79.80            </td><td>  20                </td><td>3.990000            </td><td>3.990000            </td></tr>\n",
       "</tbody>\n",
       "</table>\n"
      ],
      "text/latex": [
       "\\begin{tabular}{r|llllllllll}\n",
       " Category\\_02 & c\\_rank & Date & Brand & WsalesTY & WunitsTY & WsalesLY & WunitsLY & WCpU\\_TY & WCpU\\_LY\\\\\n",
       "\\hline\n",
       "\t Salty Snacks         & 1                    & 2016-01-04           & Bob's Red Mill       &   183.54             &   46                 &    87.78             &   22                 & 3.990000             & 3.990000            \\\\\n",
       "\t Salty Snacks         & 1                    & 2016-01-04           & Late July            &  8424.80             & 2462                 &  5051.06             & 1592                 & 3.421933             & 3.172776            \\\\\n",
       "\t Salty Snacks         & 1                    & 2016-01-04           & Lundberg             & 11002.14             & 3647                 & 13313.25             & 4389                 & 3.016764             & 3.033322            \\\\\n",
       "\t Salty Snacks         & 1                    & 2016-01-04           & Nature's Path        &  4499.50             & 1320                 &     0.00             &    0                 & 3.408712             &      NaN            \\\\\n",
       "\t Salty Snacks         & 1                    & 2016-01-04           & Newmans Own Organics &   893.76             &  224                 &   757.59             &  199                 & 3.990000             & 3.806985            \\\\\n",
       "\t Salty Snacks         & 1                    & 2016-01-11           & Bob's Red Mill       &   147.63             &   37                 &    79.80             &   20                 & 3.990000             & 3.990000            \\\\\n",
       "\\end{tabular}\n"
      ],
      "text/markdown": [
       "\n",
       "Category_02 | c_rank | Date | Brand | WsalesTY | WunitsTY | WsalesLY | WunitsLY | WCpU_TY | WCpU_LY | \n",
       "|---|---|---|---|---|---|\n",
       "| Salty Snacks         | 1                    | 2016-01-04           | Bob's Red Mill       |   183.54             |   46                 |    87.78             |   22                 | 3.990000             | 3.990000             | \n",
       "| Salty Snacks         | 1                    | 2016-01-04           | Late July            |  8424.80             | 2462                 |  5051.06             | 1592                 | 3.421933             | 3.172776             | \n",
       "| Salty Snacks         | 1                    | 2016-01-04           | Lundberg             | 11002.14             | 3647                 | 13313.25             | 4389                 | 3.016764             | 3.033322             | \n",
       "| Salty Snacks         | 1                    | 2016-01-04           | Nature's Path        |  4499.50             | 1320                 |     0.00             |    0                 | 3.408712             |      NaN             | \n",
       "| Salty Snacks         | 1                    | 2016-01-04           | Newmans Own Organics |   893.76             |  224                 |   757.59             |  199                 | 3.990000             | 3.806985             | \n",
       "| Salty Snacks         | 1                    | 2016-01-11           | Bob's Red Mill       |   147.63             |   37                 |    79.80             |   20                 | 3.990000             | 3.990000             | \n",
       "\n",
       "\n"
      ],
      "text/plain": [
       "  Category_02  c_rank Date       Brand                WsalesTY WunitsTY\n",
       "1 Salty Snacks 1      2016-01-04 Bob's Red Mill         183.54   46    \n",
       "2 Salty Snacks 1      2016-01-04 Late July             8424.80 2462    \n",
       "3 Salty Snacks 1      2016-01-04 Lundberg             11002.14 3647    \n",
       "4 Salty Snacks 1      2016-01-04 Nature's Path         4499.50 1320    \n",
       "5 Salty Snacks 1      2016-01-04 Newmans Own Organics   893.76  224    \n",
       "6 Salty Snacks 1      2016-01-11 Bob's Red Mill         147.63   37    \n",
       "  WsalesLY WunitsLY WCpU_TY  WCpU_LY \n",
       "1    87.78   22     3.990000 3.990000\n",
       "2  5051.06 1592     3.421933 3.172776\n",
       "3 13313.25 4389     3.016764 3.033322\n",
       "4     0.00    0     3.408712      NaN\n",
       "5   757.59  199     3.990000 3.806985\n",
       "6    79.80   20     3.990000 3.990000"
      ]
     },
     "metadata": {},
     "output_type": "display_data"
    }
   ],
   "source": [
    "# need control = \"userid\"\n",
    "# looking at relative jumps in volume\n",
    "#group by week anf look at week over week increase\n",
    "category_units = wfm_sales_by_category %>%\n",
    "    select(Category_02, c_rank) %>%\n",
    "    inner_join(wfm_sales_date_category)# %>%\n",
    "    #mutate(CpU = salesTY/unitsTY) %>%\n",
    "head(category_units)"
   ]
  },
  {
   "cell_type": "code",
   "execution_count": 29,
   "metadata": {},
   "outputs": [
    {
     "data": {},
     "metadata": {},
     "output_type": "display_data"
    },
    {
     "data": {
      "image/png": "[encoded data removed]",
      "text/plain": [
       "plot without title"
      ]
     },
     "metadata": {},
     "output_type": "display_data"
    }
   ],
   "source": [
    "#ffilter on regex, maybe lgrep, filter on numoz\n",
    "# consider clustering on text\n",
    "word_plot = word_count %>%\n",
    "  #count(word, sort = TRUE) %>%\n",
    "  filter(n > 30000) %>%\n",
    "  mutate(word = reorder(word, n)) %>%\n",
    "  ggplot(aes(word, n)) +\n",
    "  geom_col() +\n",
    "  xlab(NULL) +\n",
    "  coord_flip()\n",
    "word_plot"
   ]
  },
  {
   "cell_type": "code",
   "execution_count": 15,
   "metadata": {},
   "outputs": [
    {
     "name": "stderr",
     "output_type": "stream",
     "text": [
      "Joining, by = \"Category_02\"\n"
     ]
    },
    {
     "data": {
      "text/html": [
       "<table>\n",
       "<thead><tr><th scope=col>Category_02</th><th scope=col>word</th><th scope=col>n</th><th scope=col>total</th></tr></thead>\n",
       "<tbody>\n",
       "\t<tr><td>Cold Cereal  </td><td>og           </td><td>54144        </td><td>388857       </td></tr>\n",
       "\t<tr><td>Cold Cereal  </td><td>cereal       </td><td>49048        </td><td>388857       </td></tr>\n",
       "\t<tr><td>Packaged Teas</td><td>16ct         </td><td>46289        </td><td>229544       </td></tr>\n",
       "\t<tr><td>Packaged Teas</td><td>tea          </td><td>38065        </td><td>229544       </td></tr>\n",
       "\t<tr><td>Yogurt       </td><td>yogurt       </td><td>35208        </td><td>184455       </td></tr>\n",
       "\t<tr><td>Packaged Teas</td><td>og           </td><td>32248        </td><td>229544       </td></tr>\n",
       "</tbody>\n",
       "</table>\n"
      ],
      "text/latex": [
       "\\begin{tabular}{r|llll}\n",
       " Category\\_02 & word & n & total\\\\\n",
       "\\hline\n",
       "\t Cold Cereal   & og            & 54144         & 388857       \\\\\n",
       "\t Cold Cereal   & cereal        & 49048         & 388857       \\\\\n",
       "\t Packaged Teas & 16ct          & 46289         & 229544       \\\\\n",
       "\t Packaged Teas & tea           & 38065         & 229544       \\\\\n",
       "\t Yogurt        & yogurt        & 35208         & 184455       \\\\\n",
       "\t Packaged Teas & og            & 32248         & 229544       \\\\\n",
       "\\end{tabular}\n"
      ],
      "text/markdown": [
       "\n",
       "Category_02 | word | n | total | \n",
       "|---|---|---|---|---|---|\n",
       "| Cold Cereal   | og            | 54144         | 388857        | \n",
       "| Cold Cereal   | cereal        | 49048         | 388857        | \n",
       "| Packaged Teas | 16ct          | 46289         | 229544        | \n",
       "| Packaged Teas | tea           | 38065         | 229544        | \n",
       "| Yogurt        | yogurt        | 35208         | 184455        | \n",
       "| Packaged Teas | og            | 32248         | 229544        | \n",
       "\n",
       "\n"
      ],
      "text/plain": [
       "  Category_02   word   n     total \n",
       "1 Cold Cereal   og     54144 388857\n",
       "2 Cold Cereal   cereal 49048 388857\n",
       "3 Packaged Teas 16ct   46289 229544\n",
       "4 Packaged Teas tea    38065 229544\n",
       "5 Yogurt        yogurt 35208 184455\n",
       "6 Packaged Teas og     32248 229544"
      ]
     },
     "metadata": {},
     "output_type": "display_data"
    }
   ],
   "source": [
    "cat_words = wfm_words %>%   \n",
    "    count(Category_02, word, sort = TRUE) %>%\n",
    "    ungroup()\n",
    "\n",
    "total_words = cat_words %>% \n",
    "    group_by(Category_02) %>% \n",
    "    summarize(total = sum(n))\n",
    "\n",
    "all_words = cat_words %>%\n",
    "    left_join(total_words)\n",
    "\n",
    "head(all_words)"
   ]
  },
  {
   "cell_type": "code",
   "execution_count": 16,
   "metadata": {},
   "outputs": [
    {
     "data": {
      "text/html": [
       "<table>\n",
       "<thead><tr><th scope=col>Category_02</th><th scope=col>word</th><th scope=col>n</th><th scope=col>total</th><th scope=col>rank</th><th scope=col>term_frequency</th></tr></thead>\n",
       "<tbody>\n",
       "\t<tr><td>Cold Cereal  </td><td>og           </td><td>54144        </td><td>388857       </td><td>1            </td><td>0.1392388    </td></tr>\n",
       "\t<tr><td>Cold Cereal  </td><td>cereal       </td><td>49048        </td><td>388857       </td><td>2            </td><td>0.1261338    </td></tr>\n",
       "\t<tr><td>Packaged Teas</td><td>16ct         </td><td>46289        </td><td>229544       </td><td>1            </td><td>0.2016563    </td></tr>\n",
       "\t<tr><td>Packaged Teas</td><td>tea          </td><td>38065        </td><td>229544       </td><td>2            </td><td>0.1658288    </td></tr>\n",
       "\t<tr><td>Yogurt       </td><td>yogurt       </td><td>35208        </td><td>184455       </td><td>1            </td><td>0.1908758    </td></tr>\n",
       "\t<tr><td>Packaged Teas</td><td>og           </td><td>32248        </td><td>229544       </td><td>3            </td><td>0.1404872    </td></tr>\n",
       "</tbody>\n",
       "</table>\n"
      ],
      "text/latex": [
       "\\begin{tabular}{r|llllll}\n",
       " Category\\_02 & word & n & total & rank & term\\_frequency\\\\\n",
       "\\hline\n",
       "\t Cold Cereal   & og            & 54144         & 388857        & 1             & 0.1392388    \\\\\n",
       "\t Cold Cereal   & cereal        & 49048         & 388857        & 2             & 0.1261338    \\\\\n",
       "\t Packaged Teas & 16ct          & 46289         & 229544        & 1             & 0.2016563    \\\\\n",
       "\t Packaged Teas & tea           & 38065         & 229544        & 2             & 0.1658288    \\\\\n",
       "\t Yogurt        & yogurt        & 35208         & 184455        & 1             & 0.1908758    \\\\\n",
       "\t Packaged Teas & og            & 32248         & 229544        & 3             & 0.1404872    \\\\\n",
       "\\end{tabular}\n"
      ],
      "text/markdown": [
       "\n",
       "Category_02 | word | n | total | rank | term_frequency | \n",
       "|---|---|---|---|---|---|\n",
       "| Cold Cereal   | og            | 54144         | 388857        | 1             | 0.1392388     | \n",
       "| Cold Cereal   | cereal        | 49048         | 388857        | 2             | 0.1261338     | \n",
       "| Packaged Teas | 16ct          | 46289         | 229544        | 1             | 0.2016563     | \n",
       "| Packaged Teas | tea           | 38065         | 229544        | 2             | 0.1658288     | \n",
       "| Yogurt        | yogurt        | 35208         | 184455        | 1             | 0.1908758     | \n",
       "| Packaged Teas | og            | 32248         | 229544        | 3             | 0.1404872     | \n",
       "\n",
       "\n"
      ],
      "text/plain": [
       "  Category_02   word   n     total  rank term_frequency\n",
       "1 Cold Cereal   og     54144 388857 1    0.1392388     \n",
       "2 Cold Cereal   cereal 49048 388857 2    0.1261338     \n",
       "3 Packaged Teas 16ct   46289 229544 1    0.2016563     \n",
       "4 Packaged Teas tea    38065 229544 2    0.1658288     \n",
       "5 Yogurt        yogurt 35208 184455 1    0.1908758     \n",
       "6 Packaged Teas og     32248 229544 3    0.1404872     "
      ]
     },
     "metadata": {},
     "output_type": "display_data"
    }
   ],
   "source": [
    "freq_by_rank = all_words %>% \n",
    "  group_by(Category_02) %>% \n",
    "  mutate(rank = row_number(), \n",
    "         term_frequency = n/total)\n",
    "head(freq_by_rank)"
   ]
  },
  {
   "cell_type": "code",
   "execution_count": 17,
   "metadata": {},
   "outputs": [
    {
     "data": {},
     "metadata": {},
     "output_type": "display_data"
    },
    {
     "data": {
      "image/png": "[encoded data removed]",
      "text/plain": [
       "plot without title"
      ]
     },
     "metadata": {},
     "output_type": "display_data"
    }
   ],
   "source": [
    "#look at sales volume by rank (product) \n",
    "#zipf's law, lol\n",
    "zipf_plot = freq_by_rank %>% \n",
    "    ggplot(aes(rank, term_frequency, color = Category_02)) + \n",
    "    geom_line(size = 1.2, alpha = 0.8, show.legend = FALSE) + \n",
    "    scale_x_log10() +\n",
    "    scale_y_log10()\n",
    "zipf_plot"
   ]
  },
  {
   "cell_type": "code",
   "execution_count": 18,
   "metadata": {},
   "outputs": [],
   "source": [
    "# words in products help boost sales against category sales"
   ]
  }
 ],
 "metadata": {
  "kernelspec": {
   "display_name": "R",
   "language": "R",
   "name": "ir"
  },
  "language_info": {
   "codemirror_mode": "r",
   "file_extension": ".r",
   "mimetype": "text/x-r-source",
   "name": "R",
   "pygments_lexer": "r",
   "version": "3.4.2"
  }
 },
 "nbformat": 4,
 "nbformat_minor": 2
}
