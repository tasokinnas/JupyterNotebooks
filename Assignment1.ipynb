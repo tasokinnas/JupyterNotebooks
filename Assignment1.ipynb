{
 "cells": [
  {
   "cell_type": "markdown",
   "metadata": {},
   "source": [
    "# Assignment 1 - US Census data\n",
    "\n",
    "This assignment is due on **September 6, 2017** at **11:59 pm**."
   ]
  },
  {
   "cell_type": "markdown",
   "metadata": {},
   "source": [
    "## Updates\n",
    "\n",
    "* Added probability questions\n",
    "* Added links to Dplyr resources"
   ]
  },
  {
   "cell_type": "code",
   "execution_count": 1,
   "metadata": {},
   "outputs": [
    {
     "name": "stdout",
     "output_type": "stream",
     "text": [
      "package 'censusapi' successfully unpacked and MD5 sums checked\n",
      "\n",
      "The downloaded binary packages are in\n",
      "\tC:\\Users\\Taso\\AppData\\Local\\Temp\\RtmpSuT18w\\downloaded_packages\n"
     ]
    }
   ],
   "source": [
    "install.packages(\"censusapi\")"
   ]
  },
  {
   "cell_type": "markdown",
   "metadata": {},
   "source": [
    "## Preliminaries\n",
    "\n",
    "To work on this assignment, you will need three things:\n",
    "\n",
    "1. Your basic [R installation with Jupyter and the Tidyverse](https://boisestate.github.io/CS533/resources.html).\n",
    "2. The `censusapi` package, which can be installed with `conda install -c mdekstrand r-censusapi`.\n",
    "3. A US Census API key, which you can obtain [here](https://api.census.gov/data/key_signup.html). Sometimes data sets will require you to register to get access to them, and this is a good exampe.\n",
    "\n",
    "You can find documentation on the `censusapi` package in the [vignette](https://cran.r-project.org/web/packages/censusapi/vignettes/getting-started.html).\n",
    "\n",
    "For reference, see [R for Data Science Chapter 5](r4ds.had.co.nz/transform.html) and the [dplyr introduction](dplyr.tidyverse.org/articles/dplyr.html)."
   ]
  },
  {
   "cell_type": "code",
   "execution_count": 2,
   "metadata": {},
   "outputs": [
    {
     "name": "stderr",
     "output_type": "stream",
     "text": [
      "Registered S3 methods overwritten by 'ggplot2':\n",
      "  method         from \n",
      "  [.quosures     rlang\n",
      "  c.quosures     rlang\n",
      "  print.quosures rlang\n",
      "Registered S3 method overwritten by 'rvest':\n",
      "  method            from\n",
      "  read_xml.response xml2\n",
      "-- Attaching packages --------------------------------------- tidyverse 1.2.1 --\n",
      "v ggplot2 3.1.1       v purrr   0.3.2  \n",
      "v tibble  2.1.1       v dplyr   0.8.0.1\n",
      "v tidyr   0.8.3       v stringr 1.4.0  \n",
      "v readr   1.3.1       v forcats 0.4.0  \n",
      "-- Conflicts ------------------------------------------ tidyverse_conflicts() --\n",
      "x dplyr::filter() masks stats::filter()\n",
      "x dplyr::lag()    masks stats::lag()\n",
      "\n",
      "Attaching package: 'censusapi'\n",
      "\n",
      "The following object is masked from 'package:methods':\n",
      "\n",
      "    getFunction\n",
      "\n",
      "\n",
      "Attaching package: 'maps'\n",
      "\n",
      "The following object is masked from 'package:purrr':\n",
      "\n",
      "    map\n",
      "\n"
     ]
    }
   ],
   "source": [
    "library(tidyverse)\n",
    "library(censusapi)\n",
    "library(ggplot2)\n",
    "library(maps)\n",
    "#install.packages(\"maps\",repos = \"http://cran.us.r-project.org\")"
   ]
  },
  {
   "cell_type": "code",
   "execution_count": 3,
   "metadata": {},
   "outputs": [],
   "source": [
    "# options(repos=c(\"https://cloud.r-project.org/\"))\n",
    "#install.packages(\"ggmap\")\n"
   ]
  },
  {
   "cell_type": "markdown",
   "metadata": {},
   "source": [
    "Set up your census key:"
   ]
  },
  {
   "cell_type": "code",
   "execution_count": 4,
   "metadata": {},
   "outputs": [],
   "source": [
    "Sys.setenv(CENSUS_KEY=\"5b1c623bfbc1a58903da4032b852e66f1b8395e9\")"
   ]
  },
  {
   "cell_type": "markdown",
   "metadata": {},
   "source": [
    "## Loading Census Data\n",
    "\n",
    "The census data is scattered among a bunch of sources.  Accessing it is somewhat arcane.\n",
    "\n",
    "https://www.census.gov/data/developers/data-sets/decennial-census.html\n",
    "\n",
    "- The `sf1` data set is the _summary file_, containing summary statistics about each region in the _decennial census_.\n",
    "- The `vintage` says we want to use the 2010 census (the most recent one).\n",
    "- `vars` selects some variables to download; `NAME` is the name of the region, `P0010001` is the total population, and `P0420002` is the total institutionalized (imprisoned) population.  For more fun, see the [full list of variables](http://api.census.gov/data/2010/sf1/variables.html)."
   ]
  },
  {
   "cell_type": "code",
   "execution_count": 5,
   "metadata": {},
   "outputs": [
    {
     "data": {
      "text/html": [
       "<table>\n",
       "<thead><tr><th scope=col>NAME</th><th scope=col>state</th><th scope=col>Total.Population</th><th scope=col>Total.Prison</th></tr></thead>\n",
       "<tbody>\n",
       "\t<tr><td>Alabama             </td><td>01                  </td><td> 3647277            </td><td> 67004              </td></tr>\n",
       "\t<tr><td>Alaska              </td><td>02                  </td><td>  522853            </td><td>  6458              </td></tr>\n",
       "\t<tr><td>Arizona             </td><td>04                  </td><td> 4763003            </td><td> 84788              </td></tr>\n",
       "\t<tr><td>Arkansas            </td><td>05                  </td><td> 2204443            </td><td> 47287              </td></tr>\n",
       "\t<tr><td>California          </td><td>06                  </td><td>27958916            </td><td>397142              </td></tr>\n",
       "\t<tr><td>Louisiana           </td><td>22                  </td><td> 3415357            </td><td> 88104              </td></tr>\n",
       "\t<tr><td>Kentucky            </td><td>21                  </td><td> 3315996            </td><td> 70779              </td></tr>\n",
       "\t<tr><td>Colorado            </td><td>08                  </td><td> 3803587            </td><td> 61591              </td></tr>\n",
       "\t<tr><td>Connecticut         </td><td>09                  </td><td> 2757082            </td><td> 49370              </td></tr>\n",
       "\t<tr><td>Delaware            </td><td>10                  </td><td>  692169            </td><td> 11673              </td></tr>\n",
       "\t<tr><td>District of Columbia</td><td>11                  </td><td>  500908            </td><td>  7339              </td></tr>\n",
       "\t<tr><td>Florida             </td><td>12                  </td><td>14799219            </td><td>254506              </td></tr>\n",
       "\t<tr><td>Georgia             </td><td>13                  </td><td> 7196101            </td><td>144545              </td></tr>\n",
       "\t<tr><td>Hawaii              </td><td>15                  </td><td> 1056483            </td><td> 11306              </td></tr>\n",
       "\t<tr><td>Idaho               </td><td>16                  </td><td> 1138510            </td><td> 17076              </td></tr>\n",
       "\t<tr><td>Illinois            </td><td>17                  </td><td> 9701453            </td><td>159989              </td></tr>\n",
       "\t<tr><td>Indiana             </td><td>18                  </td><td> 4875504            </td><td> 95336              </td></tr>\n",
       "\t<tr><td>Iowa                </td><td>19                  </td><td> 2318362            </td><td> 43282              </td></tr>\n",
       "\t<tr><td>Kansas              </td><td>20                  </td><td> 2126179            </td><td> 41393              </td></tr>\n",
       "\t<tr><td>Maine               </td><td>23                  </td><td> 1053828            </td><td> 12409              </td></tr>\n",
       "\t<tr><td>Maryland            </td><td>24                  </td><td> 4420588            </td><td> 66838              </td></tr>\n",
       "\t<tr><td>Massachusetts       </td><td>25                  </td><td> 5128706            </td><td> 74667              </td></tr>\n",
       "\t<tr><td>Michigan            </td><td>26                  </td><td> 7539572            </td><td>109867              </td></tr>\n",
       "\t<tr><td>Minnesota           </td><td>27                  </td><td> 4019862            </td><td> 56308              </td></tr>\n",
       "\t<tr><td>Mississippi         </td><td>28                  </td><td> 2211742            </td><td> 55135              </td></tr>\n",
       "\t<tr><td>Missouri            </td><td>29                  </td><td> 4563491            </td><td> 93274              </td></tr>\n",
       "\t<tr><td>Montana             </td><td>30                  </td><td>  765852            </td><td> 11929              </td></tr>\n",
       "\t<tr><td>Nebraska            </td><td>31                  </td><td> 1367120            </td><td> 23633              </td></tr>\n",
       "\t<tr><td>Nevada              </td><td>32                  </td><td> 2035543            </td><td> 25835              </td></tr>\n",
       "\t<tr><td>New Hampshire       </td><td>33                  </td><td> 1029236            </td><td> 13113              </td></tr>\n",
       "\t<tr><td>New Jersey          </td><td>34                  </td><td> 6726680            </td><td>100621              </td></tr>\n",
       "\t<tr><td>New Mexico          </td><td>35                  </td><td> 1540507            </td><td> 25266              </td></tr>\n",
       "\t<tr><td>New York            </td><td>36                  </td><td>15053173            </td><td>231163              </td></tr>\n",
       "\t<tr><td>North Carolina      </td><td>37                  </td><td> 7253848            </td><td>113296              </td></tr>\n",
       "\t<tr><td>North Dakota        </td><td>38                  </td><td>  522720            </td><td>  9675              </td></tr>\n",
       "\t<tr><td>Ohio                </td><td>39                  </td><td> 8805753            </td><td>166042              </td></tr>\n",
       "\t<tr><td>Oklahoma            </td><td>40                  </td><td> 2821685            </td><td> 64411              </td></tr>\n",
       "\t<tr><td>Oregon              </td><td>41                  </td><td> 2964621            </td><td> 36612              </td></tr>\n",
       "\t<tr><td>Pennsylvania        </td><td>42                  </td><td> 9910224            </td><td>197112              </td></tr>\n",
       "\t<tr><td>Rhode Island        </td><td>44                  </td><td>  828611            </td><td> 12932              </td></tr>\n",
       "\t<tr><td>South Carolina      </td><td>45                  </td><td> 3544890            </td><td> 63765              </td></tr>\n",
       "\t<tr><td>South Dakota        </td><td>46                  </td><td>  611383            </td><td> 14797              </td></tr>\n",
       "\t<tr><td>Tennessee           </td><td>47                  </td><td> 4850104            </td><td> 84371              </td></tr>\n",
       "\t<tr><td>Texas               </td><td>48                  </td><td>18279737            </td><td>375392              </td></tr>\n",
       "\t<tr><td>Utah                </td><td>49                  </td><td> 1892858            </td><td> 22161              </td></tr>\n",
       "\t<tr><td>Vermont             </td><td>50                  </td><td>  496508            </td><td>  5571              </td></tr>\n",
       "\t<tr><td>Virginia            </td><td>51                  </td><td> 6147347            </td><td>101333              </td></tr>\n",
       "\t<tr><td>Washington          </td><td>53                  </td><td> 5143186            </td><td> 57844              </td></tr>\n",
       "\t<tr><td>West Virginia       </td><td>54                  </td><td> 1465576            </td><td> 28323              </td></tr>\n",
       "\t<tr><td>Wisconsin           </td><td>55                  </td><td> 4347494            </td><td> 74295              </td></tr>\n",
       "\t<tr><td>Wyoming             </td><td>56                  </td><td>  428224            </td><td>  6701              </td></tr>\n",
       "\t<tr><td>Puerto Rico         </td><td>72                  </td><td> 2822494            </td><td> 24444              </td></tr>\n",
       "</tbody>\n",
       "</table>\n"
      ],
      "text/latex": [
       "\\begin{tabular}{r|llll}\n",
       " NAME & state & Total.Population & Total.Prison\\\\\n",
       "\\hline\n",
       "\t Alabama              & 01                   &  3647277             &  67004              \\\\\n",
       "\t Alaska               & 02                   &   522853             &   6458              \\\\\n",
       "\t Arizona              & 04                   &  4763003             &  84788              \\\\\n",
       "\t Arkansas             & 05                   &  2204443             &  47287              \\\\\n",
       "\t California           & 06                   & 27958916             & 397142              \\\\\n",
       "\t Louisiana            & 22                   &  3415357             &  88104              \\\\\n",
       "\t Kentucky             & 21                   &  3315996             &  70779              \\\\\n",
       "\t Colorado             & 08                   &  3803587             &  61591              \\\\\n",
       "\t Connecticut          & 09                   &  2757082             &  49370              \\\\\n",
       "\t Delaware             & 10                   &   692169             &  11673              \\\\\n",
       "\t District of Columbia & 11                   &   500908             &   7339              \\\\\n",
       "\t Florida              & 12                   & 14799219             & 254506              \\\\\n",
       "\t Georgia              & 13                   &  7196101             & 144545              \\\\\n",
       "\t Hawaii               & 15                   &  1056483             &  11306              \\\\\n",
       "\t Idaho                & 16                   &  1138510             &  17076              \\\\\n",
       "\t Illinois             & 17                   &  9701453             & 159989              \\\\\n",
       "\t Indiana              & 18                   &  4875504             &  95336              \\\\\n",
       "\t Iowa                 & 19                   &  2318362             &  43282              \\\\\n",
       "\t Kansas               & 20                   &  2126179             &  41393              \\\\\n",
       "\t Maine                & 23                   &  1053828             &  12409              \\\\\n",
       "\t Maryland             & 24                   &  4420588             &  66838              \\\\\n",
       "\t Massachusetts        & 25                   &  5128706             &  74667              \\\\\n",
       "\t Michigan             & 26                   &  7539572             & 109867              \\\\\n",
       "\t Minnesota            & 27                   &  4019862             &  56308              \\\\\n",
       "\t Mississippi          & 28                   &  2211742             &  55135              \\\\\n",
       "\t Missouri             & 29                   &  4563491             &  93274              \\\\\n",
       "\t Montana              & 30                   &   765852             &  11929              \\\\\n",
       "\t Nebraska             & 31                   &  1367120             &  23633              \\\\\n",
       "\t Nevada               & 32                   &  2035543             &  25835              \\\\\n",
       "\t New Hampshire        & 33                   &  1029236             &  13113              \\\\\n",
       "\t New Jersey           & 34                   &  6726680             & 100621              \\\\\n",
       "\t New Mexico           & 35                   &  1540507             &  25266              \\\\\n",
       "\t New York             & 36                   & 15053173             & 231163              \\\\\n",
       "\t North Carolina       & 37                   &  7253848             & 113296              \\\\\n",
       "\t North Dakota         & 38                   &   522720             &   9675              \\\\\n",
       "\t Ohio                 & 39                   &  8805753             & 166042              \\\\\n",
       "\t Oklahoma             & 40                   &  2821685             &  64411              \\\\\n",
       "\t Oregon               & 41                   &  2964621             &  36612              \\\\\n",
       "\t Pennsylvania         & 42                   &  9910224             & 197112              \\\\\n",
       "\t Rhode Island         & 44                   &   828611             &  12932              \\\\\n",
       "\t South Carolina       & 45                   &  3544890             &  63765              \\\\\n",
       "\t South Dakota         & 46                   &   611383             &  14797              \\\\\n",
       "\t Tennessee            & 47                   &  4850104             &  84371              \\\\\n",
       "\t Texas                & 48                   & 18279737             & 375392              \\\\\n",
       "\t Utah                 & 49                   &  1892858             &  22161              \\\\\n",
       "\t Vermont              & 50                   &   496508             &   5571              \\\\\n",
       "\t Virginia             & 51                   &  6147347             & 101333              \\\\\n",
       "\t Washington           & 53                   &  5143186             &  57844              \\\\\n",
       "\t West Virginia        & 54                   &  1465576             &  28323              \\\\\n",
       "\t Wisconsin            & 55                   &  4347494             &  74295              \\\\\n",
       "\t Wyoming              & 56                   &   428224             &   6701              \\\\\n",
       "\t Puerto Rico          & 72                   &  2822494             &  24444              \\\\\n",
       "\\end{tabular}\n"
      ],
      "text/markdown": [
       "\n",
       "| NAME | state | Total.Population | Total.Prison |\n",
       "|---|---|---|---|\n",
       "| Alabama              | 01                   |  3647277             |  67004               |\n",
       "| Alaska               | 02                   |   522853             |   6458               |\n",
       "| Arizona              | 04                   |  4763003             |  84788               |\n",
       "| Arkansas             | 05                   |  2204443             |  47287               |\n",
       "| California           | 06                   | 27958916             | 397142               |\n",
       "| Louisiana            | 22                   |  3415357             |  88104               |\n",
       "| Kentucky             | 21                   |  3315996             |  70779               |\n",
       "| Colorado             | 08                   |  3803587             |  61591               |\n",
       "| Connecticut          | 09                   |  2757082             |  49370               |\n",
       "| Delaware             | 10                   |   692169             |  11673               |\n",
       "| District of Columbia | 11                   |   500908             |   7339               |\n",
       "| Florida              | 12                   | 14799219             | 254506               |\n",
       "| Georgia              | 13                   |  7196101             | 144545               |\n",
       "| Hawaii               | 15                   |  1056483             |  11306               |\n",
       "| Idaho                | 16                   |  1138510             |  17076               |\n",
       "| Illinois             | 17                   |  9701453             | 159989               |\n",
       "| Indiana              | 18                   |  4875504             |  95336               |\n",
       "| Iowa                 | 19                   |  2318362             |  43282               |\n",
       "| Kansas               | 20                   |  2126179             |  41393               |\n",
       "| Maine                | 23                   |  1053828             |  12409               |\n",
       "| Maryland             | 24                   |  4420588             |  66838               |\n",
       "| Massachusetts        | 25                   |  5128706             |  74667               |\n",
       "| Michigan             | 26                   |  7539572             | 109867               |\n",
       "| Minnesota            | 27                   |  4019862             |  56308               |\n",
       "| Mississippi          | 28                   |  2211742             |  55135               |\n",
       "| Missouri             | 29                   |  4563491             |  93274               |\n",
       "| Montana              | 30                   |   765852             |  11929               |\n",
       "| Nebraska             | 31                   |  1367120             |  23633               |\n",
       "| Nevada               | 32                   |  2035543             |  25835               |\n",
       "| New Hampshire        | 33                   |  1029236             |  13113               |\n",
       "| New Jersey           | 34                   |  6726680             | 100621               |\n",
       "| New Mexico           | 35                   |  1540507             |  25266               |\n",
       "| New York             | 36                   | 15053173             | 231163               |\n",
       "| North Carolina       | 37                   |  7253848             | 113296               |\n",
       "| North Dakota         | 38                   |   522720             |   9675               |\n",
       "| Ohio                 | 39                   |  8805753             | 166042               |\n",
       "| Oklahoma             | 40                   |  2821685             |  64411               |\n",
       "| Oregon               | 41                   |  2964621             |  36612               |\n",
       "| Pennsylvania         | 42                   |  9910224             | 197112               |\n",
       "| Rhode Island         | 44                   |   828611             |  12932               |\n",
       "| South Carolina       | 45                   |  3544890             |  63765               |\n",
       "| South Dakota         | 46                   |   611383             |  14797               |\n",
       "| Tennessee            | 47                   |  4850104             |  84371               |\n",
       "| Texas                | 48                   | 18279737             | 375392               |\n",
       "| Utah                 | 49                   |  1892858             |  22161               |\n",
       "| Vermont              | 50                   |   496508             |   5571               |\n",
       "| Virginia             | 51                   |  6147347             | 101333               |\n",
       "| Washington           | 53                   |  5143186             |  57844               |\n",
       "| West Virginia        | 54                   |  1465576             |  28323               |\n",
       "| Wisconsin            | 55                   |  4347494             |  74295               |\n",
       "| Wyoming              | 56                   |   428224             |   6701               |\n",
       "| Puerto Rico          | 72                   |  2822494             |  24444               |\n",
       "\n"
      ],
      "text/plain": [
       "   NAME                 state Total.Population Total.Prison\n",
       "1  Alabama              01     3647277          67004      \n",
       "2  Alaska               02      522853           6458      \n",
       "3  Arizona              04     4763003          84788      \n",
       "4  Arkansas             05     2204443          47287      \n",
       "5  California           06    27958916         397142      \n",
       "6  Louisiana            22     3415357          88104      \n",
       "7  Kentucky             21     3315996          70779      \n",
       "8  Colorado             08     3803587          61591      \n",
       "9  Connecticut          09     2757082          49370      \n",
       "10 Delaware             10      692169          11673      \n",
       "11 District of Columbia 11      500908           7339      \n",
       "12 Florida              12    14799219         254506      \n",
       "13 Georgia              13     7196101         144545      \n",
       "14 Hawaii               15     1056483          11306      \n",
       "15 Idaho                16     1138510          17076      \n",
       "16 Illinois             17     9701453         159989      \n",
       "17 Indiana              18     4875504          95336      \n",
       "18 Iowa                 19     2318362          43282      \n",
       "19 Kansas               20     2126179          41393      \n",
       "20 Maine                23     1053828          12409      \n",
       "21 Maryland             24     4420588          66838      \n",
       "22 Massachusetts        25     5128706          74667      \n",
       "23 Michigan             26     7539572         109867      \n",
       "24 Minnesota            27     4019862          56308      \n",
       "25 Mississippi          28     2211742          55135      \n",
       "26 Missouri             29     4563491          93274      \n",
       "27 Montana              30      765852          11929      \n",
       "28 Nebraska             31     1367120          23633      \n",
       "29 Nevada               32     2035543          25835      \n",
       "30 New Hampshire        33     1029236          13113      \n",
       "31 New Jersey           34     6726680         100621      \n",
       "32 New Mexico           35     1540507          25266      \n",
       "33 New York             36    15053173         231163      \n",
       "34 North Carolina       37     7253848         113296      \n",
       "35 North Dakota         38      522720           9675      \n",
       "36 Ohio                 39     8805753         166042      \n",
       "37 Oklahoma             40     2821685          64411      \n",
       "38 Oregon               41     2964621          36612      \n",
       "39 Pennsylvania         42     9910224         197112      \n",
       "40 Rhode Island         44      828611          12932      \n",
       "41 South Carolina       45     3544890          63765      \n",
       "42 South Dakota         46      611383          14797      \n",
       "43 Tennessee            47     4850104          84371      \n",
       "44 Texas                48    18279737         375392      \n",
       "45 Utah                 49     1892858          22161      \n",
       "46 Vermont              50      496508           5571      \n",
       "47 Virginia             51     6147347         101333      \n",
       "48 Washington           53     5143186          57844      \n",
       "49 West Virginia        54     1465576          28323      \n",
       "50 Wisconsin            55     4347494          74295      \n",
       "51 Wyoming              56      428224           6701      \n",
       "52 Puerto Rico          72     2822494          24444      "
      ]
     },
     "metadata": {},
     "output_type": "display_data"
    }
   ],
   "source": [
    "census_2010 = getCensus(name=\"2010/dec/sf1\",\n",
    "          vars=c(\"NAME\", \"P010001\", \"P042002\"),\n",
    "          region=\"state:*\")\n",
    "\n",
    "census = select(census_2010, NAME, state, Total.Population=P010001, Total.Prison=P042002)\n",
    "census"
   ]
  },
  {
   "cell_type": "markdown",
   "metadata": {},
   "source": [
    "I recommend that you rename the fields to be something more meaningful before proceeding!"
   ]
  },
  {
   "cell_type": "markdown",
   "metadata": {},
   "source": [
    "## Initial Questions\n",
    "\n",
    "Write R code and text to answer the following questions:"
   ]
  },
  {
   "cell_type": "markdown",
   "metadata": {},
   "source": [
    "### Most Populus States\n",
    "\n",
    "What 5 states have the highest population?\n",
    "\n",
    "**Hint:** the `arrange` dplyr verb will sort data."
   ]
  },
  {
   "cell_type": "code",
   "execution_count": 6,
   "metadata": {},
   "outputs": [
    {
     "name": "stderr",
     "output_type": "stream",
     "text": [
      "Selecting by Total.Prison\n"
     ]
    },
    {
     "data": {
      "text/html": [
       "<table>\n",
       "<thead><tr><th scope=col>NAME</th><th scope=col>state</th><th scope=col>Total.Population</th><th scope=col>Total.Prison</th></tr></thead>\n",
       "<tbody>\n",
       "\t<tr><td>California  </td><td>06          </td><td>27958916    </td><td>397142      </td></tr>\n",
       "\t<tr><td>Texas       </td><td>48          </td><td>18279737    </td><td>375392      </td></tr>\n",
       "\t<tr><td>New York    </td><td>36          </td><td>15053173    </td><td>231163      </td></tr>\n",
       "\t<tr><td>Florida     </td><td>12          </td><td>14799219    </td><td>254506      </td></tr>\n",
       "\t<tr><td>Pennsylvania</td><td>42          </td><td> 9910224    </td><td>197112      </td></tr>\n",
       "</tbody>\n",
       "</table>\n"
      ],
      "text/latex": [
       "\\begin{tabular}{r|llll}\n",
       " NAME & state & Total.Population & Total.Prison\\\\\n",
       "\\hline\n",
       "\t California   & 06           & 27958916     & 397142      \\\\\n",
       "\t Texas        & 48           & 18279737     & 375392      \\\\\n",
       "\t New York     & 36           & 15053173     & 231163      \\\\\n",
       "\t Florida      & 12           & 14799219     & 254506      \\\\\n",
       "\t Pennsylvania & 42           &  9910224     & 197112      \\\\\n",
       "\\end{tabular}\n"
      ],
      "text/markdown": [
       "\n",
       "| NAME | state | Total.Population | Total.Prison |\n",
       "|---|---|---|---|\n",
       "| California   | 06           | 27958916     | 397142       |\n",
       "| Texas        | 48           | 18279737     | 375392       |\n",
       "| New York     | 36           | 15053173     | 231163       |\n",
       "| Florida      | 12           | 14799219     | 254506       |\n",
       "| Pennsylvania | 42           |  9910224     | 197112       |\n",
       "\n"
      ],
      "text/plain": [
       "  NAME         state Total.Population Total.Prison\n",
       "1 California   06    27958916         397142      \n",
       "2 Texas        48    18279737         375392      \n",
       "3 New York     36    15053173         231163      \n",
       "4 Florida      12    14799219         254506      \n",
       "5 Pennsylvania 42     9910224         197112      "
      ]
     },
     "metadata": {},
     "output_type": "display_data"
    }
   ],
   "source": [
    "census_pop = arrange(census, desc(Total.Population)) %>% top_n(5)\n",
    "census_pop"
   ]
  },
  {
   "cell_type": "markdown",
   "metadata": {},
   "source": [
    "### Highest Prison Populations\n",
    "\n",
    "What 5 states have the highest prison populations?"
   ]
  },
  {
   "cell_type": "code",
   "execution_count": 7,
   "metadata": {},
   "outputs": [
    {
     "name": "stderr",
     "output_type": "stream",
     "text": [
      "Selecting by Total.Prison\n"
     ]
    },
    {
     "data": {
      "text/html": [
       "<table>\n",
       "<thead><tr><th scope=col>NAME</th><th scope=col>state</th><th scope=col>Total.Population</th><th scope=col>Total.Prison</th></tr></thead>\n",
       "<tbody>\n",
       "\t<tr><td>California  </td><td>06          </td><td>27958916    </td><td>397142      </td></tr>\n",
       "\t<tr><td>Texas       </td><td>48          </td><td>18279737    </td><td>375392      </td></tr>\n",
       "\t<tr><td>Florida     </td><td>12          </td><td>14799219    </td><td>254506      </td></tr>\n",
       "\t<tr><td>New York    </td><td>36          </td><td>15053173    </td><td>231163      </td></tr>\n",
       "\t<tr><td>Pennsylvania</td><td>42          </td><td> 9910224    </td><td>197112      </td></tr>\n",
       "</tbody>\n",
       "</table>\n"
      ],
      "text/latex": [
       "\\begin{tabular}{r|llll}\n",
       " NAME & state & Total.Population & Total.Prison\\\\\n",
       "\\hline\n",
       "\t California   & 06           & 27958916     & 397142      \\\\\n",
       "\t Texas        & 48           & 18279737     & 375392      \\\\\n",
       "\t Florida      & 12           & 14799219     & 254506      \\\\\n",
       "\t New York     & 36           & 15053173     & 231163      \\\\\n",
       "\t Pennsylvania & 42           &  9910224     & 197112      \\\\\n",
       "\\end{tabular}\n"
      ],
      "text/markdown": [
       "\n",
       "| NAME | state | Total.Population | Total.Prison |\n",
       "|---|---|---|---|\n",
       "| California   | 06           | 27958916     | 397142       |\n",
       "| Texas        | 48           | 18279737     | 375392       |\n",
       "| Florida      | 12           | 14799219     | 254506       |\n",
       "| New York     | 36           | 15053173     | 231163       |\n",
       "| Pennsylvania | 42           |  9910224     | 197112       |\n",
       "\n"
      ],
      "text/plain": [
       "  NAME         state Total.Population Total.Prison\n",
       "1 California   06    27958916         397142      \n",
       "2 Texas        48    18279737         375392      \n",
       "3 Florida      12    14799219         254506      \n",
       "4 New York     36    15053173         231163      \n",
       "5 Pennsylvania 42     9910224         197112      "
      ]
     },
     "metadata": {},
     "output_type": "display_data"
    }
   ],
   "source": [
    "census_jail = arrange(census, desc(Total.Prison)) %>% top_n(5)\n",
    "census_jail"
   ]
  },
  {
   "cell_type": "markdown",
   "metadata": {},
   "source": [
    "### Prisoners per Capita\n",
    "\n",
    "What 5 states have the most prisoners per capita?"
   ]
  },
  {
   "cell_type": "code",
   "execution_count": 8,
   "metadata": {},
   "outputs": [
    {
     "name": "stderr",
     "output_type": "stream",
     "text": [
      "Selecting by ppc\n"
     ]
    },
    {
     "data": {
      "text/html": [
       "<table>\n",
       "<thead><tr><th scope=col>NAME</th><th scope=col>state</th><th scope=col>Total.Population</th><th scope=col>Total.Prison</th><th scope=col>ppc</th></tr></thead>\n",
       "<tbody>\n",
       "\t<tr><td>Louisiana   </td><td>22          </td><td>3415357     </td><td>88104       </td><td>0.02579642  </td></tr>\n",
       "\t<tr><td>Mississippi </td><td>28          </td><td>2211742     </td><td>55135       </td><td>0.02492831  </td></tr>\n",
       "\t<tr><td>South Dakota</td><td>46          </td><td> 611383     </td><td>14797       </td><td>0.02420250  </td></tr>\n",
       "\t<tr><td>Oklahoma    </td><td>40          </td><td>2821685     </td><td>64411       </td><td>0.02282714  </td></tr>\n",
       "\t<tr><td>Arkansas    </td><td>05          </td><td>2204443     </td><td>47287       </td><td>0.02145077  </td></tr>\n",
       "</tbody>\n",
       "</table>\n"
      ],
      "text/latex": [
       "\\begin{tabular}{r|lllll}\n",
       " NAME & state & Total.Population & Total.Prison & ppc\\\\\n",
       "\\hline\n",
       "\t Louisiana    & 22           & 3415357      & 88104        & 0.02579642  \\\\\n",
       "\t Mississippi  & 28           & 2211742      & 55135        & 0.02492831  \\\\\n",
       "\t South Dakota & 46           &  611383      & 14797        & 0.02420250  \\\\\n",
       "\t Oklahoma     & 40           & 2821685      & 64411        & 0.02282714  \\\\\n",
       "\t Arkansas     & 05           & 2204443      & 47287        & 0.02145077  \\\\\n",
       "\\end{tabular}\n"
      ],
      "text/markdown": [
       "\n",
       "| NAME | state | Total.Population | Total.Prison | ppc |\n",
       "|---|---|---|---|---|\n",
       "| Louisiana    | 22           | 3415357      | 88104        | 0.02579642   |\n",
       "| Mississippi  | 28           | 2211742      | 55135        | 0.02492831   |\n",
       "| South Dakota | 46           |  611383      | 14797        | 0.02420250   |\n",
       "| Oklahoma     | 40           | 2821685      | 64411        | 0.02282714   |\n",
       "| Arkansas     | 05           | 2204443      | 47287        | 0.02145077   |\n",
       "\n"
      ],
      "text/plain": [
       "  NAME         state Total.Population Total.Prison ppc       \n",
       "1 Louisiana    22    3415357          88104        0.02579642\n",
       "2 Mississippi  28    2211742          55135        0.02492831\n",
       "3 South Dakota 46     611383          14797        0.02420250\n",
       "4 Oklahoma     40    2821685          64411        0.02282714\n",
       "5 Arkansas     05    2204443          47287        0.02145077"
      ]
     },
     "metadata": {},
     "output_type": "display_data"
    }
   ],
   "source": [
    "prisoner_per_capita = arrange(census %>% mutate(ppc = Total.Prison/Total.Population), desc(ppc)) %>% top_n(5)\n",
    "prisoner_per_capita"
   ]
  },
  {
   "cell_type": "markdown",
   "metadata": {},
   "source": [
    "### Probability\n",
    "\n",
    "What is the probability that a person selected at random is born in Rhode Island?"
   ]
  },
  {
   "cell_type": "code",
   "execution_count": 9,
   "metadata": {},
   "outputs": [
    {
     "data": {
      "text/html": [
       "<table>\n",
       "<thead><tr><th scope=col>Prob</th></tr></thead>\n",
       "<tbody>\n",
       "\t<tr><td>0.003490556</td></tr>\n",
       "</tbody>\n",
       "</table>\n"
      ],
      "text/latex": [
       "\\begin{tabular}{r|l}\n",
       " Prob\\\\\n",
       "\\hline\n",
       "\t 0.003490556\\\\\n",
       "\\end{tabular}\n"
      ],
      "text/markdown": [
       "\n",
       "| Prob |\n",
       "|---|\n",
       "| 0.003490556 |\n",
       "\n"
      ],
      "text/plain": [
       "  Prob       \n",
       "1 0.003490556"
      ]
     },
     "metadata": {},
     "output_type": "display_data"
    }
   ],
   "source": [
    "Tot.US.Pop = summarize(census, US=sum(Total.Population))\n",
    "Rhode.Island = select(filter(census, state == 44), Rhode.Island=Total.Population)\n",
    "Prob = select(Rhode.Island/Tot.US.Pop, Prob=Rhode.Island)\n",
    "Prob"
   ]
  },
  {
   "cell_type": "markdown",
   "metadata": {},
   "source": [
    "What is the probability that a person is born in one of the Dakotas (North Dakota or South Dakota)?"
   ]
  },
  {
   "cell_type": "code",
   "execution_count": 10,
   "metadata": {},
   "outputs": [
    {
     "data": {
      "text/html": [
       "<table>\n",
       "<thead><tr><th scope=col>Prob2</th></tr></thead>\n",
       "<tbody>\n",
       "\t<tr><td>0.004777452</td></tr>\n",
       "</tbody>\n",
       "</table>\n"
      ],
      "text/latex": [
       "\\begin{tabular}{r|l}\n",
       " Prob2\\\\\n",
       "\\hline\n",
       "\t 0.004777452\\\\\n",
       "\\end{tabular}\n"
      ],
      "text/markdown": [
       "\n",
       "| Prob2 |\n",
       "|---|\n",
       "| 0.004777452 |\n",
       "\n"
      ],
      "text/plain": [
       "  Prob2      \n",
       "1 0.004777452"
      ]
     },
     "metadata": {},
     "output_type": "display_data"
    }
   ],
   "source": [
    "Dakotas = filter(census, state == 38 | state == 46)\n",
    "Tot.Dakotas = summarize(Dakotas, NS_Dakota=sum(Total.Population))\n",
    "Prob2 = select(Tot.Dakotas/Tot.US.Pop, Prob2=NS_Dakota)\n",
    "Prob2"
   ]
  },
  {
   "cell_type": "markdown",
   "metadata": {},
   "source": [
    "## Visualization\n",
    "\n",
    "Plot a histogram of state populations."
   ]
  },
  {
   "cell_type": "code",
   "execution_count": 11,
   "metadata": {},
   "outputs": [
    {
     "name": "stderr",
     "output_type": "stream",
     "text": [
      "`stat_bin()` using `bins = 30`. Pick better value with `binwidth`.\n"
     ]
    },
    {
     "data": {
      "image/png": "[encoded data removed]",
      "text/plain": [
       "plot without title"
      ]
     },
     "metadata": {},
     "output_type": "display_data"
    }
   ],
   "source": [
    "ggplot(census, aes(Total.Population)) +\n",
    "  geom_histogram()"
   ]
  },
  {
   "cell_type": "markdown",
   "metadata": {},
   "source": [
    "Plot a histogram of _county_ populations.  You can get counties by using `county:*` as your selector instead of `state:*` in a `getCensus` call."
   ]
  },
  {
   "cell_type": "code",
   "execution_count": 17,
   "metadata": {},
   "outputs": [
    {
     "name": "stderr",
     "output_type": "stream",
     "text": [
      "`stat_bin()` using `bins = 30`. Pick better value with `binwidth`.\n"
     ]
    },
    {
     "data": {
      "image/png": "[encoded data removed]",
      "text/plain": [
       "plot without title"
      ]
     },
     "metadata": {},
     "output_type": "display_data"
    }
   ],
   "source": [
    "county_census = getCensus(name=\"2010/dec/sf1\", vars=c(\"NAME\", \"P001001\", \"P042002\"), region=\"county:*\")\n",
    "county = select(county_census, NAME, state, Total.Population=P001001, Total.Prison=P042002)\n",
    "ggplot(county, aes(Total.Population)) +\n",
    "  geom_histogram()"
   ]
  },
  {
   "cell_type": "markdown",
   "metadata": {},
   "source": [
    "What are the largest 5 counties in Idaho?"
   ]
  },
  {
   "cell_type": "code",
   "execution_count": 18,
   "metadata": {},
   "outputs": [
    {
     "name": "stderr",
     "output_type": "stream",
     "text": [
      "Selecting by Total.Prison\n"
     ]
    },
    {
     "data": {
      "text/html": [
       "<table>\n",
       "<thead><tr><th scope=col>NAME</th><th scope=col>state</th><th scope=col>Total.Population</th><th scope=col>Total.Prison</th></tr></thead>\n",
       "<tbody>\n",
       "\t<tr><td>Ada County, Idaho       </td><td>16                      </td><td>392365                  </td><td>7536                    </td></tr>\n",
       "\t<tr><td>Canyon County, Idaho    </td><td>16                      </td><td>188923                  </td><td>1466                    </td></tr>\n",
       "\t<tr><td>Kootenai County, Idaho  </td><td>16                      </td><td>138494                  </td><td> 917                    </td></tr>\n",
       "\t<tr><td>Bannock County, Idaho   </td><td>16                      </td><td> 82839                  </td><td> 884                    </td></tr>\n",
       "\t<tr><td>Twin Falls County, Idaho</td><td>16                      </td><td> 77230                  </td><td> 756                    </td></tr>\n",
       "</tbody>\n",
       "</table>\n"
      ],
      "text/latex": [
       "\\begin{tabular}{r|llll}\n",
       " NAME & state & Total.Population & Total.Prison\\\\\n",
       "\\hline\n",
       "\t Ada County, Idaho        & 16                       & 392365                   & 7536                    \\\\\n",
       "\t Canyon County, Idaho     & 16                       & 188923                   & 1466                    \\\\\n",
       "\t Kootenai County, Idaho   & 16                       & 138494                   &  917                    \\\\\n",
       "\t Bannock County, Idaho    & 16                       &  82839                   &  884                    \\\\\n",
       "\t Twin Falls County, Idaho & 16                       &  77230                   &  756                    \\\\\n",
       "\\end{tabular}\n"
      ],
      "text/markdown": [
       "\n",
       "| NAME | state | Total.Population | Total.Prison |\n",
       "|---|---|---|---|\n",
       "| Ada County, Idaho        | 16                       | 392365                   | 7536                     |\n",
       "| Canyon County, Idaho     | 16                       | 188923                   | 1466                     |\n",
       "| Kootenai County, Idaho   | 16                       | 138494                   |  917                     |\n",
       "| Bannock County, Idaho    | 16                       |  82839                   |  884                     |\n",
       "| Twin Falls County, Idaho | 16                       |  77230                   |  756                     |\n",
       "\n"
      ],
      "text/plain": [
       "  NAME                     state Total.Population Total.Prison\n",
       "1 Ada County, Idaho        16    392365           7536        \n",
       "2 Canyon County, Idaho     16    188923           1466        \n",
       "3 Kootenai County, Idaho   16    138494            917        \n",
       "4 Bannock County, Idaho    16     82839            884        \n",
       "5 Twin Falls County, Idaho 16     77230            756        "
      ]
     },
     "metadata": {},
     "output_type": "display_data"
    }
   ],
   "source": [
    "idaho_census = (arrange(filter(county, state == 16), desc(Total.Population))) %>% top_n(5)\n",
    "idaho_census"
   ]
  },
  {
   "cell_type": "markdown",
   "metadata": {},
   "source": [
    "## Joining Data\n",
    "\n",
    "For the next section, we want to work with _two_ data sets.\n",
    "\n",
    "Fetch the 2000 data set as well. Unfortunately, they changed the variable names!  You can find the 2000 list [here](http://api.census.gov/data/2000/sf1/variables.html); the key thing is that, for example, the total population variable is now `P001001`"
   ]
  },
  {
   "cell_type": "code",
   "execution_count": 19,
   "metadata": {},
   "outputs": [
    {
     "data": {
      "text/html": [
       "<table>\n",
       "<thead><tr><th scope=col>NAME</th><th scope=col>state</th><th scope=col>Total.Pop</th></tr></thead>\n",
       "<tbody>\n",
       "\t<tr><td>Alabama             </td><td>01                  </td><td> 4447100            </td></tr>\n",
       "\t<tr><td>Alaska              </td><td>02                  </td><td>  626932            </td></tr>\n",
       "\t<tr><td>Arizona             </td><td>04                  </td><td> 5130632            </td></tr>\n",
       "\t<tr><td>Arkansas            </td><td>05                  </td><td> 2673400            </td></tr>\n",
       "\t<tr><td>California          </td><td>06                  </td><td>33871648            </td></tr>\n",
       "\t<tr><td>Colorado            </td><td>08                  </td><td> 4301261            </td></tr>\n",
       "\t<tr><td>Connecticut         </td><td>09                  </td><td> 3405565            </td></tr>\n",
       "\t<tr><td>Delaware            </td><td>10                  </td><td>  783600            </td></tr>\n",
       "\t<tr><td>District of Columbia</td><td>11                  </td><td>  572059            </td></tr>\n",
       "\t<tr><td>Florida             </td><td>12                  </td><td>15982378            </td></tr>\n",
       "\t<tr><td>Georgia             </td><td>13                  </td><td> 8186453            </td></tr>\n",
       "\t<tr><td>Hawaii              </td><td>15                  </td><td> 1211537            </td></tr>\n",
       "\t<tr><td>Idaho               </td><td>16                  </td><td> 1293953            </td></tr>\n",
       "\t<tr><td>Illinois            </td><td>17                  </td><td>12419293            </td></tr>\n",
       "\t<tr><td>Indiana             </td><td>18                  </td><td> 6080485            </td></tr>\n",
       "\t<tr><td>Iowa                </td><td>19                  </td><td> 2926324            </td></tr>\n",
       "\t<tr><td>Kansas              </td><td>20                  </td><td> 2688418            </td></tr>\n",
       "\t<tr><td>Kentucky            </td><td>21                  </td><td> 4041769            </td></tr>\n",
       "\t<tr><td>Louisiana           </td><td>22                  </td><td> 4468976            </td></tr>\n",
       "\t<tr><td>Maine               </td><td>23                  </td><td> 1274923            </td></tr>\n",
       "\t<tr><td>Maryland            </td><td>24                  </td><td> 5296486            </td></tr>\n",
       "\t<tr><td>Massachusetts       </td><td>25                  </td><td> 6349097            </td></tr>\n",
       "\t<tr><td>Michigan            </td><td>26                  </td><td> 9938444            </td></tr>\n",
       "\t<tr><td>Minnesota           </td><td>27                  </td><td> 4919479            </td></tr>\n",
       "\t<tr><td>Mississippi         </td><td>28                  </td><td> 2844658            </td></tr>\n",
       "\t<tr><td>Missouri            </td><td>29                  </td><td> 5595211            </td></tr>\n",
       "\t<tr><td>Montana             </td><td>30                  </td><td>  902195            </td></tr>\n",
       "\t<tr><td>Nebraska            </td><td>31                  </td><td> 1711263            </td></tr>\n",
       "\t<tr><td>Nevada              </td><td>32                  </td><td> 1998257            </td></tr>\n",
       "\t<tr><td>New Hampshire       </td><td>33                  </td><td> 1235786            </td></tr>\n",
       "\t<tr><td>New Jersey          </td><td>34                  </td><td> 8414350            </td></tr>\n",
       "\t<tr><td>New Mexico          </td><td>35                  </td><td> 1819046            </td></tr>\n",
       "\t<tr><td>New York            </td><td>36                  </td><td>18976457            </td></tr>\n",
       "\t<tr><td>North Carolina      </td><td>37                  </td><td> 8049313            </td></tr>\n",
       "\t<tr><td>North Dakota        </td><td>38                  </td><td>  642200            </td></tr>\n",
       "\t<tr><td>Ohio                </td><td>39                  </td><td>11353140            </td></tr>\n",
       "\t<tr><td>Oklahoma            </td><td>40                  </td><td> 3450654            </td></tr>\n",
       "\t<tr><td>Oregon              </td><td>41                  </td><td> 3421399            </td></tr>\n",
       "\t<tr><td>Pennsylvania        </td><td>42                  </td><td>12281054            </td></tr>\n",
       "\t<tr><td>Rhode Island        </td><td>44                  </td><td> 1048319            </td></tr>\n",
       "\t<tr><td>South Carolina      </td><td>45                  </td><td> 4012012            </td></tr>\n",
       "\t<tr><td>South Dakota        </td><td>46                  </td><td>  754844            </td></tr>\n",
       "\t<tr><td>Tennessee           </td><td>47                  </td><td> 5689283            </td></tr>\n",
       "\t<tr><td>Texas               </td><td>48                  </td><td>20851820            </td></tr>\n",
       "\t<tr><td>Utah                </td><td>49                  </td><td> 2233169            </td></tr>\n",
       "\t<tr><td>Vermont             </td><td>50                  </td><td>  608827            </td></tr>\n",
       "\t<tr><td>Virginia            </td><td>51                  </td><td> 7078515            </td></tr>\n",
       "\t<tr><td>Washington          </td><td>53                  </td><td> 5894121            </td></tr>\n",
       "\t<tr><td>West Virginia       </td><td>54                  </td><td> 1808344            </td></tr>\n",
       "\t<tr><td>Wisconsin           </td><td>55                  </td><td> 5363675            </td></tr>\n",
       "\t<tr><td>Wyoming             </td><td>56                  </td><td>  493782            </td></tr>\n",
       "</tbody>\n",
       "</table>\n"
      ],
      "text/latex": [
       "\\begin{tabular}{r|lll}\n",
       " NAME & state & Total.Pop\\\\\n",
       "\\hline\n",
       "\t Alabama              & 01                   &  4447100            \\\\\n",
       "\t Alaska               & 02                   &   626932            \\\\\n",
       "\t Arizona              & 04                   &  5130632            \\\\\n",
       "\t Arkansas             & 05                   &  2673400            \\\\\n",
       "\t California           & 06                   & 33871648            \\\\\n",
       "\t Colorado             & 08                   &  4301261            \\\\\n",
       "\t Connecticut          & 09                   &  3405565            \\\\\n",
       "\t Delaware             & 10                   &   783600            \\\\\n",
       "\t District of Columbia & 11                   &   572059            \\\\\n",
       "\t Florida              & 12                   & 15982378            \\\\\n",
       "\t Georgia              & 13                   &  8186453            \\\\\n",
       "\t Hawaii               & 15                   &  1211537            \\\\\n",
       "\t Idaho                & 16                   &  1293953            \\\\\n",
       "\t Illinois             & 17                   & 12419293            \\\\\n",
       "\t Indiana              & 18                   &  6080485            \\\\\n",
       "\t Iowa                 & 19                   &  2926324            \\\\\n",
       "\t Kansas               & 20                   &  2688418            \\\\\n",
       "\t Kentucky             & 21                   &  4041769            \\\\\n",
       "\t Louisiana            & 22                   &  4468976            \\\\\n",
       "\t Maine                & 23                   &  1274923            \\\\\n",
       "\t Maryland             & 24                   &  5296486            \\\\\n",
       "\t Massachusetts        & 25                   &  6349097            \\\\\n",
       "\t Michigan             & 26                   &  9938444            \\\\\n",
       "\t Minnesota            & 27                   &  4919479            \\\\\n",
       "\t Mississippi          & 28                   &  2844658            \\\\\n",
       "\t Missouri             & 29                   &  5595211            \\\\\n",
       "\t Montana              & 30                   &   902195            \\\\\n",
       "\t Nebraska             & 31                   &  1711263            \\\\\n",
       "\t Nevada               & 32                   &  1998257            \\\\\n",
       "\t New Hampshire        & 33                   &  1235786            \\\\\n",
       "\t New Jersey           & 34                   &  8414350            \\\\\n",
       "\t New Mexico           & 35                   &  1819046            \\\\\n",
       "\t New York             & 36                   & 18976457            \\\\\n",
       "\t North Carolina       & 37                   &  8049313            \\\\\n",
       "\t North Dakota         & 38                   &   642200            \\\\\n",
       "\t Ohio                 & 39                   & 11353140            \\\\\n",
       "\t Oklahoma             & 40                   &  3450654            \\\\\n",
       "\t Oregon               & 41                   &  3421399            \\\\\n",
       "\t Pennsylvania         & 42                   & 12281054            \\\\\n",
       "\t Rhode Island         & 44                   &  1048319            \\\\\n",
       "\t South Carolina       & 45                   &  4012012            \\\\\n",
       "\t South Dakota         & 46                   &   754844            \\\\\n",
       "\t Tennessee            & 47                   &  5689283            \\\\\n",
       "\t Texas                & 48                   & 20851820            \\\\\n",
       "\t Utah                 & 49                   &  2233169            \\\\\n",
       "\t Vermont              & 50                   &   608827            \\\\\n",
       "\t Virginia             & 51                   &  7078515            \\\\\n",
       "\t Washington           & 53                   &  5894121            \\\\\n",
       "\t West Virginia        & 54                   &  1808344            \\\\\n",
       "\t Wisconsin            & 55                   &  5363675            \\\\\n",
       "\t Wyoming              & 56                   &   493782            \\\\\n",
       "\\end{tabular}\n"
      ],
      "text/markdown": [
       "\n",
       "| NAME | state | Total.Pop |\n",
       "|---|---|---|\n",
       "| Alabama              | 01                   |  4447100             |\n",
       "| Alaska               | 02                   |   626932             |\n",
       "| Arizona              | 04                   |  5130632             |\n",
       "| Arkansas             | 05                   |  2673400             |\n",
       "| California           | 06                   | 33871648             |\n",
       "| Colorado             | 08                   |  4301261             |\n",
       "| Connecticut          | 09                   |  3405565             |\n",
       "| Delaware             | 10                   |   783600             |\n",
       "| District of Columbia | 11                   |   572059             |\n",
       "| Florida              | 12                   | 15982378             |\n",
       "| Georgia              | 13                   |  8186453             |\n",
       "| Hawaii               | 15                   |  1211537             |\n",
       "| Idaho                | 16                   |  1293953             |\n",
       "| Illinois             | 17                   | 12419293             |\n",
       "| Indiana              | 18                   |  6080485             |\n",
       "| Iowa                 | 19                   |  2926324             |\n",
       "| Kansas               | 20                   |  2688418             |\n",
       "| Kentucky             | 21                   |  4041769             |\n",
       "| Louisiana            | 22                   |  4468976             |\n",
       "| Maine                | 23                   |  1274923             |\n",
       "| Maryland             | 24                   |  5296486             |\n",
       "| Massachusetts        | 25                   |  6349097             |\n",
       "| Michigan             | 26                   |  9938444             |\n",
       "| Minnesota            | 27                   |  4919479             |\n",
       "| Mississippi          | 28                   |  2844658             |\n",
       "| Missouri             | 29                   |  5595211             |\n",
       "| Montana              | 30                   |   902195             |\n",
       "| Nebraska             | 31                   |  1711263             |\n",
       "| Nevada               | 32                   |  1998257             |\n",
       "| New Hampshire        | 33                   |  1235786             |\n",
       "| New Jersey           | 34                   |  8414350             |\n",
       "| New Mexico           | 35                   |  1819046             |\n",
       "| New York             | 36                   | 18976457             |\n",
       "| North Carolina       | 37                   |  8049313             |\n",
       "| North Dakota         | 38                   |   642200             |\n",
       "| Ohio                 | 39                   | 11353140             |\n",
       "| Oklahoma             | 40                   |  3450654             |\n",
       "| Oregon               | 41                   |  3421399             |\n",
       "| Pennsylvania         | 42                   | 12281054             |\n",
       "| Rhode Island         | 44                   |  1048319             |\n",
       "| South Carolina       | 45                   |  4012012             |\n",
       "| South Dakota         | 46                   |   754844             |\n",
       "| Tennessee            | 47                   |  5689283             |\n",
       "| Texas                | 48                   | 20851820             |\n",
       "| Utah                 | 49                   |  2233169             |\n",
       "| Vermont              | 50                   |   608827             |\n",
       "| Virginia             | 51                   |  7078515             |\n",
       "| Washington           | 53                   |  5894121             |\n",
       "| West Virginia        | 54                   |  1808344             |\n",
       "| Wisconsin            | 55                   |  5363675             |\n",
       "| Wyoming              | 56                   |   493782             |\n",
       "\n"
      ],
      "text/plain": [
       "   NAME                 state Total.Pop\n",
       "1  Alabama              01     4447100 \n",
       "2  Alaska               02      626932 \n",
       "3  Arizona              04     5130632 \n",
       "4  Arkansas             05     2673400 \n",
       "5  California           06    33871648 \n",
       "6  Colorado             08     4301261 \n",
       "7  Connecticut          09     3405565 \n",
       "8  Delaware             10      783600 \n",
       "9  District of Columbia 11      572059 \n",
       "10 Florida              12    15982378 \n",
       "11 Georgia              13     8186453 \n",
       "12 Hawaii               15     1211537 \n",
       "13 Idaho                16     1293953 \n",
       "14 Illinois             17    12419293 \n",
       "15 Indiana              18     6080485 \n",
       "16 Iowa                 19     2926324 \n",
       "17 Kansas               20     2688418 \n",
       "18 Kentucky             21     4041769 \n",
       "19 Louisiana            22     4468976 \n",
       "20 Maine                23     1274923 \n",
       "21 Maryland             24     5296486 \n",
       "22 Massachusetts        25     6349097 \n",
       "23 Michigan             26     9938444 \n",
       "24 Minnesota            27     4919479 \n",
       "25 Mississippi          28     2844658 \n",
       "26 Missouri             29     5595211 \n",
       "27 Montana              30      902195 \n",
       "28 Nebraska             31     1711263 \n",
       "29 Nevada               32     1998257 \n",
       "30 New Hampshire        33     1235786 \n",
       "31 New Jersey           34     8414350 \n",
       "32 New Mexico           35     1819046 \n",
       "33 New York             36    18976457 \n",
       "34 North Carolina       37     8049313 \n",
       "35 North Dakota         38      642200 \n",
       "36 Ohio                 39    11353140 \n",
       "37 Oklahoma             40     3450654 \n",
       "38 Oregon               41     3421399 \n",
       "39 Pennsylvania         42    12281054 \n",
       "40 Rhode Island         44     1048319 \n",
       "41 South Carolina       45     4012012 \n",
       "42 South Dakota         46      754844 \n",
       "43 Tennessee            47     5689283 \n",
       "44 Texas                48    20851820 \n",
       "45 Utah                 49     2233169 \n",
       "46 Vermont              50      608827 \n",
       "47 Virginia             51     7078515 \n",
       "48 Washington           53     5894121 \n",
       "49 West Virginia        54     1808344 \n",
       "50 Wisconsin            55     5363675 \n",
       "51 Wyoming              56      493782 "
      ]
     },
     "metadata": {},
     "output_type": "display_data"
    }
   ],
   "source": [
    "y2000_census = getCensus(name=\"sf1\", vintage=2000, vars=c(\"NAME\", \"P001001\"), region=\"state:*\")\n",
    "census_2000 = select(y2000_census, NAME, state, Total.Pop=P001001)\n",
    "census_2000"
   ]
  },
  {
   "cell_type": "markdown",
   "metadata": {},
   "source": [
    "You will need to connect the two data sets; the `inner_join` dplyr verb is used for this."
   ]
  },
  {
   "cell_type": "code",
   "execution_count": 20,
   "metadata": {},
   "outputs": [
    {
     "data": {
      "text/html": [
       "<table>\n",
       "<thead><tr><th scope=col>NAME</th><th scope=col>state</th><th scope=col>Total.Pop.2010</th><th scope=col>Total.Pop.2000</th></tr></thead>\n",
       "<tbody>\n",
       "\t<tr><td>Alabama             </td><td>01                  </td><td> 3647277            </td><td> 4447100            </td></tr>\n",
       "\t<tr><td>Alaska              </td><td>02                  </td><td>  522853            </td><td>  626932            </td></tr>\n",
       "\t<tr><td>Arizona             </td><td>04                  </td><td> 4763003            </td><td> 5130632            </td></tr>\n",
       "\t<tr><td>Arkansas            </td><td>05                  </td><td> 2204443            </td><td> 2673400            </td></tr>\n",
       "\t<tr><td>California          </td><td>06                  </td><td>27958916            </td><td>33871648            </td></tr>\n",
       "\t<tr><td>Colorado            </td><td>08                  </td><td> 3803587            </td><td> 4301261            </td></tr>\n",
       "\t<tr><td>Connecticut         </td><td>09                  </td><td> 2757082            </td><td> 3405565            </td></tr>\n",
       "\t<tr><td>Delaware            </td><td>10                  </td><td>  692169            </td><td>  783600            </td></tr>\n",
       "\t<tr><td>District of Columbia</td><td>11                  </td><td>  500908            </td><td>  572059            </td></tr>\n",
       "\t<tr><td>Florida             </td><td>12                  </td><td>14799219            </td><td>15982378            </td></tr>\n",
       "\t<tr><td>Georgia             </td><td>13                  </td><td> 7196101            </td><td> 8186453            </td></tr>\n",
       "\t<tr><td>Hawaii              </td><td>15                  </td><td> 1056483            </td><td> 1211537            </td></tr>\n",
       "\t<tr><td>Idaho               </td><td>16                  </td><td> 1138510            </td><td> 1293953            </td></tr>\n",
       "\t<tr><td>Illinois            </td><td>17                  </td><td> 9701453            </td><td>12419293            </td></tr>\n",
       "\t<tr><td>Indiana             </td><td>18                  </td><td> 4875504            </td><td> 6080485            </td></tr>\n",
       "\t<tr><td>Iowa                </td><td>19                  </td><td> 2318362            </td><td> 2926324            </td></tr>\n",
       "\t<tr><td>Kansas              </td><td>20                  </td><td> 2126179            </td><td> 2688418            </td></tr>\n",
       "\t<tr><td>Kentucky            </td><td>21                  </td><td> 3315996            </td><td> 4041769            </td></tr>\n",
       "\t<tr><td>Louisiana           </td><td>22                  </td><td> 3415357            </td><td> 4468976            </td></tr>\n",
       "\t<tr><td>Maine               </td><td>23                  </td><td> 1053828            </td><td> 1274923            </td></tr>\n",
       "\t<tr><td>Maryland            </td><td>24                  </td><td> 4420588            </td><td> 5296486            </td></tr>\n",
       "\t<tr><td>Massachusetts       </td><td>25                  </td><td> 5128706            </td><td> 6349097            </td></tr>\n",
       "\t<tr><td>Michigan            </td><td>26                  </td><td> 7539572            </td><td> 9938444            </td></tr>\n",
       "\t<tr><td>Minnesota           </td><td>27                  </td><td> 4019862            </td><td> 4919479            </td></tr>\n",
       "\t<tr><td>Mississippi         </td><td>28                  </td><td> 2211742            </td><td> 2844658            </td></tr>\n",
       "\t<tr><td>Missouri            </td><td>29                  </td><td> 4563491            </td><td> 5595211            </td></tr>\n",
       "\t<tr><td>Montana             </td><td>30                  </td><td>  765852            </td><td>  902195            </td></tr>\n",
       "\t<tr><td>Nebraska            </td><td>31                  </td><td> 1367120            </td><td> 1711263            </td></tr>\n",
       "\t<tr><td>Nevada              </td><td>32                  </td><td> 2035543            </td><td> 1998257            </td></tr>\n",
       "\t<tr><td>New Hampshire       </td><td>33                  </td><td> 1029236            </td><td> 1235786            </td></tr>\n",
       "\t<tr><td>New Jersey          </td><td>34                  </td><td> 6726680            </td><td> 8414350            </td></tr>\n",
       "\t<tr><td>New Mexico          </td><td>35                  </td><td> 1540507            </td><td> 1819046            </td></tr>\n",
       "\t<tr><td>New York            </td><td>36                  </td><td>15053173            </td><td>18976457            </td></tr>\n",
       "\t<tr><td>North Carolina      </td><td>37                  </td><td> 7253848            </td><td> 8049313            </td></tr>\n",
       "\t<tr><td>North Dakota        </td><td>38                  </td><td>  522720            </td><td>  642200            </td></tr>\n",
       "\t<tr><td>Ohio                </td><td>39                  </td><td> 8805753            </td><td>11353140            </td></tr>\n",
       "\t<tr><td>Oklahoma            </td><td>40                  </td><td> 2821685            </td><td> 3450654            </td></tr>\n",
       "\t<tr><td>Oregon              </td><td>41                  </td><td> 2964621            </td><td> 3421399            </td></tr>\n",
       "\t<tr><td>Pennsylvania        </td><td>42                  </td><td> 9910224            </td><td>12281054            </td></tr>\n",
       "\t<tr><td>Rhode Island        </td><td>44                  </td><td>  828611            </td><td> 1048319            </td></tr>\n",
       "\t<tr><td>South Carolina      </td><td>45                  </td><td> 3544890            </td><td> 4012012            </td></tr>\n",
       "\t<tr><td>South Dakota        </td><td>46                  </td><td>  611383            </td><td>  754844            </td></tr>\n",
       "\t<tr><td>Tennessee           </td><td>47                  </td><td> 4850104            </td><td> 5689283            </td></tr>\n",
       "\t<tr><td>Texas               </td><td>48                  </td><td>18279737            </td><td>20851820            </td></tr>\n",
       "\t<tr><td>Utah                </td><td>49                  </td><td> 1892858            </td><td> 2233169            </td></tr>\n",
       "\t<tr><td>Vermont             </td><td>50                  </td><td>  496508            </td><td>  608827            </td></tr>\n",
       "\t<tr><td>Virginia            </td><td>51                  </td><td> 6147347            </td><td> 7078515            </td></tr>\n",
       "\t<tr><td>Washington          </td><td>53                  </td><td> 5143186            </td><td> 5894121            </td></tr>\n",
       "\t<tr><td>West Virginia       </td><td>54                  </td><td> 1465576            </td><td> 1808344            </td></tr>\n",
       "\t<tr><td>Wisconsin           </td><td>55                  </td><td> 4347494            </td><td> 5363675            </td></tr>\n",
       "\t<tr><td>Wyoming             </td><td>56                  </td><td>  428224            </td><td>  493782            </td></tr>\n",
       "</tbody>\n",
       "</table>\n"
      ],
      "text/latex": [
       "\\begin{tabular}{r|llll}\n",
       " NAME & state & Total.Pop.2010 & Total.Pop.2000\\\\\n",
       "\\hline\n",
       "\t Alabama              & 01                   &  3647277             &  4447100            \\\\\n",
       "\t Alaska               & 02                   &   522853             &   626932            \\\\\n",
       "\t Arizona              & 04                   &  4763003             &  5130632            \\\\\n",
       "\t Arkansas             & 05                   &  2204443             &  2673400            \\\\\n",
       "\t California           & 06                   & 27958916             & 33871648            \\\\\n",
       "\t Colorado             & 08                   &  3803587             &  4301261            \\\\\n",
       "\t Connecticut          & 09                   &  2757082             &  3405565            \\\\\n",
       "\t Delaware             & 10                   &   692169             &   783600            \\\\\n",
       "\t District of Columbia & 11                   &   500908             &   572059            \\\\\n",
       "\t Florida              & 12                   & 14799219             & 15982378            \\\\\n",
       "\t Georgia              & 13                   &  7196101             &  8186453            \\\\\n",
       "\t Hawaii               & 15                   &  1056483             &  1211537            \\\\\n",
       "\t Idaho                & 16                   &  1138510             &  1293953            \\\\\n",
       "\t Illinois             & 17                   &  9701453             & 12419293            \\\\\n",
       "\t Indiana              & 18                   &  4875504             &  6080485            \\\\\n",
       "\t Iowa                 & 19                   &  2318362             &  2926324            \\\\\n",
       "\t Kansas               & 20                   &  2126179             &  2688418            \\\\\n",
       "\t Kentucky             & 21                   &  3315996             &  4041769            \\\\\n",
       "\t Louisiana            & 22                   &  3415357             &  4468976            \\\\\n",
       "\t Maine                & 23                   &  1053828             &  1274923            \\\\\n",
       "\t Maryland             & 24                   &  4420588             &  5296486            \\\\\n",
       "\t Massachusetts        & 25                   &  5128706             &  6349097            \\\\\n",
       "\t Michigan             & 26                   &  7539572             &  9938444            \\\\\n",
       "\t Minnesota            & 27                   &  4019862             &  4919479            \\\\\n",
       "\t Mississippi          & 28                   &  2211742             &  2844658            \\\\\n",
       "\t Missouri             & 29                   &  4563491             &  5595211            \\\\\n",
       "\t Montana              & 30                   &   765852             &   902195            \\\\\n",
       "\t Nebraska             & 31                   &  1367120             &  1711263            \\\\\n",
       "\t Nevada               & 32                   &  2035543             &  1998257            \\\\\n",
       "\t New Hampshire        & 33                   &  1029236             &  1235786            \\\\\n",
       "\t New Jersey           & 34                   &  6726680             &  8414350            \\\\\n",
       "\t New Mexico           & 35                   &  1540507             &  1819046            \\\\\n",
       "\t New York             & 36                   & 15053173             & 18976457            \\\\\n",
       "\t North Carolina       & 37                   &  7253848             &  8049313            \\\\\n",
       "\t North Dakota         & 38                   &   522720             &   642200            \\\\\n",
       "\t Ohio                 & 39                   &  8805753             & 11353140            \\\\\n",
       "\t Oklahoma             & 40                   &  2821685             &  3450654            \\\\\n",
       "\t Oregon               & 41                   &  2964621             &  3421399            \\\\\n",
       "\t Pennsylvania         & 42                   &  9910224             & 12281054            \\\\\n",
       "\t Rhode Island         & 44                   &   828611             &  1048319            \\\\\n",
       "\t South Carolina       & 45                   &  3544890             &  4012012            \\\\\n",
       "\t South Dakota         & 46                   &   611383             &   754844            \\\\\n",
       "\t Tennessee            & 47                   &  4850104             &  5689283            \\\\\n",
       "\t Texas                & 48                   & 18279737             & 20851820            \\\\\n",
       "\t Utah                 & 49                   &  1892858             &  2233169            \\\\\n",
       "\t Vermont              & 50                   &   496508             &   608827            \\\\\n",
       "\t Virginia             & 51                   &  6147347             &  7078515            \\\\\n",
       "\t Washington           & 53                   &  5143186             &  5894121            \\\\\n",
       "\t West Virginia        & 54                   &  1465576             &  1808344            \\\\\n",
       "\t Wisconsin            & 55                   &  4347494             &  5363675            \\\\\n",
       "\t Wyoming              & 56                   &   428224             &   493782            \\\\\n",
       "\\end{tabular}\n"
      ],
      "text/markdown": [
       "\n",
       "| NAME | state | Total.Pop.2010 | Total.Pop.2000 |\n",
       "|---|---|---|---|\n",
       "| Alabama              | 01                   |  3647277             |  4447100             |\n",
       "| Alaska               | 02                   |   522853             |   626932             |\n",
       "| Arizona              | 04                   |  4763003             |  5130632             |\n",
       "| Arkansas             | 05                   |  2204443             |  2673400             |\n",
       "| California           | 06                   | 27958916             | 33871648             |\n",
       "| Colorado             | 08                   |  3803587             |  4301261             |\n",
       "| Connecticut          | 09                   |  2757082             |  3405565             |\n",
       "| Delaware             | 10                   |   692169             |   783600             |\n",
       "| District of Columbia | 11                   |   500908             |   572059             |\n",
       "| Florida              | 12                   | 14799219             | 15982378             |\n",
       "| Georgia              | 13                   |  7196101             |  8186453             |\n",
       "| Hawaii               | 15                   |  1056483             |  1211537             |\n",
       "| Idaho                | 16                   |  1138510             |  1293953             |\n",
       "| Illinois             | 17                   |  9701453             | 12419293             |\n",
       "| Indiana              | 18                   |  4875504             |  6080485             |\n",
       "| Iowa                 | 19                   |  2318362             |  2926324             |\n",
       "| Kansas               | 20                   |  2126179             |  2688418             |\n",
       "| Kentucky             | 21                   |  3315996             |  4041769             |\n",
       "| Louisiana            | 22                   |  3415357             |  4468976             |\n",
       "| Maine                | 23                   |  1053828             |  1274923             |\n",
       "| Maryland             | 24                   |  4420588             |  5296486             |\n",
       "| Massachusetts        | 25                   |  5128706             |  6349097             |\n",
       "| Michigan             | 26                   |  7539572             |  9938444             |\n",
       "| Minnesota            | 27                   |  4019862             |  4919479             |\n",
       "| Mississippi          | 28                   |  2211742             |  2844658             |\n",
       "| Missouri             | 29                   |  4563491             |  5595211             |\n",
       "| Montana              | 30                   |   765852             |   902195             |\n",
       "| Nebraska             | 31                   |  1367120             |  1711263             |\n",
       "| Nevada               | 32                   |  2035543             |  1998257             |\n",
       "| New Hampshire        | 33                   |  1029236             |  1235786             |\n",
       "| New Jersey           | 34                   |  6726680             |  8414350             |\n",
       "| New Mexico           | 35                   |  1540507             |  1819046             |\n",
       "| New York             | 36                   | 15053173             | 18976457             |\n",
       "| North Carolina       | 37                   |  7253848             |  8049313             |\n",
       "| North Dakota         | 38                   |   522720             |   642200             |\n",
       "| Ohio                 | 39                   |  8805753             | 11353140             |\n",
       "| Oklahoma             | 40                   |  2821685             |  3450654             |\n",
       "| Oregon               | 41                   |  2964621             |  3421399             |\n",
       "| Pennsylvania         | 42                   |  9910224             | 12281054             |\n",
       "| Rhode Island         | 44                   |   828611             |  1048319             |\n",
       "| South Carolina       | 45                   |  3544890             |  4012012             |\n",
       "| South Dakota         | 46                   |   611383             |   754844             |\n",
       "| Tennessee            | 47                   |  4850104             |  5689283             |\n",
       "| Texas                | 48                   | 18279737             | 20851820             |\n",
       "| Utah                 | 49                   |  1892858             |  2233169             |\n",
       "| Vermont              | 50                   |   496508             |   608827             |\n",
       "| Virginia             | 51                   |  6147347             |  7078515             |\n",
       "| Washington           | 53                   |  5143186             |  5894121             |\n",
       "| West Virginia        | 54                   |  1465576             |  1808344             |\n",
       "| Wisconsin            | 55                   |  4347494             |  5363675             |\n",
       "| Wyoming              | 56                   |   428224             |   493782             |\n",
       "\n"
      ],
      "text/plain": [
       "   NAME                 state Total.Pop.2010 Total.Pop.2000\n",
       "1  Alabama              01     3647277        4447100      \n",
       "2  Alaska               02      522853         626932      \n",
       "3  Arizona              04     4763003        5130632      \n",
       "4  Arkansas             05     2204443        2673400      \n",
       "5  California           06    27958916       33871648      \n",
       "6  Colorado             08     3803587        4301261      \n",
       "7  Connecticut          09     2757082        3405565      \n",
       "8  Delaware             10      692169         783600      \n",
       "9  District of Columbia 11      500908         572059      \n",
       "10 Florida              12    14799219       15982378      \n",
       "11 Georgia              13     7196101        8186453      \n",
       "12 Hawaii               15     1056483        1211537      \n",
       "13 Idaho                16     1138510        1293953      \n",
       "14 Illinois             17     9701453       12419293      \n",
       "15 Indiana              18     4875504        6080485      \n",
       "16 Iowa                 19     2318362        2926324      \n",
       "17 Kansas               20     2126179        2688418      \n",
       "18 Kentucky             21     3315996        4041769      \n",
       "19 Louisiana            22     3415357        4468976      \n",
       "20 Maine                23     1053828        1274923      \n",
       "21 Maryland             24     4420588        5296486      \n",
       "22 Massachusetts        25     5128706        6349097      \n",
       "23 Michigan             26     7539572        9938444      \n",
       "24 Minnesota            27     4019862        4919479      \n",
       "25 Mississippi          28     2211742        2844658      \n",
       "26 Missouri             29     4563491        5595211      \n",
       "27 Montana              30      765852         902195      \n",
       "28 Nebraska             31     1367120        1711263      \n",
       "29 Nevada               32     2035543        1998257      \n",
       "30 New Hampshire        33     1029236        1235786      \n",
       "31 New Jersey           34     6726680        8414350      \n",
       "32 New Mexico           35     1540507        1819046      \n",
       "33 New York             36    15053173       18976457      \n",
       "34 North Carolina       37     7253848        8049313      \n",
       "35 North Dakota         38      522720         642200      \n",
       "36 Ohio                 39     8805753       11353140      \n",
       "37 Oklahoma             40     2821685        3450654      \n",
       "38 Oregon               41     2964621        3421399      \n",
       "39 Pennsylvania         42     9910224       12281054      \n",
       "40 Rhode Island         44      828611        1048319      \n",
       "41 South Carolina       45     3544890        4012012      \n",
       "42 South Dakota         46      611383         754844      \n",
       "43 Tennessee            47     4850104        5689283      \n",
       "44 Texas                48    18279737       20851820      \n",
       "45 Utah                 49     1892858        2233169      \n",
       "46 Vermont              50      496508         608827      \n",
       "47 Virginia             51     6147347        7078515      \n",
       "48 Washington           53     5143186        5894121      \n",
       "49 West Virginia        54     1465576        1808344      \n",
       "50 Wisconsin            55     4347494        5363675      \n",
       "51 Wyoming              56      428224         493782      "
      ]
     },
     "metadata": {},
     "output_type": "display_data"
    }
   ],
   "source": [
    "j_census = census_2000 %>% inner_join(census, by = c(\"NAME\", \"state\"))\n",
    "joined_census = select(j_census, NAME, state, Total.Pop.2010=Total.Population, Total.Pop.2000=Total.Pop)\n",
    "joined_census"
   ]
  },
  {
   "cell_type": "markdown",
   "metadata": {},
   "source": [
    "### Population Growth\n",
    "\n",
    "What 5 states saw the most population growth from 2000 to 2010?"
   ]
  },
  {
   "cell_type": "code",
   "execution_count": 21,
   "metadata": {},
   "outputs": [
    {
     "name": "stderr",
     "output_type": "stream",
     "text": [
      "Selecting by Growth\n"
     ]
    },
    {
     "data": {
      "text/html": [
       "<table>\n",
       "<thead><tr><th scope=col>NAME</th><th scope=col>state</th><th scope=col>Total.Pop.2010</th><th scope=col>Total.Pop.2000</th><th scope=col>Growth</th></tr></thead>\n",
       "<tbody>\n",
       "\t<tr><td>Nevada              </td><td>32                  </td><td>2035543             </td><td>1998257             </td><td>  37286             </td></tr>\n",
       "\t<tr><td>Wyoming             </td><td>56                  </td><td> 428224             </td><td> 493782             </td><td> -65558             </td></tr>\n",
       "\t<tr><td>District of Columbia</td><td>11                  </td><td> 500908             </td><td> 572059             </td><td> -71151             </td></tr>\n",
       "\t<tr><td>Delaware            </td><td>10                  </td><td> 692169             </td><td> 783600             </td><td> -91431             </td></tr>\n",
       "\t<tr><td>Alaska              </td><td>02                  </td><td> 522853             </td><td> 626932             </td><td>-104079             </td></tr>\n",
       "</tbody>\n",
       "</table>\n"
      ],
      "text/latex": [
       "\\begin{tabular}{r|lllll}\n",
       " NAME & state & Total.Pop.2010 & Total.Pop.2000 & Growth\\\\\n",
       "\\hline\n",
       "\t Nevada               & 32                   & 2035543              & 1998257              &   37286             \\\\\n",
       "\t Wyoming              & 56                   &  428224              &  493782              &  -65558             \\\\\n",
       "\t District of Columbia & 11                   &  500908              &  572059              &  -71151             \\\\\n",
       "\t Delaware             & 10                   &  692169              &  783600              &  -91431             \\\\\n",
       "\t Alaska               & 02                   &  522853              &  626932              & -104079             \\\\\n",
       "\\end{tabular}\n"
      ],
      "text/markdown": [
       "\n",
       "| NAME | state | Total.Pop.2010 | Total.Pop.2000 | Growth |\n",
       "|---|---|---|---|---|\n",
       "| Nevada               | 32                   | 2035543              | 1998257              |   37286              |\n",
       "| Wyoming              | 56                   |  428224              |  493782              |  -65558              |\n",
       "| District of Columbia | 11                   |  500908              |  572059              |  -71151              |\n",
       "| Delaware             | 10                   |  692169              |  783600              |  -91431              |\n",
       "| Alaska               | 02                   |  522853              |  626932              | -104079              |\n",
       "\n"
      ],
      "text/plain": [
       "  NAME                 state Total.Pop.2010 Total.Pop.2000 Growth \n",
       "1 Nevada               32    2035543        1998257          37286\n",
       "2 Wyoming              56     428224         493782         -65558\n",
       "3 District of Columbia 11     500908         572059         -71151\n",
       "4 Delaware             10     692169         783600         -91431\n",
       "5 Alaska               02     522853         626932        -104079"
      ]
     },
     "metadata": {},
     "output_type": "display_data"
    }
   ],
   "source": [
    "Pop_Growth = arrange(joined_census %>% mutate(Growth = Total.Pop.2010-Total.Pop.2000), desc(Growth)) %>% top_n(5)\n",
    "Pop_Growth"
   ]
  },
  {
   "cell_type": "markdown",
   "metadata": {},
   "source": [
    "### Population Loss\n",
    "\n",
    "What 5 states saw the most population loss from 2000 to 2010?"
   ]
  },
  {
   "cell_type": "code",
   "execution_count": 22,
   "metadata": {},
   "outputs": [
    {
     "name": "stderr",
     "output_type": "stream",
     "text": [
      "Selecting by Growth\n"
     ]
    },
    {
     "data": {
      "text/html": [
       "<table>\n",
       "<thead><tr><th scope=col>NAME</th><th scope=col>state</th><th scope=col>Total.Pop.2010</th><th scope=col>Total.Pop.2000</th><th scope=col>Growth</th></tr></thead>\n",
       "<tbody>\n",
       "\t<tr><td>Ohio      </td><td>39        </td><td> 8805753  </td><td>11353140  </td><td>-2547387  </td></tr>\n",
       "\t<tr><td>Texas     </td><td>48        </td><td>18279737  </td><td>20851820  </td><td>-2572083  </td></tr>\n",
       "\t<tr><td>Illinois  </td><td>17        </td><td> 9701453  </td><td>12419293  </td><td>-2717840  </td></tr>\n",
       "\t<tr><td>New York  </td><td>36        </td><td>15053173  </td><td>18976457  </td><td>-3923284  </td></tr>\n",
       "\t<tr><td>California</td><td>06        </td><td>27958916  </td><td>33871648  </td><td>-5912732  </td></tr>\n",
       "</tbody>\n",
       "</table>\n"
      ],
      "text/latex": [
       "\\begin{tabular}{r|lllll}\n",
       " NAME & state & Total.Pop.2010 & Total.Pop.2000 & Growth\\\\\n",
       "\\hline\n",
       "\t Ohio       & 39         &  8805753   & 11353140   & -2547387  \\\\\n",
       "\t Texas      & 48         & 18279737   & 20851820   & -2572083  \\\\\n",
       "\t Illinois   & 17         &  9701453   & 12419293   & -2717840  \\\\\n",
       "\t New York   & 36         & 15053173   & 18976457   & -3923284  \\\\\n",
       "\t California & 06         & 27958916   & 33871648   & -5912732  \\\\\n",
       "\\end{tabular}\n"
      ],
      "text/markdown": [
       "\n",
       "| NAME | state | Total.Pop.2010 | Total.Pop.2000 | Growth |\n",
       "|---|---|---|---|---|\n",
       "| Ohio       | 39         |  8805753   | 11353140   | -2547387   |\n",
       "| Texas      | 48         | 18279737   | 20851820   | -2572083   |\n",
       "| Illinois   | 17         |  9701453   | 12419293   | -2717840   |\n",
       "| New York   | 36         | 15053173   | 18976457   | -3923284   |\n",
       "| California | 06         | 27958916   | 33871648   | -5912732   |\n",
       "\n"
      ],
      "text/plain": [
       "  NAME       state Total.Pop.2010 Total.Pop.2000 Growth  \n",
       "1 Ohio       39     8805753       11353140       -2547387\n",
       "2 Texas      48    18279737       20851820       -2572083\n",
       "3 Illinois   17     9701453       12419293       -2717840\n",
       "4 New York   36    15053173       18976457       -3923284\n",
       "5 California 06    27958916       33871648       -5912732"
      ]
     },
     "metadata": {},
     "output_type": "display_data"
    }
   ],
   "source": [
    "Pop_Growth2 = arrange(joined_census %>% mutate(Growth = Total.Pop.2010-Total.Pop.2000), desc(Growth)) %>% top_n(-5)\n",
    "Pop_Growth2"
   ]
  },
  {
   "cell_type": "markdown",
   "metadata": {},
   "source": [
    "### Fancy Graphics\n",
    "\n",
    "See [Mapping US State, County, and Zipcode Data with R](http://www.poppy-zhang.com/r-coding/mapping-us-state-county-and-zipcode-data-with-r/) and plot a map of the 48 contiguous US states, shaded by their population growth from 2000 to 2010."
   ]
  },
  {
   "cell_type": "code",
   "execution_count": 23,
   "metadata": {},
   "outputs": [
    {
     "name": "stderr",
     "output_type": "stream",
     "text": [
      "Warning message in self$trans$transform(x):\n",
      "\"NaNs produced\"Warning message:\n",
      "\"Transformation introduced infinite values in discrete y-axis\""
     ]
    },
    {
     "data": {
      "image/png": "[encoded data removed]",
      "text/plain": [
       "plot without title"
      ]
     },
     "metadata": {},
     "output_type": "display_data"
    }
   ],
   "source": [
    "Pop_Growth3 = rename(joined_census %>% mutate(Growth = Total.Pop.2010-Total.Pop.2000), region=NAME)\n",
    "Pop_Growth3 = Pop_Growth3 %>% mutate(region = tolower(region))\n",
    "states <- map_data(\"state\")\n",
    "usa <- map_data(\"usa\")\n",
    "Growth.State = states %>% inner_join(Pop_Growth3, by = c(\"region\"))\n",
    "\n",
    "usa_base = ggplot(data = usa, mapping = aes(x = long, y = lat, group = group)) + \n",
    "  coord_fixed(1.3) + \n",
    "  geom_polygon(color = \"black\", fill = \"gray\")\n",
    "\n",
    "usa_base = usa_base + \n",
    "  geom_polygon(data = states, fill = NA, color = \"white\") +\n",
    "  geom_polygon(color = \"black\", fill = NA)  # get the state border back on top\n",
    "\n",
    "usa_growth_map <- usa_base + \n",
    "      geom_polygon(data = Growth.State, aes(fill = Growth), color = \"white\") +\n",
    "      geom_polygon(color = \"black\", fill = NA) +\n",
    "      theme_bw() +\n",
    "      scale_fill_gradientn(colours = rev(rainbow(7)),\n",
    "                         breaks = c(2, 4, 10, 100, 1000, 10000),\n",
    "                         trans = \"log10\")\n",
    "usa_growth_map"
   ]
  },
  {
   "cell_type": "markdown",
   "metadata": {},
   "source": [
    "## Go It Alone\n",
    "\n",
    "Identify 5 more questions and answer them using the US Census data.\n",
    "\n",
    "- At least one must use one or more variables not described above.\n",
    "- At least 2 must involve joining more than one table\n",
    "- You aren't restricted to state or even county level - individual census tracts can be interesting\n",
    "- You do not need to keep looking nationwide - you can grab the census tracts in Idaho, for example"
   ]
  },
  {
   "cell_type": "markdown",
   "metadata": {},
   "source": [
    "Question 1:  What is the occupancy breakout for Idaho by County in 2010?"
   ]
  },
  {
   "cell_type": "code",
   "execution_count": 26,
   "metadata": {},
   "outputs": [
    {
     "data": {
      "text/html": [
       "<table>\n",
       "<thead><tr><th scope=col>NAME</th><th scope=col>Total.Occupied.2010</th><th scope=col>Own.Mortgage.2010</th><th scope=col>Own.2010</th><th scope=col>Rent.2010</th></tr></thead>\n",
       "<tbody>\n",
       "\t<tr><td>Bear Lake County, Idaho </td><td>  5955                  </td><td>  3355                  </td><td> 1554                   </td><td>  1046                  </td></tr>\n",
       "\t<tr><td>Benewah County, Idaho   </td><td>  9215                  </td><td>  4025                  </td><td> 3024                   </td><td>  2166                  </td></tr>\n",
       "\t<tr><td>Ada County, Idaho       </td><td>382651                  </td><td>228874                  </td><td>41906                   </td><td>111871                  </td></tr>\n",
       "\t<tr><td>Adams County, Idaho     </td><td>  3955                  </td><td>  1959                  </td><td> 1176                   </td><td>   820                  </td></tr>\n",
       "\t<tr><td>Bannock County, Idaho   </td><td> 81047                  </td><td> 44689                  </td><td>12684                   </td><td> 23674                  </td></tr>\n",
       "\t<tr><td>Bingham County, Idaho   </td><td> 45284                  </td><td> 25456                  </td><td> 9996                   </td><td>  9832                  </td></tr>\n",
       "\t<tr><td>Blaine County, Idaho    </td><td> 21118                  </td><td> 10945                  </td><td> 3103                   </td><td>  7070                  </td></tr>\n",
       "\t<tr><td>Boise County, Idaho     </td><td>  6994                  </td><td>  4155                  </td><td> 1601                   </td><td>  1238                  </td></tr>\n",
       "\t<tr><td>Clark County, Idaho     </td><td>   980                  </td><td>   309                  </td><td>  289                   </td><td>   382                  </td></tr>\n",
       "\t<tr><td>Boundary County, Idaho  </td><td> 10899                  </td><td>  5464                  </td><td> 3001                   </td><td>  2434                  </td></tr>\n",
       "\t<tr><td>Bonner County, Idaho    </td><td> 40524                  </td><td> 20907                  </td><td> 9425                   </td><td> 10192                  </td></tr>\n",
       "\t<tr><td>Bonneville County, Idaho</td><td>103062                  </td><td> 61639                  </td><td>15209                   </td><td> 26214                  </td></tr>\n",
       "\t<tr><td>Butte County, Idaho     </td><td>  2873                  </td><td>  1439                  </td><td>  850                   </td><td>   584                  </td></tr>\n",
       "\t<tr><td>Camas County, Idaho     </td><td>  1117                  </td><td>   610                  </td><td>  242                   </td><td>   265                  </td></tr>\n",
       "\t<tr><td>Canyon County, Idaho    </td><td>185588                  </td><td>108263                  </td><td>21838                   </td><td> 55487                  </td></tr>\n",
       "\t<tr><td>Caribou County, Idaho   </td><td>  6884                  </td><td>  3721                  </td><td> 1829                   </td><td>  1334                  </td></tr>\n",
       "\t<tr><td>Cassia County, Idaho    </td><td> 22666                  </td><td> 11176                  </td><td> 4788                   </td><td>  6702                  </td></tr>\n",
       "\t<tr><td>Idaho County, Idaho     </td><td> 15743                  </td><td>  6837                  </td><td> 5288                   </td><td>  3618                  </td></tr>\n",
       "\t<tr><td>Clearwater County, Idaho</td><td>  8154                  </td><td>  3530                  </td><td> 2731                   </td><td>  1893                  </td></tr>\n",
       "\t<tr><td>Custer County, Idaho    </td><td>  4347                  </td><td>  1940                  </td><td> 1329                   </td><td>  1078                  </td></tr>\n",
       "\t<tr><td>Elmore County, Idaho    </td><td> 26406                  </td><td> 12742                  </td><td> 3506                   </td><td> 10158                  </td></tr>\n",
       "\t<tr><td>Franklin County, Idaho  </td><td> 12684                  </td><td>  7836                  </td><td> 2423                   </td><td>  2425                  </td></tr>\n",
       "\t<tr><td>Fremont County, Idaho   </td><td> 12782                  </td><td>  6874                  </td><td> 3462                   </td><td>  2446                  </td></tr>\n",
       "\t<tr><td>Gem County, Idaho       </td><td> 16568                  </td><td>  9361                  </td><td> 3225                   </td><td>  3982                  </td></tr>\n",
       "\t<tr><td>Gooding County, Idaho   </td><td> 15412                  </td><td>  6924                  </td><td> 2895                   </td><td>  5593                  </td></tr>\n",
       "\t<tr><td>Lewis County, Idaho     </td><td>  3747                  </td><td>  1683                  </td><td> 1002                   </td><td>  1062                  </td></tr>\n",
       "\t<tr><td>Jefferson County, Idaho </td><td> 26029                  </td><td> 17311                  </td><td> 4528                   </td><td>  4190                  </td></tr>\n",
       "\t<tr><td>Jerome County, Idaho    </td><td> 22268                  </td><td> 11214                  </td><td> 3170                   </td><td>  7884                  </td></tr>\n",
       "\t<tr><td>Kootenai County, Idaho  </td><td>137006                  </td><td> 78062                  </td><td>20276                   </td><td> 38668                  </td></tr>\n",
       "\t<tr><td>Latah County, Idaho     </td><td> 34158                  </td><td> 14326                  </td><td> 6183                   </td><td> 13649                  </td></tr>\n",
       "\t<tr><td>Lemhi County, Idaho     </td><td>  7856                  </td><td>  3386                  </td><td> 2442                   </td><td>  2028                  </td></tr>\n",
       "\t<tr><td>Twin Falls County, Idaho</td><td> 76158                  </td><td> 39240                  </td><td>11465                   </td><td> 25453                  </td></tr>\n",
       "\t<tr><td>Lincoln County, Idaho   </td><td>  5171                  </td><td>  2618                  </td><td>  969                   </td><td>  1584                  </td></tr>\n",
       "\t<tr><td>Madison County, Idaho   </td><td> 36500                  </td><td> 13957                  </td><td> 3956                   </td><td> 18587                  </td></tr>\n",
       "\t<tr><td>Minidoka County, Idaho  </td><td> 19987                  </td><td> 10136                  </td><td> 4579                   </td><td>  5272                  </td></tr>\n",
       "\t<tr><td>Nez Perce County, Idaho </td><td> 38299                  </td><td> 19235                  </td><td> 8055                   </td><td> 11009                  </td></tr>\n",
       "\t<tr><td>Oneida County, Idaho    </td><td>  4236                  </td><td>  2423                  </td><td> 1088                   </td><td>   725                  </td></tr>\n",
       "\t<tr><td>Shoshone County, Idaho  </td><td> 12605                  </td><td>  5629                  </td><td> 3408                   </td><td>  3568                  </td></tr>\n",
       "\t<tr><td>Teton County, Idaho     </td><td> 10163                  </td><td>  5652                  </td><td> 1619                   </td><td>  2892                  </td></tr>\n",
       "\t<tr><td>Owyhee County, Idaho    </td><td> 11366                  </td><td>  5316                  </td><td> 2539                   </td><td>  3511                  </td></tr>\n",
       "\t<tr><td>Payette County, Idaho   </td><td> 22529                  </td><td> 12287                  </td><td> 3925                   </td><td>  6317                  </td></tr>\n",
       "\t<tr><td>Power County, Idaho     </td><td>  7770                  </td><td>  3965                  </td><td> 1761                   </td><td>  2044                  </td></tr>\n",
       "\t<tr><td>Valley County, Idaho    </td><td>  9796                  </td><td>  4953                  </td><td> 2197                   </td><td>  2646                  </td></tr>\n",
       "\t<tr><td>Washington County, Idaho</td><td> 10079                  </td><td>  4975                  </td><td> 2358                   </td><td>  2746                  </td></tr>\n",
       "</tbody>\n",
       "</table>\n"
      ],
      "text/latex": [
       "\\begin{tabular}{r|lllll}\n",
       " NAME & Total.Occupied.2010 & Own.Mortgage.2010 & Own.2010 & Rent.2010\\\\\n",
       "\\hline\n",
       "\t Bear Lake County, Idaho  &   5955                   &   3355                   &  1554                    &   1046                  \\\\\n",
       "\t Benewah County, Idaho    &   9215                   &   4025                   &  3024                    &   2166                  \\\\\n",
       "\t Ada County, Idaho        & 382651                   & 228874                   & 41906                    & 111871                  \\\\\n",
       "\t Adams County, Idaho      &   3955                   &   1959                   &  1176                    &    820                  \\\\\n",
       "\t Bannock County, Idaho    &  81047                   &  44689                   & 12684                    &  23674                  \\\\\n",
       "\t Bingham County, Idaho    &  45284                   &  25456                   &  9996                    &   9832                  \\\\\n",
       "\t Blaine County, Idaho     &  21118                   &  10945                   &  3103                    &   7070                  \\\\\n",
       "\t Boise County, Idaho      &   6994                   &   4155                   &  1601                    &   1238                  \\\\\n",
       "\t Clark County, Idaho      &    980                   &    309                   &   289                    &    382                  \\\\\n",
       "\t Boundary County, Idaho   &  10899                   &   5464                   &  3001                    &   2434                  \\\\\n",
       "\t Bonner County, Idaho     &  40524                   &  20907                   &  9425                    &  10192                  \\\\\n",
       "\t Bonneville County, Idaho & 103062                   &  61639                   & 15209                    &  26214                  \\\\\n",
       "\t Butte County, Idaho      &   2873                   &   1439                   &   850                    &    584                  \\\\\n",
       "\t Camas County, Idaho      &   1117                   &    610                   &   242                    &    265                  \\\\\n",
       "\t Canyon County, Idaho     & 185588                   & 108263                   & 21838                    &  55487                  \\\\\n",
       "\t Caribou County, Idaho    &   6884                   &   3721                   &  1829                    &   1334                  \\\\\n",
       "\t Cassia County, Idaho     &  22666                   &  11176                   &  4788                    &   6702                  \\\\\n",
       "\t Idaho County, Idaho      &  15743                   &   6837                   &  5288                    &   3618                  \\\\\n",
       "\t Clearwater County, Idaho &   8154                   &   3530                   &  2731                    &   1893                  \\\\\n",
       "\t Custer County, Idaho     &   4347                   &   1940                   &  1329                    &   1078                  \\\\\n",
       "\t Elmore County, Idaho     &  26406                   &  12742                   &  3506                    &  10158                  \\\\\n",
       "\t Franklin County, Idaho   &  12684                   &   7836                   &  2423                    &   2425                  \\\\\n",
       "\t Fremont County, Idaho    &  12782                   &   6874                   &  3462                    &   2446                  \\\\\n",
       "\t Gem County, Idaho        &  16568                   &   9361                   &  3225                    &   3982                  \\\\\n",
       "\t Gooding County, Idaho    &  15412                   &   6924                   &  2895                    &   5593                  \\\\\n",
       "\t Lewis County, Idaho      &   3747                   &   1683                   &  1002                    &   1062                  \\\\\n",
       "\t Jefferson County, Idaho  &  26029                   &  17311                   &  4528                    &   4190                  \\\\\n",
       "\t Jerome County, Idaho     &  22268                   &  11214                   &  3170                    &   7884                  \\\\\n",
       "\t Kootenai County, Idaho   & 137006                   &  78062                   & 20276                    &  38668                  \\\\\n",
       "\t Latah County, Idaho      &  34158                   &  14326                   &  6183                    &  13649                  \\\\\n",
       "\t Lemhi County, Idaho      &   7856                   &   3386                   &  2442                    &   2028                  \\\\\n",
       "\t Twin Falls County, Idaho &  76158                   &  39240                   & 11465                    &  25453                  \\\\\n",
       "\t Lincoln County, Idaho    &   5171                   &   2618                   &   969                    &   1584                  \\\\\n",
       "\t Madison County, Idaho    &  36500                   &  13957                   &  3956                    &  18587                  \\\\\n",
       "\t Minidoka County, Idaho   &  19987                   &  10136                   &  4579                    &   5272                  \\\\\n",
       "\t Nez Perce County, Idaho  &  38299                   &  19235                   &  8055                    &  11009                  \\\\\n",
       "\t Oneida County, Idaho     &   4236                   &   2423                   &  1088                    &    725                  \\\\\n",
       "\t Shoshone County, Idaho   &  12605                   &   5629                   &  3408                    &   3568                  \\\\\n",
       "\t Teton County, Idaho      &  10163                   &   5652                   &  1619                    &   2892                  \\\\\n",
       "\t Owyhee County, Idaho     &  11366                   &   5316                   &  2539                    &   3511                  \\\\\n",
       "\t Payette County, Idaho    &  22529                   &  12287                   &  3925                    &   6317                  \\\\\n",
       "\t Power County, Idaho      &   7770                   &   3965                   &  1761                    &   2044                  \\\\\n",
       "\t Valley County, Idaho     &   9796                   &   4953                   &  2197                    &   2646                  \\\\\n",
       "\t Washington County, Idaho &  10079                   &   4975                   &  2358                    &   2746                  \\\\\n",
       "\\end{tabular}\n"
      ],
      "text/markdown": [
       "\n",
       "| NAME | Total.Occupied.2010 | Own.Mortgage.2010 | Own.2010 | Rent.2010 |\n",
       "|---|---|---|---|---|\n",
       "| Bear Lake County, Idaho  |   5955                   |   3355                   |  1554                    |   1046                   |\n",
       "| Benewah County, Idaho    |   9215                   |   4025                   |  3024                    |   2166                   |\n",
       "| Ada County, Idaho        | 382651                   | 228874                   | 41906                    | 111871                   |\n",
       "| Adams County, Idaho      |   3955                   |   1959                   |  1176                    |    820                   |\n",
       "| Bannock County, Idaho    |  81047                   |  44689                   | 12684                    |  23674                   |\n",
       "| Bingham County, Idaho    |  45284                   |  25456                   |  9996                    |   9832                   |\n",
       "| Blaine County, Idaho     |  21118                   |  10945                   |  3103                    |   7070                   |\n",
       "| Boise County, Idaho      |   6994                   |   4155                   |  1601                    |   1238                   |\n",
       "| Clark County, Idaho      |    980                   |    309                   |   289                    |    382                   |\n",
       "| Boundary County, Idaho   |  10899                   |   5464                   |  3001                    |   2434                   |\n",
       "| Bonner County, Idaho     |  40524                   |  20907                   |  9425                    |  10192                   |\n",
       "| Bonneville County, Idaho | 103062                   |  61639                   | 15209                    |  26214                   |\n",
       "| Butte County, Idaho      |   2873                   |   1439                   |   850                    |    584                   |\n",
       "| Camas County, Idaho      |   1117                   |    610                   |   242                    |    265                   |\n",
       "| Canyon County, Idaho     | 185588                   | 108263                   | 21838                    |  55487                   |\n",
       "| Caribou County, Idaho    |   6884                   |   3721                   |  1829                    |   1334                   |\n",
       "| Cassia County, Idaho     |  22666                   |  11176                   |  4788                    |   6702                   |\n",
       "| Idaho County, Idaho      |  15743                   |   6837                   |  5288                    |   3618                   |\n",
       "| Clearwater County, Idaho |   8154                   |   3530                   |  2731                    |   1893                   |\n",
       "| Custer County, Idaho     |   4347                   |   1940                   |  1329                    |   1078                   |\n",
       "| Elmore County, Idaho     |  26406                   |  12742                   |  3506                    |  10158                   |\n",
       "| Franklin County, Idaho   |  12684                   |   7836                   |  2423                    |   2425                   |\n",
       "| Fremont County, Idaho    |  12782                   |   6874                   |  3462                    |   2446                   |\n",
       "| Gem County, Idaho        |  16568                   |   9361                   |  3225                    |   3982                   |\n",
       "| Gooding County, Idaho    |  15412                   |   6924                   |  2895                    |   5593                   |\n",
       "| Lewis County, Idaho      |   3747                   |   1683                   |  1002                    |   1062                   |\n",
       "| Jefferson County, Idaho  |  26029                   |  17311                   |  4528                    |   4190                   |\n",
       "| Jerome County, Idaho     |  22268                   |  11214                   |  3170                    |   7884                   |\n",
       "| Kootenai County, Idaho   | 137006                   |  78062                   | 20276                    |  38668                   |\n",
       "| Latah County, Idaho      |  34158                   |  14326                   |  6183                    |  13649                   |\n",
       "| Lemhi County, Idaho      |   7856                   |   3386                   |  2442                    |   2028                   |\n",
       "| Twin Falls County, Idaho |  76158                   |  39240                   | 11465                    |  25453                   |\n",
       "| Lincoln County, Idaho    |   5171                   |   2618                   |   969                    |   1584                   |\n",
       "| Madison County, Idaho    |  36500                   |  13957                   |  3956                    |  18587                   |\n",
       "| Minidoka County, Idaho   |  19987                   |  10136                   |  4579                    |   5272                   |\n",
       "| Nez Perce County, Idaho  |  38299                   |  19235                   |  8055                    |  11009                   |\n",
       "| Oneida County, Idaho     |   4236                   |   2423                   |  1088                    |    725                   |\n",
       "| Shoshone County, Idaho   |  12605                   |   5629                   |  3408                    |   3568                   |\n",
       "| Teton County, Idaho      |  10163                   |   5652                   |  1619                    |   2892                   |\n",
       "| Owyhee County, Idaho     |  11366                   |   5316                   |  2539                    |   3511                   |\n",
       "| Payette County, Idaho    |  22529                   |  12287                   |  3925                    |   6317                   |\n",
       "| Power County, Idaho      |   7770                   |   3965                   |  1761                    |   2044                   |\n",
       "| Valley County, Idaho     |   9796                   |   4953                   |  2197                    |   2646                   |\n",
       "| Washington County, Idaho |  10079                   |   4975                   |  2358                    |   2746                   |\n",
       "\n"
      ],
      "text/plain": [
       "   NAME                     Total.Occupied.2010 Own.Mortgage.2010 Own.2010\n",
       "1  Bear Lake County, Idaho    5955                3355             1554   \n",
       "2  Benewah County, Idaho      9215                4025             3024   \n",
       "3  Ada County, Idaho        382651              228874            41906   \n",
       "4  Adams County, Idaho        3955                1959             1176   \n",
       "5  Bannock County, Idaho     81047               44689            12684   \n",
       "6  Bingham County, Idaho     45284               25456             9996   \n",
       "7  Blaine County, Idaho      21118               10945             3103   \n",
       "8  Boise County, Idaho        6994                4155             1601   \n",
       "9  Clark County, Idaho         980                 309              289   \n",
       "10 Boundary County, Idaho    10899                5464             3001   \n",
       "11 Bonner County, Idaho      40524               20907             9425   \n",
       "12 Bonneville County, Idaho 103062               61639            15209   \n",
       "13 Butte County, Idaho        2873                1439              850   \n",
       "14 Camas County, Idaho        1117                 610              242   \n",
       "15 Canyon County, Idaho     185588              108263            21838   \n",
       "16 Caribou County, Idaho      6884                3721             1829   \n",
       "17 Cassia County, Idaho      22666               11176             4788   \n",
       "18 Idaho County, Idaho       15743                6837             5288   \n",
       "19 Clearwater County, Idaho   8154                3530             2731   \n",
       "20 Custer County, Idaho       4347                1940             1329   \n",
       "21 Elmore County, Idaho      26406               12742             3506   \n",
       "22 Franklin County, Idaho    12684                7836             2423   \n",
       "23 Fremont County, Idaho     12782                6874             3462   \n",
       "24 Gem County, Idaho         16568                9361             3225   \n",
       "25 Gooding County, Idaho     15412                6924             2895   \n",
       "26 Lewis County, Idaho        3747                1683             1002   \n",
       "27 Jefferson County, Idaho   26029               17311             4528   \n",
       "28 Jerome County, Idaho      22268               11214             3170   \n",
       "29 Kootenai County, Idaho   137006               78062            20276   \n",
       "30 Latah County, Idaho       34158               14326             6183   \n",
       "31 Lemhi County, Idaho        7856                3386             2442   \n",
       "32 Twin Falls County, Idaho  76158               39240            11465   \n",
       "33 Lincoln County, Idaho      5171                2618              969   \n",
       "34 Madison County, Idaho     36500               13957             3956   \n",
       "35 Minidoka County, Idaho    19987               10136             4579   \n",
       "36 Nez Perce County, Idaho   38299               19235             8055   \n",
       "37 Oneida County, Idaho       4236                2423             1088   \n",
       "38 Shoshone County, Idaho    12605                5629             3408   \n",
       "39 Teton County, Idaho       10163                5652             1619   \n",
       "40 Owyhee County, Idaho      11366                5316             2539   \n",
       "41 Payette County, Idaho     22529               12287             3925   \n",
       "42 Power County, Idaho        7770                3965             1761   \n",
       "43 Valley County, Idaho       9796                4953             2197   \n",
       "44 Washington County, Idaho  10079                4975             2358   \n",
       "   Rent.2010\n",
       "1    1046   \n",
       "2    2166   \n",
       "3  111871   \n",
       "4     820   \n",
       "5   23674   \n",
       "6    9832   \n",
       "7    7070   \n",
       "8    1238   \n",
       "9     382   \n",
       "10   2434   \n",
       "11  10192   \n",
       "12  26214   \n",
       "13    584   \n",
       "14    265   \n",
       "15  55487   \n",
       "16   1334   \n",
       "17   6702   \n",
       "18   3618   \n",
       "19   1893   \n",
       "20   1078   \n",
       "21  10158   \n",
       "22   2425   \n",
       "23   2446   \n",
       "24   3982   \n",
       "25   5593   \n",
       "26   1062   \n",
       "27   4190   \n",
       "28   7884   \n",
       "29  38668   \n",
       "30  13649   \n",
       "31   2028   \n",
       "32  25453   \n",
       "33   1584   \n",
       "34  18587   \n",
       "35   5272   \n",
       "36  11009   \n",
       "37    725   \n",
       "38   3568   \n",
       "39   2892   \n",
       "40   3511   \n",
       "41   6317   \n",
       "42   2044   \n",
       "43   2646   \n",
       "44   2746   "
      ]
     },
     "metadata": {},
     "output_type": "display_data"
    }
   ],
   "source": [
    "occupancy = getCensus(name=\"2010/dec/sf1\", vars=c(\"NAME\", \"H011001\", \"H011002\", \"H011003\", \"H011004\"), \n",
    "                      region=\"county:*\")\n",
    "idaho_occupancy = select(filter(occupancy, state == 16), NAME, \n",
    "                          Total.Occupied.2010=H011001, Own.Mortgage.2010=H011002, Own.2010=H011003, Rent.2010=H011004)\n",
    "idaho_occupancy"
   ]
  },
  {
   "cell_type": "markdown",
   "metadata": {},
   "source": [
    "Question 2: What 5 counties have the highest percentage of homeowners who don't have a mortgage?"
   ]
  },
  {
   "cell_type": "code",
   "execution_count": 27,
   "metadata": {},
   "outputs": [
    {
     "name": "stderr",
     "output_type": "stream",
     "text": [
      "Selecting by Percent.Owners\n"
     ]
    },
    {
     "data": {
      "text/html": [
       "<table>\n",
       "<thead><tr><th scope=col>NAME</th><th scope=col>Total.Occupied.2010</th><th scope=col>Own.Mortgage.2010</th><th scope=col>Own.2010</th><th scope=col>Rent.2010</th><th scope=col>Percent.Owners</th></tr></thead>\n",
       "<tbody>\n",
       "\t<tr><td>Idaho County, Idaho     </td><td>15743                   </td><td>6837                    </td><td>5288                    </td><td>3618                    </td><td>33.58953                </td></tr>\n",
       "\t<tr><td>Clearwater County, Idaho</td><td> 8154                   </td><td>3530                    </td><td>2731                    </td><td>1893                    </td><td>33.49276                </td></tr>\n",
       "\t<tr><td>Benewah County, Idaho   </td><td> 9215                   </td><td>4025                    </td><td>3024                    </td><td>2166                    </td><td>32.81606                </td></tr>\n",
       "\t<tr><td>Lemhi County, Idaho     </td><td> 7856                   </td><td>3386                    </td><td>2442                    </td><td>2028                    </td><td>31.08452                </td></tr>\n",
       "\t<tr><td>Custer County, Idaho    </td><td> 4347                   </td><td>1940                    </td><td>1329                    </td><td>1078                    </td><td>30.57281                </td></tr>\n",
       "</tbody>\n",
       "</table>\n"
      ],
      "text/latex": [
       "\\begin{tabular}{r|llllll}\n",
       " NAME & Total.Occupied.2010 & Own.Mortgage.2010 & Own.2010 & Rent.2010 & Percent.Owners\\\\\n",
       "\\hline\n",
       "\t Idaho County, Idaho      & 15743                    & 6837                     & 5288                     & 3618                     & 33.58953                \\\\\n",
       "\t Clearwater County, Idaho &  8154                    & 3530                     & 2731                     & 1893                     & 33.49276                \\\\\n",
       "\t Benewah County, Idaho    &  9215                    & 4025                     & 3024                     & 2166                     & 32.81606                \\\\\n",
       "\t Lemhi County, Idaho      &  7856                    & 3386                     & 2442                     & 2028                     & 31.08452                \\\\\n",
       "\t Custer County, Idaho     &  4347                    & 1940                     & 1329                     & 1078                     & 30.57281                \\\\\n",
       "\\end{tabular}\n"
      ],
      "text/markdown": [
       "\n",
       "| NAME | Total.Occupied.2010 | Own.Mortgage.2010 | Own.2010 | Rent.2010 | Percent.Owners |\n",
       "|---|---|---|---|---|---|\n",
       "| Idaho County, Idaho      | 15743                    | 6837                     | 5288                     | 3618                     | 33.58953                 |\n",
       "| Clearwater County, Idaho |  8154                    | 3530                     | 2731                     | 1893                     | 33.49276                 |\n",
       "| Benewah County, Idaho    |  9215                    | 4025                     | 3024                     | 2166                     | 32.81606                 |\n",
       "| Lemhi County, Idaho      |  7856                    | 3386                     | 2442                     | 2028                     | 31.08452                 |\n",
       "| Custer County, Idaho     |  4347                    | 1940                     | 1329                     | 1078                     | 30.57281                 |\n",
       "\n"
      ],
      "text/plain": [
       "  NAME                     Total.Occupied.2010 Own.Mortgage.2010 Own.2010\n",
       "1 Idaho County, Idaho      15743               6837              5288    \n",
       "2 Clearwater County, Idaho  8154               3530              2731    \n",
       "3 Benewah County, Idaho     9215               4025              3024    \n",
       "4 Lemhi County, Idaho       7856               3386              2442    \n",
       "5 Custer County, Idaho      4347               1940              1329    \n",
       "  Rent.2010 Percent.Owners\n",
       "1 3618      33.58953      \n",
       "2 1893      33.49276      \n",
       "3 2166      32.81606      \n",
       "4 2028      31.08452      \n",
       "5 1078      30.57281      "
      ]
     },
     "metadata": {},
     "output_type": "display_data"
    }
   ],
   "source": [
    "Owners = arrange(idaho_occupancy %>% \n",
    "                 mutate(Percent.Owners = (Own.2010/Total.Occupied.2010)*100), desc(Percent.Owners)) %>% top_n(5)\n",
    "Owners"
   ]
  },
  {
   "cell_type": "markdown",
   "metadata": {},
   "source": [
    "Question 3: What 5 counties had the largest increase in renters between 2000 and 2010 by county in Idaho?"
   ]
  },
  {
   "cell_type": "code",
   "execution_count": 29,
   "metadata": {},
   "outputs": [
    {
     "name": "stderr",
     "output_type": "stream",
     "text": [
      "Selecting by Rent.Change\n"
     ]
    },
    {
     "data": {
      "text/html": [
       "<table>\n",
       "<thead><tr><th scope=col>NAME</th><th scope=col>Rent.2000</th><th scope=col>Rent.2010</th><th scope=col>Rent.Change</th></tr></thead>\n",
       "<tbody>\n",
       "\t<tr><td>Ada County, Idaho       </td><td>21172                   </td><td>111871                  </td><td>90699                   </td></tr>\n",
       "\t<tr><td>Canyon County, Idaho    </td><td>10206                   </td><td> 55487                  </td><td>45281                   </td></tr>\n",
       "\t<tr><td>Kootenai County, Idaho  </td><td>10324                   </td><td> 38668                  </td><td>28344                   </td></tr>\n",
       "\t<tr><td>Twin Falls County, Idaho</td><td> 5903                   </td><td> 25453                  </td><td>19550                   </td></tr>\n",
       "\t<tr><td>Bonneville County, Idaho</td><td> 7171                   </td><td> 26214                  </td><td>19043                   </td></tr>\n",
       "</tbody>\n",
       "</table>\n"
      ],
      "text/latex": [
       "\\begin{tabular}{r|llll}\n",
       " NAME & Rent.2000 & Rent.2010 & Rent.Change\\\\\n",
       "\\hline\n",
       "\t Ada County, Idaho        & 21172                    & 111871                   & 90699                   \\\\\n",
       "\t Canyon County, Idaho     & 10206                    &  55487                   & 45281                   \\\\\n",
       "\t Kootenai County, Idaho   & 10324                    &  38668                   & 28344                   \\\\\n",
       "\t Twin Falls County, Idaho &  5903                    &  25453                   & 19550                   \\\\\n",
       "\t Bonneville County, Idaho &  7171                    &  26214                   & 19043                   \\\\\n",
       "\\end{tabular}\n"
      ],
      "text/markdown": [
       "\n",
       "| NAME | Rent.2000 | Rent.2010 | Rent.Change |\n",
       "|---|---|---|---|\n",
       "| Ada County, Idaho        | 21172                    | 111871                   | 90699                    |\n",
       "| Canyon County, Idaho     | 10206                    |  55487                   | 45281                    |\n",
       "| Kootenai County, Idaho   | 10324                    |  38668                   | 28344                    |\n",
       "| Twin Falls County, Idaho |  5903                    |  25453                   | 19550                    |\n",
       "| Bonneville County, Idaho |  7171                    |  26214                   | 19043                    |\n",
       "\n"
      ],
      "text/plain": [
       "  NAME                     Rent.2000 Rent.2010 Rent.Change\n",
       "1 Ada County, Idaho        21172     111871    90699      \n",
       "2 Canyon County, Idaho     10206      55487    45281      \n",
       "3 Kootenai County, Idaho   10324      38668    28344      \n",
       "4 Twin Falls County, Idaho  5903      25453    19550      \n",
       "5 Bonneville County, Idaho  7171      26214    19043      "
      ]
     },
     "metadata": {},
     "output_type": "display_data"
    }
   ],
   "source": [
    "occupancy_2000 = getCensus(name=\"2010/dec/sf1\", vars=c(\"NAME\", \"H004001\", \"H004002\", \"H004003\"), \n",
    "                      region=\"county:*\")\n",
    "idaho_occupancy_2000 = select(filter(occupancy_2000, state == 16), NAME, \n",
    "                          Total.Occupied.2000=H004001, Own.2000=H004002, Rent.2000=H004003)\n",
    "joined_occupancy = select(idaho_occupancy_2000 %>% inner_join(idaho_occupancy, by = c(\"NAME\")), \n",
    "                          NAME, Rent.2000, Rent.2010)\n",
    "renter_delta = arrange(joined_occupancy %>% mutate(Rent.Change = Rent.2010-Rent.2000), \n",
    "                       desc(Rent.Change))\n",
    "renter_change = renter_delta %>% top_n(5)\n",
    "renter_change"
   ]
  },
  {
   "cell_type": "markdown",
   "metadata": {},
   "source": [
    "Question 4: What 5 counties had the largest increase in renters by percent between 2000 and 2010 by county in Idaho?"
   ]
  },
  {
   "cell_type": "code",
   "execution_count": 30,
   "metadata": {},
   "outputs": [
    {
     "name": "stderr",
     "output_type": "stream",
     "text": [
      "Selecting by Rent.Change.Percent\n"
     ]
    },
    {
     "data": {
      "text/html": [
       "<table>\n",
       "<thead><tr><th scope=col>NAME</th><th scope=col>Rent.2000</th><th scope=col>Rent.2010</th><th scope=col>Rent.Change</th><th scope=col>Rent.Change.Percent</th></tr></thead>\n",
       "<tbody>\n",
       "\t<tr><td>Madison County, Idaho</td><td> 1583                </td><td> 18587               </td><td>17004                </td><td>1074.1630            </td></tr>\n",
       "\t<tr><td>Elmore County, Idaho </td><td> 1718                </td><td> 10158               </td><td> 8440                </td><td> 491.2689            </td></tr>\n",
       "\t<tr><td>Canyon County, Idaho </td><td>10206                </td><td> 55487               </td><td>45281                </td><td> 443.6704            </td></tr>\n",
       "\t<tr><td>Ada County, Idaho    </td><td>21172                </td><td>111871               </td><td>90699                </td><td> 428.3913            </td></tr>\n",
       "\t<tr><td>Jerome County, Idaho </td><td> 1510                </td><td>  7884               </td><td> 6374                </td><td> 422.1192            </td></tr>\n",
       "</tbody>\n",
       "</table>\n"
      ],
      "text/latex": [
       "\\begin{tabular}{r|lllll}\n",
       " NAME & Rent.2000 & Rent.2010 & Rent.Change & Rent.Change.Percent\\\\\n",
       "\\hline\n",
       "\t Madison County, Idaho &  1583                 &  18587                & 17004                 & 1074.1630            \\\\\n",
       "\t Elmore County, Idaho  &  1718                 &  10158                &  8440                 &  491.2689            \\\\\n",
       "\t Canyon County, Idaho  & 10206                 &  55487                & 45281                 &  443.6704            \\\\\n",
       "\t Ada County, Idaho     & 21172                 & 111871                & 90699                 &  428.3913            \\\\\n",
       "\t Jerome County, Idaho  &  1510                 &   7884                &  6374                 &  422.1192            \\\\\n",
       "\\end{tabular}\n"
      ],
      "text/markdown": [
       "\n",
       "| NAME | Rent.2000 | Rent.2010 | Rent.Change | Rent.Change.Percent |\n",
       "|---|---|---|---|---|\n",
       "| Madison County, Idaho |  1583                 |  18587                | 17004                 | 1074.1630             |\n",
       "| Elmore County, Idaho  |  1718                 |  10158                |  8440                 |  491.2689             |\n",
       "| Canyon County, Idaho  | 10206                 |  55487                | 45281                 |  443.6704             |\n",
       "| Ada County, Idaho     | 21172                 | 111871                | 90699                 |  428.3913             |\n",
       "| Jerome County, Idaho  |  1510                 |   7884                |  6374                 |  422.1192             |\n",
       "\n"
      ],
      "text/plain": [
       "  NAME                  Rent.2000 Rent.2010 Rent.Change Rent.Change.Percent\n",
       "1 Madison County, Idaho  1583      18587    17004       1074.1630          \n",
       "2 Elmore County, Idaho   1718      10158     8440        491.2689          \n",
       "3 Canyon County, Idaho  10206      55487    45281        443.6704          \n",
       "4 Ada County, Idaho     21172     111871    90699        428.3913          \n",
       "5 Jerome County, Idaho   1510       7884     6374        422.1192          "
      ]
     },
     "metadata": {},
     "output_type": "display_data"
    }
   ],
   "source": [
    "rent_changes = arrange(renter_delta %>% mutate(Rent.Change.Percent = (Rent.Change/Rent.2000)*100), \n",
    "                       desc(Rent.Change.Percent)) %>% top_n(5)\n",
    "rent_changes"
   ]
  },
  {
   "cell_type": "markdown",
   "metadata": {},
   "source": [
    "Question 5: What were the changes in the African American population in Idaho by County from 2000 to 2010?"
   ]
  },
  {
   "cell_type": "code",
   "execution_count": 34,
   "metadata": {},
   "outputs": [
    {
     "data": {
      "text/html": [
       "<table>\n",
       "<thead><tr><th scope=col>NAME</th><th scope=col>Africans.2010</th><th scope=col>Africans.2000</th><th scope=col>Change</th><th scope=col>Percent</th></tr></thead>\n",
       "<tbody>\n",
       "\t<tr><td>Bear Lake County, Idaho </td><td>   6                    </td><td>  29                    </td><td>  -23                   </td><td>-79.31034               </td></tr>\n",
       "\t<tr><td>Benewah County, Idaho   </td><td>  28                    </td><td> 809                    </td><td> -781                   </td><td>-96.53894               </td></tr>\n",
       "\t<tr><td>Ada County, Idaho       </td><td>4441                    </td><td>2610                    </td><td> 1831                   </td><td> 70.15326               </td></tr>\n",
       "\t<tr><td>Adams County, Idaho     </td><td>   5                    </td><td>  39                    </td><td>  -34                   </td><td>-87.17949               </td></tr>\n",
       "\t<tr><td>Bannock County, Idaho   </td><td> 625                    </td><td>2619                    </td><td>-1994                   </td><td>-76.13593               </td></tr>\n",
       "\t<tr><td>Bingham County, Idaho   </td><td> 105                    </td><td>2970                    </td><td>-2865                   </td><td>-96.46465               </td></tr>\n",
       "\t<tr><td>Blaine County, Idaho    </td><td>  39                    </td><td> 125                    </td><td>  -86                   </td><td>-68.80000               </td></tr>\n",
       "\t<tr><td>Boise County, Idaho     </td><td>  15                    </td><td>  55                    </td><td>  -40                   </td><td>-72.72727               </td></tr>\n",
       "\t<tr><td>Clark County, Idaho     </td><td>   7                    </td><td>  10                    </td><td>   -3                   </td><td>-30.00000               </td></tr>\n",
       "\t<tr><td>Boundary County, Idaho  </td><td>  29                    </td><td> 189                    </td><td> -160                   </td><td>-84.65608               </td></tr>\n",
       "\t<tr><td>Bonner County, Idaho    </td><td>  58                    </td><td> 315                    </td><td> -257                   </td><td>-81.58730               </td></tr>\n",
       "\t<tr><td>Bonneville County, Idaho</td><td> 585                    </td><td> 790                    </td><td> -205                   </td><td>-25.94937               </td></tr>\n",
       "\t<tr><td>Butte County, Idaho     </td><td>   6                    </td><td>  13                    </td><td>   -7                   </td><td>-53.84615               </td></tr>\n",
       "\t<tr><td>Camas County, Idaho     </td><td>   3                    </td><td>   6                    </td><td>   -3                   </td><td>-50.00000               </td></tr>\n",
       "\t<tr><td>Canyon County, Idaho    </td><td>1077                    </td><td>2028                    </td><td> -951                   </td><td>-46.89349               </td></tr>\n",
       "\t<tr><td>Caribou County, Idaho   </td><td>   4                    </td><td>  23                    </td><td>  -19                   </td><td>-82.60870               </td></tr>\n",
       "\t<tr><td>Cassia County, Idaho    </td><td>  64                    </td><td> 178                    </td><td> -114                   </td><td>-64.04494               </td></tr>\n",
       "\t<tr><td>Idaho County, Idaho     </td><td>  42                    </td><td> 480                    </td><td> -438                   </td><td>-91.25000               </td></tr>\n",
       "\t<tr><td>Clearwater County, Idaho</td><td>  18                    </td><td> 194                    </td><td> -176                   </td><td>-90.72165               </td></tr>\n",
       "\t<tr><td>Custer County, Idaho    </td><td>   8                    </td><td>  27                    </td><td>  -19                   </td><td>-70.37037               </td></tr>\n",
       "\t<tr><td>Elmore County, Idaho    </td><td> 733                    </td><td> 270                    </td><td>  463                   </td><td>171.48148               </td></tr>\n",
       "\t<tr><td>Franklin County, Idaho  </td><td>  28                    </td><td>  53                    </td><td>  -25                   </td><td>-47.16981               </td></tr>\n",
       "\t<tr><td>Fremont County, Idaho   </td><td>  46                    </td><td>  93                    </td><td>  -47                   </td><td>-50.53763               </td></tr>\n",
       "\t<tr><td>Gem County, Idaho       </td><td>  20                    </td><td>  94                    </td><td>  -74                   </td><td>-78.72340               </td></tr>\n",
       "\t<tr><td>Gooding County, Idaho   </td><td>  37                    </td><td> 127                    </td><td>  -90                   </td><td>-70.86614               </td></tr>\n",
       "\t<tr><td>Lewis County, Idaho     </td><td>  14                    </td><td> 180                    </td><td> -166                   </td><td>-92.22222               </td></tr>\n",
       "\t<tr><td>Jefferson County, Idaho </td><td>  52                    </td><td> 203                    </td><td> -151                   </td><td>-74.38424               </td></tr>\n",
       "\t<tr><td>Jerome County, Idaho    </td><td>  62                    </td><td> 302                    </td><td> -240                   </td><td>-79.47020               </td></tr>\n",
       "\t<tr><td>Kootenai County, Idaho  </td><td> 416                    </td><td>1781                    </td><td>-1365                   </td><td>-76.64234               </td></tr>\n",
       "\t<tr><td>Latah County, Idaho     </td><td> 293                    </td><td> 237                    </td><td>   56                   </td><td> 23.62869               </td></tr>\n",
       "\t<tr><td>Lemhi County, Idaho     </td><td>  18                    </td><td>  57                    </td><td>  -39                   </td><td>-68.42105               </td></tr>\n",
       "\t<tr><td>Twin Falls County, Idaho</td><td> 342                    </td><td> 606                    </td><td> -264                   </td><td>-43.56436               </td></tr>\n",
       "\t<tr><td>Lincoln County, Idaho   </td><td>  19                    </td><td>  38                    </td><td>  -19                   </td><td>-50.00000               </td></tr>\n",
       "\t<tr><td>Madison County, Idaho   </td><td> 185                    </td><td>  99                    </td><td>   86                   </td><td> 86.86869               </td></tr>\n",
       "\t<tr><td>Minidoka County, Idaho  </td><td>  77                    </td><td> 248                    </td><td> -171                   </td><td>-68.95161               </td></tr>\n",
       "\t<tr><td>Nez Perce County, Idaho </td><td> 117                    </td><td>2206                    </td><td>-2089                   </td><td>-94.69628               </td></tr>\n",
       "\t<tr><td>Oneida County, Idaho    </td><td>   9                    </td><td>  22                    </td><td>  -13                   </td><td>-59.09091               </td></tr>\n",
       "\t<tr><td>Shoshone County, Idaho  </td><td>  26                    </td><td> 183                    </td><td> -157                   </td><td>-85.79235               </td></tr>\n",
       "\t<tr><td>Teton County, Idaho     </td><td>  25                    </td><td>  35                    </td><td>  -10                   </td><td>-28.57143               </td></tr>\n",
       "\t<tr><td>Owyhee County, Idaho    </td><td>  23                    </td><td> 495                    </td><td> -472                   </td><td>-95.35354               </td></tr>\n",
       "\t<tr><td>Payette County, Idaho   </td><td>  52                    </td><td> 255                    </td><td> -203                   </td><td>-79.60784               </td></tr>\n",
       "\t<tr><td>Power County, Idaho     </td><td>  22                    </td><td> 179                    </td><td> -157                   </td><td>-87.70950               </td></tr>\n",
       "\t<tr><td>Valley County, Idaho    </td><td>  11                    </td><td>  68                    </td><td>  -57                   </td><td>-83.82353               </td></tr>\n",
       "\t<tr><td>Washington County, Idaho</td><td>  18                    </td><td> 101                    </td><td>  -83                   </td><td>-82.17822               </td></tr>\n",
       "</tbody>\n",
       "</table>\n"
      ],
      "text/latex": [
       "\\begin{tabular}{r|lllll}\n",
       " NAME & Africans.2010 & Africans.2000 & Change & Percent\\\\\n",
       "\\hline\n",
       "\t Bear Lake County, Idaho  &    6                     &   29                     &   -23                    & -79.31034               \\\\\n",
       "\t Benewah County, Idaho    &   28                     &  809                     &  -781                    & -96.53894               \\\\\n",
       "\t Ada County, Idaho        & 4441                     & 2610                     &  1831                    &  70.15326               \\\\\n",
       "\t Adams County, Idaho      &    5                     &   39                     &   -34                    & -87.17949               \\\\\n",
       "\t Bannock County, Idaho    &  625                     & 2619                     & -1994                    & -76.13593               \\\\\n",
       "\t Bingham County, Idaho    &  105                     & 2970                     & -2865                    & -96.46465               \\\\\n",
       "\t Blaine County, Idaho     &   39                     &  125                     &   -86                    & -68.80000               \\\\\n",
       "\t Boise County, Idaho      &   15                     &   55                     &   -40                    & -72.72727               \\\\\n",
       "\t Clark County, Idaho      &    7                     &   10                     &    -3                    & -30.00000               \\\\\n",
       "\t Boundary County, Idaho   &   29                     &  189                     &  -160                    & -84.65608               \\\\\n",
       "\t Bonner County, Idaho     &   58                     &  315                     &  -257                    & -81.58730               \\\\\n",
       "\t Bonneville County, Idaho &  585                     &  790                     &  -205                    & -25.94937               \\\\\n",
       "\t Butte County, Idaho      &    6                     &   13                     &    -7                    & -53.84615               \\\\\n",
       "\t Camas County, Idaho      &    3                     &    6                     &    -3                    & -50.00000               \\\\\n",
       "\t Canyon County, Idaho     & 1077                     & 2028                     &  -951                    & -46.89349               \\\\\n",
       "\t Caribou County, Idaho    &    4                     &   23                     &   -19                    & -82.60870               \\\\\n",
       "\t Cassia County, Idaho     &   64                     &  178                     &  -114                    & -64.04494               \\\\\n",
       "\t Idaho County, Idaho      &   42                     &  480                     &  -438                    & -91.25000               \\\\\n",
       "\t Clearwater County, Idaho &   18                     &  194                     &  -176                    & -90.72165               \\\\\n",
       "\t Custer County, Idaho     &    8                     &   27                     &   -19                    & -70.37037               \\\\\n",
       "\t Elmore County, Idaho     &  733                     &  270                     &   463                    & 171.48148               \\\\\n",
       "\t Franklin County, Idaho   &   28                     &   53                     &   -25                    & -47.16981               \\\\\n",
       "\t Fremont County, Idaho    &   46                     &   93                     &   -47                    & -50.53763               \\\\\n",
       "\t Gem County, Idaho        &   20                     &   94                     &   -74                    & -78.72340               \\\\\n",
       "\t Gooding County, Idaho    &   37                     &  127                     &   -90                    & -70.86614               \\\\\n",
       "\t Lewis County, Idaho      &   14                     &  180                     &  -166                    & -92.22222               \\\\\n",
       "\t Jefferson County, Idaho  &   52                     &  203                     &  -151                    & -74.38424               \\\\\n",
       "\t Jerome County, Idaho     &   62                     &  302                     &  -240                    & -79.47020               \\\\\n",
       "\t Kootenai County, Idaho   &  416                     & 1781                     & -1365                    & -76.64234               \\\\\n",
       "\t Latah County, Idaho      &  293                     &  237                     &    56                    &  23.62869               \\\\\n",
       "\t Lemhi County, Idaho      &   18                     &   57                     &   -39                    & -68.42105               \\\\\n",
       "\t Twin Falls County, Idaho &  342                     &  606                     &  -264                    & -43.56436               \\\\\n",
       "\t Lincoln County, Idaho    &   19                     &   38                     &   -19                    & -50.00000               \\\\\n",
       "\t Madison County, Idaho    &  185                     &   99                     &    86                    &  86.86869               \\\\\n",
       "\t Minidoka County, Idaho   &   77                     &  248                     &  -171                    & -68.95161               \\\\\n",
       "\t Nez Perce County, Idaho  &  117                     & 2206                     & -2089                    & -94.69628               \\\\\n",
       "\t Oneida County, Idaho     &    9                     &   22                     &   -13                    & -59.09091               \\\\\n",
       "\t Shoshone County, Idaho   &   26                     &  183                     &  -157                    & -85.79235               \\\\\n",
       "\t Teton County, Idaho      &   25                     &   35                     &   -10                    & -28.57143               \\\\\n",
       "\t Owyhee County, Idaho     &   23                     &  495                     &  -472                    & -95.35354               \\\\\n",
       "\t Payette County, Idaho    &   52                     &  255                     &  -203                    & -79.60784               \\\\\n",
       "\t Power County, Idaho      &   22                     &  179                     &  -157                    & -87.70950               \\\\\n",
       "\t Valley County, Idaho     &   11                     &   68                     &   -57                    & -83.82353               \\\\\n",
       "\t Washington County, Idaho &   18                     &  101                     &   -83                    & -82.17822               \\\\\n",
       "\\end{tabular}\n"
      ],
      "text/markdown": [
       "\n",
       "| NAME | Africans.2010 | Africans.2000 | Change | Percent |\n",
       "|---|---|---|---|---|\n",
       "| Bear Lake County, Idaho  |    6                     |   29                     |   -23                    | -79.31034                |\n",
       "| Benewah County, Idaho    |   28                     |  809                     |  -781                    | -96.53894                |\n",
       "| Ada County, Idaho        | 4441                     | 2610                     |  1831                    |  70.15326                |\n",
       "| Adams County, Idaho      |    5                     |   39                     |   -34                    | -87.17949                |\n",
       "| Bannock County, Idaho    |  625                     | 2619                     | -1994                    | -76.13593                |\n",
       "| Bingham County, Idaho    |  105                     | 2970                     | -2865                    | -96.46465                |\n",
       "| Blaine County, Idaho     |   39                     |  125                     |   -86                    | -68.80000                |\n",
       "| Boise County, Idaho      |   15                     |   55                     |   -40                    | -72.72727                |\n",
       "| Clark County, Idaho      |    7                     |   10                     |    -3                    | -30.00000                |\n",
       "| Boundary County, Idaho   |   29                     |  189                     |  -160                    | -84.65608                |\n",
       "| Bonner County, Idaho     |   58                     |  315                     |  -257                    | -81.58730                |\n",
       "| Bonneville County, Idaho |  585                     |  790                     |  -205                    | -25.94937                |\n",
       "| Butte County, Idaho      |    6                     |   13                     |    -7                    | -53.84615                |\n",
       "| Camas County, Idaho      |    3                     |    6                     |    -3                    | -50.00000                |\n",
       "| Canyon County, Idaho     | 1077                     | 2028                     |  -951                    | -46.89349                |\n",
       "| Caribou County, Idaho    |    4                     |   23                     |   -19                    | -82.60870                |\n",
       "| Cassia County, Idaho     |   64                     |  178                     |  -114                    | -64.04494                |\n",
       "| Idaho County, Idaho      |   42                     |  480                     |  -438                    | -91.25000                |\n",
       "| Clearwater County, Idaho |   18                     |  194                     |  -176                    | -90.72165                |\n",
       "| Custer County, Idaho     |    8                     |   27                     |   -19                    | -70.37037                |\n",
       "| Elmore County, Idaho     |  733                     |  270                     |   463                    | 171.48148                |\n",
       "| Franklin County, Idaho   |   28                     |   53                     |   -25                    | -47.16981                |\n",
       "| Fremont County, Idaho    |   46                     |   93                     |   -47                    | -50.53763                |\n",
       "| Gem County, Idaho        |   20                     |   94                     |   -74                    | -78.72340                |\n",
       "| Gooding County, Idaho    |   37                     |  127                     |   -90                    | -70.86614                |\n",
       "| Lewis County, Idaho      |   14                     |  180                     |  -166                    | -92.22222                |\n",
       "| Jefferson County, Idaho  |   52                     |  203                     |  -151                    | -74.38424                |\n",
       "| Jerome County, Idaho     |   62                     |  302                     |  -240                    | -79.47020                |\n",
       "| Kootenai County, Idaho   |  416                     | 1781                     | -1365                    | -76.64234                |\n",
       "| Latah County, Idaho      |  293                     |  237                     |    56                    |  23.62869                |\n",
       "| Lemhi County, Idaho      |   18                     |   57                     |   -39                    | -68.42105                |\n",
       "| Twin Falls County, Idaho |  342                     |  606                     |  -264                    | -43.56436                |\n",
       "| Lincoln County, Idaho    |   19                     |   38                     |   -19                    | -50.00000                |\n",
       "| Madison County, Idaho    |  185                     |   99                     |    86                    |  86.86869                |\n",
       "| Minidoka County, Idaho   |   77                     |  248                     |  -171                    | -68.95161                |\n",
       "| Nez Perce County, Idaho  |  117                     | 2206                     | -2089                    | -94.69628                |\n",
       "| Oneida County, Idaho     |    9                     |   22                     |   -13                    | -59.09091                |\n",
       "| Shoshone County, Idaho   |   26                     |  183                     |  -157                    | -85.79235                |\n",
       "| Teton County, Idaho      |   25                     |   35                     |   -10                    | -28.57143                |\n",
       "| Owyhee County, Idaho     |   23                     |  495                     |  -472                    | -95.35354                |\n",
       "| Payette County, Idaho    |   52                     |  255                     |  -203                    | -79.60784                |\n",
       "| Power County, Idaho      |   22                     |  179                     |  -157                    | -87.70950                |\n",
       "| Valley County, Idaho     |   11                     |   68                     |   -57                    | -83.82353                |\n",
       "| Washington County, Idaho |   18                     |  101                     |   -83                    | -82.17822                |\n",
       "\n"
      ],
      "text/plain": [
       "   NAME                     Africans.2010 Africans.2000 Change Percent  \n",
       "1  Bear Lake County, Idaho     6            29            -23  -79.31034\n",
       "2  Benewah County, Idaho      28           809           -781  -96.53894\n",
       "3  Ada County, Idaho        4441          2610           1831   70.15326\n",
       "4  Adams County, Idaho         5            39            -34  -87.17949\n",
       "5  Bannock County, Idaho     625          2619          -1994  -76.13593\n",
       "6  Bingham County, Idaho     105          2970          -2865  -96.46465\n",
       "7  Blaine County, Idaho       39           125            -86  -68.80000\n",
       "8  Boise County, Idaho        15            55            -40  -72.72727\n",
       "9  Clark County, Idaho         7            10             -3  -30.00000\n",
       "10 Boundary County, Idaho     29           189           -160  -84.65608\n",
       "11 Bonner County, Idaho       58           315           -257  -81.58730\n",
       "12 Bonneville County, Idaho  585           790           -205  -25.94937\n",
       "13 Butte County, Idaho         6            13             -7  -53.84615\n",
       "14 Camas County, Idaho         3             6             -3  -50.00000\n",
       "15 Canyon County, Idaho     1077          2028           -951  -46.89349\n",
       "16 Caribou County, Idaho       4            23            -19  -82.60870\n",
       "17 Cassia County, Idaho       64           178           -114  -64.04494\n",
       "18 Idaho County, Idaho        42           480           -438  -91.25000\n",
       "19 Clearwater County, Idaho   18           194           -176  -90.72165\n",
       "20 Custer County, Idaho        8            27            -19  -70.37037\n",
       "21 Elmore County, Idaho      733           270            463  171.48148\n",
       "22 Franklin County, Idaho     28            53            -25  -47.16981\n",
       "23 Fremont County, Idaho      46            93            -47  -50.53763\n",
       "24 Gem County, Idaho          20            94            -74  -78.72340\n",
       "25 Gooding County, Idaho      37           127            -90  -70.86614\n",
       "26 Lewis County, Idaho        14           180           -166  -92.22222\n",
       "27 Jefferson County, Idaho    52           203           -151  -74.38424\n",
       "28 Jerome County, Idaho       62           302           -240  -79.47020\n",
       "29 Kootenai County, Idaho    416          1781          -1365  -76.64234\n",
       "30 Latah County, Idaho       293           237             56   23.62869\n",
       "31 Lemhi County, Idaho        18            57            -39  -68.42105\n",
       "32 Twin Falls County, Idaho  342           606           -264  -43.56436\n",
       "33 Lincoln County, Idaho      19            38            -19  -50.00000\n",
       "34 Madison County, Idaho     185            99             86   86.86869\n",
       "35 Minidoka County, Idaho     77           248           -171  -68.95161\n",
       "36 Nez Perce County, Idaho   117          2206          -2089  -94.69628\n",
       "37 Oneida County, Idaho        9            22            -13  -59.09091\n",
       "38 Shoshone County, Idaho     26           183           -157  -85.79235\n",
       "39 Teton County, Idaho        25            35            -10  -28.57143\n",
       "40 Owyhee County, Idaho       23           495           -472  -95.35354\n",
       "41 Payette County, Idaho      52           255           -203  -79.60784\n",
       "42 Power County, Idaho        22           179           -157  -87.70950\n",
       "43 Valley County, Idaho       11            68            -57  -83.82353\n",
       "44 Washington County, Idaho   18           101            -83  -82.17822"
      ]
     },
     "metadata": {},
     "output_type": "display_data"
    }
   ],
   "source": [
    "african_2010 = getCensus(name=\"2010/dec/sf1\", vars=c(\"NAME\", \"P003003\"), region=\"county:*\")\n",
    "african_2000 = getCensus(name=\"2010/dec/sf1\", vars=c(\"NAME\", \"P003004\"), region=\"county:*\")\n",
    "idaho.2010 = select(filter(african_2010, state == 16), NAME, Africans.2010=P003003)\n",
    "idaho.2000 = select(filter(african_2000, state == 16), NAME, Africans.2000=P003004)\n",
    "african_join = idaho.2010 %>% inner_join(idaho.2000, by = c(\"NAME\"))\n",
    "african_change = african_join %>% mutate(Change = Africans.2010-Africans.2000)\n",
    "african_percent = african_change %>% mutate(Percent = (Change/Africans.2000)*100)\n",
    "african_percent"
   ]
  },
  {
   "cell_type": "markdown",
   "metadata": {},
   "source": [
    "## Submitting\n",
    "\n",
    "Export your notebook to HTML and e-mail it to the professor."
   ]
  },
  {
   "cell_type": "code",
   "execution_count": null,
   "metadata": {},
   "outputs": [],
   "source": []
  }
 ],
 "metadata": {
  "kernelspec": {
   "display_name": "R",
   "language": "R",
   "name": "ir"
  },
  "language_info": {
   "codemirror_mode": "r",
   "file_extension": ".r",
   "mimetype": "text/x-r-source",
   "name": "R",
   "pygments_lexer": "r",
   "version": "3.6.0"
  }
 },
 "nbformat": 4,
 "nbformat_minor": 2
}
